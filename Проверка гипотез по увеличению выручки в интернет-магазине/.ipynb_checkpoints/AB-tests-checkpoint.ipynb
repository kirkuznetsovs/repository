{
 "cells": [
  {
   "cell_type": "markdown",
   "metadata": {},
   "source": [
    "# Проект\n",
    "# Проверка гипотез по увеличению выручки в интернет-магазине — оценка результатов A/B теста"
   ]
  },
  {
   "cell_type": "markdown",
   "metadata": {},
   "source": [
    "## ЧАСТЬ I. Приоритизация гипотез"
   ]
  },
  {
   "cell_type": "markdown",
   "metadata": {},
   "source": [
    "### Ознакомление с данными:\n"
   ]
  },
  {
   "cell_type": "markdown",
   "metadata": {},
   "source": [
    "В файле /datasets/hypothesis.csv 9 гипотез по увеличению выручки интернет-магазина с указанными параметрами:  \n",
    "- Hypothesis — краткое описание гипотезы;  \n",
    "- Reach — охват пользователей по 10-балльной шкале;  \n",
    "- Impact — влияние на пользователей по 10-балльной шкале;  \n",
    "- Confidence — уверенность в гипотезе по 10-балльной шкале;  \n",
    "- Efforts — затраты ресурсов на проверку гипотезы по 10-балльной шкале. Чем больше значение Efforts, тем дороже проверка гипотезы.  "
   ]
  },
  {
   "cell_type": "code",
   "execution_count": 1,
   "metadata": {},
   "outputs": [],
   "source": [
    "import pandas as pd #импортируем необходимые библиотеки\n",
    "import scipy.stats as stats\n",
    "import numpy as np\n",
    "import math as mth\n",
    "import matplotlib.pyplot as plt\n",
    "import warnings\n",
    "warnings.filterwarnings(\"ignore\")"
   ]
  },
  {
   "cell_type": "code",
   "execution_count": 2,
   "metadata": {},
   "outputs": [],
   "source": [
    "hyp = pd.read_csv('/datasets/hypothesis.csv')"
   ]
  },
  {
   "cell_type": "code",
   "execution_count": 3,
   "metadata": {
    "scrolled": true
   },
   "outputs": [],
   "source": [
    "pd.options.display.max_colwidth = 120"
   ]
  },
  {
   "cell_type": "code",
   "execution_count": 4,
   "metadata": {},
   "outputs": [
    {
     "data": {
      "text/html": [
       "<div>\n",
       "<style scoped>\n",
       "    .dataframe tbody tr th:only-of-type {\n",
       "        vertical-align: middle;\n",
       "    }\n",
       "\n",
       "    .dataframe tbody tr th {\n",
       "        vertical-align: top;\n",
       "    }\n",
       "\n",
       "    .dataframe thead th {\n",
       "        text-align: right;\n",
       "    }\n",
       "</style>\n",
       "<table border=\"1\" class=\"dataframe\">\n",
       "  <thead>\n",
       "    <tr style=\"text-align: right;\">\n",
       "      <th></th>\n",
       "      <th>Hypothesis</th>\n",
       "      <th>Reach</th>\n",
       "      <th>Impact</th>\n",
       "      <th>Confidence</th>\n",
       "      <th>Efforts</th>\n",
       "    </tr>\n",
       "  </thead>\n",
       "  <tbody>\n",
       "    <tr>\n",
       "      <td>0</td>\n",
       "      <td>Добавить два новых канала привлечения трафика, что позволит привлекать на 30% больше пользователей</td>\n",
       "      <td>3</td>\n",
       "      <td>10</td>\n",
       "      <td>8</td>\n",
       "      <td>6</td>\n",
       "    </tr>\n",
       "    <tr>\n",
       "      <td>1</td>\n",
       "      <td>Запустить собственную службу доставки, что сократит срок доставки заказов</td>\n",
       "      <td>2</td>\n",
       "      <td>5</td>\n",
       "      <td>4</td>\n",
       "      <td>10</td>\n",
       "    </tr>\n",
       "    <tr>\n",
       "      <td>2</td>\n",
       "      <td>Добавить блоки рекомендаций товаров на сайт интернет магазина, чтобы повысить конверсию и средний чек заказа</td>\n",
       "      <td>8</td>\n",
       "      <td>3</td>\n",
       "      <td>7</td>\n",
       "      <td>3</td>\n",
       "    </tr>\n",
       "    <tr>\n",
       "      <td>3</td>\n",
       "      <td>Изменить структура категорий, что увеличит конверсию, т.к. пользователи быстрее найдут нужный товар</td>\n",
       "      <td>8</td>\n",
       "      <td>3</td>\n",
       "      <td>3</td>\n",
       "      <td>8</td>\n",
       "    </tr>\n",
       "    <tr>\n",
       "      <td>4</td>\n",
       "      <td>Изменить цвет фона главной страницы, чтобы увеличить вовлеченность пользователей</td>\n",
       "      <td>3</td>\n",
       "      <td>1</td>\n",
       "      <td>1</td>\n",
       "      <td>1</td>\n",
       "    </tr>\n",
       "    <tr>\n",
       "      <td>5</td>\n",
       "      <td>Добавить страницу отзывов клиентов о магазине, что позволит увеличить количество заказов</td>\n",
       "      <td>3</td>\n",
       "      <td>2</td>\n",
       "      <td>2</td>\n",
       "      <td>3</td>\n",
       "    </tr>\n",
       "    <tr>\n",
       "      <td>6</td>\n",
       "      <td>Показать на главной странице баннеры с актуальными акциями и распродажами, чтобы увеличить конверсию</td>\n",
       "      <td>5</td>\n",
       "      <td>3</td>\n",
       "      <td>8</td>\n",
       "      <td>3</td>\n",
       "    </tr>\n",
       "    <tr>\n",
       "      <td>7</td>\n",
       "      <td>Добавить форму подписки на все основные страницы, чтобы собрать базу клиентов для email-рассылок</td>\n",
       "      <td>10</td>\n",
       "      <td>7</td>\n",
       "      <td>8</td>\n",
       "      <td>5</td>\n",
       "    </tr>\n",
       "    <tr>\n",
       "      <td>8</td>\n",
       "      <td>Запустить акцию, дающую скидку на товар в день рождения</td>\n",
       "      <td>1</td>\n",
       "      <td>9</td>\n",
       "      <td>9</td>\n",
       "      <td>5</td>\n",
       "    </tr>\n",
       "  </tbody>\n",
       "</table>\n",
       "</div>"
      ],
      "text/plain": [
       "                                                                                                     Hypothesis  \\\n",
       "0            Добавить два новых канала привлечения трафика, что позволит привлекать на 30% больше пользователей   \n",
       "1                                     Запустить собственную службу доставки, что сократит срок доставки заказов   \n",
       "2  Добавить блоки рекомендаций товаров на сайт интернет магазина, чтобы повысить конверсию и средний чек заказа   \n",
       "3           Изменить структура категорий, что увеличит конверсию, т.к. пользователи быстрее найдут нужный товар   \n",
       "4                              Изменить цвет фона главной страницы, чтобы увеличить вовлеченность пользователей   \n",
       "5                      Добавить страницу отзывов клиентов о магазине, что позволит увеличить количество заказов   \n",
       "6          Показать на главной странице баннеры с актуальными акциями и распродажами, чтобы увеличить конверсию   \n",
       "7              Добавить форму подписки на все основные страницы, чтобы собрать базу клиентов для email-рассылок   \n",
       "8                                                       Запустить акцию, дающую скидку на товар в день рождения   \n",
       "\n",
       "   Reach  Impact  Confidence  Efforts  \n",
       "0      3      10           8        6  \n",
       "1      2       5           4       10  \n",
       "2      8       3           7        3  \n",
       "3      8       3           3        8  \n",
       "4      3       1           1        1  \n",
       "5      3       2           2        3  \n",
       "6      5       3           8        3  \n",
       "7     10       7           8        5  \n",
       "8      1       9           9        5  "
      ]
     },
     "execution_count": 4,
     "metadata": {},
     "output_type": "execute_result"
    }
   ],
   "source": [
    "hyp"
   ]
  },
  {
   "cell_type": "code",
   "execution_count": 5,
   "metadata": {},
   "outputs": [],
   "source": [
    "hyp.columns = hyp.columns.str.lower() # приведем названия полей к нижнему регистру"
   ]
  },
  {
   "cell_type": "markdown",
   "metadata": {},
   "source": [
    "### Применение фреймворка ICE"
   ]
  },
  {
   "cell_type": "code",
   "execution_count": 6,
   "metadata": {},
   "outputs": [],
   "source": [
    "hyp['ice'] = hyp['impact'] * hyp['confidence'] / hyp['efforts']"
   ]
  },
  {
   "cell_type": "code",
   "execution_count": 7,
   "metadata": {
    "scrolled": true
   },
   "outputs": [
    {
     "data": {
      "text/html": [
       "<div>\n",
       "<style scoped>\n",
       "    .dataframe tbody tr th:only-of-type {\n",
       "        vertical-align: middle;\n",
       "    }\n",
       "\n",
       "    .dataframe tbody tr th {\n",
       "        vertical-align: top;\n",
       "    }\n",
       "\n",
       "    .dataframe thead th {\n",
       "        text-align: right;\n",
       "    }\n",
       "</style>\n",
       "<table border=\"1\" class=\"dataframe\">\n",
       "  <thead>\n",
       "    <tr style=\"text-align: right;\">\n",
       "      <th></th>\n",
       "      <th>hypothesis</th>\n",
       "      <th>reach</th>\n",
       "      <th>impact</th>\n",
       "      <th>confidence</th>\n",
       "      <th>efforts</th>\n",
       "      <th>ice</th>\n",
       "    </tr>\n",
       "  </thead>\n",
       "  <tbody>\n",
       "    <tr>\n",
       "      <td>8</td>\n",
       "      <td>Запустить акцию, дающую скидку на товар в день рождения</td>\n",
       "      <td>1</td>\n",
       "      <td>9</td>\n",
       "      <td>9</td>\n",
       "      <td>5</td>\n",
       "      <td>16.200000</td>\n",
       "    </tr>\n",
       "    <tr>\n",
       "      <td>0</td>\n",
       "      <td>Добавить два новых канала привлечения трафика, что позволит привлекать на 30% больше пользователей</td>\n",
       "      <td>3</td>\n",
       "      <td>10</td>\n",
       "      <td>8</td>\n",
       "      <td>6</td>\n",
       "      <td>13.333333</td>\n",
       "    </tr>\n",
       "    <tr>\n",
       "      <td>7</td>\n",
       "      <td>Добавить форму подписки на все основные страницы, чтобы собрать базу клиентов для email-рассылок</td>\n",
       "      <td>10</td>\n",
       "      <td>7</td>\n",
       "      <td>8</td>\n",
       "      <td>5</td>\n",
       "      <td>11.200000</td>\n",
       "    </tr>\n",
       "    <tr>\n",
       "      <td>6</td>\n",
       "      <td>Показать на главной странице баннеры с актуальными акциями и распродажами, чтобы увеличить конверсию</td>\n",
       "      <td>5</td>\n",
       "      <td>3</td>\n",
       "      <td>8</td>\n",
       "      <td>3</td>\n",
       "      <td>8.000000</td>\n",
       "    </tr>\n",
       "    <tr>\n",
       "      <td>2</td>\n",
       "      <td>Добавить блоки рекомендаций товаров на сайт интернет магазина, чтобы повысить конверсию и средний чек заказа</td>\n",
       "      <td>8</td>\n",
       "      <td>3</td>\n",
       "      <td>7</td>\n",
       "      <td>3</td>\n",
       "      <td>7.000000</td>\n",
       "    </tr>\n",
       "    <tr>\n",
       "      <td>1</td>\n",
       "      <td>Запустить собственную службу доставки, что сократит срок доставки заказов</td>\n",
       "      <td>2</td>\n",
       "      <td>5</td>\n",
       "      <td>4</td>\n",
       "      <td>10</td>\n",
       "      <td>2.000000</td>\n",
       "    </tr>\n",
       "    <tr>\n",
       "      <td>5</td>\n",
       "      <td>Добавить страницу отзывов клиентов о магазине, что позволит увеличить количество заказов</td>\n",
       "      <td>3</td>\n",
       "      <td>2</td>\n",
       "      <td>2</td>\n",
       "      <td>3</td>\n",
       "      <td>1.333333</td>\n",
       "    </tr>\n",
       "    <tr>\n",
       "      <td>3</td>\n",
       "      <td>Изменить структура категорий, что увеличит конверсию, т.к. пользователи быстрее найдут нужный товар</td>\n",
       "      <td>8</td>\n",
       "      <td>3</td>\n",
       "      <td>3</td>\n",
       "      <td>8</td>\n",
       "      <td>1.125000</td>\n",
       "    </tr>\n",
       "    <tr>\n",
       "      <td>4</td>\n",
       "      <td>Изменить цвет фона главной страницы, чтобы увеличить вовлеченность пользователей</td>\n",
       "      <td>3</td>\n",
       "      <td>1</td>\n",
       "      <td>1</td>\n",
       "      <td>1</td>\n",
       "      <td>1.000000</td>\n",
       "    </tr>\n",
       "  </tbody>\n",
       "</table>\n",
       "</div>"
      ],
      "text/plain": [
       "                                                                                                     hypothesis  \\\n",
       "8                                                       Запустить акцию, дающую скидку на товар в день рождения   \n",
       "0            Добавить два новых канала привлечения трафика, что позволит привлекать на 30% больше пользователей   \n",
       "7              Добавить форму подписки на все основные страницы, чтобы собрать базу клиентов для email-рассылок   \n",
       "6          Показать на главной странице баннеры с актуальными акциями и распродажами, чтобы увеличить конверсию   \n",
       "2  Добавить блоки рекомендаций товаров на сайт интернет магазина, чтобы повысить конверсию и средний чек заказа   \n",
       "1                                     Запустить собственную службу доставки, что сократит срок доставки заказов   \n",
       "5                      Добавить страницу отзывов клиентов о магазине, что позволит увеличить количество заказов   \n",
       "3           Изменить структура категорий, что увеличит конверсию, т.к. пользователи быстрее найдут нужный товар   \n",
       "4                              Изменить цвет фона главной страницы, чтобы увеличить вовлеченность пользователей   \n",
       "\n",
       "   reach  impact  confidence  efforts        ice  \n",
       "8      1       9           9        5  16.200000  \n",
       "0      3      10           8        6  13.333333  \n",
       "7     10       7           8        5  11.200000  \n",
       "6      5       3           8        3   8.000000  \n",
       "2      8       3           7        3   7.000000  \n",
       "1      2       5           4       10   2.000000  \n",
       "5      3       2           2        3   1.333333  \n",
       "3      8       3           3        8   1.125000  \n",
       "4      3       1           1        1   1.000000  "
      ]
     },
     "execution_count": 7,
     "metadata": {},
     "output_type": "execute_result"
    }
   ],
   "source": [
    "hyp.sort_values(by='ice', ascending=False)"
   ]
  },
  {
   "cell_type": "markdown",
   "metadata": {},
   "source": [
    "### Применение фреймворка RICE"
   ]
  },
  {
   "cell_type": "code",
   "execution_count": 8,
   "metadata": {},
   "outputs": [],
   "source": [
    "hyp['rice'] = hyp['impact'] * hyp['confidence'] * hyp['reach'] / hyp['efforts']"
   ]
  },
  {
   "cell_type": "code",
   "execution_count": 9,
   "metadata": {
    "scrolled": true
   },
   "outputs": [
    {
     "data": {
      "text/html": [
       "<div>\n",
       "<style scoped>\n",
       "    .dataframe tbody tr th:only-of-type {\n",
       "        vertical-align: middle;\n",
       "    }\n",
       "\n",
       "    .dataframe tbody tr th {\n",
       "        vertical-align: top;\n",
       "    }\n",
       "\n",
       "    .dataframe thead th {\n",
       "        text-align: right;\n",
       "    }\n",
       "</style>\n",
       "<table border=\"1\" class=\"dataframe\">\n",
       "  <thead>\n",
       "    <tr style=\"text-align: right;\">\n",
       "      <th></th>\n",
       "      <th>hypothesis</th>\n",
       "      <th>reach</th>\n",
       "      <th>impact</th>\n",
       "      <th>confidence</th>\n",
       "      <th>efforts</th>\n",
       "      <th>ice</th>\n",
       "      <th>rice</th>\n",
       "    </tr>\n",
       "  </thead>\n",
       "  <tbody>\n",
       "    <tr>\n",
       "      <td>7</td>\n",
       "      <td>Добавить форму подписки на все основные страницы, чтобы собрать базу клиентов для email-рассылок</td>\n",
       "      <td>10</td>\n",
       "      <td>7</td>\n",
       "      <td>8</td>\n",
       "      <td>5</td>\n",
       "      <td>11.200000</td>\n",
       "      <td>112.0</td>\n",
       "    </tr>\n",
       "    <tr>\n",
       "      <td>2</td>\n",
       "      <td>Добавить блоки рекомендаций товаров на сайт интернет магазина, чтобы повысить конверсию и средний чек заказа</td>\n",
       "      <td>8</td>\n",
       "      <td>3</td>\n",
       "      <td>7</td>\n",
       "      <td>3</td>\n",
       "      <td>7.000000</td>\n",
       "      <td>56.0</td>\n",
       "    </tr>\n",
       "    <tr>\n",
       "      <td>0</td>\n",
       "      <td>Добавить два новых канала привлечения трафика, что позволит привлекать на 30% больше пользователей</td>\n",
       "      <td>3</td>\n",
       "      <td>10</td>\n",
       "      <td>8</td>\n",
       "      <td>6</td>\n",
       "      <td>13.333333</td>\n",
       "      <td>40.0</td>\n",
       "    </tr>\n",
       "    <tr>\n",
       "      <td>6</td>\n",
       "      <td>Показать на главной странице баннеры с актуальными акциями и распродажами, чтобы увеличить конверсию</td>\n",
       "      <td>5</td>\n",
       "      <td>3</td>\n",
       "      <td>8</td>\n",
       "      <td>3</td>\n",
       "      <td>8.000000</td>\n",
       "      <td>40.0</td>\n",
       "    </tr>\n",
       "    <tr>\n",
       "      <td>8</td>\n",
       "      <td>Запустить акцию, дающую скидку на товар в день рождения</td>\n",
       "      <td>1</td>\n",
       "      <td>9</td>\n",
       "      <td>9</td>\n",
       "      <td>5</td>\n",
       "      <td>16.200000</td>\n",
       "      <td>16.2</td>\n",
       "    </tr>\n",
       "    <tr>\n",
       "      <td>3</td>\n",
       "      <td>Изменить структура категорий, что увеличит конверсию, т.к. пользователи быстрее найдут нужный товар</td>\n",
       "      <td>8</td>\n",
       "      <td>3</td>\n",
       "      <td>3</td>\n",
       "      <td>8</td>\n",
       "      <td>1.125000</td>\n",
       "      <td>9.0</td>\n",
       "    </tr>\n",
       "    <tr>\n",
       "      <td>1</td>\n",
       "      <td>Запустить собственную службу доставки, что сократит срок доставки заказов</td>\n",
       "      <td>2</td>\n",
       "      <td>5</td>\n",
       "      <td>4</td>\n",
       "      <td>10</td>\n",
       "      <td>2.000000</td>\n",
       "      <td>4.0</td>\n",
       "    </tr>\n",
       "    <tr>\n",
       "      <td>5</td>\n",
       "      <td>Добавить страницу отзывов клиентов о магазине, что позволит увеличить количество заказов</td>\n",
       "      <td>3</td>\n",
       "      <td>2</td>\n",
       "      <td>2</td>\n",
       "      <td>3</td>\n",
       "      <td>1.333333</td>\n",
       "      <td>4.0</td>\n",
       "    </tr>\n",
       "    <tr>\n",
       "      <td>4</td>\n",
       "      <td>Изменить цвет фона главной страницы, чтобы увеличить вовлеченность пользователей</td>\n",
       "      <td>3</td>\n",
       "      <td>1</td>\n",
       "      <td>1</td>\n",
       "      <td>1</td>\n",
       "      <td>1.000000</td>\n",
       "      <td>3.0</td>\n",
       "    </tr>\n",
       "  </tbody>\n",
       "</table>\n",
       "</div>"
      ],
      "text/plain": [
       "                                                                                                     hypothesis  \\\n",
       "7              Добавить форму подписки на все основные страницы, чтобы собрать базу клиентов для email-рассылок   \n",
       "2  Добавить блоки рекомендаций товаров на сайт интернет магазина, чтобы повысить конверсию и средний чек заказа   \n",
       "0            Добавить два новых канала привлечения трафика, что позволит привлекать на 30% больше пользователей   \n",
       "6          Показать на главной странице баннеры с актуальными акциями и распродажами, чтобы увеличить конверсию   \n",
       "8                                                       Запустить акцию, дающую скидку на товар в день рождения   \n",
       "3           Изменить структура категорий, что увеличит конверсию, т.к. пользователи быстрее найдут нужный товар   \n",
       "1                                     Запустить собственную службу доставки, что сократит срок доставки заказов   \n",
       "5                      Добавить страницу отзывов клиентов о магазине, что позволит увеличить количество заказов   \n",
       "4                              Изменить цвет фона главной страницы, чтобы увеличить вовлеченность пользователей   \n",
       "\n",
       "   reach  impact  confidence  efforts        ice   rice  \n",
       "7     10       7           8        5  11.200000  112.0  \n",
       "2      8       3           7        3   7.000000   56.0  \n",
       "0      3      10           8        6  13.333333   40.0  \n",
       "6      5       3           8        3   8.000000   40.0  \n",
       "8      1       9           9        5  16.200000   16.2  \n",
       "3      8       3           3        8   1.125000    9.0  \n",
       "1      2       5           4       10   2.000000    4.0  \n",
       "5      3       2           2        3   1.333333    4.0  \n",
       "4      3       1           1        1   1.000000    3.0  "
      ]
     },
     "execution_count": 9,
     "metadata": {},
     "output_type": "execute_result"
    }
   ],
   "source": [
    "hyp.sort_values(by='rice', ascending=False)"
   ]
  },
  {
   "cell_type": "markdown",
   "metadata": {},
   "source": [
    "   **ЗАКЛЮЧЕНИЕ ПО ПРИОРИТИЗАЦИИ ГИПОТЕЗ:** \n",
    "- согласно фреймворку ICE лидерами стали гипотезы о скидке в день рождения, о двух каналах привлечения и о форме подписки;\n",
    "- согласно фреймворку RICE лидерами стали гипотезы о форме подписки, блоках рекомендаций и о двух каналах привлечения;\n",
    "- гипотеза о скидке в день рождения упала в рейтинге RICE по причине очень низкого охвата (ведь у очень малой доли пользователей день рождения наступает в обозримый период исследований);\n",
    "- гипотезы о форме подписки, блоках рекомендаций стали приоритетными благодаря высокому значению охвата, так как эти изменения затрагивают структура сайта, а большинство пользователей, вероятно, делают заказ через сайт."
   ]
  },
  {
   "cell_type": "markdown",
   "metadata": {},
   "source": [
    "<div class=\"alert alert-success\">\n",
    "\n",
    "<b>✔️ Комментарий ревьюера:</b> И правда, при использовании RICE мы учитываем охват и приоритеты гипотез могут измениться\n",
    "\n",
    "</div>"
   ]
  },
  {
   "cell_type": "markdown",
   "metadata": {},
   "source": [
    "## ЧАСТЬ II. Анализ A/B-теста"
   ]
  },
  {
   "cell_type": "markdown",
   "metadata": {},
   "source": [
    "### Ознакомление с данными:"
   ]
  },
  {
   "cell_type": "markdown",
   "metadata": {},
   "source": [
    "Результаты проведения A/B-теста, которые описаны в файлах /datasets/orders.csv и /datasets/visitors.csv.  \n",
    "\n",
    "Файл /datasets/orders.csv содержит:  \n",
    "- transactionId — идентификатор заказа;\n",
    "- visitorId — идентификатор пользователя, совершившего заказ;\n",
    "- date — дата, когда был совершён заказ;\n",
    "- revenue — выручка заказа;\n",
    "- group — группа A/B-теста, в которую попал заказ.  \n",
    "\n",
    "Файл /datasets/visitors.csv содержит:\n",
    "- date — дата;\n",
    "- group — группа A/B-теста;\n",
    "- visitors — количество пользователей в указанную дату в указанной группе A/B-теста"
   ]
  },
  {
   "cell_type": "code",
   "execution_count": 10,
   "metadata": {},
   "outputs": [],
   "source": [
    "orders = pd.read_csv('/datasets/orders.csv')\n",
    "visitors = pd.read_csv('/datasets/visitors.csv')"
   ]
  },
  {
   "cell_type": "code",
   "execution_count": 11,
   "metadata": {},
   "outputs": [],
   "source": [
    "orders.columns = orders.columns.str.lower() #приводим названия столбцов к нижнему регистру\n",
    "visitors.columns = visitors.columns.str.lower()"
   ]
  },
  {
   "cell_type": "code",
   "execution_count": 12,
   "metadata": {},
   "outputs": [],
   "source": [
    "orders['date'] = pd.to_datetime(orders['date'])\n",
    "visitors['date'] = pd.to_datetime(visitors['date'])"
   ]
  },
  {
   "cell_type": "code",
   "execution_count": 13,
   "metadata": {},
   "outputs": [
    {
     "data": {
      "text/html": [
       "<div>\n",
       "<style scoped>\n",
       "    .dataframe tbody tr th:only-of-type {\n",
       "        vertical-align: middle;\n",
       "    }\n",
       "\n",
       "    .dataframe tbody tr th {\n",
       "        vertical-align: top;\n",
       "    }\n",
       "\n",
       "    .dataframe thead th {\n",
       "        text-align: right;\n",
       "    }\n",
       "</style>\n",
       "<table border=\"1\" class=\"dataframe\">\n",
       "  <thead>\n",
       "    <tr style=\"text-align: right;\">\n",
       "      <th></th>\n",
       "      <th>transactionid</th>\n",
       "      <th>visitorid</th>\n",
       "      <th>date</th>\n",
       "      <th>revenue</th>\n",
       "      <th>group</th>\n",
       "    </tr>\n",
       "  </thead>\n",
       "  <tbody>\n",
       "    <tr>\n",
       "      <td>0</td>\n",
       "      <td>3667963787</td>\n",
       "      <td>3312258926</td>\n",
       "      <td>2019-08-15</td>\n",
       "      <td>1650</td>\n",
       "      <td>B</td>\n",
       "    </tr>\n",
       "    <tr>\n",
       "      <td>1</td>\n",
       "      <td>2804400009</td>\n",
       "      <td>3642806036</td>\n",
       "      <td>2019-08-15</td>\n",
       "      <td>730</td>\n",
       "      <td>B</td>\n",
       "    </tr>\n",
       "    <tr>\n",
       "      <td>2</td>\n",
       "      <td>2961555356</td>\n",
       "      <td>4069496402</td>\n",
       "      <td>2019-08-15</td>\n",
       "      <td>400</td>\n",
       "      <td>A</td>\n",
       "    </tr>\n",
       "    <tr>\n",
       "      <td>3</td>\n",
       "      <td>3797467345</td>\n",
       "      <td>1196621759</td>\n",
       "      <td>2019-08-15</td>\n",
       "      <td>9759</td>\n",
       "      <td>B</td>\n",
       "    </tr>\n",
       "    <tr>\n",
       "      <td>4</td>\n",
       "      <td>2282983706</td>\n",
       "      <td>2322279887</td>\n",
       "      <td>2019-08-15</td>\n",
       "      <td>2308</td>\n",
       "      <td>B</td>\n",
       "    </tr>\n",
       "  </tbody>\n",
       "</table>\n",
       "</div>"
      ],
      "text/plain": [
       "   transactionid   visitorid       date  revenue group\n",
       "0     3667963787  3312258926 2019-08-15     1650     B\n",
       "1     2804400009  3642806036 2019-08-15      730     B\n",
       "2     2961555356  4069496402 2019-08-15      400     A\n",
       "3     3797467345  1196621759 2019-08-15     9759     B\n",
       "4     2282983706  2322279887 2019-08-15     2308     B"
      ]
     },
     "execution_count": 13,
     "metadata": {},
     "output_type": "execute_result"
    }
   ],
   "source": [
    "orders.head()"
   ]
  },
  {
   "cell_type": "code",
   "execution_count": 14,
   "metadata": {
    "scrolled": false
   },
   "outputs": [
    {
     "name": "stdout",
     "output_type": "stream",
     "text": [
      "<class 'pandas.core.frame.DataFrame'>\n",
      "RangeIndex: 1197 entries, 0 to 1196\n",
      "Data columns (total 5 columns):\n",
      "transactionid    1197 non-null int64\n",
      "visitorid        1197 non-null int64\n",
      "date             1197 non-null datetime64[ns]\n",
      "revenue          1197 non-null int64\n",
      "group            1197 non-null object\n",
      "dtypes: datetime64[ns](1), int64(3), object(1)\n",
      "memory usage: 46.9+ KB\n"
     ]
    }
   ],
   "source": [
    "orders.info()"
   ]
  },
  {
   "cell_type": "code",
   "execution_count": 15,
   "metadata": {},
   "outputs": [
    {
     "data": {
      "text/plain": [
       "count    1.197000e+03\n",
       "mean     8.348006e+03\n",
       "std      3.919113e+04\n",
       "min      5.000000e+01\n",
       "25%      1.220000e+03\n",
       "50%      2.978000e+03\n",
       "75%      8.290000e+03\n",
       "max      1.294500e+06\n",
       "Name: revenue, dtype: float64"
      ]
     },
     "execution_count": 15,
     "metadata": {},
     "output_type": "execute_result"
    }
   ],
   "source": [
    "orders['revenue'].describe()"
   ]
  },
  {
   "cell_type": "code",
   "execution_count": 16,
   "metadata": {},
   "outputs": [
    {
     "data": {
      "text/plain": [
       "0"
      ]
     },
     "execution_count": 16,
     "metadata": {},
     "output_type": "execute_result"
    }
   ],
   "source": [
    "orders.duplicated().sum() # проверка на дубликаты"
   ]
  },
  {
   "cell_type": "code",
   "execution_count": 17,
   "metadata": {
    "scrolled": true
   },
   "outputs": [
    {
     "data": {
      "text/html": [
       "<div>\n",
       "<style scoped>\n",
       "    .dataframe tbody tr th:only-of-type {\n",
       "        vertical-align: middle;\n",
       "    }\n",
       "\n",
       "    .dataframe tbody tr th {\n",
       "        vertical-align: top;\n",
       "    }\n",
       "\n",
       "    .dataframe thead th {\n",
       "        text-align: right;\n",
       "    }\n",
       "</style>\n",
       "<table border=\"1\" class=\"dataframe\">\n",
       "  <thead>\n",
       "    <tr style=\"text-align: right;\">\n",
       "      <th></th>\n",
       "      <th>date</th>\n",
       "      <th>group</th>\n",
       "      <th>visitors</th>\n",
       "    </tr>\n",
       "  </thead>\n",
       "  <tbody>\n",
       "    <tr>\n",
       "      <td>0</td>\n",
       "      <td>2019-08-01</td>\n",
       "      <td>A</td>\n",
       "      <td>719</td>\n",
       "    </tr>\n",
       "    <tr>\n",
       "      <td>1</td>\n",
       "      <td>2019-08-02</td>\n",
       "      <td>A</td>\n",
       "      <td>619</td>\n",
       "    </tr>\n",
       "    <tr>\n",
       "      <td>2</td>\n",
       "      <td>2019-08-03</td>\n",
       "      <td>A</td>\n",
       "      <td>507</td>\n",
       "    </tr>\n",
       "    <tr>\n",
       "      <td>3</td>\n",
       "      <td>2019-08-04</td>\n",
       "      <td>A</td>\n",
       "      <td>717</td>\n",
       "    </tr>\n",
       "    <tr>\n",
       "      <td>4</td>\n",
       "      <td>2019-08-05</td>\n",
       "      <td>A</td>\n",
       "      <td>756</td>\n",
       "    </tr>\n",
       "  </tbody>\n",
       "</table>\n",
       "</div>"
      ],
      "text/plain": [
       "        date group  visitors\n",
       "0 2019-08-01     A       719\n",
       "1 2019-08-02     A       619\n",
       "2 2019-08-03     A       507\n",
       "3 2019-08-04     A       717\n",
       "4 2019-08-05     A       756"
      ]
     },
     "execution_count": 17,
     "metadata": {},
     "output_type": "execute_result"
    }
   ],
   "source": [
    "visitors.head()"
   ]
  },
  {
   "cell_type": "code",
   "execution_count": 18,
   "metadata": {
    "scrolled": false
   },
   "outputs": [
    {
     "name": "stdout",
     "output_type": "stream",
     "text": [
      "<class 'pandas.core.frame.DataFrame'>\n",
      "RangeIndex: 62 entries, 0 to 61\n",
      "Data columns (total 3 columns):\n",
      "date        62 non-null datetime64[ns]\n",
      "group       62 non-null object\n",
      "visitors    62 non-null int64\n",
      "dtypes: datetime64[ns](1), int64(1), object(1)\n",
      "memory usage: 1.6+ KB\n"
     ]
    }
   ],
   "source": [
    "visitors.info()"
   ]
  },
  {
   "cell_type": "code",
   "execution_count": 19,
   "metadata": {
    "scrolled": false
   },
   "outputs": [
    {
     "data": {
      "text/plain": [
       "0"
      ]
     },
     "execution_count": 19,
     "metadata": {},
     "output_type": "execute_result"
    }
   ],
   "source": [
    "visitors.duplicated().sum() # проверка на дубликаты"
   ]
  },
  {
   "cell_type": "markdown",
   "metadata": {},
   "source": [
    "### График кумулятивной выручки по группам"
   ]
  },
  {
   "cell_type": "code",
   "execution_count": 20,
   "metadata": {},
   "outputs": [],
   "source": [
    "datesgroups = orders[['date','group']].drop_duplicates()"
   ]
  },
  {
   "cell_type": "code",
   "execution_count": 21,
   "metadata": {},
   "outputs": [],
   "source": [
    "ordersaggregated = datesgroups.apply(\n",
    "    lambda x: orders[\n",
    "        np.logical_and(\n",
    "            orders['date'] <= x['date'], orders['group'] == x['group']\n",
    "        )\n",
    "    ].agg(\n",
    "        {\n",
    "            'date': 'max',\n",
    "            'group': 'max',\n",
    "            'transactionid': 'nunique',\n",
    "            'visitorid': 'nunique',\n",
    "            'revenue': 'sum',\n",
    "        }\n",
    "    ),\n",
    "    axis=1,\n",
    ").sort_values(by=['date', 'group'])"
   ]
  },
  {
   "cell_type": "code",
   "execution_count": 22,
   "metadata": {},
   "outputs": [],
   "source": [
    "orderscumulativeA = ordersaggregated.query('group==\"A\"')\n",
    "orderscumulativeB = ordersaggregated.query('group==\"B\"')"
   ]
  },
  {
   "cell_type": "code",
   "execution_count": 23,
   "metadata": {
    "scrolled": true
   },
   "outputs": [
    {
     "data": {
      "image/png": "[encoded data removed]",
      "text/plain": [
       "<Figure size 792x288 with 1 Axes>"
      ]
     },
     "metadata": {
      "needs_background": "light"
     },
     "output_type": "display_data"
    }
   ],
   "source": [
    "plt.figure(figsize=(11, 4))\n",
    "plt.plot(orderscumulativeA['date'], orderscumulativeA['revenue'], label='A')\n",
    "plt.plot(orderscumulativeB['date'], orderscumulativeB['revenue'], label='B')\n",
    "plt.legend()\n",
    "plt.ylabel('revenue')\n",
    "plt.title('график кумулятивной выручки по группам')\n",
    "plt.show()"
   ]
  },
  {
   "cell_type": "markdown",
   "metadata": {},
   "source": [
    "**По результатам графиков кумулятивной выручки:**  \n",
    "Группа B лидировала почти с самого начала наблюдений, помимо этого в районе 19 августа 2019 года кривая кумулятивной выручки группы B резко увеличилась.  \n",
    "Вероятно, это связано с очень большим заказом/группой заказов в эти дни, потому что дальше тренд остается условно постоянным."
   ]
  },
  {
   "cell_type": "markdown",
   "metadata": {},
   "source": [
    "### График кумулятивного среднего чека по группам"
   ]
  },
  {
   "cell_type": "code",
   "execution_count": 24,
   "metadata": {},
   "outputs": [],
   "source": [
    "orderscumulativeA['average_cheque'] = orderscumulativeA['revenue']/orderscumulativeA['transactionid']\n",
    "orderscumulativeB['average_cheque'] = orderscumulativeB['revenue']/orderscumulativeB['transactionid']"
   ]
  },
  {
   "cell_type": "code",
   "execution_count": 25,
   "metadata": {},
   "outputs": [
    {
     "data": {
      "image/png": "[encoded data removed]",
      "text/plain": [
       "<Figure size 792x288 with 1 Axes>"
      ]
     },
     "metadata": {
      "needs_background": "light"
     },
     "output_type": "display_data"
    }
   ],
   "source": [
    "plt.figure(figsize=(11, 4))\n",
    "plt.plot(orderscumulativeA['date'], orderscumulativeA['average_cheque'], label='A')\n",
    "plt.plot(orderscumulativeB['date'], orderscumulativeB['average_cheque'], label='B')\n",
    "plt.legend() \n",
    "plt.ylabel('средний чек')\n",
    "plt.title('график кумулятивного среднего чека по группам')\n",
    "plt.xticks(rotation=20)\n",
    "plt.show()"
   ]
  },
  {
   "cell_type": "markdown",
   "metadata": {},
   "source": [
    "**По результатам графиков кумулятивной выручки:**  \n",
    "Группа B лидировала почти с самого начала наблюдений, помимо этого в районе 19 августа 2019 года кривая среднего чека группы B резко увеличилась.  \n",
    "Значит, такое резкое увеличение среднего чека, как и кумулятивной выручки произошло из-за очень крупного заказа/серии заказов, которые сдвинули графики накопленных показателей в сторону увеличения.\n",
    "При этом к 13 августа средний чек группы А опередил группу B, но потом снова снизился еще до 'аномального заказа' 19 августа."
   ]
  },
  {
   "cell_type": "markdown",
   "metadata": {},
   "source": [
    "### График относительного изменения кумулятивного среднего чека группы B к группе A"
   ]
  },
  {
   "cell_type": "code",
   "execution_count": 26,
   "metadata": {},
   "outputs": [],
   "source": [
    "mergedcumulativeorders = (\n",
    "    orderscumulativeA.merge(orderscumulativeB, \n",
    "                             left_on='date', \n",
    "                             right_on='date', \n",
    "                             how='left', \n",
    "                             suffixes=['A', 'B'])\n",
    ")"
   ]
  },
  {
   "cell_type": "code",
   "execution_count": 27,
   "metadata": {},
   "outputs": [
    {
     "data": {
      "text/html": [
       "<div>\n",
       "<style scoped>\n",
       "    .dataframe tbody tr th:only-of-type {\n",
       "        vertical-align: middle;\n",
       "    }\n",
       "\n",
       "    .dataframe tbody tr th {\n",
       "        vertical-align: top;\n",
       "    }\n",
       "\n",
       "    .dataframe thead th {\n",
       "        text-align: right;\n",
       "    }\n",
       "</style>\n",
       "<table border=\"1\" class=\"dataframe\">\n",
       "  <thead>\n",
       "    <tr style=\"text-align: right;\">\n",
       "      <th></th>\n",
       "      <th>date</th>\n",
       "      <th>groupA</th>\n",
       "      <th>transactionidA</th>\n",
       "      <th>visitoridA</th>\n",
       "      <th>revenueA</th>\n",
       "      <th>average_chequeA</th>\n",
       "      <th>groupB</th>\n",
       "      <th>transactionidB</th>\n",
       "      <th>visitoridB</th>\n",
       "      <th>revenueB</th>\n",
       "      <th>average_chequeB</th>\n",
       "    </tr>\n",
       "  </thead>\n",
       "  <tbody>\n",
       "    <tr>\n",
       "      <td>0</td>\n",
       "      <td>2019-08-01</td>\n",
       "      <td>A</td>\n",
       "      <td>24</td>\n",
       "      <td>20</td>\n",
       "      <td>148579</td>\n",
       "      <td>6190.791667</td>\n",
       "      <td>B</td>\n",
       "      <td>21</td>\n",
       "      <td>20</td>\n",
       "      <td>101217</td>\n",
       "      <td>4819.857143</td>\n",
       "    </tr>\n",
       "    <tr>\n",
       "      <td>1</td>\n",
       "      <td>2019-08-02</td>\n",
       "      <td>A</td>\n",
       "      <td>44</td>\n",
       "      <td>38</td>\n",
       "      <td>242401</td>\n",
       "      <td>5509.113636</td>\n",
       "      <td>B</td>\n",
       "      <td>45</td>\n",
       "      <td>43</td>\n",
       "      <td>266748</td>\n",
       "      <td>5927.733333</td>\n",
       "    </tr>\n",
       "    <tr>\n",
       "      <td>2</td>\n",
       "      <td>2019-08-03</td>\n",
       "      <td>A</td>\n",
       "      <td>68</td>\n",
       "      <td>62</td>\n",
       "      <td>354874</td>\n",
       "      <td>5218.735294</td>\n",
       "      <td>B</td>\n",
       "      <td>61</td>\n",
       "      <td>59</td>\n",
       "      <td>380996</td>\n",
       "      <td>6245.836066</td>\n",
       "    </tr>\n",
       "    <tr>\n",
       "      <td>3</td>\n",
       "      <td>2019-08-04</td>\n",
       "      <td>A</td>\n",
       "      <td>84</td>\n",
       "      <td>77</td>\n",
       "      <td>425699</td>\n",
       "      <td>5067.845238</td>\n",
       "      <td>B</td>\n",
       "      <td>78</td>\n",
       "      <td>75</td>\n",
       "      <td>489567</td>\n",
       "      <td>6276.500000</td>\n",
       "    </tr>\n",
       "    <tr>\n",
       "      <td>4</td>\n",
       "      <td>2019-08-05</td>\n",
       "      <td>A</td>\n",
       "      <td>109</td>\n",
       "      <td>100</td>\n",
       "      <td>549917</td>\n",
       "      <td>5045.110092</td>\n",
       "      <td>B</td>\n",
       "      <td>101</td>\n",
       "      <td>98</td>\n",
       "      <td>581995</td>\n",
       "      <td>5762.326733</td>\n",
       "    </tr>\n",
       "  </tbody>\n",
       "</table>\n",
       "</div>"
      ],
      "text/plain": [
       "        date groupA  transactionidA  visitoridA  revenueA  average_chequeA  \\\n",
       "0 2019-08-01      A              24          20    148579      6190.791667   \n",
       "1 2019-08-02      A              44          38    242401      5509.113636   \n",
       "2 2019-08-03      A              68          62    354874      5218.735294   \n",
       "3 2019-08-04      A              84          77    425699      5067.845238   \n",
       "4 2019-08-05      A             109         100    549917      5045.110092   \n",
       "\n",
       "  groupB  transactionidB  visitoridB  revenueB  average_chequeB  \n",
       "0      B              21          20    101217      4819.857143  \n",
       "1      B              45          43    266748      5927.733333  \n",
       "2      B              61          59    380996      6245.836066  \n",
       "3      B              78          75    489567      6276.500000  \n",
       "4      B             101          98    581995      5762.326733  "
      ]
     },
     "execution_count": 27,
     "metadata": {},
     "output_type": "execute_result"
    }
   ],
   "source": [
    "mergedcumulativeorders.head()"
   ]
  },
  {
   "cell_type": "code",
   "execution_count": 28,
   "metadata": {},
   "outputs": [
    {
     "data": {
      "image/png": "[encoded data removed]",
      "text/plain": [
       "<Figure size 792x288 with 1 Axes>"
      ]
     },
     "metadata": {
      "needs_background": "light"
     },
     "output_type": "display_data"
    }
   ],
   "source": [
    "plt.figure(figsize=(11, 4))\n",
    "plt.plot(mergedcumulativeorders['date'], \n",
    "         ( mergedcumulativeorders['average_chequeB']\n",
    "         / mergedcumulativeorders['average_chequeA'] - 1))\n",
    "plt.ylabel('средний чек')\n",
    "plt.title('график относительного среднего чека B / A')\n",
    "plt.axhline(y=0, color='black', linestyle='--') \n",
    "plt.xticks(rotation=20)\n",
    "plt.show()"
   ]
  },
  {
   "cell_type": "markdown",
   "metadata": {},
   "source": [
    "**По результатам графика относительного кумулятивного среднего чека:**  \n",
    "Группа B лидировала почти с самого начала наблюдений, помимо этого в районе 19 августа 2019 года кривая среднего чека группы B резко увеличилась.  \n",
    "Однако в районе 8 августа тренд изменился, достивнув того, что средний чек группы A стал больше среднего чека группы B. Затем анамальные значения вновь выдвинули группу B вперед.\n",
    "В конце графика виден пологий участок, но в целом значения не выглядят стабильными, вероятно нужно больше данных для надежного исследования."
   ]
  },
  {
   "cell_type": "markdown",
   "metadata": {},
   "source": [
    "### График кумулятивной конверсии по группам"
   ]
  },
  {
   "cell_type": "code",
   "execution_count": 29,
   "metadata": {},
   "outputs": [],
   "source": [
    "visitorsaggregated = (\n",
    "    datesgroups.apply(lambda x: \n",
    "                      visitors[np.logical_and(visitors['date'] <= x['date'], \n",
    "                                              visitors['group'] == x['group'])]\n",
    "                      .agg({'date' : 'max', 'group' : 'max', 'visitors' : 'sum'}), \n",
    "                      axis=1).sort_values(by=['date','group'])\n",
    ")"
   ]
  },
  {
   "cell_type": "code",
   "execution_count": 30,
   "metadata": {
    "scrolled": true
   },
   "outputs": [],
   "source": [
    "cumulativedata = visitorsaggregated.merge(ordersaggregated,\n",
    "                                          on=['date', 'group'])"
   ]
  },
  {
   "cell_type": "code",
   "execution_count": 31,
   "metadata": {
    "scrolled": true
   },
   "outputs": [],
   "source": [
    "cumulativedata['conversion'] = cumulativedata['visitorid'] / cumulativedata['visitors']"
   ]
  },
  {
   "cell_type": "code",
   "execution_count": 32,
   "metadata": {},
   "outputs": [],
   "source": [
    "cumulativedataA = cumulativedata.query('group==\"A\"')"
   ]
  },
  {
   "cell_type": "code",
   "execution_count": 33,
   "metadata": {},
   "outputs": [],
   "source": [
    "cumulativedataB = cumulativedata.query('group==\"B\"')"
   ]
  },
  {
   "cell_type": "code",
   "execution_count": 34,
   "metadata": {
    "scrolled": true
   },
   "outputs": [
    {
     "data": {
      "image/png": "[encoded data removed]",
      "text/plain": [
       "<Figure size 792x288 with 1 Axes>"
      ]
     },
     "metadata": {
      "needs_background": "light"
     },
     "output_type": "display_data"
    }
   ],
   "source": [
    "plt.figure(figsize=(11, 4))\n",
    "plt.plot(cumulativedataA['date'], cumulativedataA['conversion'], label='A')\n",
    "plt.plot(cumulativedataA['date'], cumulativedataB['conversion'], label='B')\n",
    "plt.legend()\n",
    "plt.xticks(rotation=20)\n",
    "plt.show()"
   ]
  },
  {
   "cell_type": "markdown",
   "metadata": {},
   "source": [
    "**По графикам кумулятивной конверсии:**\n",
    "- Группа B на протяжении почти всего времени наблюдений обладает лучшей конверсией;\n",
    "- В отличие от кумулятивной выручки и кумулятивного среднего чека, нет никаких резких скачков в районе 19 августа, а это значит, что при стабильной конверсии, выручка в группе B резко увеличивалась из-за аномально дорогих заказов."
   ]
  },
  {
   "cell_type": "markdown",
   "metadata": {},
   "source": [
    "### График относительного изменения кумулятивной конверсии группы B к группе A"
   ]
  },
  {
   "cell_type": "code",
   "execution_count": 35,
   "metadata": {
    "scrolled": true
   },
   "outputs": [
    {
     "data": {
      "text/plain": [
       "<matplotlib.legend.Legend at 0x7f43b4db1b50>"
      ]
     },
     "execution_count": 35,
     "metadata": {},
     "output_type": "execute_result"
    },
    {
     "data": {
      "image/png": "[encoded data removed]",
      "text/plain": [
       "<Figure size 792x288 with 1 Axes>"
      ]
     },
     "metadata": {
      "needs_background": "light"
     },
     "output_type": "display_data"
    }
   ],
   "source": [
    "plt.figure(figsize=(11, 4))\n",
    "mergedcumulativeconversions = (\n",
    "    cumulativedataA[['date','conversion']].merge(cumulativedataB[['date','conversion']], \n",
    "                                                 left_on='date', right_on='date', \n",
    "                                                 how='left', suffixes=['A', 'B'])\n",
    ")\n",
    "\n",
    "plt.plot(mergedcumulativeconversions['date'], \n",
    "         mergedcumulativeconversions['conversionB']\n",
    "         / mergedcumulativeconversions['conversionA']-1, \n",
    "         label=\"Относительный прирост конверсии группы B относительно группы A\")\n",
    "plt.axhline(y=0.15, color='black', linestyle='--') \n",
    "plt.xticks(rotation=20)\n",
    "plt.legend()"
   ]
  },
  {
   "cell_type": "markdown",
   "metadata": {},
   "source": [
    "**Относительный прирост конверсии группы B** относительно группы А осциллируюет около значения 0,15 примерно с 6 дня наблюдений.  \n",
    "Несмотря на то, что значение относительного прироста между группами еще окончательно не установилось, но группа B показывает в среднем более высокий уровень относительной конверсии."
   ]
  },
  {
   "cell_type": "markdown",
   "metadata": {},
   "source": [
    "### Точечный график количества заказов по пользователям"
   ]
  },
  {
   "cell_type": "code",
   "execution_count": 36,
   "metadata": {},
   "outputs": [],
   "source": [
    "ordersgrouped = orders.groupby('visitorid')['transactionid'].count().reset_index()"
   ]
  },
  {
   "cell_type": "code",
   "execution_count": 37,
   "metadata": {
    "scrolled": true
   },
   "outputs": [
    {
     "data": {
      "text/plain": [
       "<matplotlib.axes._subplots.AxesSubplot at 0x7f43b4d67fd0>"
      ]
     },
     "execution_count": 37,
     "metadata": {},
     "output_type": "execute_result"
    },
    {
     "data": {
      "image/png": "[encoded data removed]",
      "text/plain": [
       "<Figure size 720x360 with 1 Axes>"
      ]
     },
     "metadata": {
      "needs_background": "light"
     },
     "output_type": "display_data"
    }
   ],
   "source": [
    "ordersgrouped.plot(x='visitorid', y='transactionid',\n",
    "                   kind='scatter', figsize=(10, 5))"
   ]
  },
  {
   "cell_type": "markdown",
   "metadata": {},
   "source": [
    "По точечному графику количества заказов видно, что большинство пользователей совершает не более 1 заказа.   \n",
    "Чтобы получить более детальные характеристики для выявления аномальных пользователей, далее посчитаем процентили:"
   ]
  },
  {
   "cell_type": "markdown",
   "metadata": {},
   "source": [
    "### Расчет 95-го и 99-го перцентиля количества заказов на пользователя"
   ]
  },
  {
   "cell_type": "code",
   "execution_count": 38,
   "metadata": {
    "scrolled": true
   },
   "outputs": [
    {
     "name": "stdout",
     "output_type": "stream",
     "text": [
      "[2. 4.]\n"
     ]
    }
   ],
   "source": [
    "print(np.percentile(ordersgrouped['transactionid'], [95, 99]))"
   ]
  },
  {
   "cell_type": "markdown",
   "metadata": {},
   "source": [
    "В качестве границы для определения **\"аномальных\"** пользователей выберем 99-ый процентиль, то есть **5 и более заказов**, так как пользователи которые делают 3 или 4 заказа не кажутся аномальными.  \n",
    "К тому же скачок по кумулятивному среднему чеку был зафиксирован в районе 19 августа, также как и у кумулятивной выручки, значит аномальные значения выручки в группе B связаны со стоимостью заказа, а не с количеством заказов от одних и тех же пользователей."
   ]
  },
  {
   "cell_type": "markdown",
   "metadata": {},
   "source": [
    "### Точечный график стоимости заказов"
   ]
  },
  {
   "cell_type": "code",
   "execution_count": 39,
   "metadata": {
    "scrolled": false
   },
   "outputs": [
    {
     "data": {
      "text/plain": [
       "<matplotlib.axes._subplots.AxesSubplot at 0x7f43b4ce7190>"
      ]
     },
     "execution_count": 39,
     "metadata": {},
     "output_type": "execute_result"
    },
    {
     "data": {
      "image/png": "[encoded data removed]",
      "text/plain": [
       "<Figure size 720x360 with 1 Axes>"
      ]
     },
     "metadata": {
      "needs_background": "light"
     },
     "output_type": "display_data"
    }
   ],
   "source": [
    "orders.plot(kind='scatter', x='transactionid', y='revenue', figsize=(10, 5))"
   ]
  },
  {
   "cell_type": "code",
   "execution_count": 40,
   "metadata": {},
   "outputs": [
    {
     "data": {
      "text/plain": [
       "425     1294500\n",
       "1196     202740\n",
       "858       93940\n",
       "1136      92550\n",
       "744       86620\n",
       "Name: revenue, dtype: int64"
      ]
     },
     "execution_count": 40,
     "metadata": {},
     "output_type": "execute_result"
    }
   ],
   "source": [
    "orders['revenue'].sort_values(ascending=False).head()"
   ]
  },
  {
   "cell_type": "markdown",
   "metadata": {},
   "source": [
    "По точечному графику стоимости и таблице выше заказа видно, что буквально 2 заказа обладают стоимостью более 100000 у.е.   \n"
   ]
  },
  {
   "cell_type": "code",
   "execution_count": 41,
   "metadata": {},
   "outputs": [
    {
     "data": {
      "text/plain": [
       "<matplotlib.axes._subplots.AxesSubplot at 0x7f43b4c64490>"
      ]
     },
     "execution_count": 41,
     "metadata": {},
     "output_type": "execute_result"
    },
    {
     "data": {
      "image/png": "[encoded data removed]",
      "text/plain": [
       "<Figure size 720x360 with 1 Axes>"
      ]
     },
     "metadata": {
      "needs_background": "light"
     },
     "output_type": "display_data"
    }
   ],
   "source": [
    "orders.plot(kind='scatter', x='transactionid', y='revenue', figsize=(10, 5), ylim=(0, 100000))"
   ]
  },
  {
   "cell_type": "markdown",
   "metadata": {},
   "source": [
    "### Расчет 95-го и 99-го перцентиля стоимости заказа"
   ]
  },
  {
   "cell_type": "code",
   "execution_count": 42,
   "metadata": {
    "scrolled": true
   },
   "outputs": [
    {
     "name": "stdout",
     "output_type": "stream",
     "text": [
      "[28000.  58233.2]\n"
     ]
    }
   ],
   "source": [
    "print(np.percentile(orders['revenue'], [95, 99]))"
   ]
  },
  {
   "cell_type": "markdown",
   "metadata": {},
   "source": [
    "По предварительному анализу стоимость заказов сильно влияет на показатели кумулятивной выручки и кумулятивного среднего чека, поэтому предалагаю обозначить **\"аномальными\"** заказы 95-го процентиля, то есть **со стоимостью более 28000 у.е.**"
   ]
  },
  {
   "cell_type": "markdown",
   "metadata": {},
   "source": [
    "### Расчет статистической значимости различий в конверсии между группами по «сырым» данным"
   ]
  },
  {
   "cell_type": "markdown",
   "metadata": {},
   "source": [
    "Первым действием получим посетителей за день для двух групп:"
   ]
  },
  {
   "cell_type": "code",
   "execution_count": 43,
   "metadata": {},
   "outputs": [],
   "source": [
    "visitorsADaily = visitors[visitors['group'] == 'A'][['date', 'visitors']]\n",
    "visitorsADaily.columns = ['date', 'visitorsPerDateA']"
   ]
  },
  {
   "cell_type": "code",
   "execution_count": 44,
   "metadata": {},
   "outputs": [],
   "source": [
    "visitorsBDaily = visitors[visitors['group'] == 'B'][['date', 'visitors']]\n",
    "visitorsBDaily.columns = ['date', 'visitorsPerDateB']"
   ]
  },
  {
   "cell_type": "markdown",
   "metadata": {},
   "source": [
    "Далее получим кумулятивное число посетителей для каждой группы на основе ранее созданной таблицы \"cumulativedata\":"
   ]
  },
  {
   "cell_type": "code",
   "execution_count": 45,
   "metadata": {},
   "outputs": [],
   "source": [
    "visitorsACummulative = cumulativedata.query('group==\"A\"')[['date', 'visitors']]\n",
    "visitorsACummulative.columns = ['date', 'visitorsCummulativeA']"
   ]
  },
  {
   "cell_type": "code",
   "execution_count": 46,
   "metadata": {},
   "outputs": [],
   "source": [
    "visitorsBCummulative = cumulativedata.query('group==\"B\"')[['date', 'visitors']]\n",
    "visitorsBCummulative.columns = ['date', 'visitorsCummulativeB']"
   ]
  },
  {
   "cell_type": "markdown",
   "metadata": {},
   "source": [
    "Теперь получим число заказов и прибыль за день для каждой группы:"
   ]
  },
  {
   "cell_type": "code",
   "execution_count": 47,
   "metadata": {},
   "outputs": [],
   "source": [
    "ordersADaily = (\n",
    "    orders[orders['group'] == 'A'][['date', 'transactionid', 'visitorid', 'revenue']]\n",
    "    .groupby('date', as_index=False)\n",
    "    .agg({'transactionid': 'nunique', 'revenue': 'sum'})\n",
    ")\n",
    "ordersADaily.columns = ['date', 'ordersPerDateA', 'revenuePerDateA']"
   ]
  },
  {
   "cell_type": "code",
   "execution_count": 48,
   "metadata": {},
   "outputs": [],
   "source": [
    "ordersBDaily = (\n",
    "    orders[orders['group'] == 'B'][['date', 'transactionid', 'visitorid', 'revenue']]\n",
    "    .groupby('date', as_index=False)\n",
    "    .agg({'transactionid': 'nunique', 'revenue': 'sum'})\n",
    ")\n",
    "ordersBDaily.columns = ['date', 'ordersPerDateB', 'revenuePerDateB']"
   ]
  },
  {
   "cell_type": "markdown",
   "metadata": {},
   "source": [
    "Далее получим кумулятивное число заказов и кумулятивную прибыль для каждой группы на основе ранее созданной таблицы \"cumulativedata\":"
   ]
  },
  {
   "cell_type": "code",
   "execution_count": 49,
   "metadata": {
    "scrolled": false
   },
   "outputs": [],
   "source": [
    "ordersACummulative = cumulativedata.query('group==\"A\"')[['date','transactionid', 'revenue']]\n",
    "ordersACummulative.columns = [\n",
    "    'date',\n",
    "    'ordersCummulativeA',\n",
    "    'revenueCummulativeA',\n",
    "]"
   ]
  },
  {
   "cell_type": "code",
   "execution_count": 50,
   "metadata": {},
   "outputs": [],
   "source": [
    "ordersBCummulative = cumulativedata.query('group==\"B\"')[['date','transactionid', 'revenue']]\n",
    "ordersBCummulative.columns = [\n",
    "    'date',\n",
    "    'ordersCummulativeB',\n",
    "    'revenueCummulativeB',\n",
    "]"
   ]
  },
  {
   "cell_type": "markdown",
   "metadata": {},
   "source": [
    "Далее объединим все полученные таблицы:"
   ]
  },
  {
   "cell_type": "code",
   "execution_count": 51,
   "metadata": {},
   "outputs": [],
   "source": [
    "data = (\n",
    "    ordersADaily.merge(\n",
    "        ordersBDaily, left_on='date', right_on='date', how='left'\n",
    "    )\n",
    "    .merge(ordersACummulative, left_on='date', right_on='date', how='left')\n",
    "    .merge(ordersBCummulative, left_on='date', right_on='date', how='left')\n",
    "    .merge(visitorsADaily, left_on='date', right_on='date', how='left')\n",
    "    .merge(visitorsBDaily, left_on='date', right_on='date', how='left')\n",
    "    .merge(visitorsACummulative, left_on='date', right_on='date', how='left')\n",
    "    .merge(visitorsBCummulative, left_on='date', right_on='date', how='left')\n",
    ")"
   ]
  },
  {
   "cell_type": "code",
   "execution_count": 52,
   "metadata": {
    "scrolled": true
   },
   "outputs": [
    {
     "data": {
      "text/html": [
       "<div>\n",
       "<style scoped>\n",
       "    .dataframe tbody tr th:only-of-type {\n",
       "        vertical-align: middle;\n",
       "    }\n",
       "\n",
       "    .dataframe tbody tr th {\n",
       "        vertical-align: top;\n",
       "    }\n",
       "\n",
       "    .dataframe thead th {\n",
       "        text-align: right;\n",
       "    }\n",
       "</style>\n",
       "<table border=\"1\" class=\"dataframe\">\n",
       "  <thead>\n",
       "    <tr style=\"text-align: right;\">\n",
       "      <th></th>\n",
       "      <th>date</th>\n",
       "      <th>ordersPerDateA</th>\n",
       "      <th>revenuePerDateA</th>\n",
       "      <th>ordersPerDateB</th>\n",
       "      <th>revenuePerDateB</th>\n",
       "      <th>ordersCummulativeA</th>\n",
       "      <th>revenueCummulativeA</th>\n",
       "      <th>ordersCummulativeB</th>\n",
       "      <th>revenueCummulativeB</th>\n",
       "      <th>visitorsPerDateA</th>\n",
       "      <th>visitorsPerDateB</th>\n",
       "      <th>visitorsCummulativeA</th>\n",
       "      <th>visitorsCummulativeB</th>\n",
       "    </tr>\n",
       "  </thead>\n",
       "  <tbody>\n",
       "    <tr>\n",
       "      <td>0</td>\n",
       "      <td>2019-08-01</td>\n",
       "      <td>24</td>\n",
       "      <td>148579</td>\n",
       "      <td>21</td>\n",
       "      <td>101217</td>\n",
       "      <td>24</td>\n",
       "      <td>148579</td>\n",
       "      <td>21</td>\n",
       "      <td>101217</td>\n",
       "      <td>719</td>\n",
       "      <td>713</td>\n",
       "      <td>719</td>\n",
       "      <td>713</td>\n",
       "    </tr>\n",
       "    <tr>\n",
       "      <td>1</td>\n",
       "      <td>2019-08-02</td>\n",
       "      <td>20</td>\n",
       "      <td>93822</td>\n",
       "      <td>24</td>\n",
       "      <td>165531</td>\n",
       "      <td>44</td>\n",
       "      <td>242401</td>\n",
       "      <td>45</td>\n",
       "      <td>266748</td>\n",
       "      <td>619</td>\n",
       "      <td>581</td>\n",
       "      <td>1338</td>\n",
       "      <td>1294</td>\n",
       "    </tr>\n",
       "    <tr>\n",
       "      <td>2</td>\n",
       "      <td>2019-08-03</td>\n",
       "      <td>24</td>\n",
       "      <td>112473</td>\n",
       "      <td>16</td>\n",
       "      <td>114248</td>\n",
       "      <td>68</td>\n",
       "      <td>354874</td>\n",
       "      <td>61</td>\n",
       "      <td>380996</td>\n",
       "      <td>507</td>\n",
       "      <td>509</td>\n",
       "      <td>1845</td>\n",
       "      <td>1803</td>\n",
       "    </tr>\n",
       "    <tr>\n",
       "      <td>3</td>\n",
       "      <td>2019-08-04</td>\n",
       "      <td>16</td>\n",
       "      <td>70825</td>\n",
       "      <td>17</td>\n",
       "      <td>108571</td>\n",
       "      <td>84</td>\n",
       "      <td>425699</td>\n",
       "      <td>78</td>\n",
       "      <td>489567</td>\n",
       "      <td>717</td>\n",
       "      <td>770</td>\n",
       "      <td>2562</td>\n",
       "      <td>2573</td>\n",
       "    </tr>\n",
       "    <tr>\n",
       "      <td>4</td>\n",
       "      <td>2019-08-05</td>\n",
       "      <td>25</td>\n",
       "      <td>124218</td>\n",
       "      <td>23</td>\n",
       "      <td>92428</td>\n",
       "      <td>109</td>\n",
       "      <td>549917</td>\n",
       "      <td>101</td>\n",
       "      <td>581995</td>\n",
       "      <td>756</td>\n",
       "      <td>707</td>\n",
       "      <td>3318</td>\n",
       "      <td>3280</td>\n",
       "    </tr>\n",
       "  </tbody>\n",
       "</table>\n",
       "</div>"
      ],
      "text/plain": [
       "        date  ordersPerDateA  revenuePerDateA  ordersPerDateB  \\\n",
       "0 2019-08-01              24           148579              21   \n",
       "1 2019-08-02              20            93822              24   \n",
       "2 2019-08-03              24           112473              16   \n",
       "3 2019-08-04              16            70825              17   \n",
       "4 2019-08-05              25           124218              23   \n",
       "\n",
       "   revenuePerDateB  ordersCummulativeA  revenueCummulativeA  \\\n",
       "0           101217                  24               148579   \n",
       "1           165531                  44               242401   \n",
       "2           114248                  68               354874   \n",
       "3           108571                  84               425699   \n",
       "4            92428                 109               549917   \n",
       "\n",
       "   ordersCummulativeB  revenueCummulativeB  visitorsPerDateA  \\\n",
       "0                  21               101217               719   \n",
       "1                  45               266748               619   \n",
       "2                  61               380996               507   \n",
       "3                  78               489567               717   \n",
       "4                 101               581995               756   \n",
       "\n",
       "   visitorsPerDateB  visitorsCummulativeA  visitorsCummulativeB  \n",
       "0               713                   719                   713  \n",
       "1               581                  1338                  1294  \n",
       "2               509                  1845                  1803  \n",
       "3               770                  2562                  2573  \n",
       "4               707                  3318                  3280  "
      ]
     },
     "execution_count": 52,
     "metadata": {},
     "output_type": "execute_result"
    }
   ],
   "source": [
    "data.head()"
   ]
  },
  {
   "cell_type": "markdown",
   "metadata": {},
   "source": [
    "Создадим переменные 'ordersByUsersA' и 'ordersByUsersB'. Для пользователей, которые заказывали хотя бы 1 раз, укажем число совершённых заказов:"
   ]
  },
  {
   "cell_type": "code",
   "execution_count": 53,
   "metadata": {},
   "outputs": [],
   "source": [
    "ordersByUsersA = (\n",
    "    orders[orders['group'] == 'A']\n",
    "    .groupby('visitorid', as_index=False)\n",
    "    .agg({'transactionid': 'nunique'})\n",
    ")\n",
    "ordersByUsersA.columns = ['userId', 'orders']"
   ]
  },
  {
   "cell_type": "code",
   "execution_count": 54,
   "metadata": {},
   "outputs": [],
   "source": [
    "ordersByUsersB = (\n",
    "    orders[orders['group'] == 'B']\n",
    "    .groupby('visitorid', as_index=False)\n",
    "    .agg({'transactionid': 'nunique'})\n",
    ")\n",
    "ordersByUsersB.columns = ['userId', 'orders']"
   ]
  },
  {
   "cell_type": "code",
   "execution_count": 55,
   "metadata": {
    "scrolled": true
   },
   "outputs": [],
   "source": [
    "sampleA = pd.concat(\n",
    "    [ordersByUsersA['orders'], \n",
    "     pd.Series(0, index=np.arange(data['visitorsPerDateA'].sum()\n",
    "                                  - len(ordersByUsersA['orders'])), name='orders')], axis=0\n",
    ")"
   ]
  },
  {
   "cell_type": "code",
   "execution_count": 56,
   "metadata": {},
   "outputs": [],
   "source": [
    "sampleB = pd.concat(\n",
    "    [ordersByUsersB['orders'], \n",
    "     pd.Series(0, index=np.arange(data['visitorsPerDateB'].sum()\n",
    "                                  - len(ordersByUsersB['orders'])), name='orders')], axis=0\n",
    ")"
   ]
  },
  {
   "cell_type": "markdown",
   "metadata": {},
   "source": [
    "Нулевая и альтернативная гипотезы будут сформулированы следующим образом:\n",
    "- **H**0 **: Средняя конверсия пользователей из группы B равна средней конверсии пользователей из группы А**\n",
    "- **H**1 **: Средняя конверсия пользователей из группы B отличается от средней конверсии пользователей из группы А**"
   ]
  },
  {
   "cell_type": "markdown",
   "metadata": {},
   "source": [
    "При этом **альтернативная гипотеза является двусторонней**, то есть отклонения в любую сторону при достататочном уровне статистической значимости будут учитываться и не будут противоречить алтренативной гипотезе.   \n",
    "Критический уровень статистической значимости **alpha** установим согласно общей практике значением **0,05**."
   ]
  },
  {
   "cell_type": "markdown",
   "metadata": {},
   "source": [
    "Для ненормального распределения величин в sampleA и sampleB для проверки статистической значимости конверсии воспользуемся непараметрическим критерием Манна-Уитни:"
   ]
  },
  {
   "cell_type": "code",
   "execution_count": 57,
   "metadata": {
    "scrolled": true
   },
   "outputs": [
    {
     "data": {
      "text/plain": [
       "0.0084"
      ]
     },
     "execution_count": 57,
     "metadata": {},
     "output_type": "execute_result"
    }
   ],
   "source": [
    "round(stats.mannwhitneyu(sampleA, sampleB)[1], 4)"
   ]
  },
  {
   "cell_type": "code",
   "execution_count": 58,
   "metadata": {},
   "outputs": [
    {
     "data": {
      "text/plain": [
       "0.138"
      ]
     },
     "execution_count": 58,
     "metadata": {},
     "output_type": "execute_result"
    }
   ],
   "source": [
    "round(sampleB.mean() / sampleA.mean() - 1, 3)"
   ]
  },
  {
   "cell_type": "markdown",
   "metadata": {},
   "source": [
    "P-value значительно меньше 0,05 и ниже даже 0,01.   \n",
    "Это означает, что различия в конверсии между группами B и A на \"сырых\" данных статистически значимы, при этом отношение конверсии B к А показывает значение в 13,8%.  \n",
    "Соответсвенно, нулевую гипотеза о равенстве конверсий отвергаем. "
   ]
  },
  {
   "cell_type": "markdown",
   "metadata": {},
   "source": [
    "### Расчет статистической значимости различий в среднем чеке между группами по «сырым» данным"
   ]
  },
  {
   "cell_type": "markdown",
   "metadata": {},
   "source": [
    "Нулевая и альтернативная гипотезы будут сформулированы следующим образом:\n",
    "- **H**0 **: Средний чек пользователей из группы B равен среднему чеку пользователей из группы А**\n",
    "- **H**1 **: Средний чек пользователей из группы B отличается от среднего чека пользователей из группы А**"
   ]
  },
  {
   "cell_type": "markdown",
   "metadata": {},
   "source": [
    "При этом **альтернативная гипотеза является двусторонней**, то есть отклонения в любую сторону при достататочном уровне статистической значимости будут учитываться и не будут противоречить алтренативной гипотезе.   \n",
    "Критический уровень статистической значимости **alpha** установим согласно общей практике значением **0,05**."
   ]
  },
  {
   "cell_type": "code",
   "execution_count": 59,
   "metadata": {},
   "outputs": [
    {
     "data": {
      "text/plain": [
       "0.365"
      ]
     },
     "execution_count": 59,
     "metadata": {},
     "output_type": "execute_result"
    }
   ],
   "source": [
    "round((stats.mannwhitneyu(orders[orders['group']=='A']['revenue'], \n",
    "                          orders[orders['group']=='B']['revenue'])[1]), 3)"
   ]
  },
  {
   "cell_type": "code",
   "execution_count": 60,
   "metadata": {},
   "outputs": [
    {
     "data": {
      "text/plain": [
       "0.259"
      ]
     },
     "execution_count": 60,
     "metadata": {},
     "output_type": "execute_result"
    }
   ],
   "source": [
    "round((orders[orders['group']=='B']['revenue'].mean()\n",
    "      /orders[orders['group']=='A']['revenue'].mean()-1), 3)"
   ]
  },
  {
   "cell_type": "markdown",
   "metadata": {},
   "source": [
    "Не смотря на то, что средний чек группы B больше чека группы на 26%, признать статистически значимыми данные различия нельзя, так как P-value непараметрического метода Манна-Уитни равен 0,365, что значительно выше значения 0,05 и даже выше 0,1."
   ]
  },
  {
   "cell_type": "markdown",
   "metadata": {},
   "source": [
    "### Расчет статистической значимости различий в конверсии между группами по «очищенным» данным"
   ]
  },
  {
   "cell_type": "markdown",
   "metadata": {},
   "source": [
    "Получим список пользователей с числом заказов более 4:"
   ]
  },
  {
   "cell_type": "code",
   "execution_count": 61,
   "metadata": {},
   "outputs": [],
   "source": [
    "usersWithManyOrders = pd.concat(\n",
    "    [\n",
    "        ordersByUsersA[ordersByUsersA['orders'] > 4]['userId'],\n",
    "        ordersByUsersB[ordersByUsersB['orders'] > 4]['userId'],\n",
    "    ],\n",
    "    axis=0,\n",
    ")"
   ]
  },
  {
   "cell_type": "markdown",
   "metadata": {},
   "source": [
    "Получим список пользователей с заказами стоимостью выше 28000:"
   ]
  },
  {
   "cell_type": "code",
   "execution_count": 62,
   "metadata": {},
   "outputs": [],
   "source": [
    "orders = orders.rename(columns={'visitorid':'userId'})"
   ]
  },
  {
   "cell_type": "code",
   "execution_count": 63,
   "metadata": {
    "scrolled": false
   },
   "outputs": [],
   "source": [
    "usersWithExpensiveOrders = orders[orders['revenue'] > 28000]['userId']"
   ]
  },
  {
   "cell_type": "markdown",
   "metadata": {},
   "source": [
    "Получим список пользователей с заказами стоимостью выше 28000 и числом заказов больше 4:"
   ]
  },
  {
   "cell_type": "code",
   "execution_count": 64,
   "metadata": {},
   "outputs": [],
   "source": [
    "abnormalUsers = (\n",
    "    pd.concat([usersWithManyOrders, usersWithExpensiveOrders], axis=0)\n",
    "    .drop_duplicates()\n",
    "    .sort_values()\n",
    ")"
   ]
  },
  {
   "cell_type": "code",
   "execution_count": 65,
   "metadata": {
    "scrolled": true
   },
   "outputs": [
    {
     "data": {
      "text/plain": [
       "59"
      ]
     },
     "execution_count": 65,
     "metadata": {},
     "output_type": "execute_result"
    }
   ],
   "source": [
    "len(abnormalUsers)"
   ]
  },
  {
   "cell_type": "markdown",
   "metadata": {},
   "source": [
    "Получим списки числа заказов для пользователей двух групп по очищенным данным:"
   ]
  },
  {
   "cell_type": "code",
   "execution_count": 66,
   "metadata": {},
   "outputs": [],
   "source": [
    "sampleAFiltered = pd.concat(\n",
    "    [\n",
    "        ordersByUsersA[\n",
    "            np.logical_not(ordersByUsersA['userId'].isin(abnormalUsers))\n",
    "        ]['orders'],\n",
    "        pd.Series(\n",
    "            0,\n",
    "            index=np.arange(\n",
    "                data['visitorsPerDateA'].sum() - len(ordersByUsersA['orders'])\n",
    "            ),\n",
    "            name='orders',\n",
    "        ),\n",
    "    ],\n",
    "    axis=0,\n",
    ")"
   ]
  },
  {
   "cell_type": "code",
   "execution_count": 67,
   "metadata": {},
   "outputs": [],
   "source": [
    "sampleBFiltered = pd.concat(\n",
    "    [\n",
    "        ordersByUsersB[\n",
    "            np.logical_not(ordersByUsersB['userId'].isin(abnormalUsers))\n",
    "        ]['orders'],\n",
    "        pd.Series(\n",
    "            0,\n",
    "            index=np.arange(\n",
    "                data['visitorsPerDateB'].sum() - len(ordersByUsersB['orders'])\n",
    "            ),\n",
    "            name='orders',\n",
    "        ),\n",
    "    ],\n",
    "    axis=0,\n",
    ") "
   ]
  },
  {
   "cell_type": "code",
   "execution_count": 68,
   "metadata": {},
   "outputs": [
    {
     "data": {
      "text/plain": [
       "0.009"
      ]
     },
     "execution_count": 68,
     "metadata": {},
     "output_type": "execute_result"
    }
   ],
   "source": [
    "round((stats.mannwhitneyu(sampleAFiltered, sampleBFiltered)[1]), 3)"
   ]
  },
  {
   "cell_type": "code",
   "execution_count": 69,
   "metadata": {
    "scrolled": true
   },
   "outputs": [
    {
     "data": {
      "text/plain": [
       "0.145"
      ]
     },
     "execution_count": 69,
     "metadata": {},
     "output_type": "execute_result"
    }
   ],
   "source": [
    "round((sampleBFiltered.mean()/sampleAFiltered.mean()-1), 3) "
   ]
  },
  {
   "cell_type": "markdown",
   "metadata": {},
   "source": [
    "P-value значительно меньше 0,05 и ниже даже 0,01.   \n",
    "Это означает, что различия в конверсии между группами B и A на \"очищенных\" данных статистически значимы, при этом отношение конверсии B к А показывает значение в 14,5%.  \n",
    "При этом особых различий при исследовании сырых и очищенных данных нет. \n",
    "Разница статистически значима в обоих случаях."
   ]
  },
  {
   "cell_type": "markdown",
   "metadata": {},
   "source": [
    "### Расчет статистической значимости различий в среднем чеке между группами по «очищенным» данным"
   ]
  },
  {
   "cell_type": "code",
   "execution_count": 70,
   "metadata": {
    "scrolled": true
   },
   "outputs": [
    {
     "data": {
      "text/plain": [
       "0.481"
      ]
     },
     "metadata": {},
     "output_type": "display_data"
    }
   ],
   "source": [
    "display(\n",
    "    round((\n",
    "        stats.mannwhitneyu(\n",
    "            orders[\n",
    "                np.logical_and(\n",
    "                    orders['group'] == 'A',\n",
    "                    np.logical_not(orders['userId'].isin(abnormalUsers)),\n",
    "                )\n",
    "            ]['revenue'],\n",
    "            orders[\n",
    "                np.logical_and(\n",
    "                    orders['group'] == 'B',\n",
    "                    np.logical_not(orders['userId'].isin(abnormalUsers)),\n",
    "                )\n",
    "            ]['revenue'],\n",
    "        )[1]\n",
    "    ), 3\n",
    "))"
   ]
  },
  {
   "cell_type": "code",
   "execution_count": 71,
   "metadata": {
    "scrolled": true
   },
   "outputs": [
    {
     "data": {
      "text/plain": [
       "-0.014"
      ]
     },
     "metadata": {},
     "output_type": "display_data"
    }
   ],
   "source": [
    "display(\n",
    "    round((\n",
    "        orders[\n",
    "            np.logical_and(\n",
    "                orders['group'] == 'B',\n",
    "                np.logical_not(orders['userId'].isin(abnormalUsers)),\n",
    "            )\n",
    "        ]['revenue'].mean()\n",
    "        / orders[\n",
    "            np.logical_and(\n",
    "                orders['group'] == 'A',\n",
    "                np.logical_not(orders['userId'].isin(abnormalUsers)),\n",
    "            )\n",
    "        ]['revenue'].mean()\n",
    "        - 1\n",
    "    ), 3\n",
    "))"
   ]
  },
  {
   "cell_type": "markdown",
   "metadata": {},
   "source": [
    "Значение p-value увеличилось до 0,481 после удаления аномальных заказов.   \n",
    "При это после \"чистки\" отношение группы B к группе A поменяло знак, то есть теперь средний чек у группы B стал больше, но разница в 1,4% не является статистически значимой, так как благодаря p-value = 0,481 нет оснований считать средние чеки неравными."
   ]
  },
  {
   "cell_type": "markdown",
   "metadata": {},
   "source": [
    "### Результаты:"
   ]
  },
  {
   "cell_type": "markdown",
   "metadata": {},
   "source": [
    "- Существует статистически значимое различие по конверсии между группами как по «сырым», так и по данным после фильтрации аномалий, группа B значительно опережает группу A;\n",
    "- Нет статистически значимого различия по среднему чеку между группами ни по «сырым», ни по данным после фильтрации аномалий, при этом после фильтрации средний чек группы A стал больше чека группы B;\n",
    "- График различия конверсии между группами сообщает, что результаты группы B значительно лучше группы A данная тенденция носит относительно стабильный характер;\n",
    "- График различия среднего чека говорит о том, что на средний чек сильно влияли дорогие заказы, при этом нельзя сказать, какая группа имеет худший средний чек. При этом нет оснований пологать, что продолжая исследование, можно получить результат с \"явным лидером\""
   ]
  },
  {
   "cell_type": "markdown",
   "metadata": {},
   "source": [
    "Исходя из обнаруженных фактов, тест следует остановить и признать его успешным:\n",
    "- конверсия группы B значительно лучше;\n",
    "- значимых различий в среднем чека между группами нет."
   ]
  }
 ],
 "metadata": {
  "ExecuteTimeLog": [
   {
    "duration": 530,
    "start_time": "2022-01-23T17:04:14.673Z"
   },
   {
    "duration": 3,
    "start_time": "2022-01-23T17:08:55.549Z"
   },
   {
    "duration": 2,
    "start_time": "2022-01-23T17:09:30.433Z"
   },
   {
    "duration": 18,
    "start_time": "2022-01-23T17:10:52.131Z"
   },
   {
    "duration": 14,
    "start_time": "2022-01-23T17:10:59.657Z"
   },
   {
    "duration": 5,
    "start_time": "2022-01-23T17:16:41.030Z"
   },
   {
    "duration": 5,
    "start_time": "2022-01-23T17:16:52.297Z"
   },
   {
    "duration": 255,
    "start_time": "2022-01-23T17:18:50.072Z"
   },
   {
    "duration": 8,
    "start_time": "2022-01-23T17:18:55.948Z"
   },
   {
    "duration": 5,
    "start_time": "2022-01-23T17:19:21.846Z"
   },
   {
    "duration": 4,
    "start_time": "2022-01-23T17:19:41.963Z"
   },
   {
    "duration": 4,
    "start_time": "2022-01-23T17:19:46.776Z"
   },
   {
    "duration": 5,
    "start_time": "2022-01-23T17:20:04.606Z"
   },
   {
    "duration": 5,
    "start_time": "2022-01-23T17:20:29.073Z"
   },
   {
    "duration": 4,
    "start_time": "2022-01-23T17:20:37.056Z"
   },
   {
    "duration": 7,
    "start_time": "2022-01-23T17:20:59.635Z"
   },
   {
    "duration": 196,
    "start_time": "2022-01-23T17:22:03.863Z"
   },
   {
    "duration": 176,
    "start_time": "2022-01-23T17:22:13.273Z"
   },
   {
    "duration": 189,
    "start_time": "2022-01-23T17:22:22.096Z"
   },
   {
    "duration": 176,
    "start_time": "2022-01-23T17:22:39.395Z"
   },
   {
    "duration": 190,
    "start_time": "2022-01-23T17:22:49.993Z"
   },
   {
    "duration": 196,
    "start_time": "2022-01-23T17:22:55.155Z"
   },
   {
    "duration": 209,
    "start_time": "2022-01-23T17:23:00.986Z"
   },
   {
    "duration": 225,
    "start_time": "2022-01-23T17:23:04.776Z"
   },
   {
    "duration": 3,
    "start_time": "2022-01-23T17:24:16.175Z"
   },
   {
    "duration": 197,
    "start_time": "2022-01-23T17:24:37.919Z"
   },
   {
    "duration": 212,
    "start_time": "2022-01-23T17:24:44.338Z"
   },
   {
    "duration": 201,
    "start_time": "2022-01-23T17:24:58.023Z"
   },
   {
    "duration": 252,
    "start_time": "2022-01-23T17:32:13.265Z"
   },
   {
    "duration": 202,
    "start_time": "2022-01-23T17:32:17.721Z"
   },
   {
    "duration": 198,
    "start_time": "2022-01-23T17:32:21.570Z"
   },
   {
    "duration": 4,
    "start_time": "2022-01-23T17:32:29.897Z"
   },
   {
    "duration": 3,
    "start_time": "2022-01-23T17:32:45.350Z"
   },
   {
    "duration": 23,
    "start_time": "2022-01-23T17:32:45.355Z"
   },
   {
    "duration": 10,
    "start_time": "2022-01-23T17:32:45.379Z"
   },
   {
    "duration": 6,
    "start_time": "2022-01-23T17:32:45.391Z"
   },
   {
    "duration": 3,
    "start_time": "2022-01-23T17:32:47.212Z"
   },
   {
    "duration": 3,
    "start_time": "2022-01-23T17:33:15.491Z"
   },
   {
    "duration": 2,
    "start_time": "2022-01-23T17:37:07.452Z"
   },
   {
    "duration": 9,
    "start_time": "2022-01-23T17:39:02.756Z"
   },
   {
    "duration": 9,
    "start_time": "2022-01-23T17:39:08.182Z"
   },
   {
    "duration": 10,
    "start_time": "2022-01-23T17:41:37.690Z"
   },
   {
    "duration": 9,
    "start_time": "2022-01-23T17:41:48.923Z"
   },
   {
    "duration": 3,
    "start_time": "2022-01-23T17:44:55.441Z"
   },
   {
    "duration": 4,
    "start_time": "2022-01-23T17:45:48.704Z"
   },
   {
    "duration": 8,
    "start_time": "2022-01-23T17:45:55.437Z"
   },
   {
    "duration": 11,
    "start_time": "2022-01-23T17:46:50.560Z"
   },
   {
    "duration": 2,
    "start_time": "2022-01-23T18:03:04.020Z"
   },
   {
    "duration": 64,
    "start_time": "2022-01-23T18:14:25.729Z"
   },
   {
    "duration": 12,
    "start_time": "2022-01-23T18:14:32.726Z"
   },
   {
    "duration": 7,
    "start_time": "2022-01-23T18:14:45.290Z"
   },
   {
    "duration": 3,
    "start_time": "2022-01-23T18:15:32.249Z"
   },
   {
    "duration": 6,
    "start_time": "2022-01-23T18:15:33.068Z"
   },
   {
    "duration": 12,
    "start_time": "2022-01-23T18:16:03.627Z"
   },
   {
    "duration": 7,
    "start_time": "2022-01-23T18:16:09.390Z"
   },
   {
    "duration": 7,
    "start_time": "2022-01-23T18:16:28.779Z"
   },
   {
    "duration": 6,
    "start_time": "2022-01-23T18:16:33.302Z"
   },
   {
    "duration": 9,
    "start_time": "2022-01-23T18:17:59.265Z"
   },
   {
    "duration": 7,
    "start_time": "2022-01-23T18:18:09.137Z"
   },
   {
    "duration": 6,
    "start_time": "2022-01-23T18:18:56.307Z"
   },
   {
    "duration": 18,
    "start_time": "2022-01-23T18:20:30.136Z"
   },
   {
    "duration": 9,
    "start_time": "2022-01-23T18:21:04.635Z"
   },
   {
    "duration": 5,
    "start_time": "2022-01-23T18:22:31.720Z"
   },
   {
    "duration": 609,
    "start_time": "2022-01-24T08:45:24.272Z"
   },
   {
    "duration": 19,
    "start_time": "2022-01-24T08:45:24.883Z"
   },
   {
    "duration": 18,
    "start_time": "2022-01-24T08:45:24.904Z"
   },
   {
    "duration": 8,
    "start_time": "2022-01-24T08:45:24.924Z"
   },
   {
    "duration": 5,
    "start_time": "2022-01-24T08:45:24.934Z"
   },
   {
    "duration": 10,
    "start_time": "2022-01-24T08:45:24.941Z"
   },
   {
    "duration": 12,
    "start_time": "2022-01-24T08:45:24.953Z"
   },
   {
    "duration": 5,
    "start_time": "2022-01-24T08:45:24.968Z"
   },
   {
    "duration": 30,
    "start_time": "2022-01-24T08:45:24.975Z"
   },
   {
    "duration": 52,
    "start_time": "2022-01-24T08:45:25.007Z"
   },
   {
    "duration": 3,
    "start_time": "2022-01-24T08:45:25.061Z"
   },
   {
    "duration": 13,
    "start_time": "2022-01-24T08:45:25.066Z"
   },
   {
    "duration": 9,
    "start_time": "2022-01-24T08:45:25.081Z"
   },
   {
    "duration": 13,
    "start_time": "2022-01-24T08:45:25.091Z"
   },
   {
    "duration": 5,
    "start_time": "2022-01-24T08:45:25.105Z"
   },
   {
    "duration": 7,
    "start_time": "2022-01-24T08:45:25.112Z"
   },
   {
    "duration": 9,
    "start_time": "2022-01-24T08:45:25.120Z"
   },
   {
    "duration": 9,
    "start_time": "2022-01-24T08:45:25.131Z"
   },
   {
    "duration": 6,
    "start_time": "2022-01-24T08:46:51.815Z"
   },
   {
    "duration": 366,
    "start_time": "2022-01-24T08:56:32.479Z"
   },
   {
    "duration": 252,
    "start_time": "2022-01-24T09:08:45.504Z"
   },
   {
    "duration": 5,
    "start_time": "2022-01-24T09:08:57.089Z"
   },
   {
    "duration": 10,
    "start_time": "2022-01-24T09:09:02.208Z"
   },
   {
    "duration": 7,
    "start_time": "2022-01-24T09:09:05.845Z"
   },
   {
    "duration": 7,
    "start_time": "2022-01-24T09:09:32.195Z"
   },
   {
    "duration": 9,
    "start_time": "2022-01-24T09:09:34.374Z"
   },
   {
    "duration": 8,
    "start_time": "2022-01-24T09:09:36.857Z"
   },
   {
    "duration": 8,
    "start_time": "2022-01-24T09:09:42.760Z"
   },
   {
    "duration": 7,
    "start_time": "2022-01-24T09:09:44.992Z"
   },
   {
    "duration": 6,
    "start_time": "2022-01-24T09:22:08.885Z"
   },
   {
    "duration": 10,
    "start_time": "2022-01-24T09:22:15.011Z"
   },
   {
    "duration": 4642,
    "start_time": "2022-01-24T09:26:15.213Z"
   },
   {
    "duration": 4305,
    "start_time": "2022-01-24T09:27:01.894Z"
   },
   {
    "duration": 197,
    "start_time": "2022-01-24T09:27:29.086Z"
   },
   {
    "duration": 11,
    "start_time": "2022-01-24T09:27:34.919Z"
   },
   {
    "duration": 134,
    "start_time": "2022-01-24T09:46:05.511Z"
   },
   {
    "duration": 5,
    "start_time": "2022-01-24T09:47:54.557Z"
   },
   {
    "duration": 6,
    "start_time": "2022-01-24T09:48:07.766Z"
   },
   {
    "duration": 330,
    "start_time": "2022-01-24T09:51:22.052Z"
   },
   {
    "duration": 543,
    "start_time": "2022-01-24T09:51:34.217Z"
   },
   {
    "duration": 523,
    "start_time": "2022-01-24T09:51:43.075Z"
   },
   {
    "duration": 549,
    "start_time": "2022-01-24T09:52:01.790Z"
   },
   {
    "duration": 606,
    "start_time": "2022-01-24T09:52:15.670Z"
   },
   {
    "duration": 546,
    "start_time": "2022-01-24T09:52:34.592Z"
   },
   {
    "duration": 563,
    "start_time": "2022-01-24T09:52:43.615Z"
   },
   {
    "duration": 189,
    "start_time": "2022-01-24T09:53:55.678Z"
   },
   {
    "duration": 305,
    "start_time": "2022-01-24T09:54:23.127Z"
   },
   {
    "duration": 181,
    "start_time": "2022-01-24T09:54:34.521Z"
   },
   {
    "duration": 179,
    "start_time": "2022-01-24T09:54:50.836Z"
   },
   {
    "duration": 223,
    "start_time": "2022-01-24T09:55:06.975Z"
   },
   {
    "duration": 314,
    "start_time": "2022-01-24T09:55:34.544Z"
   },
   {
    "duration": 388,
    "start_time": "2022-01-24T09:55:47.870Z"
   },
   {
    "duration": 201,
    "start_time": "2022-01-24T09:55:56.308Z"
   },
   {
    "duration": 5,
    "start_time": "2022-01-24T09:56:40.835Z"
   },
   {
    "duration": 189,
    "start_time": "2022-01-24T09:56:44.693Z"
   },
   {
    "duration": 72,
    "start_time": "2022-01-24T09:57:06.479Z"
   },
   {
    "duration": 14,
    "start_time": "2022-01-24T09:57:41.611Z"
   },
   {
    "duration": 6,
    "start_time": "2022-01-24T09:58:24.413Z"
   },
   {
    "duration": 150,
    "start_time": "2022-01-24T09:58:30.039Z"
   },
   {
    "duration": 19,
    "start_time": "2022-01-24T09:58:34.531Z"
   },
   {
    "duration": 12,
    "start_time": "2022-01-24T09:58:51.239Z"
   },
   {
    "duration": 841,
    "start_time": "2022-01-24T09:59:10.145Z"
   },
   {
    "duration": 172,
    "start_time": "2022-01-24T09:59:17.817Z"
   },
   {
    "duration": 206,
    "start_time": "2022-01-24T09:59:51.731Z"
   },
   {
    "duration": 215,
    "start_time": "2022-01-24T10:12:11.375Z"
   },
   {
    "duration": 211,
    "start_time": "2022-01-24T10:12:23.853Z"
   },
   {
    "duration": 207,
    "start_time": "2022-01-24T10:12:35.638Z"
   },
   {
    "duration": 315,
    "start_time": "2022-01-24T10:12:39.898Z"
   },
   {
    "duration": 226,
    "start_time": "2022-01-24T10:14:29.386Z"
   },
   {
    "duration": 311,
    "start_time": "2022-01-24T10:14:38.414Z"
   },
   {
    "duration": 312,
    "start_time": "2022-01-24T10:14:47.165Z"
   },
   {
    "duration": 389,
    "start_time": "2022-01-24T10:16:08.062Z"
   },
   {
    "duration": 288,
    "start_time": "2022-01-24T10:16:16.676Z"
   },
   {
    "duration": 330,
    "start_time": "2022-01-24T10:16:21.779Z"
   },
   {
    "duration": 331,
    "start_time": "2022-01-24T10:16:44.383Z"
   },
   {
    "duration": 253,
    "start_time": "2022-01-24T10:16:55.528Z"
   },
   {
    "duration": 221,
    "start_time": "2022-01-24T10:17:04.191Z"
   },
   {
    "duration": 243,
    "start_time": "2022-01-24T10:17:11.195Z"
   },
   {
    "duration": 254,
    "start_time": "2022-01-24T10:17:18.536Z"
   },
   {
    "duration": 237,
    "start_time": "2022-01-24T10:17:24.149Z"
   },
   {
    "duration": 254,
    "start_time": "2022-01-24T10:17:29.933Z"
   },
   {
    "duration": 311,
    "start_time": "2022-01-24T10:20:38.236Z"
   },
   {
    "duration": 245,
    "start_time": "2022-01-24T10:20:53.673Z"
   },
   {
    "duration": 238,
    "start_time": "2022-01-24T10:21:02.155Z"
   },
   {
    "duration": 232,
    "start_time": "2022-01-24T10:22:21.070Z"
   },
   {
    "duration": 237,
    "start_time": "2022-01-24T10:22:29.299Z"
   },
   {
    "duration": 1014,
    "start_time": "2022-01-24T16:30:55.649Z"
   },
   {
    "duration": 15,
    "start_time": "2022-01-24T16:30:56.665Z"
   },
   {
    "duration": 17,
    "start_time": "2022-01-24T16:30:56.682Z"
   },
   {
    "duration": 12,
    "start_time": "2022-01-24T16:30:56.701Z"
   },
   {
    "duration": 4,
    "start_time": "2022-01-24T16:30:56.715Z"
   },
   {
    "duration": 12,
    "start_time": "2022-01-24T16:30:56.721Z"
   },
   {
    "duration": 11,
    "start_time": "2022-01-24T16:30:56.734Z"
   },
   {
    "duration": 8,
    "start_time": "2022-01-24T16:30:56.748Z"
   },
   {
    "duration": 19,
    "start_time": "2022-01-24T16:30:56.757Z"
   },
   {
    "duration": 54,
    "start_time": "2022-01-24T16:30:56.777Z"
   },
   {
    "duration": 3,
    "start_time": "2022-01-24T16:30:56.833Z"
   },
   {
    "duration": 10,
    "start_time": "2022-01-24T16:30:56.837Z"
   },
   {
    "duration": 16,
    "start_time": "2022-01-24T16:30:56.848Z"
   },
   {
    "duration": 9,
    "start_time": "2022-01-24T16:30:56.865Z"
   },
   {
    "duration": 8,
    "start_time": "2022-01-24T16:30:56.876Z"
   },
   {
    "duration": 8,
    "start_time": "2022-01-24T16:30:56.886Z"
   },
   {
    "duration": 13,
    "start_time": "2022-01-24T16:30:56.896Z"
   },
   {
    "duration": 8,
    "start_time": "2022-01-24T16:30:56.911Z"
   },
   {
    "duration": 12,
    "start_time": "2022-01-24T16:30:56.921Z"
   },
   {
    "duration": 10,
    "start_time": "2022-01-24T16:30:56.935Z"
   },
   {
    "duration": 185,
    "start_time": "2022-01-24T16:30:56.947Z"
   },
   {
    "duration": 11,
    "start_time": "2022-01-24T16:30:57.133Z"
   },
   {
    "duration": 14,
    "start_time": "2022-01-24T16:30:57.147Z"
   },
   {
    "duration": 263,
    "start_time": "2022-01-24T16:30:57.162Z"
   },
   {
    "duration": 244,
    "start_time": "2022-01-24T16:31:15.132Z"
   },
   {
    "duration": 10,
    "start_time": "2022-01-24T16:34:34.970Z"
   },
   {
    "duration": 209,
    "start_time": "2022-01-24T16:43:25.485Z"
   },
   {
    "duration": 215,
    "start_time": "2022-01-24T16:43:43.981Z"
   },
   {
    "duration": 231,
    "start_time": "2022-01-24T16:44:18.052Z"
   },
   {
    "duration": 254,
    "start_time": "2022-01-24T16:45:15.257Z"
   },
   {
    "duration": 258,
    "start_time": "2022-01-24T16:45:20.102Z"
   },
   {
    "duration": 1357,
    "start_time": "2022-01-24T19:07:40.242Z"
   },
   {
    "duration": 16,
    "start_time": "2022-01-24T19:07:41.601Z"
   },
   {
    "duration": 15,
    "start_time": "2022-01-24T19:07:41.620Z"
   },
   {
    "duration": 15,
    "start_time": "2022-01-24T19:07:41.638Z"
   },
   {
    "duration": 9,
    "start_time": "2022-01-24T19:07:41.655Z"
   },
   {
    "duration": 8,
    "start_time": "2022-01-24T19:07:41.667Z"
   },
   {
    "duration": 12,
    "start_time": "2022-01-24T19:07:41.678Z"
   },
   {
    "duration": 6,
    "start_time": "2022-01-24T19:07:41.694Z"
   },
   {
    "duration": 27,
    "start_time": "2022-01-24T19:07:41.704Z"
   },
   {
    "duration": 42,
    "start_time": "2022-01-24T19:07:41.734Z"
   },
   {
    "duration": 4,
    "start_time": "2022-01-24T19:07:41.778Z"
   },
   {
    "duration": 9,
    "start_time": "2022-01-24T19:07:41.784Z"
   },
   {
    "duration": 14,
    "start_time": "2022-01-24T19:07:41.795Z"
   },
   {
    "duration": 12,
    "start_time": "2022-01-24T19:07:41.811Z"
   },
   {
    "duration": 11,
    "start_time": "2022-01-24T19:07:41.825Z"
   },
   {
    "duration": 7,
    "start_time": "2022-01-24T19:07:41.838Z"
   },
   {
    "duration": 9,
    "start_time": "2022-01-24T19:07:41.848Z"
   },
   {
    "duration": 11,
    "start_time": "2022-01-24T19:07:41.860Z"
   },
   {
    "duration": 7,
    "start_time": "2022-01-24T19:07:41.873Z"
   },
   {
    "duration": 8,
    "start_time": "2022-01-24T19:07:41.882Z"
   },
   {
    "duration": 451,
    "start_time": "2022-01-24T19:07:41.892Z"
   },
   {
    "duration": 9,
    "start_time": "2022-01-24T19:07:42.345Z"
   },
   {
    "duration": 365,
    "start_time": "2022-01-24T19:07:42.358Z"
   },
   {
    "duration": 341,
    "start_time": "2022-01-24T19:07:42.726Z"
   },
   {
    "duration": 5,
    "start_time": "2022-01-24T19:11:51.744Z"
   },
   {
    "duration": 6,
    "start_time": "2022-01-24T19:12:15.580Z"
   },
   {
    "duration": 348,
    "start_time": "2022-01-24T19:12:22.679Z"
   },
   {
    "duration": 310,
    "start_time": "2022-01-24T19:12:52.487Z"
   },
   {
    "duration": 5,
    "start_time": "2022-01-24T19:14:07.073Z"
   },
   {
    "duration": 1256,
    "start_time": "2022-01-24T19:14:14.957Z"
   },
   {
    "duration": 16,
    "start_time": "2022-01-24T19:14:16.216Z"
   },
   {
    "duration": 19,
    "start_time": "2022-01-24T19:14:16.235Z"
   },
   {
    "duration": 6,
    "start_time": "2022-01-24T19:14:16.257Z"
   },
   {
    "duration": 7,
    "start_time": "2022-01-24T19:14:16.265Z"
   },
   {
    "duration": 8,
    "start_time": "2022-01-24T19:14:16.275Z"
   },
   {
    "duration": 40,
    "start_time": "2022-01-24T19:14:16.285Z"
   },
   {
    "duration": 11,
    "start_time": "2022-01-24T19:14:16.327Z"
   },
   {
    "duration": 15,
    "start_time": "2022-01-24T19:14:16.342Z"
   },
   {
    "duration": 45,
    "start_time": "2022-01-24T19:14:16.360Z"
   },
   {
    "duration": 4,
    "start_time": "2022-01-24T19:14:16.407Z"
   },
   {
    "duration": 11,
    "start_time": "2022-01-24T19:14:16.414Z"
   },
   {
    "duration": 18,
    "start_time": "2022-01-24T19:14:16.427Z"
   },
   {
    "duration": 10,
    "start_time": "2022-01-24T19:14:16.448Z"
   },
   {
    "duration": 9,
    "start_time": "2022-01-24T19:14:16.460Z"
   },
   {
    "duration": 7,
    "start_time": "2022-01-24T19:14:16.472Z"
   },
   {
    "duration": 43,
    "start_time": "2022-01-24T19:14:16.481Z"
   },
   {
    "duration": 8,
    "start_time": "2022-01-24T19:14:16.526Z"
   },
   {
    "duration": 7,
    "start_time": "2022-01-24T19:14:16.537Z"
   },
   {
    "duration": 7,
    "start_time": "2022-01-24T19:14:16.547Z"
   },
   {
    "duration": 317,
    "start_time": "2022-01-24T19:14:16.556Z"
   },
   {
    "duration": 8,
    "start_time": "2022-01-24T19:14:16.875Z"
   },
   {
    "duration": 509,
    "start_time": "2022-01-24T19:14:16.885Z"
   },
   {
    "duration": 6,
    "start_time": "2022-01-24T19:14:17.396Z"
   },
   {
    "duration": 321,
    "start_time": "2022-01-24T19:14:17.404Z"
   },
   {
    "duration": 137,
    "start_time": "2022-01-24T19:19:53.916Z"
   },
   {
    "duration": 14,
    "start_time": "2022-01-24T19:20:02.761Z"
   },
   {
    "duration": 35,
    "start_time": "2022-01-24T19:20:09.184Z"
   },
   {
    "duration": 17,
    "start_time": "2022-01-24T19:20:16.697Z"
   },
   {
    "duration": 257,
    "start_time": "2022-01-24T19:22:30.744Z"
   },
   {
    "duration": 113,
    "start_time": "2022-01-24T19:22:54.954Z"
   },
   {
    "duration": 709,
    "start_time": "2022-01-24T19:23:01.455Z"
   },
   {
    "duration": 273,
    "start_time": "2022-01-24T19:23:08.346Z"
   },
   {
    "duration": 303,
    "start_time": "2022-01-24T19:23:57.611Z"
   },
   {
    "duration": 296,
    "start_time": "2022-01-24T19:24:16.935Z"
   },
   {
    "duration": 452,
    "start_time": "2022-01-24T19:24:39.802Z"
   },
   {
    "duration": 1388,
    "start_time": "2022-01-25T08:15:12.749Z"
   },
   {
    "duration": 19,
    "start_time": "2022-01-25T08:15:14.139Z"
   },
   {
    "duration": 23,
    "start_time": "2022-01-25T08:15:14.162Z"
   },
   {
    "duration": 5,
    "start_time": "2022-01-25T08:15:14.188Z"
   },
   {
    "duration": 4,
    "start_time": "2022-01-25T08:15:14.196Z"
   },
   {
    "duration": 7,
    "start_time": "2022-01-25T08:15:14.203Z"
   },
   {
    "duration": 48,
    "start_time": "2022-01-25T08:15:14.212Z"
   },
   {
    "duration": 7,
    "start_time": "2022-01-25T08:15:14.265Z"
   },
   {
    "duration": 17,
    "start_time": "2022-01-25T08:15:14.274Z"
   },
   {
    "duration": 52,
    "start_time": "2022-01-25T08:15:14.293Z"
   },
   {
    "duration": 5,
    "start_time": "2022-01-25T08:15:14.347Z"
   },
   {
    "duration": 18,
    "start_time": "2022-01-25T08:15:14.354Z"
   },
   {
    "duration": 16,
    "start_time": "2022-01-25T08:15:14.374Z"
   },
   {
    "duration": 10,
    "start_time": "2022-01-25T08:15:14.392Z"
   },
   {
    "duration": 11,
    "start_time": "2022-01-25T08:15:14.405Z"
   },
   {
    "duration": 8,
    "start_time": "2022-01-25T08:15:14.418Z"
   },
   {
    "duration": 50,
    "start_time": "2022-01-25T08:15:14.428Z"
   },
   {
    "duration": 9,
    "start_time": "2022-01-25T08:15:14.480Z"
   },
   {
    "duration": 6,
    "start_time": "2022-01-25T08:15:14.491Z"
   },
   {
    "duration": 14,
    "start_time": "2022-01-25T08:15:14.500Z"
   },
   {
    "duration": 356,
    "start_time": "2022-01-25T08:15:14.516Z"
   },
   {
    "duration": 9,
    "start_time": "2022-01-25T08:15:14.875Z"
   },
   {
    "duration": 402,
    "start_time": "2022-01-25T08:15:14.888Z"
   },
   {
    "duration": 6,
    "start_time": "2022-01-25T08:15:15.293Z"
   },
   {
    "duration": 481,
    "start_time": "2022-01-25T08:15:15.302Z"
   },
   {
    "duration": 11,
    "start_time": "2022-01-25T08:15:15.786Z"
   },
   {
    "duration": 25,
    "start_time": "2022-01-25T08:15:15.799Z"
   },
   {
    "duration": 513,
    "start_time": "2022-01-25T08:15:15.826Z"
   },
   {
    "duration": 1898,
    "start_time": "2022-01-25T17:44:20.685Z"
   },
   {
    "duration": 20,
    "start_time": "2022-01-25T17:44:22.586Z"
   },
   {
    "duration": 24,
    "start_time": "2022-01-25T17:44:22.609Z"
   },
   {
    "duration": 9,
    "start_time": "2022-01-25T17:44:22.636Z"
   },
   {
    "duration": 16,
    "start_time": "2022-01-25T17:44:22.648Z"
   },
   {
    "duration": 31,
    "start_time": "2022-01-25T17:44:22.667Z"
   },
   {
    "duration": 19,
    "start_time": "2022-01-25T17:44:22.701Z"
   },
   {
    "duration": 15,
    "start_time": "2022-01-25T17:44:22.724Z"
   },
   {
    "duration": 36,
    "start_time": "2022-01-25T17:44:22.743Z"
   },
   {
    "duration": 75,
    "start_time": "2022-01-25T17:44:22.782Z"
   },
   {
    "duration": 14,
    "start_time": "2022-01-25T17:44:22.860Z"
   },
   {
    "duration": 18,
    "start_time": "2022-01-25T17:44:22.879Z"
   },
   {
    "duration": 14,
    "start_time": "2022-01-25T17:44:22.900Z"
   },
   {
    "duration": 14,
    "start_time": "2022-01-25T17:44:22.917Z"
   },
   {
    "duration": 45,
    "start_time": "2022-01-25T17:44:22.934Z"
   },
   {
    "duration": 14,
    "start_time": "2022-01-25T17:44:22.982Z"
   },
   {
    "duration": 11,
    "start_time": "2022-01-25T17:44:22.998Z"
   },
   {
    "duration": 13,
    "start_time": "2022-01-25T17:44:23.013Z"
   },
   {
    "duration": 43,
    "start_time": "2022-01-25T17:44:23.029Z"
   },
   {
    "duration": 16,
    "start_time": "2022-01-25T17:44:23.075Z"
   },
   {
    "duration": 399,
    "start_time": "2022-01-25T17:44:23.094Z"
   },
   {
    "duration": 12,
    "start_time": "2022-01-25T17:44:23.496Z"
   },
   {
    "duration": 419,
    "start_time": "2022-01-25T17:44:23.513Z"
   },
   {
    "duration": 7,
    "start_time": "2022-01-25T17:44:23.935Z"
   },
   {
    "duration": 394,
    "start_time": "2022-01-25T17:44:23.944Z"
   },
   {
    "duration": 12,
    "start_time": "2022-01-25T17:44:24.341Z"
   },
   {
    "duration": 28,
    "start_time": "2022-01-25T17:44:24.368Z"
   },
   {
    "duration": 541,
    "start_time": "2022-01-25T17:44:24.399Z"
   },
   {
    "duration": 393,
    "start_time": "2022-01-25T17:55:58.325Z"
   },
   {
    "duration": 256,
    "start_time": "2022-01-25T17:56:10.778Z"
   },
   {
    "duration": 15,
    "start_time": "2022-01-25T17:56:17.121Z"
   },
   {
    "duration": 17,
    "start_time": "2022-01-25T17:56:58.223Z"
   },
   {
    "duration": 9,
    "start_time": "2022-01-25T17:57:47.814Z"
   },
   {
    "duration": 265,
    "start_time": "2022-01-25T17:58:17.150Z"
   },
   {
    "duration": 10,
    "start_time": "2022-01-25T17:58:21.373Z"
   },
   {
    "duration": 19,
    "start_time": "2022-01-25T17:58:27.513Z"
   },
   {
    "duration": 15,
    "start_time": "2022-01-25T17:59:20.031Z"
   },
   {
    "duration": 10,
    "start_time": "2022-01-25T18:02:44.472Z"
   },
   {
    "duration": 243,
    "start_time": "2022-01-25T18:03:14.847Z"
   },
   {
    "duration": 5,
    "start_time": "2022-01-25T18:03:20.216Z"
   },
   {
    "duration": 8,
    "start_time": "2022-01-25T18:03:26.541Z"
   },
   {
    "duration": 20,
    "start_time": "2022-01-25T18:03:31.081Z"
   },
   {
    "duration": 297,
    "start_time": "2022-01-25T18:06:56.978Z"
   },
   {
    "duration": 5,
    "start_time": "2022-01-25T18:07:08.026Z"
   },
   {
    "duration": 283,
    "start_time": "2022-01-25T18:07:12.831Z"
   },
   {
    "duration": 241,
    "start_time": "2022-01-25T18:07:44.379Z"
   },
   {
    "duration": 6,
    "start_time": "2022-01-25T18:08:11.817Z"
   },
   {
    "duration": 24,
    "start_time": "2022-01-25T18:08:16.717Z"
   },
   {
    "duration": 7,
    "start_time": "2022-01-25T18:08:39.116Z"
   },
   {
    "duration": 19,
    "start_time": "2022-01-25T18:08:41.630Z"
   },
   {
    "duration": 7,
    "start_time": "2022-01-25T18:09:11.588Z"
   },
   {
    "duration": 454,
    "start_time": "2022-01-25T18:09:59.961Z"
   },
   {
    "duration": 328,
    "start_time": "2022-01-25T18:10:19.032Z"
   },
   {
    "duration": 360,
    "start_time": "2022-01-25T18:10:36.569Z"
   },
   {
    "duration": 351,
    "start_time": "2022-01-25T18:16:31.225Z"
   },
   {
    "duration": 329,
    "start_time": "2022-01-25T18:19:24.491Z"
   },
   {
    "duration": 975,
    "start_time": "2022-01-26T17:33:52.430Z"
   },
   {
    "duration": 16,
    "start_time": "2022-01-26T17:33:53.407Z"
   },
   {
    "duration": 10,
    "start_time": "2022-01-26T17:33:53.425Z"
   },
   {
    "duration": 4,
    "start_time": "2022-01-26T17:33:53.436Z"
   },
   {
    "duration": 4,
    "start_time": "2022-01-26T17:33:53.441Z"
   },
   {
    "duration": 5,
    "start_time": "2022-01-26T17:33:53.446Z"
   },
   {
    "duration": 8,
    "start_time": "2022-01-26T17:33:53.452Z"
   },
   {
    "duration": 4,
    "start_time": "2022-01-26T17:33:53.472Z"
   },
   {
    "duration": 10,
    "start_time": "2022-01-26T17:33:53.478Z"
   },
   {
    "duration": 49,
    "start_time": "2022-01-26T17:33:53.489Z"
   },
   {
    "duration": 3,
    "start_time": "2022-01-26T17:33:53.539Z"
   },
   {
    "duration": 7,
    "start_time": "2022-01-26T17:33:53.543Z"
   },
   {
    "duration": 7,
    "start_time": "2022-01-26T17:33:53.551Z"
   },
   {
    "duration": 8,
    "start_time": "2022-01-26T17:33:53.559Z"
   },
   {
    "duration": 10,
    "start_time": "2022-01-26T17:33:53.568Z"
   },
   {
    "duration": 6,
    "start_time": "2022-01-26T17:33:53.580Z"
   },
   {
    "duration": 8,
    "start_time": "2022-01-26T17:33:53.588Z"
   },
   {
    "duration": 9,
    "start_time": "2022-01-26T17:33:53.597Z"
   },
   {
    "duration": 9,
    "start_time": "2022-01-26T17:33:53.607Z"
   },
   {
    "duration": 8,
    "start_time": "2022-01-26T17:33:53.618Z"
   },
   {
    "duration": 170,
    "start_time": "2022-01-26T17:33:53.627Z"
   },
   {
    "duration": 6,
    "start_time": "2022-01-26T17:33:53.798Z"
   },
   {
    "duration": 209,
    "start_time": "2022-01-26T17:33:53.807Z"
   },
   {
    "duration": 5,
    "start_time": "2022-01-26T17:33:54.018Z"
   },
   {
    "duration": 205,
    "start_time": "2022-01-26T17:33:54.024Z"
   },
   {
    "duration": 6,
    "start_time": "2022-01-26T17:33:54.231Z"
   },
   {
    "duration": 13,
    "start_time": "2022-01-26T17:33:54.239Z"
   },
   {
    "duration": 331,
    "start_time": "2022-01-26T17:33:54.253Z"
   },
   {
    "duration": 147,
    "start_time": "2022-01-26T17:33:54.585Z"
   },
   {
    "duration": 5,
    "start_time": "2022-01-26T17:33:54.734Z"
   },
   {
    "duration": 7,
    "start_time": "2022-01-26T17:33:54.741Z"
   },
   {
    "duration": 6,
    "start_time": "2022-01-26T17:33:54.749Z"
   },
   {
    "duration": 17,
    "start_time": "2022-01-26T17:33:54.757Z"
   },
   {
    "duration": 205,
    "start_time": "2022-01-26T17:33:54.776Z"
   },
   {
    "duration": 352,
    "start_time": "2022-01-26T17:38:03.542Z"
   },
   {
    "duration": 193,
    "start_time": "2022-01-26T17:38:49.243Z"
   },
   {
    "duration": 342,
    "start_time": "2022-01-26T17:39:31.577Z"
   },
   {
    "duration": 3,
    "start_time": "2022-01-26T17:40:49.854Z"
   },
   {
    "duration": 12,
    "start_time": "2022-01-26T17:55:18.039Z"
   },
   {
    "duration": 13,
    "start_time": "2022-01-26T17:55:41.143Z"
   },
   {
    "duration": 5,
    "start_time": "2022-01-26T17:56:18.534Z"
   },
   {
    "duration": 7,
    "start_time": "2022-01-26T17:56:24.108Z"
   },
   {
    "duration": 7,
    "start_time": "2022-01-26T17:56:29.793Z"
   },
   {
    "duration": 4,
    "start_time": "2022-01-26T17:56:45.944Z"
   },
   {
    "duration": 4,
    "start_time": "2022-01-26T17:56:56.452Z"
   },
   {
    "duration": 155,
    "start_time": "2022-01-26T17:57:05.034Z"
   },
   {
    "duration": 270,
    "start_time": "2022-01-26T17:57:19.351Z"
   },
   {
    "duration": 5,
    "start_time": "2022-01-26T17:57:33.432Z"
   },
   {
    "duration": 274,
    "start_time": "2022-01-26T17:57:48.599Z"
   },
   {
    "duration": 158,
    "start_time": "2022-01-26T17:57:54.380Z"
   },
   {
    "duration": 5,
    "start_time": "2022-01-26T17:58:17.858Z"
   },
   {
    "duration": 9,
    "start_time": "2022-01-26T17:58:20.054Z"
   },
   {
    "duration": 274,
    "start_time": "2022-01-26T17:58:33.898Z"
   },
   {
    "duration": 87,
    "start_time": "2022-01-26T17:59:08.561Z"
   },
   {
    "duration": 300,
    "start_time": "2022-01-26T17:59:13.951Z"
   },
   {
    "duration": 299,
    "start_time": "2022-01-26T17:59:48.790Z"
   },
   {
    "duration": 345,
    "start_time": "2022-01-26T17:59:55.250Z"
   },
   {
    "duration": 319,
    "start_time": "2022-01-26T17:59:59.094Z"
   },
   {
    "duration": 300,
    "start_time": "2022-01-26T18:05:19.896Z"
   },
   {
    "duration": 5,
    "start_time": "2022-01-26T18:07:05.186Z"
   },
   {
    "duration": 5,
    "start_time": "2022-01-26T18:07:27.500Z"
   },
   {
    "duration": 4,
    "start_time": "2022-01-26T18:07:31.982Z"
   },
   {
    "duration": 12,
    "start_time": "2022-01-26T18:15:13.857Z"
   },
   {
    "duration": 251,
    "start_time": "2022-01-26T18:16:08.399Z"
   },
   {
    "duration": 284,
    "start_time": "2022-01-26T18:19:33.735Z"
   },
   {
    "duration": 290,
    "start_time": "2022-01-26T18:19:40.710Z"
   },
   {
    "duration": 314,
    "start_time": "2022-01-26T18:19:46.045Z"
   },
   {
    "duration": 6,
    "start_time": "2022-01-26T18:21:49.143Z"
   },
   {
    "duration": 6,
    "start_time": "2022-01-26T18:22:20.751Z"
   },
   {
    "duration": 502,
    "start_time": "2022-01-26T18:22:28.040Z"
   },
   {
    "duration": 6,
    "start_time": "2022-01-26T18:22:30.445Z"
   },
   {
    "duration": 2,
    "start_time": "2022-01-26T18:23:51.332Z"
   },
   {
    "duration": 2,
    "start_time": "2022-01-26T18:23:53.879Z"
   },
   {
    "duration": 4,
    "start_time": "2022-01-26T18:24:04.237Z"
   },
   {
    "duration": 4,
    "start_time": "2022-01-26T18:24:32.703Z"
   },
   {
    "duration": 1031,
    "start_time": "2022-01-27T08:31:42.585Z"
   },
   {
    "duration": 16,
    "start_time": "2022-01-27T08:31:43.618Z"
   },
   {
    "duration": 17,
    "start_time": "2022-01-27T08:31:43.637Z"
   },
   {
    "duration": 4,
    "start_time": "2022-01-27T08:31:43.657Z"
   },
   {
    "duration": 5,
    "start_time": "2022-01-27T08:31:43.662Z"
   },
   {
    "duration": 7,
    "start_time": "2022-01-27T08:31:43.668Z"
   },
   {
    "duration": 11,
    "start_time": "2022-01-27T08:31:43.677Z"
   },
   {
    "duration": 4,
    "start_time": "2022-01-27T08:31:43.691Z"
   },
   {
    "duration": 11,
    "start_time": "2022-01-27T08:31:43.697Z"
   },
   {
    "duration": 50,
    "start_time": "2022-01-27T08:31:43.710Z"
   },
   {
    "duration": 4,
    "start_time": "2022-01-27T08:31:43.762Z"
   },
   {
    "duration": 7,
    "start_time": "2022-01-27T08:31:43.768Z"
   },
   {
    "duration": 10,
    "start_time": "2022-01-27T08:31:43.776Z"
   },
   {
    "duration": 8,
    "start_time": "2022-01-27T08:31:43.788Z"
   },
   {
    "duration": 8,
    "start_time": "2022-01-27T08:31:43.797Z"
   },
   {
    "duration": 6,
    "start_time": "2022-01-27T08:31:43.806Z"
   },
   {
    "duration": 7,
    "start_time": "2022-01-27T08:31:43.813Z"
   },
   {
    "duration": 42,
    "start_time": "2022-01-27T08:31:43.821Z"
   },
   {
    "duration": 5,
    "start_time": "2022-01-27T08:31:43.865Z"
   },
   {
    "duration": 6,
    "start_time": "2022-01-27T08:31:43.872Z"
   },
   {
    "duration": 196,
    "start_time": "2022-01-27T08:31:43.879Z"
   },
   {
    "duration": 6,
    "start_time": "2022-01-27T08:31:44.077Z"
   },
   {
    "duration": 238,
    "start_time": "2022-01-27T08:31:44.086Z"
   },
   {
    "duration": 5,
    "start_time": "2022-01-27T08:31:44.326Z"
   },
   {
    "duration": 229,
    "start_time": "2022-01-27T08:31:44.333Z"
   },
   {
    "duration": 7,
    "start_time": "2022-01-27T08:31:44.564Z"
   },
   {
    "duration": 13,
    "start_time": "2022-01-27T08:31:44.572Z"
   },
   {
    "duration": 321,
    "start_time": "2022-01-27T08:31:44.587Z"
   },
   {
    "duration": 190,
    "start_time": "2022-01-27T08:31:44.910Z"
   },
   {
    "duration": 6,
    "start_time": "2022-01-27T08:31:45.101Z"
   },
   {
    "duration": 11,
    "start_time": "2022-01-27T08:31:45.108Z"
   },
   {
    "duration": 8,
    "start_time": "2022-01-27T08:31:45.120Z"
   },
   {
    "duration": 6,
    "start_time": "2022-01-27T08:31:45.130Z"
   },
   {
    "duration": 227,
    "start_time": "2022-01-27T08:31:45.138Z"
   },
   {
    "duration": 340,
    "start_time": "2022-01-27T08:31:45.367Z"
   },
   {
    "duration": 6,
    "start_time": "2022-01-27T08:31:45.710Z"
   },
   {
    "duration": 312,
    "start_time": "2022-01-27T08:31:45.718Z"
   },
   {
    "duration": 5,
    "start_time": "2022-01-27T08:31:46.033Z"
   },
   {
    "duration": 357,
    "start_time": "2022-01-27T08:31:46.040Z"
   },
   {
    "duration": 7,
    "start_time": "2022-01-27T08:31:46.399Z"
   },
   {
    "duration": 18,
    "start_time": "2022-01-27T08:31:46.408Z"
   },
   {
    "duration": 1070,
    "start_time": "2022-01-27T10:06:53.952Z"
   },
   {
    "duration": 17,
    "start_time": "2022-01-27T10:06:55.024Z"
   },
   {
    "duration": 17,
    "start_time": "2022-01-27T10:06:55.046Z"
   },
   {
    "duration": 20,
    "start_time": "2022-01-27T10:06:55.065Z"
   },
   {
    "duration": 9,
    "start_time": "2022-01-27T10:06:55.087Z"
   },
   {
    "duration": 17,
    "start_time": "2022-01-27T10:06:55.098Z"
   },
   {
    "duration": 16,
    "start_time": "2022-01-27T10:06:55.118Z"
   },
   {
    "duration": 12,
    "start_time": "2022-01-27T10:06:55.136Z"
   },
   {
    "duration": 29,
    "start_time": "2022-01-27T10:06:55.150Z"
   },
   {
    "duration": 64,
    "start_time": "2022-01-27T10:06:55.180Z"
   },
   {
    "duration": 11,
    "start_time": "2022-01-27T10:06:55.245Z"
   },
   {
    "duration": 25,
    "start_time": "2022-01-27T10:06:55.258Z"
   },
   {
    "duration": 36,
    "start_time": "2022-01-27T10:06:55.284Z"
   },
   {
    "duration": 19,
    "start_time": "2022-01-27T10:06:55.322Z"
   },
   {
    "duration": 23,
    "start_time": "2022-01-27T10:06:55.343Z"
   },
   {
    "duration": 17,
    "start_time": "2022-01-27T10:06:55.368Z"
   },
   {
    "duration": 10,
    "start_time": "2022-01-27T10:06:55.386Z"
   },
   {
    "duration": 26,
    "start_time": "2022-01-27T10:06:55.397Z"
   },
   {
    "duration": 14,
    "start_time": "2022-01-27T10:06:55.424Z"
   },
   {
    "duration": 22,
    "start_time": "2022-01-27T10:06:55.440Z"
   },
   {
    "duration": 196,
    "start_time": "2022-01-27T10:06:55.463Z"
   },
   {
    "duration": 6,
    "start_time": "2022-01-27T10:06:55.662Z"
   },
   {
    "duration": 238,
    "start_time": "2022-01-27T10:06:55.670Z"
   },
   {
    "duration": 5,
    "start_time": "2022-01-27T10:06:55.909Z"
   },
   {
    "duration": 239,
    "start_time": "2022-01-27T10:06:55.916Z"
   },
   {
    "duration": 7,
    "start_time": "2022-01-27T10:06:56.160Z"
   },
   {
    "duration": 33,
    "start_time": "2022-01-27T10:06:56.169Z"
   },
   {
    "duration": 297,
    "start_time": "2022-01-27T10:06:56.204Z"
   },
   {
    "duration": 167,
    "start_time": "2022-01-27T10:06:56.503Z"
   },
   {
    "duration": 32,
    "start_time": "2022-01-27T10:06:56.672Z"
   },
   {
    "duration": 26,
    "start_time": "2022-01-27T10:06:56.705Z"
   },
   {
    "duration": 12,
    "start_time": "2022-01-27T10:06:56.733Z"
   },
   {
    "duration": 24,
    "start_time": "2022-01-27T10:06:56.746Z"
   },
   {
    "duration": 226,
    "start_time": "2022-01-27T10:06:56.772Z"
   },
   {
    "duration": 304,
    "start_time": "2022-01-27T10:06:57.000Z"
   },
   {
    "duration": 5,
    "start_time": "2022-01-27T10:06:57.306Z"
   },
   {
    "duration": 350,
    "start_time": "2022-01-27T10:06:57.313Z"
   },
   {
    "duration": 4,
    "start_time": "2022-01-27T10:06:57.665Z"
   },
   {
    "duration": 323,
    "start_time": "2022-01-27T10:06:57.670Z"
   },
   {
    "duration": 7,
    "start_time": "2022-01-27T10:06:57.995Z"
   },
   {
    "duration": 26,
    "start_time": "2022-01-27T10:06:58.004Z"
   },
   {
    "duration": 5,
    "start_time": "2022-01-27T10:18:03.604Z"
   },
   {
    "duration": 9,
    "start_time": "2022-01-27T10:18:41.349Z"
   },
   {
    "duration": 6,
    "start_time": "2022-01-27T10:19:57.443Z"
   },
   {
    "duration": 8,
    "start_time": "2022-01-27T10:20:00.585Z"
   },
   {
    "duration": 13,
    "start_time": "2022-01-27T10:37:38.493Z"
   },
   {
    "duration": 6,
    "start_time": "2022-01-27T10:44:47.114Z"
   },
   {
    "duration": 12,
    "start_time": "2022-01-27T10:44:53.846Z"
   },
   {
    "duration": 5291,
    "start_time": "2022-01-27T10:46:51.832Z"
   },
   {
    "duration": 6,
    "start_time": "2022-01-27T10:46:57.236Z"
   },
   {
    "duration": 7,
    "start_time": "2022-01-27T10:46:58.738Z"
   },
   {
    "duration": 10,
    "start_time": "2022-01-27T10:47:00.016Z"
   },
   {
    "duration": 7,
    "start_time": "2022-01-27T10:47:25.613Z"
   },
   {
    "duration": 12,
    "start_time": "2022-01-27T10:52:40.448Z"
   },
   {
    "duration": 5862,
    "start_time": "2022-01-27T10:53:02.398Z"
   },
   {
    "duration": 11,
    "start_time": "2022-01-27T10:53:29.028Z"
   },
   {
    "duration": 9,
    "start_time": "2022-01-27T11:05:49.881Z"
   },
   {
    "duration": 11,
    "start_time": "2022-01-27T11:06:24.705Z"
   },
   {
    "duration": 9,
    "start_time": "2022-01-27T11:06:33.074Z"
   },
   {
    "duration": 18,
    "start_time": "2022-01-27T11:12:53.604Z"
   },
   {
    "duration": 11,
    "start_time": "2022-01-27T11:14:23.427Z"
   },
   {
    "duration": 7,
    "start_time": "2022-01-27T11:15:21.050Z"
   },
   {
    "duration": 9,
    "start_time": "2022-01-27T11:15:31.167Z"
   },
   {
    "duration": 7,
    "start_time": "2022-01-27T11:16:31.902Z"
   },
   {
    "duration": 10,
    "start_time": "2022-01-27T11:16:36.671Z"
   },
   {
    "duration": 22,
    "start_time": "2022-01-27T11:17:09.536Z"
   },
   {
    "duration": 16,
    "start_time": "2022-01-27T11:17:20.405Z"
   },
   {
    "duration": 14,
    "start_time": "2022-01-27T11:18:21.788Z"
   },
   {
    "duration": 9,
    "start_time": "2022-01-27T11:20:14.482Z"
   },
   {
    "duration": 567,
    "start_time": "2022-01-27T11:33:27.187Z"
   },
   {
    "duration": 461,
    "start_time": "2022-01-27T11:33:39.481Z"
   },
   {
    "duration": 249,
    "start_time": "2022-01-27T11:33:54.439Z"
   },
   {
    "duration": 218,
    "start_time": "2022-01-27T11:34:18.115Z"
   },
   {
    "duration": 1180,
    "start_time": "2022-01-27T11:34:49.632Z"
   },
   {
    "duration": 19,
    "start_time": "2022-01-27T11:34:50.814Z"
   },
   {
    "duration": 24,
    "start_time": "2022-01-27T11:34:50.835Z"
   },
   {
    "duration": 5,
    "start_time": "2022-01-27T11:34:50.862Z"
   },
   {
    "duration": 5,
    "start_time": "2022-01-27T11:34:50.868Z"
   },
   {
    "duration": 6,
    "start_time": "2022-01-27T11:34:50.875Z"
   },
   {
    "duration": 11,
    "start_time": "2022-01-27T11:34:50.883Z"
   },
   {
    "duration": 5,
    "start_time": "2022-01-27T11:34:50.897Z"
   },
   {
    "duration": 12,
    "start_time": "2022-01-27T11:34:50.904Z"
   },
   {
    "duration": 54,
    "start_time": "2022-01-27T11:34:50.917Z"
   },
   {
    "duration": 3,
    "start_time": "2022-01-27T11:34:50.973Z"
   },
   {
    "duration": 11,
    "start_time": "2022-01-27T11:34:50.978Z"
   },
   {
    "duration": 14,
    "start_time": "2022-01-27T11:34:50.991Z"
   },
   {
    "duration": 9,
    "start_time": "2022-01-27T11:34:51.006Z"
   },
   {
    "duration": 15,
    "start_time": "2022-01-27T11:34:51.017Z"
   },
   {
    "duration": 7,
    "start_time": "2022-01-27T11:34:51.033Z"
   },
   {
    "duration": 19,
    "start_time": "2022-01-27T11:34:51.042Z"
   },
   {
    "duration": 7,
    "start_time": "2022-01-27T11:34:51.063Z"
   },
   {
    "duration": 13,
    "start_time": "2022-01-27T11:34:51.071Z"
   },
   {
    "duration": 9,
    "start_time": "2022-01-27T11:34:51.085Z"
   },
   {
    "duration": 203,
    "start_time": "2022-01-27T11:34:51.096Z"
   },
   {
    "duration": 6,
    "start_time": "2022-01-27T11:34:51.301Z"
   },
   {
    "duration": 226,
    "start_time": "2022-01-27T11:34:51.311Z"
   },
   {
    "duration": 5,
    "start_time": "2022-01-27T11:34:51.539Z"
   },
   {
    "duration": 274,
    "start_time": "2022-01-27T11:34:51.545Z"
   },
   {
    "duration": 11,
    "start_time": "2022-01-27T11:34:51.821Z"
   },
   {
    "duration": 35,
    "start_time": "2022-01-27T11:34:51.834Z"
   },
   {
    "duration": 356,
    "start_time": "2022-01-27T11:34:51.871Z"
   },
   {
    "duration": 176,
    "start_time": "2022-01-27T11:34:52.229Z"
   },
   {
    "duration": 7,
    "start_time": "2022-01-27T11:34:52.408Z"
   },
   {
    "duration": 7,
    "start_time": "2022-01-27T11:34:52.417Z"
   },
   {
    "duration": 8,
    "start_time": "2022-01-27T11:34:52.425Z"
   },
   {
    "duration": 27,
    "start_time": "2022-01-27T11:34:52.434Z"
   },
   {
    "duration": 234,
    "start_time": "2022-01-27T11:34:52.463Z"
   },
   {
    "duration": 332,
    "start_time": "2022-01-27T11:34:52.699Z"
   },
   {
    "duration": 6,
    "start_time": "2022-01-27T11:34:53.034Z"
   },
   {
    "duration": 391,
    "start_time": "2022-01-27T11:34:53.042Z"
   },
   {
    "duration": 5,
    "start_time": "2022-01-27T11:34:53.435Z"
   },
   {
    "duration": 360,
    "start_time": "2022-01-27T11:34:53.442Z"
   },
   {
    "duration": 8,
    "start_time": "2022-01-27T11:34:53.804Z"
   },
   {
    "duration": 5,
    "start_time": "2022-01-27T11:34:53.813Z"
   },
   {
    "duration": 6,
    "start_time": "2022-01-27T11:34:53.820Z"
   },
   {
    "duration": 11,
    "start_time": "2022-01-27T11:34:53.827Z"
   },
   {
    "duration": 21,
    "start_time": "2022-01-27T11:34:53.840Z"
   },
   {
    "duration": 11,
    "start_time": "2022-01-27T11:34:53.863Z"
   },
   {
    "duration": 14,
    "start_time": "2022-01-27T11:34:53.876Z"
   },
   {
    "duration": 13,
    "start_time": "2022-01-27T11:34:53.892Z"
   },
   {
    "duration": 7,
    "start_time": "2022-01-27T11:34:53.906Z"
   },
   {
    "duration": 9,
    "start_time": "2022-01-27T11:34:53.915Z"
   },
   {
    "duration": 47,
    "start_time": "2022-01-27T11:34:53.926Z"
   },
   {
    "duration": 11,
    "start_time": "2022-01-27T11:34:53.975Z"
   },
   {
    "duration": 300,
    "start_time": "2022-01-27T11:34:53.987Z"
   },
   {
    "duration": 8,
    "start_time": "2022-01-27T11:35:33.428Z"
   },
   {
    "duration": 9,
    "start_time": "2022-01-27T11:35:57.425Z"
   },
   {
    "duration": 9,
    "start_time": "2022-01-27T11:36:02.898Z"
   },
   {
    "duration": 10,
    "start_time": "2022-01-27T11:45:33.555Z"
   },
   {
    "duration": 9,
    "start_time": "2022-01-27T11:45:42.996Z"
   },
   {
    "duration": 5,
    "start_time": "2022-01-27T11:46:06.337Z"
   },
   {
    "duration": 9,
    "start_time": "2022-01-27T11:46:32.539Z"
   },
   {
    "duration": 17,
    "start_time": "2022-01-27T11:47:05.935Z"
   },
   {
    "duration": 204,
    "start_time": "2022-01-27T11:47:33.445Z"
   },
   {
    "duration": 16,
    "start_time": "2022-01-27T11:47:37.505Z"
   },
   {
    "duration": 7,
    "start_time": "2022-01-27T11:48:11.170Z"
   },
   {
    "duration": 7,
    "start_time": "2022-01-27T11:48:19.768Z"
   },
   {
    "duration": 12,
    "start_time": "2022-01-27T11:48:45.426Z"
   },
   {
    "duration": 12,
    "start_time": "2022-01-27T11:49:26.340Z"
   },
   {
    "duration": 7,
    "start_time": "2022-01-27T11:49:41.518Z"
   },
   {
    "duration": 10,
    "start_time": "2022-01-27T11:50:06.543Z"
   },
   {
    "duration": 5,
    "start_time": "2022-01-27T11:59:48.248Z"
   },
   {
    "duration": 5,
    "start_time": "2022-01-27T12:00:04.199Z"
   },
   {
    "duration": 4,
    "start_time": "2022-01-27T12:00:28.159Z"
   },
   {
    "duration": 5,
    "start_time": "2022-01-27T12:00:30.724Z"
   },
   {
    "duration": 193,
    "start_time": "2022-01-27T12:10:22.565Z"
   },
   {
    "duration": 198,
    "start_time": "2022-01-27T12:10:35.761Z"
   },
   {
    "duration": 4,
    "start_time": "2022-01-27T12:11:00.804Z"
   },
   {
    "duration": 8,
    "start_time": "2022-01-27T12:11:07.229Z"
   },
   {
    "duration": 7,
    "start_time": "2022-01-27T12:11:22.926Z"
   },
   {
    "duration": 5,
    "start_time": "2022-01-27T12:12:46.723Z"
   },
   {
    "duration": 7,
    "start_time": "2022-01-27T12:16:37.208Z"
   },
   {
    "duration": 8,
    "start_time": "2022-01-27T12:16:41.366Z"
   },
   {
    "duration": 8,
    "start_time": "2022-01-27T12:16:44.416Z"
   },
   {
    "duration": 5,
    "start_time": "2022-01-27T12:16:55.750Z"
   },
   {
    "duration": 5,
    "start_time": "2022-01-27T12:16:58.429Z"
   },
   {
    "duration": 5,
    "start_time": "2022-01-27T12:17:01.248Z"
   },
   {
    "duration": 1007,
    "start_time": "2022-01-27T12:22:49.520Z"
   },
   {
    "duration": 17,
    "start_time": "2022-01-27T12:22:50.529Z"
   },
   {
    "duration": 46,
    "start_time": "2022-01-27T12:22:50.548Z"
   },
   {
    "duration": 42,
    "start_time": "2022-01-27T12:22:50.596Z"
   },
   {
    "duration": 23,
    "start_time": "2022-01-27T12:22:50.640Z"
   },
   {
    "duration": 22,
    "start_time": "2022-01-27T12:22:50.665Z"
   },
   {
    "duration": 33,
    "start_time": "2022-01-27T12:22:50.689Z"
   },
   {
    "duration": 45,
    "start_time": "2022-01-27T12:22:50.724Z"
   },
   {
    "duration": 40,
    "start_time": "2022-01-27T12:22:50.771Z"
   },
   {
    "duration": 63,
    "start_time": "2022-01-27T12:22:50.813Z"
   },
   {
    "duration": 7,
    "start_time": "2022-01-27T12:22:50.878Z"
   },
   {
    "duration": 10,
    "start_time": "2022-01-27T12:22:50.887Z"
   },
   {
    "duration": 9,
    "start_time": "2022-01-27T12:22:50.899Z"
   },
   {
    "duration": 9,
    "start_time": "2022-01-27T12:22:50.910Z"
   },
   {
    "duration": 26,
    "start_time": "2022-01-27T12:22:50.921Z"
   },
   {
    "duration": 15,
    "start_time": "2022-01-27T12:22:50.949Z"
   },
   {
    "duration": 13,
    "start_time": "2022-01-27T12:22:50.966Z"
   },
   {
    "duration": 9,
    "start_time": "2022-01-27T12:22:50.980Z"
   },
   {
    "duration": 17,
    "start_time": "2022-01-27T12:22:50.991Z"
   },
   {
    "duration": 8,
    "start_time": "2022-01-27T12:22:51.011Z"
   },
   {
    "duration": 193,
    "start_time": "2022-01-27T12:22:51.020Z"
   },
   {
    "duration": 6,
    "start_time": "2022-01-27T12:22:51.215Z"
   },
   {
    "duration": 225,
    "start_time": "2022-01-27T12:22:51.224Z"
   },
   {
    "duration": 4,
    "start_time": "2022-01-27T12:22:51.451Z"
   },
   {
    "duration": 222,
    "start_time": "2022-01-27T12:22:51.456Z"
   },
   {
    "duration": 8,
    "start_time": "2022-01-27T12:22:51.681Z"
   },
   {
    "duration": 26,
    "start_time": "2022-01-27T12:22:51.691Z"
   },
   {
    "duration": 330,
    "start_time": "2022-01-27T12:22:51.719Z"
   },
   {
    "duration": 166,
    "start_time": "2022-01-27T12:22:52.051Z"
   },
   {
    "duration": 5,
    "start_time": "2022-01-27T12:22:52.219Z"
   },
   {
    "duration": 16,
    "start_time": "2022-01-27T12:22:52.226Z"
   },
   {
    "duration": 9,
    "start_time": "2022-01-27T12:22:52.243Z"
   },
   {
    "duration": 16,
    "start_time": "2022-01-27T12:22:52.254Z"
   },
   {
    "duration": 230,
    "start_time": "2022-01-27T12:22:52.272Z"
   },
   {
    "duration": 321,
    "start_time": "2022-01-27T12:22:52.504Z"
   },
   {
    "duration": 5,
    "start_time": "2022-01-27T12:22:52.827Z"
   },
   {
    "duration": 351,
    "start_time": "2022-01-27T12:22:52.833Z"
   },
   {
    "duration": 5,
    "start_time": "2022-01-27T12:22:53.185Z"
   },
   {
    "duration": 405,
    "start_time": "2022-01-27T12:22:53.191Z"
   },
   {
    "duration": 6,
    "start_time": "2022-01-27T12:22:53.598Z"
   },
   {
    "duration": 9,
    "start_time": "2022-01-27T12:22:53.605Z"
   },
   {
    "duration": 7,
    "start_time": "2022-01-27T12:22:53.616Z"
   },
   {
    "duration": 6,
    "start_time": "2022-01-27T12:22:53.625Z"
   },
   {
    "duration": 7,
    "start_time": "2022-01-27T12:22:53.633Z"
   },
   {
    "duration": 25,
    "start_time": "2022-01-27T12:22:53.642Z"
   },
   {
    "duration": 12,
    "start_time": "2022-01-27T12:22:53.669Z"
   },
   {
    "duration": 9,
    "start_time": "2022-01-27T12:22:53.683Z"
   },
   {
    "duration": 6,
    "start_time": "2022-01-27T12:22:53.694Z"
   },
   {
    "duration": 8,
    "start_time": "2022-01-27T12:22:53.701Z"
   },
   {
    "duration": 21,
    "start_time": "2022-01-27T12:22:53.710Z"
   },
   {
    "duration": 31,
    "start_time": "2022-01-27T12:22:53.733Z"
   },
   {
    "duration": 7,
    "start_time": "2022-01-27T12:22:53.766Z"
   },
   {
    "duration": 6,
    "start_time": "2022-01-27T12:22:53.775Z"
   },
   {
    "duration": 4,
    "start_time": "2022-01-27T12:22:53.783Z"
   },
   {
    "duration": 5,
    "start_time": "2022-01-27T12:22:53.789Z"
   },
   {
    "duration": 9,
    "start_time": "2022-01-27T12:22:53.795Z"
   },
   {
    "duration": 4,
    "start_time": "2022-01-27T12:22:53.805Z"
   },
   {
    "duration": 1010,
    "start_time": "2022-01-27T16:08:51.942Z"
   },
   {
    "duration": 17,
    "start_time": "2022-01-27T16:08:52.954Z"
   },
   {
    "duration": 13,
    "start_time": "2022-01-27T16:08:52.973Z"
   },
   {
    "duration": 4,
    "start_time": "2022-01-27T16:08:52.988Z"
   },
   {
    "duration": 5,
    "start_time": "2022-01-27T16:08:52.997Z"
   },
   {
    "duration": 9,
    "start_time": "2022-01-27T16:08:53.003Z"
   },
   {
    "duration": 15,
    "start_time": "2022-01-27T16:08:53.013Z"
   },
   {
    "duration": 5,
    "start_time": "2022-01-27T16:08:53.030Z"
   },
   {
    "duration": 13,
    "start_time": "2022-01-27T16:08:53.037Z"
   },
   {
    "duration": 51,
    "start_time": "2022-01-27T16:08:53.051Z"
   },
   {
    "duration": 3,
    "start_time": "2022-01-27T16:08:53.103Z"
   },
   {
    "duration": 10,
    "start_time": "2022-01-27T16:08:53.108Z"
   },
   {
    "duration": 11,
    "start_time": "2022-01-27T16:08:53.119Z"
   },
   {
    "duration": 8,
    "start_time": "2022-01-27T16:08:53.132Z"
   },
   {
    "duration": 10,
    "start_time": "2022-01-27T16:08:53.142Z"
   },
   {
    "duration": 6,
    "start_time": "2022-01-27T16:08:53.154Z"
   },
   {
    "duration": 10,
    "start_time": "2022-01-27T16:08:53.162Z"
   },
   {
    "duration": 24,
    "start_time": "2022-01-27T16:08:53.174Z"
   },
   {
    "duration": 5,
    "start_time": "2022-01-27T16:08:53.200Z"
   },
   {
    "duration": 7,
    "start_time": "2022-01-27T16:08:53.207Z"
   },
   {
    "duration": 201,
    "start_time": "2022-01-27T16:08:53.215Z"
   },
   {
    "duration": 5,
    "start_time": "2022-01-27T16:08:53.418Z"
   },
   {
    "duration": 232,
    "start_time": "2022-01-27T16:08:53.427Z"
   },
   {
    "duration": 4,
    "start_time": "2022-01-27T16:08:53.662Z"
   },
   {
    "duration": 229,
    "start_time": "2022-01-27T16:08:53.668Z"
   },
   {
    "duration": 7,
    "start_time": "2022-01-27T16:08:53.899Z"
   },
   {
    "duration": 19,
    "start_time": "2022-01-27T16:08:53.907Z"
   },
   {
    "duration": 320,
    "start_time": "2022-01-27T16:08:53.928Z"
   },
   {
    "duration": 154,
    "start_time": "2022-01-27T16:08:54.250Z"
   },
   {
    "duration": 5,
    "start_time": "2022-01-27T16:08:54.406Z"
   },
   {
    "duration": 13,
    "start_time": "2022-01-27T16:08:54.413Z"
   },
   {
    "duration": 10,
    "start_time": "2022-01-27T16:08:54.427Z"
   },
   {
    "duration": 7,
    "start_time": "2022-01-27T16:08:54.438Z"
   },
   {
    "duration": 229,
    "start_time": "2022-01-27T16:08:54.446Z"
   },
   {
    "duration": 355,
    "start_time": "2022-01-27T16:08:54.677Z"
   },
   {
    "duration": 7,
    "start_time": "2022-01-27T16:08:55.034Z"
   },
   {
    "duration": 300,
    "start_time": "2022-01-27T16:08:55.042Z"
   },
   {
    "duration": 5,
    "start_time": "2022-01-27T16:08:55.345Z"
   },
   {
    "duration": 310,
    "start_time": "2022-01-27T16:08:55.352Z"
   },
   {
    "duration": 7,
    "start_time": "2022-01-27T16:08:55.664Z"
   },
   {
    "duration": 7,
    "start_time": "2022-01-27T16:08:55.673Z"
   },
   {
    "duration": 6,
    "start_time": "2022-01-27T16:08:55.697Z"
   },
   {
    "duration": 8,
    "start_time": "2022-01-27T16:08:55.704Z"
   },
   {
    "duration": 9,
    "start_time": "2022-01-27T16:08:55.713Z"
   },
   {
    "duration": 13,
    "start_time": "2022-01-27T16:08:55.724Z"
   },
   {
    "duration": 16,
    "start_time": "2022-01-27T16:08:55.738Z"
   },
   {
    "duration": 13,
    "start_time": "2022-01-27T16:08:55.755Z"
   },
   {
    "duration": 7,
    "start_time": "2022-01-27T16:08:55.770Z"
   },
   {
    "duration": 29,
    "start_time": "2022-01-27T16:08:55.778Z"
   },
   {
    "duration": 28,
    "start_time": "2022-01-27T16:08:55.809Z"
   },
   {
    "duration": 12,
    "start_time": "2022-01-27T16:08:55.838Z"
   },
   {
    "duration": 8,
    "start_time": "2022-01-27T16:08:55.852Z"
   },
   {
    "duration": 7,
    "start_time": "2022-01-27T16:08:55.862Z"
   },
   {
    "duration": 26,
    "start_time": "2022-01-27T16:08:55.871Z"
   },
   {
    "duration": 6,
    "start_time": "2022-01-27T16:08:55.899Z"
   },
   {
    "duration": 9,
    "start_time": "2022-01-27T16:08:55.907Z"
   },
   {
    "duration": 4,
    "start_time": "2022-01-27T16:08:55.918Z"
   },
   {
    "duration": 40,
    "start_time": "2022-01-27T16:12:30.666Z"
   },
   {
    "duration": 40,
    "start_time": "2022-01-27T16:12:32.573Z"
   },
   {
    "duration": 45,
    "start_time": "2022-01-27T16:12:37.023Z"
   },
   {
    "duration": 48,
    "start_time": "2022-01-27T16:12:48.275Z"
   },
   {
    "duration": 42,
    "start_time": "2022-01-27T16:13:10.620Z"
   },
   {
    "duration": 8,
    "start_time": "2022-01-27T16:13:34.751Z"
   },
   {
    "duration": 46,
    "start_time": "2022-01-27T16:13:43.227Z"
   },
   {
    "duration": 8,
    "start_time": "2022-01-27T16:13:45.715Z"
   },
   {
    "duration": 8,
    "start_time": "2022-01-27T16:14:14.962Z"
   },
   {
    "duration": 8,
    "start_time": "2022-01-27T16:16:36.838Z"
   },
   {
    "duration": 9,
    "start_time": "2022-01-27T16:16:39.839Z"
   },
   {
    "duration": 9,
    "start_time": "2022-01-27T16:36:30.438Z"
   },
   {
    "duration": 6,
    "start_time": "2022-01-27T16:36:44.311Z"
   },
   {
    "duration": 6,
    "start_time": "2022-01-27T16:37:28.939Z"
   },
   {
    "duration": 5,
    "start_time": "2022-01-27T16:37:37.860Z"
   },
   {
    "duration": 5,
    "start_time": "2022-01-27T16:37:47.974Z"
   },
   {
    "duration": 5,
    "start_time": "2022-01-27T16:37:50.092Z"
   },
   {
    "duration": 6,
    "start_time": "2022-01-27T16:40:16.861Z"
   },
   {
    "duration": 5,
    "start_time": "2022-01-27T16:40:20.703Z"
   },
   {
    "duration": 3193,
    "start_time": "2022-01-27T16:40:54.417Z"
   },
   {
    "duration": 3572,
    "start_time": "2022-01-27T16:41:12.450Z"
   },
   {
    "duration": 5,
    "start_time": "2022-01-27T16:41:19.718Z"
   },
   {
    "duration": 5,
    "start_time": "2022-01-27T16:41:27.202Z"
   },
   {
    "duration": 14,
    "start_time": "2022-01-27T16:42:22.161Z"
   },
   {
    "duration": 4,
    "start_time": "2022-01-27T16:42:37.431Z"
   },
   {
    "duration": 5,
    "start_time": "2022-01-27T16:42:45.537Z"
   },
   {
    "duration": 4,
    "start_time": "2022-01-27T16:42:47.195Z"
   },
   {
    "duration": 5,
    "start_time": "2022-01-27T16:43:11.642Z"
   },
   {
    "duration": 5,
    "start_time": "2022-01-27T16:43:20.203Z"
   },
   {
    "duration": 193,
    "start_time": "2022-01-27T16:43:28.305Z"
   },
   {
    "duration": 8,
    "start_time": "2022-01-27T16:43:35.956Z"
   },
   {
    "duration": 4,
    "start_time": "2022-01-27T16:43:48.029Z"
   },
   {
    "duration": 43,
    "start_time": "2022-01-27T16:50:55.971Z"
   },
   {
    "duration": 7,
    "start_time": "2022-01-27T16:53:25.478Z"
   },
   {
    "duration": 6,
    "start_time": "2022-01-27T16:53:37.414Z"
   },
   {
    "duration": 6,
    "start_time": "2022-01-27T16:57:38.881Z"
   },
   {
    "duration": 47,
    "start_time": "2022-01-27T16:58:11.912Z"
   },
   {
    "duration": 8,
    "start_time": "2022-01-27T16:58:30.265Z"
   },
   {
    "duration": 7,
    "start_time": "2022-01-27T16:58:35.275Z"
   },
   {
    "duration": 5,
    "start_time": "2022-01-27T16:58:39.000Z"
   },
   {
    "duration": 10,
    "start_time": "2022-01-27T17:08:46.263Z"
   },
   {
    "duration": 47,
    "start_time": "2022-01-27T17:08:58.893Z"
   },
   {
    "duration": 9,
    "start_time": "2022-01-27T17:09:09.148Z"
   },
   {
    "duration": 9,
    "start_time": "2022-01-27T17:10:28.236Z"
   },
   {
    "duration": 1063,
    "start_time": "2022-01-27T17:58:21.503Z"
   },
   {
    "duration": 17,
    "start_time": "2022-01-27T17:58:22.568Z"
   },
   {
    "duration": 17,
    "start_time": "2022-01-27T17:58:22.588Z"
   },
   {
    "duration": 14,
    "start_time": "2022-01-27T17:58:22.607Z"
   },
   {
    "duration": 6,
    "start_time": "2022-01-27T17:58:22.623Z"
   },
   {
    "duration": 8,
    "start_time": "2022-01-27T17:58:22.630Z"
   },
   {
    "duration": 12,
    "start_time": "2022-01-27T17:58:22.639Z"
   },
   {
    "duration": 6,
    "start_time": "2022-01-27T17:58:22.654Z"
   },
   {
    "duration": 15,
    "start_time": "2022-01-27T17:58:22.662Z"
   },
   {
    "duration": 61,
    "start_time": "2022-01-27T17:58:22.678Z"
   },
   {
    "duration": 4,
    "start_time": "2022-01-27T17:58:22.741Z"
   },
   {
    "duration": 9,
    "start_time": "2022-01-27T17:58:22.746Z"
   },
   {
    "duration": 10,
    "start_time": "2022-01-27T17:58:22.757Z"
   },
   {
    "duration": 7,
    "start_time": "2022-01-27T17:58:22.769Z"
   },
   {
    "duration": 10,
    "start_time": "2022-01-27T17:58:22.778Z"
   },
   {
    "duration": 5,
    "start_time": "2022-01-27T17:58:22.790Z"
   },
   {
    "duration": 8,
    "start_time": "2022-01-27T17:58:22.796Z"
   },
   {
    "duration": 8,
    "start_time": "2022-01-27T17:58:22.806Z"
   },
   {
    "duration": 6,
    "start_time": "2022-01-27T17:58:22.816Z"
   },
   {
    "duration": 7,
    "start_time": "2022-01-27T17:58:22.824Z"
   },
   {
    "duration": 212,
    "start_time": "2022-01-27T17:58:22.833Z"
   },
   {
    "duration": 8,
    "start_time": "2022-01-27T17:58:23.047Z"
   },
   {
    "duration": 274,
    "start_time": "2022-01-27T17:58:23.059Z"
   },
   {
    "duration": 5,
    "start_time": "2022-01-27T17:58:23.336Z"
   },
   {
    "duration": 262,
    "start_time": "2022-01-27T17:58:23.343Z"
   },
   {
    "duration": 8,
    "start_time": "2022-01-27T17:58:23.607Z"
   },
   {
    "duration": 22,
    "start_time": "2022-01-27T17:58:23.617Z"
   },
   {
    "duration": 343,
    "start_time": "2022-01-27T17:58:23.641Z"
   },
   {
    "duration": 171,
    "start_time": "2022-01-27T17:58:23.985Z"
   },
   {
    "duration": 6,
    "start_time": "2022-01-27T17:58:24.158Z"
   },
   {
    "duration": 7,
    "start_time": "2022-01-27T17:58:24.165Z"
   },
   {
    "duration": 23,
    "start_time": "2022-01-27T17:58:24.173Z"
   },
   {
    "duration": 6,
    "start_time": "2022-01-27T17:58:24.198Z"
   },
   {
    "duration": 234,
    "start_time": "2022-01-27T17:58:24.205Z"
   },
   {
    "duration": 324,
    "start_time": "2022-01-27T17:58:24.441Z"
   },
   {
    "duration": 6,
    "start_time": "2022-01-27T17:58:24.767Z"
   },
   {
    "duration": 353,
    "start_time": "2022-01-27T17:58:24.774Z"
   },
   {
    "duration": 5,
    "start_time": "2022-01-27T17:58:25.128Z"
   },
   {
    "duration": 317,
    "start_time": "2022-01-27T17:58:25.134Z"
   },
   {
    "duration": 6,
    "start_time": "2022-01-27T17:58:25.453Z"
   },
   {
    "duration": 4,
    "start_time": "2022-01-27T17:58:25.461Z"
   },
   {
    "duration": 6,
    "start_time": "2022-01-27T17:58:25.467Z"
   },
   {
    "duration": 26,
    "start_time": "2022-01-27T17:58:25.474Z"
   },
   {
    "duration": 13,
    "start_time": "2022-01-27T17:58:25.502Z"
   },
   {
    "duration": 8,
    "start_time": "2022-01-27T17:58:25.517Z"
   },
   {
    "duration": 12,
    "start_time": "2022-01-27T17:58:25.526Z"
   },
   {
    "duration": 9,
    "start_time": "2022-01-27T17:58:25.540Z"
   },
   {
    "duration": 7,
    "start_time": "2022-01-27T17:58:25.550Z"
   },
   {
    "duration": 8,
    "start_time": "2022-01-27T17:58:25.558Z"
   },
   {
    "duration": 52,
    "start_time": "2022-01-27T17:58:25.568Z"
   },
   {
    "duration": 10,
    "start_time": "2022-01-27T17:58:25.622Z"
   },
   {
    "duration": 8,
    "start_time": "2022-01-27T17:58:25.634Z"
   },
   {
    "duration": 6,
    "start_time": "2022-01-27T17:58:25.644Z"
   },
   {
    "duration": 4,
    "start_time": "2022-01-27T17:58:25.652Z"
   },
   {
    "duration": 5,
    "start_time": "2022-01-27T17:58:25.658Z"
   },
   {
    "duration": 12,
    "start_time": "2022-01-27T17:58:25.665Z"
   },
   {
    "duration": 5,
    "start_time": "2022-01-27T17:58:25.697Z"
   },
   {
    "duration": 14,
    "start_time": "2022-01-27T17:58:25.704Z"
   },
   {
    "duration": 7,
    "start_time": "2022-01-27T17:58:25.721Z"
   },
   {
    "duration": 8,
    "start_time": "2022-01-27T17:58:25.730Z"
   },
   {
    "duration": 7,
    "start_time": "2022-01-27T17:58:25.740Z"
   },
   {
    "duration": 8,
    "start_time": "2022-01-27T17:58:25.749Z"
   },
   {
    "duration": 6,
    "start_time": "2022-01-27T17:58:25.759Z"
   },
   {
    "duration": 6,
    "start_time": "2022-01-27T17:58:25.767Z"
   },
   {
    "duration": 26,
    "start_time": "2022-01-27T17:58:25.775Z"
   },
   {
    "duration": 8,
    "start_time": "2022-01-27T17:58:25.803Z"
   },
   {
    "duration": 9,
    "start_time": "2022-01-27T17:58:25.813Z"
   },
   {
    "duration": 5,
    "start_time": "2022-01-27T17:58:25.826Z"
   },
   {
    "duration": 10,
    "start_time": "2022-01-27T17:58:25.832Z"
   },
   {
    "duration": 9,
    "start_time": "2022-01-27T17:58:25.843Z"
   },
   {
    "duration": 1037,
    "start_time": "2022-01-27T18:09:44.934Z"
   },
   {
    "duration": 18,
    "start_time": "2022-01-27T18:09:45.973Z"
   },
   {
    "duration": 13,
    "start_time": "2022-01-27T18:09:45.995Z"
   },
   {
    "duration": 6,
    "start_time": "2022-01-27T18:09:46.009Z"
   },
   {
    "duration": 5,
    "start_time": "2022-01-27T18:09:46.017Z"
   },
   {
    "duration": 7,
    "start_time": "2022-01-27T18:09:46.023Z"
   },
   {
    "duration": 10,
    "start_time": "2022-01-27T18:09:46.032Z"
   },
   {
    "duration": 5,
    "start_time": "2022-01-27T18:09:46.044Z"
   },
   {
    "duration": 12,
    "start_time": "2022-01-27T18:09:46.051Z"
   },
   {
    "duration": 51,
    "start_time": "2022-01-27T18:09:46.065Z"
   },
   {
    "duration": 2,
    "start_time": "2022-01-27T18:09:46.118Z"
   },
   {
    "duration": 12,
    "start_time": "2022-01-27T18:09:46.122Z"
   },
   {
    "duration": 20,
    "start_time": "2022-01-27T18:09:46.135Z"
   },
   {
    "duration": 8,
    "start_time": "2022-01-27T18:09:46.157Z"
   },
   {
    "duration": 8,
    "start_time": "2022-01-27T18:09:46.167Z"
   },
   {
    "duration": 6,
    "start_time": "2022-01-27T18:09:46.177Z"
   },
   {
    "duration": 15,
    "start_time": "2022-01-27T18:09:46.185Z"
   },
   {
    "duration": 12,
    "start_time": "2022-01-27T18:09:46.202Z"
   },
   {
    "duration": 10,
    "start_time": "2022-01-27T18:09:46.215Z"
   },
   {
    "duration": 7,
    "start_time": "2022-01-27T18:09:46.226Z"
   },
   {
    "duration": 197,
    "start_time": "2022-01-27T18:09:46.235Z"
   },
   {
    "duration": 7,
    "start_time": "2022-01-27T18:09:46.435Z"
   },
   {
    "duration": 240,
    "start_time": "2022-01-27T18:09:46.444Z"
   },
   {
    "duration": 10,
    "start_time": "2022-01-27T18:09:46.686Z"
   },
   {
    "duration": 227,
    "start_time": "2022-01-27T18:09:46.698Z"
   },
   {
    "duration": 7,
    "start_time": "2022-01-27T18:09:46.926Z"
   },
   {
    "duration": 17,
    "start_time": "2022-01-27T18:09:46.934Z"
   },
   {
    "duration": 305,
    "start_time": "2022-01-27T18:09:46.952Z"
   },
   {
    "duration": 167,
    "start_time": "2022-01-27T18:09:47.262Z"
   },
   {
    "duration": 5,
    "start_time": "2022-01-27T18:09:47.431Z"
   },
   {
    "duration": 11,
    "start_time": "2022-01-27T18:09:47.438Z"
   },
   {
    "duration": 8,
    "start_time": "2022-01-27T18:09:47.450Z"
   },
   {
    "duration": 7,
    "start_time": "2022-01-27T18:09:47.460Z"
   },
   {
    "duration": 235,
    "start_time": "2022-01-27T18:09:47.469Z"
   },
   {
    "duration": 352,
    "start_time": "2022-01-27T18:09:47.705Z"
   },
   {
    "duration": 5,
    "start_time": "2022-01-27T18:09:48.059Z"
   },
   {
    "duration": 348,
    "start_time": "2022-01-27T18:09:48.065Z"
   },
   {
    "duration": 5,
    "start_time": "2022-01-27T18:09:48.415Z"
   },
   {
    "duration": 318,
    "start_time": "2022-01-27T18:09:48.422Z"
   },
   {
    "duration": 6,
    "start_time": "2022-01-27T18:09:48.742Z"
   },
   {
    "duration": 5,
    "start_time": "2022-01-27T18:09:48.750Z"
   },
   {
    "duration": 7,
    "start_time": "2022-01-27T18:09:48.756Z"
   },
   {
    "duration": 7,
    "start_time": "2022-01-27T18:09:48.764Z"
   },
   {
    "duration": 24,
    "start_time": "2022-01-27T18:09:48.773Z"
   },
   {
    "duration": 8,
    "start_time": "2022-01-27T18:09:48.798Z"
   },
   {
    "duration": 12,
    "start_time": "2022-01-27T18:09:48.807Z"
   },
   {
    "duration": 9,
    "start_time": "2022-01-27T18:09:48.820Z"
   },
   {
    "duration": 9,
    "start_time": "2022-01-27T18:09:48.831Z"
   },
   {
    "duration": 12,
    "start_time": "2022-01-27T18:09:48.842Z"
   },
   {
    "duration": 41,
    "start_time": "2022-01-27T18:09:48.856Z"
   },
   {
    "duration": 14,
    "start_time": "2022-01-27T18:09:48.899Z"
   },
   {
    "duration": 11,
    "start_time": "2022-01-27T18:09:48.915Z"
   },
   {
    "duration": 8,
    "start_time": "2022-01-27T18:09:48.928Z"
   },
   {
    "duration": 4,
    "start_time": "2022-01-27T18:09:48.938Z"
   },
   {
    "duration": 6,
    "start_time": "2022-01-27T18:09:48.944Z"
   },
   {
    "duration": 14,
    "start_time": "2022-01-27T18:09:48.952Z"
   },
   {
    "duration": 6,
    "start_time": "2022-01-27T18:09:48.997Z"
   },
   {
    "duration": 12,
    "start_time": "2022-01-27T18:09:49.005Z"
   },
   {
    "duration": 11,
    "start_time": "2022-01-27T18:09:49.019Z"
   },
   {
    "duration": 6,
    "start_time": "2022-01-27T18:09:49.032Z"
   },
   {
    "duration": 7,
    "start_time": "2022-01-27T18:09:49.040Z"
   },
   {
    "duration": 9,
    "start_time": "2022-01-27T18:09:49.049Z"
   },
   {
    "duration": 8,
    "start_time": "2022-01-27T18:09:49.059Z"
   },
   {
    "duration": 29,
    "start_time": "2022-01-27T18:09:49.069Z"
   },
   {
    "duration": 9,
    "start_time": "2022-01-27T18:09:49.100Z"
   },
   {
    "duration": 10,
    "start_time": "2022-01-27T18:09:49.111Z"
   },
   {
    "duration": 7,
    "start_time": "2022-01-27T18:09:49.125Z"
   },
   {
    "duration": 8,
    "start_time": "2022-01-27T18:09:49.134Z"
   },
   {
    "duration": 11,
    "start_time": "2022-01-27T18:09:49.144Z"
   },
   {
    "duration": 13,
    "start_time": "2022-01-27T18:09:49.157Z"
   },
   {
    "duration": 1065,
    "start_time": "2022-01-28T13:19:28.000Z"
   },
   {
    "duration": 18,
    "start_time": "2022-01-28T13:19:29.067Z"
   },
   {
    "duration": 19,
    "start_time": "2022-01-28T13:19:29.087Z"
   },
   {
    "duration": 6,
    "start_time": "2022-01-28T13:19:29.108Z"
   },
   {
    "duration": 8,
    "start_time": "2022-01-28T13:19:29.116Z"
   },
   {
    "duration": 8,
    "start_time": "2022-01-28T13:19:29.126Z"
   },
   {
    "duration": 10,
    "start_time": "2022-01-28T13:19:29.136Z"
   },
   {
    "duration": 10,
    "start_time": "2022-01-28T13:19:29.150Z"
   },
   {
    "duration": 16,
    "start_time": "2022-01-28T13:19:29.162Z"
   },
   {
    "duration": 69,
    "start_time": "2022-01-28T13:19:29.179Z"
   },
   {
    "duration": 3,
    "start_time": "2022-01-28T13:19:29.250Z"
   },
   {
    "duration": 11,
    "start_time": "2022-01-28T13:19:29.255Z"
   },
   {
    "duration": 15,
    "start_time": "2022-01-28T13:19:29.268Z"
   },
   {
    "duration": 11,
    "start_time": "2022-01-28T13:19:29.285Z"
   },
   {
    "duration": 10,
    "start_time": "2022-01-28T13:19:29.298Z"
   },
   {
    "duration": 5,
    "start_time": "2022-01-28T13:19:29.310Z"
   },
   {
    "duration": 7,
    "start_time": "2022-01-28T13:19:29.317Z"
   },
   {
    "duration": 5,
    "start_time": "2022-01-28T13:19:29.326Z"
   },
   {
    "duration": 7,
    "start_time": "2022-01-28T13:19:29.333Z"
   },
   {
    "duration": 6,
    "start_time": "2022-01-28T13:19:29.342Z"
   },
   {
    "duration": 213,
    "start_time": "2022-01-28T13:19:29.349Z"
   },
   {
    "duration": 6,
    "start_time": "2022-01-28T13:19:29.564Z"
   },
   {
    "duration": 262,
    "start_time": "2022-01-28T13:19:29.574Z"
   },
   {
    "duration": 4,
    "start_time": "2022-01-28T13:19:29.839Z"
   },
   {
    "duration": 252,
    "start_time": "2022-01-28T13:19:29.845Z"
   },
   {
    "duration": 9,
    "start_time": "2022-01-28T13:19:30.099Z"
   },
   {
    "duration": 27,
    "start_time": "2022-01-28T13:19:30.110Z"
   },
   {
    "duration": 337,
    "start_time": "2022-01-28T13:19:30.139Z"
   },
   {
    "duration": 168,
    "start_time": "2022-01-28T13:19:30.478Z"
   },
   {
    "duration": 6,
    "start_time": "2022-01-28T13:19:30.648Z"
   },
   {
    "duration": 20,
    "start_time": "2022-01-28T13:19:30.656Z"
   },
   {
    "duration": 20,
    "start_time": "2022-01-28T13:19:30.678Z"
   },
   {
    "duration": 27,
    "start_time": "2022-01-28T13:19:30.700Z"
   },
   {
    "duration": 235,
    "start_time": "2022-01-28T13:19:30.728Z"
   },
   {
    "duration": 389,
    "start_time": "2022-01-28T13:19:30.965Z"
   },
   {
    "duration": 5,
    "start_time": "2022-01-28T13:19:31.356Z"
   },
   {
    "duration": 345,
    "start_time": "2022-01-28T13:19:31.363Z"
   },
   {
    "duration": 5,
    "start_time": "2022-01-28T13:19:31.710Z"
   },
   {
    "duration": 324,
    "start_time": "2022-01-28T13:19:31.716Z"
   },
   {
    "duration": 6,
    "start_time": "2022-01-28T13:19:32.043Z"
   },
   {
    "duration": 6,
    "start_time": "2022-01-28T13:19:32.051Z"
   },
   {
    "duration": 14,
    "start_time": "2022-01-28T13:19:32.058Z"
   },
   {
    "duration": 23,
    "start_time": "2022-01-28T13:19:32.074Z"
   },
   {
    "duration": 11,
    "start_time": "2022-01-28T13:19:32.100Z"
   },
   {
    "duration": 11,
    "start_time": "2022-01-28T13:19:32.113Z"
   },
   {
    "duration": 15,
    "start_time": "2022-01-28T13:19:32.126Z"
   },
   {
    "duration": 11,
    "start_time": "2022-01-28T13:19:32.143Z"
   },
   {
    "duration": 9,
    "start_time": "2022-01-28T13:19:32.156Z"
   },
   {
    "duration": 12,
    "start_time": "2022-01-28T13:19:32.167Z"
   },
   {
    "duration": 33,
    "start_time": "2022-01-28T13:19:32.181Z"
   },
   {
    "duration": 10,
    "start_time": "2022-01-28T13:19:32.216Z"
   },
   {
    "duration": 7,
    "start_time": "2022-01-28T13:19:32.228Z"
   },
   {
    "duration": 7,
    "start_time": "2022-01-28T13:19:32.236Z"
   },
   {
    "duration": 10,
    "start_time": "2022-01-28T13:19:32.244Z"
   },
   {
    "duration": 5,
    "start_time": "2022-01-28T13:19:32.256Z"
   },
   {
    "duration": 37,
    "start_time": "2022-01-28T13:19:32.262Z"
   },
   {
    "duration": 5,
    "start_time": "2022-01-28T13:19:32.300Z"
   },
   {
    "duration": 11,
    "start_time": "2022-01-28T13:19:32.306Z"
   },
   {
    "duration": 7,
    "start_time": "2022-01-28T13:19:32.319Z"
   },
   {
    "duration": 10,
    "start_time": "2022-01-28T13:19:32.328Z"
   },
   {
    "duration": 6,
    "start_time": "2022-01-28T13:19:32.340Z"
   },
   {
    "duration": 6,
    "start_time": "2022-01-28T13:19:32.347Z"
   },
   {
    "duration": 10,
    "start_time": "2022-01-28T13:19:32.355Z"
   },
   {
    "duration": 8,
    "start_time": "2022-01-28T13:19:32.366Z"
   },
   {
    "duration": 6,
    "start_time": "2022-01-28T13:19:32.397Z"
   },
   {
    "duration": 10,
    "start_time": "2022-01-28T13:19:32.404Z"
   },
   {
    "duration": 24,
    "start_time": "2022-01-28T13:19:32.416Z"
   },
   {
    "duration": 4,
    "start_time": "2022-01-28T13:19:32.445Z"
   },
   {
    "duration": 12,
    "start_time": "2022-01-28T13:19:32.451Z"
   },
   {
    "duration": 8,
    "start_time": "2022-01-28T13:19:32.465Z"
   },
   {
    "duration": 1442,
    "start_time": "2022-01-28T14:24:16.022Z"
   },
   {
    "duration": 18,
    "start_time": "2022-01-28T14:24:17.467Z"
   },
   {
    "duration": 21,
    "start_time": "2022-01-28T14:24:17.489Z"
   },
   {
    "duration": 6,
    "start_time": "2022-01-28T14:24:17.513Z"
   },
   {
    "duration": 8,
    "start_time": "2022-01-28T14:24:17.521Z"
   },
   {
    "duration": 8,
    "start_time": "2022-01-28T14:24:17.531Z"
   },
   {
    "duration": 39,
    "start_time": "2022-01-28T14:24:17.542Z"
   },
   {
    "duration": 6,
    "start_time": "2022-01-28T14:24:17.586Z"
   },
   {
    "duration": 19,
    "start_time": "2022-01-28T14:24:17.594Z"
   },
   {
    "duration": 78,
    "start_time": "2022-01-28T14:24:17.615Z"
   },
   {
    "duration": 5,
    "start_time": "2022-01-28T14:24:17.695Z"
   },
   {
    "duration": 11,
    "start_time": "2022-01-28T14:24:17.702Z"
   },
   {
    "duration": 12,
    "start_time": "2022-01-28T14:24:17.716Z"
   },
   {
    "duration": 9,
    "start_time": "2022-01-28T14:24:17.731Z"
   },
   {
    "duration": 32,
    "start_time": "2022-01-28T14:24:17.743Z"
   },
   {
    "duration": 8,
    "start_time": "2022-01-28T14:24:17.778Z"
   },
   {
    "duration": 10,
    "start_time": "2022-01-28T14:24:17.789Z"
   },
   {
    "duration": 12,
    "start_time": "2022-01-28T14:24:17.801Z"
   },
   {
    "duration": 8,
    "start_time": "2022-01-28T14:24:17.815Z"
   },
   {
    "duration": 46,
    "start_time": "2022-01-28T14:24:17.825Z"
   },
   {
    "duration": 324,
    "start_time": "2022-01-28T14:24:17.873Z"
   },
   {
    "duration": 9,
    "start_time": "2022-01-28T14:24:18.199Z"
   },
   {
    "duration": 388,
    "start_time": "2022-01-28T14:24:18.214Z"
   },
   {
    "duration": 7,
    "start_time": "2022-01-28T14:24:18.606Z"
   },
   {
    "duration": 377,
    "start_time": "2022-01-28T14:24:18.615Z"
   },
   {
    "duration": 11,
    "start_time": "2022-01-28T14:24:18.994Z"
   },
   {
    "duration": 21,
    "start_time": "2022-01-28T14:24:19.007Z"
   },
   {
    "duration": 509,
    "start_time": "2022-01-28T14:24:19.030Z"
   },
   {
    "duration": 279,
    "start_time": "2022-01-28T14:24:19.542Z"
   },
   {
    "duration": 12,
    "start_time": "2022-01-28T14:24:19.823Z"
   },
   {
    "duration": 10,
    "start_time": "2022-01-28T14:24:19.838Z"
   },
   {
    "duration": 25,
    "start_time": "2022-01-28T14:24:19.850Z"
   },
   {
    "duration": 11,
    "start_time": "2022-01-28T14:24:19.877Z"
   },
   {
    "duration": 361,
    "start_time": "2022-01-28T14:24:19.891Z"
   },
   {
    "duration": 493,
    "start_time": "2022-01-28T14:24:20.255Z"
   },
   {
    "duration": 7,
    "start_time": "2022-01-28T14:24:20.750Z"
   },
   {
    "duration": 449,
    "start_time": "2022-01-28T14:24:20.769Z"
   },
   {
    "duration": 6,
    "start_time": "2022-01-28T14:24:21.220Z"
   },
   {
    "duration": 492,
    "start_time": "2022-01-28T14:24:21.229Z"
   },
   {
    "duration": 8,
    "start_time": "2022-01-28T14:24:21.724Z"
   },
   {
    "duration": 6,
    "start_time": "2022-01-28T14:24:21.735Z"
   },
   {
    "duration": 30,
    "start_time": "2022-01-28T14:24:21.744Z"
   },
   {
    "duration": 9,
    "start_time": "2022-01-28T14:24:21.777Z"
   },
   {
    "duration": 11,
    "start_time": "2022-01-28T14:24:21.788Z"
   },
   {
    "duration": 19,
    "start_time": "2022-01-28T14:24:21.802Z"
   },
   {
    "duration": 51,
    "start_time": "2022-01-28T14:24:21.824Z"
   },
   {
    "duration": 15,
    "start_time": "2022-01-28T14:24:21.878Z"
   },
   {
    "duration": 11,
    "start_time": "2022-01-28T14:24:21.895Z"
   },
   {
    "duration": 10,
    "start_time": "2022-01-28T14:24:21.908Z"
   },
   {
    "duration": 67,
    "start_time": "2022-01-28T14:24:21.921Z"
   },
   {
    "duration": 16,
    "start_time": "2022-01-28T14:24:21.991Z"
   },
   {
    "duration": 12,
    "start_time": "2022-01-28T14:24:22.011Z"
   },
   {
    "duration": 45,
    "start_time": "2022-01-28T14:24:22.026Z"
   },
   {
    "duration": 8,
    "start_time": "2022-01-28T14:24:22.073Z"
   },
   {
    "duration": 8,
    "start_time": "2022-01-28T14:24:22.084Z"
   },
   {
    "duration": 13,
    "start_time": "2022-01-28T14:24:22.095Z"
   },
   {
    "duration": 6,
    "start_time": "2022-01-28T14:24:22.110Z"
   },
   {
    "duration": 59,
    "start_time": "2022-01-28T14:24:22.119Z"
   },
   {
    "duration": 13,
    "start_time": "2022-01-28T14:24:22.181Z"
   },
   {
    "duration": 8,
    "start_time": "2022-01-28T14:24:22.196Z"
   },
   {
    "duration": 8,
    "start_time": "2022-01-28T14:24:22.206Z"
   },
   {
    "duration": 5,
    "start_time": "2022-01-28T14:24:22.216Z"
   },
   {
    "duration": 48,
    "start_time": "2022-01-28T14:24:22.224Z"
   },
   {
    "duration": 7,
    "start_time": "2022-01-28T14:24:22.275Z"
   },
   {
    "duration": 8,
    "start_time": "2022-01-28T14:24:22.284Z"
   },
   {
    "duration": 13,
    "start_time": "2022-01-28T14:24:22.294Z"
   },
   {
    "duration": 13,
    "start_time": "2022-01-28T14:24:22.310Z"
   },
   {
    "duration": 40,
    "start_time": "2022-01-28T14:24:22.331Z"
   },
   {
    "duration": 16,
    "start_time": "2022-01-28T14:24:22.373Z"
   },
   {
    "duration": 12,
    "start_time": "2022-01-28T14:24:22.391Z"
   },
   {
    "duration": 3,
    "start_time": "2022-01-28T14:24:28.898Z"
   },
   {
    "duration": 15,
    "start_time": "2022-01-28T14:24:38.678Z"
   },
   {
    "duration": 110,
    "start_time": "2022-01-28T14:25:12.946Z"
   },
   {
    "duration": 771,
    "start_time": "2022-01-28T14:27:09.043Z"
   },
   {
    "duration": 430,
    "start_time": "2022-01-28T14:27:15.283Z"
   },
   {
    "duration": 465,
    "start_time": "2022-01-28T14:28:04.672Z"
   },
   {
    "duration": 359,
    "start_time": "2022-01-28T14:28:12.128Z"
   },
   {
    "duration": 485,
    "start_time": "2022-01-28T14:28:21.821Z"
   },
   {
    "duration": 520,
    "start_time": "2022-01-28T14:29:25.962Z"
   },
   {
    "duration": 529,
    "start_time": "2022-01-28T14:29:44.677Z"
   },
   {
    "duration": 1425,
    "start_time": "2022-01-28T15:25:11.414Z"
   },
   {
    "duration": 17,
    "start_time": "2022-01-28T15:25:12.842Z"
   },
   {
    "duration": 4,
    "start_time": "2022-01-28T15:25:12.870Z"
   },
   {
    "duration": 19,
    "start_time": "2022-01-28T15:25:12.876Z"
   },
   {
    "duration": 9,
    "start_time": "2022-01-28T15:25:12.898Z"
   },
   {
    "duration": 7,
    "start_time": "2022-01-28T15:25:12.909Z"
   },
   {
    "duration": 6,
    "start_time": "2022-01-28T15:25:12.920Z"
   },
   {
    "duration": 49,
    "start_time": "2022-01-28T15:25:12.929Z"
   },
   {
    "duration": 8,
    "start_time": "2022-01-28T15:25:12.981Z"
   },
   {
    "duration": 18,
    "start_time": "2022-01-28T15:25:12.991Z"
   },
   {
    "duration": 44,
    "start_time": "2022-01-28T15:25:13.012Z"
   },
   {
    "duration": 13,
    "start_time": "2022-01-28T15:25:13.058Z"
   },
   {
    "duration": 14,
    "start_time": "2022-01-28T15:25:13.073Z"
   },
   {
    "duration": 14,
    "start_time": "2022-01-28T15:25:13.089Z"
   },
   {
    "duration": 16,
    "start_time": "2022-01-28T15:25:13.106Z"
   },
   {
    "duration": 46,
    "start_time": "2022-01-28T15:25:13.125Z"
   },
   {
    "duration": 10,
    "start_time": "2022-01-28T15:25:13.174Z"
   },
   {
    "duration": 12,
    "start_time": "2022-01-28T15:25:13.186Z"
   },
   {
    "duration": 10,
    "start_time": "2022-01-28T15:25:13.201Z"
   },
   {
    "duration": 9,
    "start_time": "2022-01-28T15:25:13.214Z"
   },
   {
    "duration": 44,
    "start_time": "2022-01-28T15:25:13.225Z"
   },
   {
    "duration": 333,
    "start_time": "2022-01-28T15:25:13.276Z"
   },
   {
    "duration": 9,
    "start_time": "2022-01-28T15:25:13.613Z"
   },
   {
    "duration": 380,
    "start_time": "2022-01-28T15:25:13.625Z"
   },
   {
    "duration": 6,
    "start_time": "2022-01-28T15:25:14.008Z"
   },
   {
    "duration": 510,
    "start_time": "2022-01-28T15:25:14.017Z"
   },
   {
    "duration": 13,
    "start_time": "2022-01-28T15:25:14.529Z"
   },
   {
    "duration": 37,
    "start_time": "2022-01-28T15:25:14.545Z"
   },
   {
    "duration": 491,
    "start_time": "2022-01-28T15:25:14.585Z"
   },
   {
    "duration": 293,
    "start_time": "2022-01-28T15:25:15.079Z"
   },
   {
    "duration": 10,
    "start_time": "2022-01-28T15:25:15.374Z"
   },
   {
    "duration": 10,
    "start_time": "2022-01-28T15:25:15.387Z"
   },
   {
    "duration": 10,
    "start_time": "2022-01-28T15:25:15.400Z"
   },
   {
    "duration": 10,
    "start_time": "2022-01-28T15:25:15.413Z"
   },
   {
    "duration": 394,
    "start_time": "2022-01-28T15:25:15.426Z"
   },
   {
    "duration": 501,
    "start_time": "2022-01-28T15:25:15.823Z"
   },
   {
    "duration": 7,
    "start_time": "2022-01-28T15:25:16.327Z"
   },
   {
    "duration": 449,
    "start_time": "2022-01-28T15:25:16.336Z"
   },
   {
    "duration": 6,
    "start_time": "2022-01-28T15:25:16.787Z"
   },
   {
    "duration": 421,
    "start_time": "2022-01-28T15:25:16.795Z"
   },
   {
    "duration": 8,
    "start_time": "2022-01-28T15:25:17.219Z"
   },
   {
    "duration": 699,
    "start_time": "2022-01-28T15:25:17.229Z"
   },
   {
    "duration": 7,
    "start_time": "2022-01-28T15:25:17.930Z"
   },
   {
    "duration": 29,
    "start_time": "2022-01-28T15:25:17.940Z"
   },
   {
    "duration": 11,
    "start_time": "2022-01-28T15:25:17.972Z"
   },
   {
    "duration": 11,
    "start_time": "2022-01-28T15:25:17.986Z"
   },
   {
    "duration": 12,
    "start_time": "2022-01-28T15:25:18.000Z"
   },
   {
    "duration": 114,
    "start_time": "2022-01-28T15:25:18.015Z"
   },
   {
    "duration": 15,
    "start_time": "2022-01-28T15:25:18.131Z"
   },
   {
    "duration": 8,
    "start_time": "2022-01-28T15:25:18.149Z"
   },
   {
    "duration": 9,
    "start_time": "2022-01-28T15:25:18.170Z"
   },
   {
    "duration": 36,
    "start_time": "2022-01-28T15:25:18.182Z"
   },
   {
    "duration": 16,
    "start_time": "2022-01-28T15:25:18.221Z"
   },
   {
    "duration": 10,
    "start_time": "2022-01-28T15:25:18.270Z"
   },
   {
    "duration": 14,
    "start_time": "2022-01-28T15:25:18.283Z"
   },
   {
    "duration": 7,
    "start_time": "2022-01-28T15:25:18.300Z"
   },
   {
    "duration": 6,
    "start_time": "2022-01-28T15:25:18.309Z"
   },
   {
    "duration": 10,
    "start_time": "2022-01-28T15:25:18.317Z"
   },
   {
    "duration": 43,
    "start_time": "2022-01-28T15:25:18.329Z"
   },
   {
    "duration": 10,
    "start_time": "2022-01-28T15:25:18.375Z"
   },
   {
    "duration": 11,
    "start_time": "2022-01-28T15:25:18.387Z"
   },
   {
    "duration": 9,
    "start_time": "2022-01-28T15:25:18.401Z"
   },
   {
    "duration": 8,
    "start_time": "2022-01-28T15:25:18.412Z"
   },
   {
    "duration": 5,
    "start_time": "2022-01-28T15:25:18.470Z"
   },
   {
    "duration": 8,
    "start_time": "2022-01-28T15:25:18.478Z"
   },
   {
    "duration": 11,
    "start_time": "2022-01-28T15:25:18.489Z"
   },
   {
    "duration": 8,
    "start_time": "2022-01-28T15:25:18.508Z"
   },
   {
    "duration": 13,
    "start_time": "2022-01-28T15:25:18.519Z"
   },
   {
    "duration": 12,
    "start_time": "2022-01-28T15:25:18.570Z"
   },
   {
    "duration": 7,
    "start_time": "2022-01-28T15:25:18.584Z"
   },
   {
    "duration": 17,
    "start_time": "2022-01-28T15:25:18.594Z"
   },
   {
    "duration": 16,
    "start_time": "2022-01-28T15:25:18.614Z"
   },
   {
    "duration": 4,
    "start_time": "2022-01-28T15:46:57.103Z"
   },
   {
    "duration": 19,
    "start_time": "2022-01-28T15:46:59.361Z"
   },
   {
    "duration": 1645,
    "start_time": "2022-01-28T15:47:39.752Z"
   },
   {
    "duration": 17,
    "start_time": "2022-01-28T15:47:41.399Z"
   },
   {
    "duration": 5,
    "start_time": "2022-01-28T15:47:41.418Z"
   },
   {
    "duration": 16,
    "start_time": "2022-01-28T15:47:41.425Z"
   },
   {
    "duration": 3,
    "start_time": "2022-01-28T15:47:41.444Z"
   },
   {
    "duration": 7,
    "start_time": "2022-01-28T15:47:41.469Z"
   },
   {
    "duration": 14,
    "start_time": "2022-01-28T15:47:41.479Z"
   },
   {
    "duration": 6,
    "start_time": "2022-01-28T15:47:41.497Z"
   },
   {
    "duration": 17,
    "start_time": "2022-01-28T15:47:41.506Z"
   },
   {
    "duration": 57,
    "start_time": "2022-01-28T15:47:41.526Z"
   },
   {
    "duration": 5,
    "start_time": "2022-01-28T15:47:41.585Z"
   },
   {
    "duration": 10,
    "start_time": "2022-01-28T15:47:41.592Z"
   },
   {
    "duration": 13,
    "start_time": "2022-01-28T15:47:41.604Z"
   },
   {
    "duration": 10,
    "start_time": "2022-01-28T15:47:41.620Z"
   },
   {
    "duration": 41,
    "start_time": "2022-01-28T15:47:41.632Z"
   },
   {
    "duration": 10,
    "start_time": "2022-01-28T15:47:41.676Z"
   },
   {
    "duration": 11,
    "start_time": "2022-01-28T15:47:41.689Z"
   },
   {
    "duration": 10,
    "start_time": "2022-01-28T15:47:41.703Z"
   },
   {
    "duration": 59,
    "start_time": "2022-01-28T15:47:41.716Z"
   },
   {
    "duration": 11,
    "start_time": "2022-01-28T15:47:41.777Z"
   },
   {
    "duration": 330,
    "start_time": "2022-01-28T15:47:41.790Z"
   },
   {
    "duration": 9,
    "start_time": "2022-01-28T15:47:42.123Z"
   },
   {
    "duration": 397,
    "start_time": "2022-01-28T15:47:42.138Z"
   },
   {
    "duration": 7,
    "start_time": "2022-01-28T15:47:42.539Z"
   },
   {
    "duration": 394,
    "start_time": "2022-01-28T15:47:42.548Z"
   },
   {
    "duration": 11,
    "start_time": "2022-01-28T15:47:42.944Z"
   },
   {
    "duration": 17,
    "start_time": "2022-01-28T15:47:42.970Z"
   },
   {
    "duration": 475,
    "start_time": "2022-01-28T15:47:42.990Z"
   },
   {
    "duration": 303,
    "start_time": "2022-01-28T15:47:43.469Z"
   },
   {
    "duration": 15,
    "start_time": "2022-01-28T15:47:43.774Z"
   },
   {
    "duration": 7,
    "start_time": "2022-01-28T15:47:43.792Z"
   },
   {
    "duration": 15,
    "start_time": "2022-01-28T15:47:43.802Z"
   },
   {
    "duration": 11,
    "start_time": "2022-01-28T15:47:43.819Z"
   },
   {
    "duration": 397,
    "start_time": "2022-01-28T15:47:43.832Z"
   },
   {
    "duration": 623,
    "start_time": "2022-01-28T15:47:44.232Z"
   },
   {
    "duration": 13,
    "start_time": "2022-01-28T15:47:44.858Z"
   },
   {
    "duration": 446,
    "start_time": "2022-01-28T15:47:44.873Z"
   },
   {
    "duration": 6,
    "start_time": "2022-01-28T15:47:45.321Z"
   },
   {
    "duration": 499,
    "start_time": "2022-01-28T15:47:45.329Z"
   },
   {
    "duration": 9,
    "start_time": "2022-01-28T15:47:45.830Z"
   },
   {
    "duration": 492,
    "start_time": "2022-01-28T15:47:45.841Z"
   },
   {
    "duration": 6,
    "start_time": "2022-01-28T15:47:46.336Z"
   },
   {
    "duration": 25,
    "start_time": "2022-01-28T15:47:46.344Z"
   },
   {
    "duration": 7,
    "start_time": "2022-01-28T15:47:46.372Z"
   },
   {
    "duration": 11,
    "start_time": "2022-01-28T15:47:46.381Z"
   },
   {
    "duration": 11,
    "start_time": "2022-01-28T15:47:46.395Z"
   },
   {
    "duration": 125,
    "start_time": "2022-01-28T15:47:46.408Z"
   },
   {
    "duration": 16,
    "start_time": "2022-01-28T15:47:46.535Z"
   },
   {
    "duration": 21,
    "start_time": "2022-01-28T15:47:46.554Z"
   },
   {
    "duration": 11,
    "start_time": "2022-01-28T15:47:46.578Z"
   },
   {
    "duration": 39,
    "start_time": "2022-01-28T15:47:46.592Z"
   },
   {
    "duration": 18,
    "start_time": "2022-01-28T15:47:46.671Z"
   },
   {
    "duration": 12,
    "start_time": "2022-01-28T15:47:46.693Z"
   },
   {
    "duration": 13,
    "start_time": "2022-01-28T15:47:46.708Z"
   },
   {
    "duration": 45,
    "start_time": "2022-01-28T15:47:46.724Z"
   },
   {
    "duration": 6,
    "start_time": "2022-01-28T15:47:46.772Z"
   },
   {
    "duration": 12,
    "start_time": "2022-01-28T15:47:46.781Z"
   },
   {
    "duration": 6,
    "start_time": "2022-01-28T15:47:46.795Z"
   },
   {
    "duration": 10,
    "start_time": "2022-01-28T15:47:46.804Z"
   },
   {
    "duration": 55,
    "start_time": "2022-01-28T15:47:46.816Z"
   },
   {
    "duration": 9,
    "start_time": "2022-01-28T15:47:46.874Z"
   },
   {
    "duration": 7,
    "start_time": "2022-01-28T15:47:46.886Z"
   },
   {
    "duration": 7,
    "start_time": "2022-01-28T15:47:46.895Z"
   },
   {
    "duration": 10,
    "start_time": "2022-01-28T15:47:46.905Z"
   },
   {
    "duration": 53,
    "start_time": "2022-01-28T15:47:46.918Z"
   },
   {
    "duration": 11,
    "start_time": "2022-01-28T15:47:46.974Z"
   },
   {
    "duration": 18,
    "start_time": "2022-01-28T15:47:46.987Z"
   },
   {
    "duration": 11,
    "start_time": "2022-01-28T15:47:47.012Z"
   },
   {
    "duration": 11,
    "start_time": "2022-01-28T15:47:47.026Z"
   },
   {
    "duration": 40,
    "start_time": "2022-01-28T15:47:47.039Z"
   },
   {
    "duration": 13,
    "start_time": "2022-01-28T15:47:47.081Z"
   }
  ],
  "kernelspec": {
   "display_name": "Python 3",
   "language": "python",
   "name": "python3"
  },
  "language_info": {
   "codemirror_mode": {
    "name": "ipython",
    "version": 3
   },
   "file_extension": ".py",
   "mimetype": "text/x-python",
   "name": "python",
   "nbconvert_exporter": "python",
   "pygments_lexer": "ipython3",
   "version": "3.8.8"
  },
  "toc": {
   "base_numbering": 1,
   "nav_menu": {},
   "number_sections": true,
   "sideBar": true,
   "skip_h1_title": true,
   "title_cell": "Table of Contents",
   "title_sidebar": "Contents",
   "toc_cell": false,
   "toc_position": {},
   "toc_section_display": true,
   "toc_window_display": false
  }
 },
 "nbformat": 4,
 "nbformat_minor": 2
}
