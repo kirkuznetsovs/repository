{
 "cells": [
  {
   "cell_type": "markdown",
   "metadata": {},
   "source": [
    "# Определение перспективного тарифа для телеком-компании"
   ]
  },
  {
   "cell_type": "markdown",
   "metadata": {},
   "source": [
    "**ПЛАН РАБОТЫ:**  \n",
    "\n",
    "**1. Подготовка данных:**\n",
    "- получение первичной информации о данных\n",
    "- объединение всех датасетов в один\n",
    "- поиск ошибок в данных\n",
    "- поиск дубликатов, пропущенных значений\n",
    "- приведение к нужным типам данных  \n",
    "\n",
    "**2. Расчет параметров для каждого пользователя:**  \n",
    "\n",
    "- количество сделанных звонков и израсходованных минут разговора по месяцам\n",
    "- количество отправленных сообщений по месяцам\n",
    "- объем израсходованного интернет-трафика по месяцам\n",
    "- помесячную выручку с каждого пользователя  \n",
    "\n",
    "**3. Анализ показателей (количество минут и сообщений, объем интернет-трафика):** \n",
    "\n",
    "- расчет средних, медиан\n",
    "- построение гистограмм\n",
    "- расчет статистических параметров выборки (дисперсия, стандартное отклонение)\n",
    "\n",
    "**4. Проверка гипотез:**\n",
    "\n",
    "- средняя выручка пользователей тарифов «Ультра» и «Смарт» различаются\n",
    "- средняя выручка пользователей из Москвы отличается от выручки пользователей из других регионов\n",
    "\n",
    "**5. Общий вывод по проекту** "
   ]
  },
  {
   "cell_type": "markdown",
   "metadata": {},
   "source": [
    "## Подготовка данных"
   ]
  },
  {
   "cell_type": "markdown",
   "metadata": {},
   "source": [
    "### Получение первичной информации о данных"
   ]
  },
  {
   "cell_type": "code",
   "execution_count": 1,
   "metadata": {},
   "outputs": [],
   "source": [
    "import pandas as pd #импортируем библиотеки\n",
    "import numpy as np\n",
    "import matplotlib.pyplot as plt \n",
    "import math\n",
    "from scipy import stats as st"
   ]
  },
  {
   "cell_type": "code",
   "execution_count": 2,
   "metadata": {},
   "outputs": [],
   "source": [
    "calls = pd.read_csv(\"calls.csv\")\n",
    "internet = pd.read_csv('internet.csv')\n",
    "messages = pd.read_csv('messages.csv')\n",
    "tariffs = pd.read_csv('tariffs.csv')\n",
    "users = pd.read_csv('users.csv')"
   ]
  },
  {
   "cell_type": "code",
   "execution_count": 3,
   "metadata": {
    "scrolled": true
   },
   "outputs": [
    {
     "data": {
      "text/html": [
       "<div>\n",
       "<style scoped>\n",
       "    .dataframe tbody tr th:only-of-type {\n",
       "        vertical-align: middle;\n",
       "    }\n",
       "\n",
       "    .dataframe tbody tr th {\n",
       "        vertical-align: top;\n",
       "    }\n",
       "\n",
       "    .dataframe thead th {\n",
       "        text-align: right;\n",
       "    }\n",
       "</style>\n",
       "<table border=\"1\" class=\"dataframe\">\n",
       "  <thead>\n",
       "    <tr style=\"text-align: right;\">\n",
       "      <th></th>\n",
       "      <th>id</th>\n",
       "      <th>call_date</th>\n",
       "      <th>duration</th>\n",
       "      <th>user_id</th>\n",
       "    </tr>\n",
       "  </thead>\n",
       "  <tbody>\n",
       "    <tr>\n",
       "      <th>0</th>\n",
       "      <td>1000_0</td>\n",
       "      <td>2018-07-25</td>\n",
       "      <td>0.00</td>\n",
       "      <td>1000</td>\n",
       "    </tr>\n",
       "    <tr>\n",
       "      <th>1</th>\n",
       "      <td>1000_1</td>\n",
       "      <td>2018-08-17</td>\n",
       "      <td>0.00</td>\n",
       "      <td>1000</td>\n",
       "    </tr>\n",
       "    <tr>\n",
       "      <th>2</th>\n",
       "      <td>1000_2</td>\n",
       "      <td>2018-06-11</td>\n",
       "      <td>2.85</td>\n",
       "      <td>1000</td>\n",
       "    </tr>\n",
       "    <tr>\n",
       "      <th>3</th>\n",
       "      <td>1000_3</td>\n",
       "      <td>2018-09-21</td>\n",
       "      <td>13.80</td>\n",
       "      <td>1000</td>\n",
       "    </tr>\n",
       "    <tr>\n",
       "      <th>4</th>\n",
       "      <td>1000_4</td>\n",
       "      <td>2018-12-15</td>\n",
       "      <td>5.18</td>\n",
       "      <td>1000</td>\n",
       "    </tr>\n",
       "  </tbody>\n",
       "</table>\n",
       "</div>"
      ],
      "text/plain": [
       "       id   call_date  duration  user_id\n",
       "0  1000_0  2018-07-25      0.00     1000\n",
       "1  1000_1  2018-08-17      0.00     1000\n",
       "2  1000_2  2018-06-11      2.85     1000\n",
       "3  1000_3  2018-09-21     13.80     1000\n",
       "4  1000_4  2018-12-15      5.18     1000"
      ]
     },
     "execution_count": 3,
     "metadata": {},
     "output_type": "execute_result"
    }
   ],
   "source": [
    "calls.head()"
   ]
  },
  {
   "cell_type": "code",
   "execution_count": 4,
   "metadata": {
    "scrolled": true
   },
   "outputs": [
    {
     "name": "stdout",
     "output_type": "stream",
     "text": [
      "<class 'pandas.core.frame.DataFrame'>\n",
      "RangeIndex: 202607 entries, 0 to 202606\n",
      "Data columns (total 4 columns):\n",
      " #   Column     Non-Null Count   Dtype  \n",
      "---  ------     --------------   -----  \n",
      " 0   id         202607 non-null  object \n",
      " 1   call_date  202607 non-null  object \n",
      " 2   duration   202607 non-null  float64\n",
      " 3   user_id    202607 non-null  int64  \n",
      "dtypes: float64(1), int64(1), object(2)\n",
      "memory usage: 6.2+ MB\n"
     ]
    }
   ],
   "source": [
    "calls.info()"
   ]
  },
  {
   "cell_type": "code",
   "execution_count": 5,
   "metadata": {
    "scrolled": false
   },
   "outputs": [
    {
     "data": {
      "text/html": [
       "<div>\n",
       "<style scoped>\n",
       "    .dataframe tbody tr th:only-of-type {\n",
       "        vertical-align: middle;\n",
       "    }\n",
       "\n",
       "    .dataframe tbody tr th {\n",
       "        vertical-align: top;\n",
       "    }\n",
       "\n",
       "    .dataframe thead th {\n",
       "        text-align: right;\n",
       "    }\n",
       "</style>\n",
       "<table border=\"1\" class=\"dataframe\">\n",
       "  <thead>\n",
       "    <tr style=\"text-align: right;\">\n",
       "      <th></th>\n",
       "      <th>Unnamed: 0</th>\n",
       "      <th>id</th>\n",
       "      <th>mb_used</th>\n",
       "      <th>session_date</th>\n",
       "      <th>user_id</th>\n",
       "    </tr>\n",
       "  </thead>\n",
       "  <tbody>\n",
       "    <tr>\n",
       "      <th>0</th>\n",
       "      <td>0</td>\n",
       "      <td>1000_0</td>\n",
       "      <td>112.95</td>\n",
       "      <td>2018-11-25</td>\n",
       "      <td>1000</td>\n",
       "    </tr>\n",
       "    <tr>\n",
       "      <th>1</th>\n",
       "      <td>1</td>\n",
       "      <td>1000_1</td>\n",
       "      <td>1052.81</td>\n",
       "      <td>2018-09-07</td>\n",
       "      <td>1000</td>\n",
       "    </tr>\n",
       "    <tr>\n",
       "      <th>2</th>\n",
       "      <td>2</td>\n",
       "      <td>1000_2</td>\n",
       "      <td>1197.26</td>\n",
       "      <td>2018-06-25</td>\n",
       "      <td>1000</td>\n",
       "    </tr>\n",
       "    <tr>\n",
       "      <th>3</th>\n",
       "      <td>3</td>\n",
       "      <td>1000_3</td>\n",
       "      <td>550.27</td>\n",
       "      <td>2018-08-22</td>\n",
       "      <td>1000</td>\n",
       "    </tr>\n",
       "    <tr>\n",
       "      <th>4</th>\n",
       "      <td>4</td>\n",
       "      <td>1000_4</td>\n",
       "      <td>302.56</td>\n",
       "      <td>2018-09-24</td>\n",
       "      <td>1000</td>\n",
       "    </tr>\n",
       "  </tbody>\n",
       "</table>\n",
       "</div>"
      ],
      "text/plain": [
       "   Unnamed: 0      id  mb_used session_date  user_id\n",
       "0           0  1000_0   112.95   2018-11-25     1000\n",
       "1           1  1000_1  1052.81   2018-09-07     1000\n",
       "2           2  1000_2  1197.26   2018-06-25     1000\n",
       "3           3  1000_3   550.27   2018-08-22     1000\n",
       "4           4  1000_4   302.56   2018-09-24     1000"
      ]
     },
     "execution_count": 5,
     "metadata": {},
     "output_type": "execute_result"
    }
   ],
   "source": [
    "internet.head()"
   ]
  },
  {
   "cell_type": "code",
   "execution_count": 6,
   "metadata": {},
   "outputs": [
    {
     "data": {
      "text/plain": [
       "0              0\n",
       "1              1\n",
       "2              2\n",
       "3              3\n",
       "4              4\n",
       "           ...  \n",
       "149391    149391\n",
       "149392    149392\n",
       "149393    149393\n",
       "149394    149394\n",
       "149395    149395\n",
       "Name: Unnamed: 0, Length: 149396, dtype: int64"
      ]
     },
     "execution_count": 6,
     "metadata": {},
     "output_type": "execute_result"
    }
   ],
   "source": [
    "internet.pop('Unnamed: 0') # удалим столбец с дублирующими индексами"
   ]
  },
  {
   "cell_type": "code",
   "execution_count": 7,
   "metadata": {
    "scrolled": false
   },
   "outputs": [
    {
     "name": "stdout",
     "output_type": "stream",
     "text": [
      "<class 'pandas.core.frame.DataFrame'>\n",
      "RangeIndex: 149396 entries, 0 to 149395\n",
      "Data columns (total 4 columns):\n",
      " #   Column        Non-Null Count   Dtype  \n",
      "---  ------        --------------   -----  \n",
      " 0   id            149396 non-null  object \n",
      " 1   mb_used       149396 non-null  float64\n",
      " 2   session_date  149396 non-null  object \n",
      " 3   user_id       149396 non-null  int64  \n",
      "dtypes: float64(1), int64(1), object(2)\n",
      "memory usage: 4.6+ MB\n"
     ]
    }
   ],
   "source": [
    "internet.info()"
   ]
  },
  {
   "cell_type": "code",
   "execution_count": 8,
   "metadata": {},
   "outputs": [
    {
     "data": {
      "text/html": [
       "<div>\n",
       "<style scoped>\n",
       "    .dataframe tbody tr th:only-of-type {\n",
       "        vertical-align: middle;\n",
       "    }\n",
       "\n",
       "    .dataframe tbody tr th {\n",
       "        vertical-align: top;\n",
       "    }\n",
       "\n",
       "    .dataframe thead th {\n",
       "        text-align: right;\n",
       "    }\n",
       "</style>\n",
       "<table border=\"1\" class=\"dataframe\">\n",
       "  <thead>\n",
       "    <tr style=\"text-align: right;\">\n",
       "      <th></th>\n",
       "      <th>id</th>\n",
       "      <th>message_date</th>\n",
       "      <th>user_id</th>\n",
       "    </tr>\n",
       "  </thead>\n",
       "  <tbody>\n",
       "    <tr>\n",
       "      <th>0</th>\n",
       "      <td>1000_0</td>\n",
       "      <td>2018-06-27</td>\n",
       "      <td>1000</td>\n",
       "    </tr>\n",
       "    <tr>\n",
       "      <th>1</th>\n",
       "      <td>1000_1</td>\n",
       "      <td>2018-10-08</td>\n",
       "      <td>1000</td>\n",
       "    </tr>\n",
       "    <tr>\n",
       "      <th>2</th>\n",
       "      <td>1000_2</td>\n",
       "      <td>2018-08-04</td>\n",
       "      <td>1000</td>\n",
       "    </tr>\n",
       "    <tr>\n",
       "      <th>3</th>\n",
       "      <td>1000_3</td>\n",
       "      <td>2018-06-16</td>\n",
       "      <td>1000</td>\n",
       "    </tr>\n",
       "    <tr>\n",
       "      <th>4</th>\n",
       "      <td>1000_4</td>\n",
       "      <td>2018-12-05</td>\n",
       "      <td>1000</td>\n",
       "    </tr>\n",
       "  </tbody>\n",
       "</table>\n",
       "</div>"
      ],
      "text/plain": [
       "       id message_date  user_id\n",
       "0  1000_0   2018-06-27     1000\n",
       "1  1000_1   2018-10-08     1000\n",
       "2  1000_2   2018-08-04     1000\n",
       "3  1000_3   2018-06-16     1000\n",
       "4  1000_4   2018-12-05     1000"
      ]
     },
     "execution_count": 8,
     "metadata": {},
     "output_type": "execute_result"
    }
   ],
   "source": [
    "messages.head()"
   ]
  },
  {
   "cell_type": "code",
   "execution_count": 9,
   "metadata": {
    "scrolled": false
   },
   "outputs": [
    {
     "name": "stdout",
     "output_type": "stream",
     "text": [
      "<class 'pandas.core.frame.DataFrame'>\n",
      "RangeIndex: 123036 entries, 0 to 123035\n",
      "Data columns (total 3 columns):\n",
      " #   Column        Non-Null Count   Dtype \n",
      "---  ------        --------------   ----- \n",
      " 0   id            123036 non-null  object\n",
      " 1   message_date  123036 non-null  object\n",
      " 2   user_id       123036 non-null  int64 \n",
      "dtypes: int64(1), object(2)\n",
      "memory usage: 2.8+ MB\n"
     ]
    }
   ],
   "source": [
    "messages.info()"
   ]
  },
  {
   "cell_type": "code",
   "execution_count": 10,
   "metadata": {
    "scrolled": false
   },
   "outputs": [
    {
     "data": {
      "text/html": [
       "<div>\n",
       "<style scoped>\n",
       "    .dataframe tbody tr th:only-of-type {\n",
       "        vertical-align: middle;\n",
       "    }\n",
       "\n",
       "    .dataframe tbody tr th {\n",
       "        vertical-align: top;\n",
       "    }\n",
       "\n",
       "    .dataframe thead th {\n",
       "        text-align: right;\n",
       "    }\n",
       "</style>\n",
       "<table border=\"1\" class=\"dataframe\">\n",
       "  <thead>\n",
       "    <tr style=\"text-align: right;\">\n",
       "      <th></th>\n",
       "      <th>messages_included</th>\n",
       "      <th>mb_per_month_included</th>\n",
       "      <th>minutes_included</th>\n",
       "      <th>rub_monthly_fee</th>\n",
       "      <th>rub_per_gb</th>\n",
       "      <th>rub_per_message</th>\n",
       "      <th>rub_per_minute</th>\n",
       "      <th>tariff_name</th>\n",
       "    </tr>\n",
       "  </thead>\n",
       "  <tbody>\n",
       "    <tr>\n",
       "      <th>0</th>\n",
       "      <td>50</td>\n",
       "      <td>15360</td>\n",
       "      <td>500</td>\n",
       "      <td>550</td>\n",
       "      <td>200</td>\n",
       "      <td>3</td>\n",
       "      <td>3</td>\n",
       "      <td>smart</td>\n",
       "    </tr>\n",
       "    <tr>\n",
       "      <th>1</th>\n",
       "      <td>1000</td>\n",
       "      <td>30720</td>\n",
       "      <td>3000</td>\n",
       "      <td>1950</td>\n",
       "      <td>150</td>\n",
       "      <td>1</td>\n",
       "      <td>1</td>\n",
       "      <td>ultra</td>\n",
       "    </tr>\n",
       "  </tbody>\n",
       "</table>\n",
       "</div>"
      ],
      "text/plain": [
       "   messages_included  mb_per_month_included  minutes_included  \\\n",
       "0                 50                  15360               500   \n",
       "1               1000                  30720              3000   \n",
       "\n",
       "   rub_monthly_fee  rub_per_gb  rub_per_message  rub_per_minute tariff_name  \n",
       "0              550         200                3               3       smart  \n",
       "1             1950         150                1               1       ultra  "
      ]
     },
     "execution_count": 10,
     "metadata": {},
     "output_type": "execute_result"
    }
   ],
   "source": [
    "tariffs"
   ]
  },
  {
   "cell_type": "markdown",
   "metadata": {},
   "source": [
    "Сразу заменим 'mb_per_month_included' на 'gb_per_month_included' для дальнейшего удобства."
   ]
  },
  {
   "cell_type": "code",
   "execution_count": 11,
   "metadata": {
    "scrolled": true
   },
   "outputs": [
    {
     "data": {
      "text/html": [
       "<div>\n",
       "<style scoped>\n",
       "    .dataframe tbody tr th:only-of-type {\n",
       "        vertical-align: middle;\n",
       "    }\n",
       "\n",
       "    .dataframe tbody tr th {\n",
       "        vertical-align: top;\n",
       "    }\n",
       "\n",
       "    .dataframe thead th {\n",
       "        text-align: right;\n",
       "    }\n",
       "</style>\n",
       "<table border=\"1\" class=\"dataframe\">\n",
       "  <thead>\n",
       "    <tr style=\"text-align: right;\">\n",
       "      <th></th>\n",
       "      <th>messages_included</th>\n",
       "      <th>gb_per_month_included</th>\n",
       "      <th>minutes_included</th>\n",
       "      <th>rub_monthly_fee</th>\n",
       "      <th>rub_per_gb</th>\n",
       "      <th>rub_per_message</th>\n",
       "      <th>rub_per_minute</th>\n",
       "      <th>tariff_name</th>\n",
       "    </tr>\n",
       "  </thead>\n",
       "  <tbody>\n",
       "    <tr>\n",
       "      <th>0</th>\n",
       "      <td>50</td>\n",
       "      <td>15.0</td>\n",
       "      <td>500</td>\n",
       "      <td>550</td>\n",
       "      <td>200</td>\n",
       "      <td>3</td>\n",
       "      <td>3</td>\n",
       "      <td>smart</td>\n",
       "    </tr>\n",
       "    <tr>\n",
       "      <th>1</th>\n",
       "      <td>1000</td>\n",
       "      <td>30.0</td>\n",
       "      <td>3000</td>\n",
       "      <td>1950</td>\n",
       "      <td>150</td>\n",
       "      <td>1</td>\n",
       "      <td>1</td>\n",
       "      <td>ultra</td>\n",
       "    </tr>\n",
       "  </tbody>\n",
       "</table>\n",
       "</div>"
      ],
      "text/plain": [
       "   messages_included  gb_per_month_included  minutes_included  \\\n",
       "0                 50                   15.0               500   \n",
       "1               1000                   30.0              3000   \n",
       "\n",
       "   rub_monthly_fee  rub_per_gb  rub_per_message  rub_per_minute tariff_name  \n",
       "0              550         200                3               3       smart  \n",
       "1             1950         150                1               1       ultra  "
      ]
     },
     "execution_count": 11,
     "metadata": {},
     "output_type": "execute_result"
    }
   ],
   "source": [
    "tariffs = tariffs.rename(columns={'mb_per_month_included' : 'gb_per_month_included'})\n",
    "tariffs['gb_per_month_included'] = tariffs['gb_per_month_included'] / 1024\n",
    "tariffs"
   ]
  },
  {
   "cell_type": "code",
   "execution_count": 12,
   "metadata": {},
   "outputs": [
    {
     "data": {
      "text/html": [
       "<div>\n",
       "<style scoped>\n",
       "    .dataframe tbody tr th:only-of-type {\n",
       "        vertical-align: middle;\n",
       "    }\n",
       "\n",
       "    .dataframe tbody tr th {\n",
       "        vertical-align: top;\n",
       "    }\n",
       "\n",
       "    .dataframe thead th {\n",
       "        text-align: right;\n",
       "    }\n",
       "</style>\n",
       "<table border=\"1\" class=\"dataframe\">\n",
       "  <thead>\n",
       "    <tr style=\"text-align: right;\">\n",
       "      <th></th>\n",
       "      <th>user_id</th>\n",
       "      <th>age</th>\n",
       "      <th>churn_date</th>\n",
       "      <th>city</th>\n",
       "      <th>first_name</th>\n",
       "      <th>last_name</th>\n",
       "      <th>reg_date</th>\n",
       "      <th>tariff</th>\n",
       "    </tr>\n",
       "  </thead>\n",
       "  <tbody>\n",
       "    <tr>\n",
       "      <th>0</th>\n",
       "      <td>1000</td>\n",
       "      <td>52</td>\n",
       "      <td>NaN</td>\n",
       "      <td>Краснодар</td>\n",
       "      <td>Рафаил</td>\n",
       "      <td>Верещагин</td>\n",
       "      <td>2018-05-25</td>\n",
       "      <td>ultra</td>\n",
       "    </tr>\n",
       "    <tr>\n",
       "      <th>1</th>\n",
       "      <td>1001</td>\n",
       "      <td>41</td>\n",
       "      <td>NaN</td>\n",
       "      <td>Москва</td>\n",
       "      <td>Иван</td>\n",
       "      <td>Ежов</td>\n",
       "      <td>2018-11-01</td>\n",
       "      <td>smart</td>\n",
       "    </tr>\n",
       "    <tr>\n",
       "      <th>2</th>\n",
       "      <td>1002</td>\n",
       "      <td>59</td>\n",
       "      <td>NaN</td>\n",
       "      <td>Стерлитамак</td>\n",
       "      <td>Евгений</td>\n",
       "      <td>Абрамович</td>\n",
       "      <td>2018-06-17</td>\n",
       "      <td>smart</td>\n",
       "    </tr>\n",
       "    <tr>\n",
       "      <th>3</th>\n",
       "      <td>1003</td>\n",
       "      <td>23</td>\n",
       "      <td>NaN</td>\n",
       "      <td>Москва</td>\n",
       "      <td>Белла</td>\n",
       "      <td>Белякова</td>\n",
       "      <td>2018-08-17</td>\n",
       "      <td>ultra</td>\n",
       "    </tr>\n",
       "    <tr>\n",
       "      <th>4</th>\n",
       "      <td>1004</td>\n",
       "      <td>68</td>\n",
       "      <td>NaN</td>\n",
       "      <td>Новокузнецк</td>\n",
       "      <td>Татьяна</td>\n",
       "      <td>Авдеенко</td>\n",
       "      <td>2018-05-14</td>\n",
       "      <td>ultra</td>\n",
       "    </tr>\n",
       "  </tbody>\n",
       "</table>\n",
       "</div>"
      ],
      "text/plain": [
       "   user_id  age churn_date         city first_name  last_name    reg_date  \\\n",
       "0     1000   52        NaN    Краснодар     Рафаил  Верещагин  2018-05-25   \n",
       "1     1001   41        NaN       Москва       Иван       Ежов  2018-11-01   \n",
       "2     1002   59        NaN  Стерлитамак    Евгений  Абрамович  2018-06-17   \n",
       "3     1003   23        NaN       Москва      Белла   Белякова  2018-08-17   \n",
       "4     1004   68        NaN  Новокузнецк    Татьяна   Авдеенко  2018-05-14   \n",
       "\n",
       "  tariff  \n",
       "0  ultra  \n",
       "1  smart  \n",
       "2  smart  \n",
       "3  ultra  \n",
       "4  ultra  "
      ]
     },
     "execution_count": 12,
     "metadata": {},
     "output_type": "execute_result"
    }
   ],
   "source": [
    "users.head()"
   ]
  },
  {
   "cell_type": "code",
   "execution_count": 13,
   "metadata": {
    "scrolled": false
   },
   "outputs": [
    {
     "name": "stdout",
     "output_type": "stream",
     "text": [
      "<class 'pandas.core.frame.DataFrame'>\n",
      "RangeIndex: 500 entries, 0 to 499\n",
      "Data columns (total 8 columns):\n",
      " #   Column      Non-Null Count  Dtype \n",
      "---  ------      --------------  ----- \n",
      " 0   user_id     500 non-null    int64 \n",
      " 1   age         500 non-null    int64 \n",
      " 2   churn_date  38 non-null     object\n",
      " 3   city        500 non-null    object\n",
      " 4   first_name  500 non-null    object\n",
      " 5   last_name   500 non-null    object\n",
      " 6   reg_date    500 non-null    object\n",
      " 7   tariff      500 non-null    object\n",
      "dtypes: int64(2), object(6)\n",
      "memory usage: 31.4+ KB\n"
     ]
    }
   ],
   "source": [
    "users.info()"
   ]
  },
  {
   "cell_type": "code",
   "execution_count": 14,
   "metadata": {},
   "outputs": [
    {
     "data": {
      "text/html": [
       "<div>\n",
       "<style scoped>\n",
       "    .dataframe tbody tr th:only-of-type {\n",
       "        vertical-align: middle;\n",
       "    }\n",
       "\n",
       "    .dataframe tbody tr th {\n",
       "        vertical-align: top;\n",
       "    }\n",
       "\n",
       "    .dataframe thead th {\n",
       "        text-align: right;\n",
       "    }\n",
       "</style>\n",
       "<table border=\"1\" class=\"dataframe\">\n",
       "  <thead>\n",
       "    <tr style=\"text-align: right;\">\n",
       "      <th></th>\n",
       "      <th>id</th>\n",
       "      <th>call_date</th>\n",
       "      <th>duration</th>\n",
       "      <th>user_id</th>\n",
       "    </tr>\n",
       "  </thead>\n",
       "  <tbody>\n",
       "    <tr>\n",
       "      <th>0</th>\n",
       "      <td>1000_0</td>\n",
       "      <td>2018-07-25</td>\n",
       "      <td>0</td>\n",
       "      <td>1000</td>\n",
       "    </tr>\n",
       "    <tr>\n",
       "      <th>1</th>\n",
       "      <td>1000_1</td>\n",
       "      <td>2018-08-17</td>\n",
       "      <td>0</td>\n",
       "      <td>1000</td>\n",
       "    </tr>\n",
       "    <tr>\n",
       "      <th>2</th>\n",
       "      <td>1000_2</td>\n",
       "      <td>2018-06-11</td>\n",
       "      <td>3</td>\n",
       "      <td>1000</td>\n",
       "    </tr>\n",
       "    <tr>\n",
       "      <th>3</th>\n",
       "      <td>1000_3</td>\n",
       "      <td>2018-09-21</td>\n",
       "      <td>14</td>\n",
       "      <td>1000</td>\n",
       "    </tr>\n",
       "    <tr>\n",
       "      <th>4</th>\n",
       "      <td>1000_4</td>\n",
       "      <td>2018-12-15</td>\n",
       "      <td>6</td>\n",
       "      <td>1000</td>\n",
       "    </tr>\n",
       "  </tbody>\n",
       "</table>\n",
       "</div>"
      ],
      "text/plain": [
       "       id   call_date  duration  user_id\n",
       "0  1000_0  2018-07-25         0     1000\n",
       "1  1000_1  2018-08-17         0     1000\n",
       "2  1000_2  2018-06-11         3     1000\n",
       "3  1000_3  2018-09-21        14     1000\n",
       "4  1000_4  2018-12-15         6     1000"
      ]
     },
     "execution_count": 14,
     "metadata": {},
     "output_type": "execute_result"
    }
   ],
   "source": [
    "calls['duration'] = calls['duration'].apply('ceil').astype('int')\n",
    "calls.head()"
   ]
  },
  {
   "cell_type": "markdown",
   "metadata": {},
   "source": [
    "### Объединение всех датасетов в один"
   ]
  },
  {
   "cell_type": "markdown",
   "metadata": {},
   "source": [
    "Объединение таблиц calls, internet, messages проводится по столбцу id (уникальный номер звонка, сообщения, интернет-сессии), так как столбец id содержит идентификационный номер пользователя и через '_' числовую последовательность от 0 до числа звонков, сообщений, сессий (смотря какой параметр из трех больше), так как объединение идет с параметром 'outer'.  \n",
    "Последнее объединение идет  стаблицей users по столбцу user_id"
   ]
  },
  {
   "cell_type": "code",
   "execution_count": 15,
   "metadata": {
    "scrolled": false
   },
   "outputs": [
    {
     "data": {
      "text/html": [
       "<div>\n",
       "<style scoped>\n",
       "    .dataframe tbody tr th:only-of-type {\n",
       "        vertical-align: middle;\n",
       "    }\n",
       "\n",
       "    .dataframe tbody tr th {\n",
       "        vertical-align: top;\n",
       "    }\n",
       "\n",
       "    .dataframe thead th {\n",
       "        text-align: right;\n",
       "    }\n",
       "</style>\n",
       "<table border=\"1\" class=\"dataframe\">\n",
       "  <thead>\n",
       "    <tr style=\"text-align: right;\">\n",
       "      <th></th>\n",
       "      <th>id</th>\n",
       "      <th>call_date</th>\n",
       "      <th>duration</th>\n",
       "      <th>user_id</th>\n",
       "      <th>message_date</th>\n",
       "      <th>mb_used</th>\n",
       "      <th>session_date</th>\n",
       "      <th>age</th>\n",
       "      <th>churn_date</th>\n",
       "      <th>city</th>\n",
       "      <th>first_name</th>\n",
       "      <th>last_name</th>\n",
       "      <th>reg_date</th>\n",
       "      <th>tariff</th>\n",
       "    </tr>\n",
       "  </thead>\n",
       "  <tbody>\n",
       "    <tr>\n",
       "      <th>0</th>\n",
       "      <td>1000_0</td>\n",
       "      <td>2018-07-25</td>\n",
       "      <td>0.0</td>\n",
       "      <td>1000</td>\n",
       "      <td>2018-06-27</td>\n",
       "      <td>112.95</td>\n",
       "      <td>2018-11-25</td>\n",
       "      <td>52</td>\n",
       "      <td>NaN</td>\n",
       "      <td>Краснодар</td>\n",
       "      <td>Рафаил</td>\n",
       "      <td>Верещагин</td>\n",
       "      <td>2018-05-25</td>\n",
       "      <td>ultra</td>\n",
       "    </tr>\n",
       "    <tr>\n",
       "      <th>1</th>\n",
       "      <td>1000_1</td>\n",
       "      <td>2018-08-17</td>\n",
       "      <td>0.0</td>\n",
       "      <td>1000</td>\n",
       "      <td>2018-10-08</td>\n",
       "      <td>1052.81</td>\n",
       "      <td>2018-09-07</td>\n",
       "      <td>52</td>\n",
       "      <td>NaN</td>\n",
       "      <td>Краснодар</td>\n",
       "      <td>Рафаил</td>\n",
       "      <td>Верещагин</td>\n",
       "      <td>2018-05-25</td>\n",
       "      <td>ultra</td>\n",
       "    </tr>\n",
       "    <tr>\n",
       "      <th>2</th>\n",
       "      <td>1000_2</td>\n",
       "      <td>2018-06-11</td>\n",
       "      <td>3.0</td>\n",
       "      <td>1000</td>\n",
       "      <td>2018-08-04</td>\n",
       "      <td>1197.26</td>\n",
       "      <td>2018-06-25</td>\n",
       "      <td>52</td>\n",
       "      <td>NaN</td>\n",
       "      <td>Краснодар</td>\n",
       "      <td>Рафаил</td>\n",
       "      <td>Верещагин</td>\n",
       "      <td>2018-05-25</td>\n",
       "      <td>ultra</td>\n",
       "    </tr>\n",
       "    <tr>\n",
       "      <th>3</th>\n",
       "      <td>1000_3</td>\n",
       "      <td>2018-09-21</td>\n",
       "      <td>14.0</td>\n",
       "      <td>1000</td>\n",
       "      <td>2018-06-16</td>\n",
       "      <td>550.27</td>\n",
       "      <td>2018-08-22</td>\n",
       "      <td>52</td>\n",
       "      <td>NaN</td>\n",
       "      <td>Краснодар</td>\n",
       "      <td>Рафаил</td>\n",
       "      <td>Верещагин</td>\n",
       "      <td>2018-05-25</td>\n",
       "      <td>ultra</td>\n",
       "    </tr>\n",
       "    <tr>\n",
       "      <th>4</th>\n",
       "      <td>1000_4</td>\n",
       "      <td>2018-12-15</td>\n",
       "      <td>6.0</td>\n",
       "      <td>1000</td>\n",
       "      <td>2018-12-05</td>\n",
       "      <td>302.56</td>\n",
       "      <td>2018-09-24</td>\n",
       "      <td>52</td>\n",
       "      <td>NaN</td>\n",
       "      <td>Краснодар</td>\n",
       "      <td>Рафаил</td>\n",
       "      <td>Верещагин</td>\n",
       "      <td>2018-05-25</td>\n",
       "      <td>ultra</td>\n",
       "    </tr>\n",
       "  </tbody>\n",
       "</table>\n",
       "</div>"
      ],
      "text/plain": [
       "       id   call_date  duration  user_id message_date  mb_used session_date  \\\n",
       "0  1000_0  2018-07-25       0.0     1000   2018-06-27   112.95   2018-11-25   \n",
       "1  1000_1  2018-08-17       0.0     1000   2018-10-08  1052.81   2018-09-07   \n",
       "2  1000_2  2018-06-11       3.0     1000   2018-08-04  1197.26   2018-06-25   \n",
       "3  1000_3  2018-09-21      14.0     1000   2018-06-16   550.27   2018-08-22   \n",
       "4  1000_4  2018-12-15       6.0     1000   2018-12-05   302.56   2018-09-24   \n",
       "\n",
       "   age churn_date       city first_name  last_name    reg_date tariff  \n",
       "0   52        NaN  Краснодар     Рафаил  Верещагин  2018-05-25  ultra  \n",
       "1   52        NaN  Краснодар     Рафаил  Верещагин  2018-05-25  ultra  \n",
       "2   52        NaN  Краснодар     Рафаил  Верещагин  2018-05-25  ultra  \n",
       "3   52        NaN  Краснодар     Рафаил  Верещагин  2018-05-25  ultra  \n",
       "4   52        NaN  Краснодар     Рафаил  Верещагин  2018-05-25  ultra  "
      ]
     },
     "execution_count": 15,
     "metadata": {},
     "output_type": "execute_result"
    }
   ],
   "source": [
    "df = calls.merge(messages, how='outer').merge(internet, how='outer').merge(users, how='right')\n",
    "df.head()"
   ]
  },
  {
   "cell_type": "code",
   "execution_count": 16,
   "metadata": {
    "scrolled": false
   },
   "outputs": [
    {
     "name": "stdout",
     "output_type": "stream",
     "text": [
      "<class 'pandas.core.frame.DataFrame'>\n",
      "Int64Index: 237281 entries, 0 to 237280\n",
      "Data columns (total 14 columns):\n",
      " #   Column        Non-Null Count   Dtype  \n",
      "---  ------        --------------   -----  \n",
      " 0   id            237279 non-null  object \n",
      " 1   call_date     202607 non-null  object \n",
      " 2   duration      202607 non-null  float64\n",
      " 3   user_id       237281 non-null  int64  \n",
      " 4   message_date  123036 non-null  object \n",
      " 5   mb_used       149396 non-null  float64\n",
      " 6   session_date  149396 non-null  object \n",
      " 7   age           237281 non-null  int64  \n",
      " 8   churn_date    11187 non-null   object \n",
      " 9   city          237281 non-null  object \n",
      " 10  first_name    237281 non-null  object \n",
      " 11  last_name     237281 non-null  object \n",
      " 12  reg_date      237281 non-null  object \n",
      " 13  tariff        237281 non-null  object \n",
      "dtypes: float64(2), int64(2), object(10)\n",
      "memory usage: 27.2+ MB\n"
     ]
    }
   ],
   "source": [
    "df.info()"
   ]
  },
  {
   "cell_type": "markdown",
   "metadata": {},
   "source": [
    "### Поиск ошибок в данных, удаление/замена значений, изменение форматов"
   ]
  },
  {
   "cell_type": "markdown",
   "metadata": {},
   "source": [
    "**Для меня открытым до сих пор остается вопрос, нужно ли удалять NaN**, или заменять их на опредленное число, ведь математические операции можно проводить с NaN, они не должны помешать. Просто нет подходящих значений для замены, например в столбце duration, ведь если мы заменим NaN на 0, что вроде бы логично, то не сможем отличить от пропущенных звонков, которые имеют значение 0.  \n",
    "В случаях интернет-сессий можем заменить пропущенные значения в столбце mb_used на 0, так как скорее всего отсутствие информации о них говорит о том, что человек не заходил в интернет."
   ]
  },
  {
   "cell_type": "code",
   "execution_count": 17,
   "metadata": {},
   "outputs": [],
   "source": [
    "df['mb_used'] = df['mb_used'].fillna(0) # заменим NaN на 0"
   ]
  },
  {
   "cell_type": "code",
   "execution_count": 18,
   "metadata": {},
   "outputs": [],
   "source": [
    "df['duration'] = df['duration'].fillna(0) # заменим NaN на 0"
   ]
  },
  {
   "cell_type": "markdown",
   "metadata": {},
   "source": [
    "Изменим тип данных в столбцах call_date, message_date, session_date, churn_date, reg_date на формат даты, чтобы затем мы могли обращаться к году, месяцу, дню, если это будет необходимо."
   ]
  },
  {
   "cell_type": "code",
   "execution_count": 19,
   "metadata": {},
   "outputs": [],
   "source": [
    "columns_to_change = ['call_date', 'message_date', 'session_date', 'churn_date', 'reg_date']\n",
    "df[columns_to_change] = df[columns_to_change].apply(pd.to_datetime, format='%Y-%m-%d')"
   ]
  },
  {
   "cell_type": "markdown",
   "metadata": {},
   "source": [
    "Также имеет смысл удалить из таблицы неактивных абонентов (не звонили, не писали, не сидели в интернете). Таких всего двое, удалим их."
   ]
  },
  {
   "cell_type": "code",
   "execution_count": 20,
   "metadata": {},
   "outputs": [],
   "source": [
    "df = df[~(df['call_date'].isna() \n",
    "          & df['message_date'].isna() \n",
    "          & df['session_date'].isna())]"
   ]
  },
  {
   "cell_type": "code",
   "execution_count": 21,
   "metadata": {
    "scrolled": false
   },
   "outputs": [
    {
     "name": "stdout",
     "output_type": "stream",
     "text": [
      "<class 'pandas.core.frame.DataFrame'>\n",
      "Int64Index: 237279 entries, 0 to 237280\n",
      "Data columns (total 14 columns):\n",
      " #   Column        Non-Null Count   Dtype         \n",
      "---  ------        --------------   -----         \n",
      " 0   id            237279 non-null  object        \n",
      " 1   call_date     202607 non-null  datetime64[ns]\n",
      " 2   duration      237279 non-null  float64       \n",
      " 3   user_id       237279 non-null  int64         \n",
      " 4   message_date  123036 non-null  datetime64[ns]\n",
      " 5   mb_used       237279 non-null  float64       \n",
      " 6   session_date  149396 non-null  datetime64[ns]\n",
      " 7   age           237279 non-null  int64         \n",
      " 8   churn_date    11185 non-null   datetime64[ns]\n",
      " 9   city          237279 non-null  object        \n",
      " 10  first_name    237279 non-null  object        \n",
      " 11  last_name     237279 non-null  object        \n",
      " 12  reg_date      237279 non-null  datetime64[ns]\n",
      " 13  tariff        237279 non-null  object        \n",
      "dtypes: datetime64[ns](5), float64(2), int64(2), object(5)\n",
      "memory usage: 27.2+ MB\n"
     ]
    }
   ],
   "source": [
    "df.info()"
   ]
  },
  {
   "cell_type": "markdown",
   "metadata": {},
   "source": [
    "## Расчет параметров для каждого пользователя:"
   ]
  },
  {
   "cell_type": "markdown",
   "metadata": {},
   "source": [
    "Для каждого пользователя расчитаем:  \n",
    "\n",
    "- количество сделанных звонков и израсходованных минут разговора по месяцам\n",
    "- количество отправленных сообщений по месяцам\n",
    "- объем израсходованного интернет-трафика по месяцам\n",
    "- помесячную выручку с каждого пользователя"
   ]
  },
  {
   "cell_type": "markdown",
   "metadata": {},
   "source": [
    "Сначала добавим столбец в названием месяца, в который совершался звонок 'call_month', название месяца, в который отправлялось сообщение 'message_month', и месяц выхода в интернет 'internet_month'"
   ]
  },
  {
   "cell_type": "code",
   "execution_count": 22,
   "metadata": {},
   "outputs": [],
   "source": [
    "df['call_month'] = df['call_date'].dt.month\n",
    "df['message_month'] = df['message_date'].dt.month\n",
    "df['internet_month'] = df['session_date'].dt.month"
   ]
  },
  {
   "cell_type": "code",
   "execution_count": 23,
   "metadata": {
    "scrolled": false
   },
   "outputs": [
    {
     "data": {
      "text/html": [
       "<div>\n",
       "<style scoped>\n",
       "    .dataframe tbody tr th:only-of-type {\n",
       "        vertical-align: middle;\n",
       "    }\n",
       "\n",
       "    .dataframe tbody tr th {\n",
       "        vertical-align: top;\n",
       "    }\n",
       "\n",
       "    .dataframe thead th {\n",
       "        text-align: right;\n",
       "    }\n",
       "</style>\n",
       "<table border=\"1\" class=\"dataframe\">\n",
       "  <thead>\n",
       "    <tr style=\"text-align: right;\">\n",
       "      <th></th>\n",
       "      <th>id</th>\n",
       "      <th>call_date</th>\n",
       "      <th>duration</th>\n",
       "      <th>user_id</th>\n",
       "      <th>message_date</th>\n",
       "      <th>mb_used</th>\n",
       "      <th>session_date</th>\n",
       "      <th>age</th>\n",
       "      <th>churn_date</th>\n",
       "      <th>city</th>\n",
       "      <th>first_name</th>\n",
       "      <th>last_name</th>\n",
       "      <th>reg_date</th>\n",
       "      <th>tariff</th>\n",
       "      <th>call_month</th>\n",
       "      <th>message_month</th>\n",
       "      <th>internet_month</th>\n",
       "    </tr>\n",
       "  </thead>\n",
       "  <tbody>\n",
       "    <tr>\n",
       "      <th>0</th>\n",
       "      <td>1000_0</td>\n",
       "      <td>2018-07-25</td>\n",
       "      <td>0.0</td>\n",
       "      <td>1000</td>\n",
       "      <td>2018-06-27</td>\n",
       "      <td>112.95</td>\n",
       "      <td>2018-11-25</td>\n",
       "      <td>52</td>\n",
       "      <td>NaT</td>\n",
       "      <td>Краснодар</td>\n",
       "      <td>Рафаил</td>\n",
       "      <td>Верещагин</td>\n",
       "      <td>2018-05-25</td>\n",
       "      <td>ultra</td>\n",
       "      <td>7.0</td>\n",
       "      <td>6.0</td>\n",
       "      <td>11.0</td>\n",
       "    </tr>\n",
       "    <tr>\n",
       "      <th>1</th>\n",
       "      <td>1000_1</td>\n",
       "      <td>2018-08-17</td>\n",
       "      <td>0.0</td>\n",
       "      <td>1000</td>\n",
       "      <td>2018-10-08</td>\n",
       "      <td>1052.81</td>\n",
       "      <td>2018-09-07</td>\n",
       "      <td>52</td>\n",
       "      <td>NaT</td>\n",
       "      <td>Краснодар</td>\n",
       "      <td>Рафаил</td>\n",
       "      <td>Верещагин</td>\n",
       "      <td>2018-05-25</td>\n",
       "      <td>ultra</td>\n",
       "      <td>8.0</td>\n",
       "      <td>10.0</td>\n",
       "      <td>9.0</td>\n",
       "    </tr>\n",
       "    <tr>\n",
       "      <th>2</th>\n",
       "      <td>1000_2</td>\n",
       "      <td>2018-06-11</td>\n",
       "      <td>3.0</td>\n",
       "      <td>1000</td>\n",
       "      <td>2018-08-04</td>\n",
       "      <td>1197.26</td>\n",
       "      <td>2018-06-25</td>\n",
       "      <td>52</td>\n",
       "      <td>NaT</td>\n",
       "      <td>Краснодар</td>\n",
       "      <td>Рафаил</td>\n",
       "      <td>Верещагин</td>\n",
       "      <td>2018-05-25</td>\n",
       "      <td>ultra</td>\n",
       "      <td>6.0</td>\n",
       "      <td>8.0</td>\n",
       "      <td>6.0</td>\n",
       "    </tr>\n",
       "    <tr>\n",
       "      <th>3</th>\n",
       "      <td>1000_3</td>\n",
       "      <td>2018-09-21</td>\n",
       "      <td>14.0</td>\n",
       "      <td>1000</td>\n",
       "      <td>2018-06-16</td>\n",
       "      <td>550.27</td>\n",
       "      <td>2018-08-22</td>\n",
       "      <td>52</td>\n",
       "      <td>NaT</td>\n",
       "      <td>Краснодар</td>\n",
       "      <td>Рафаил</td>\n",
       "      <td>Верещагин</td>\n",
       "      <td>2018-05-25</td>\n",
       "      <td>ultra</td>\n",
       "      <td>9.0</td>\n",
       "      <td>6.0</td>\n",
       "      <td>8.0</td>\n",
       "    </tr>\n",
       "    <tr>\n",
       "      <th>4</th>\n",
       "      <td>1000_4</td>\n",
       "      <td>2018-12-15</td>\n",
       "      <td>6.0</td>\n",
       "      <td>1000</td>\n",
       "      <td>2018-12-05</td>\n",
       "      <td>302.56</td>\n",
       "      <td>2018-09-24</td>\n",
       "      <td>52</td>\n",
       "      <td>NaT</td>\n",
       "      <td>Краснодар</td>\n",
       "      <td>Рафаил</td>\n",
       "      <td>Верещагин</td>\n",
       "      <td>2018-05-25</td>\n",
       "      <td>ultra</td>\n",
       "      <td>12.0</td>\n",
       "      <td>12.0</td>\n",
       "      <td>9.0</td>\n",
       "    </tr>\n",
       "  </tbody>\n",
       "</table>\n",
       "</div>"
      ],
      "text/plain": [
       "       id  call_date  duration  user_id message_date  mb_used session_date  \\\n",
       "0  1000_0 2018-07-25       0.0     1000   2018-06-27   112.95   2018-11-25   \n",
       "1  1000_1 2018-08-17       0.0     1000   2018-10-08  1052.81   2018-09-07   \n",
       "2  1000_2 2018-06-11       3.0     1000   2018-08-04  1197.26   2018-06-25   \n",
       "3  1000_3 2018-09-21      14.0     1000   2018-06-16   550.27   2018-08-22   \n",
       "4  1000_4 2018-12-15       6.0     1000   2018-12-05   302.56   2018-09-24   \n",
       "\n",
       "   age churn_date       city first_name  last_name   reg_date tariff  \\\n",
       "0   52        NaT  Краснодар     Рафаил  Верещагин 2018-05-25  ultra   \n",
       "1   52        NaT  Краснодар     Рафаил  Верещагин 2018-05-25  ultra   \n",
       "2   52        NaT  Краснодар     Рафаил  Верещагин 2018-05-25  ultra   \n",
       "3   52        NaT  Краснодар     Рафаил  Верещагин 2018-05-25  ultra   \n",
       "4   52        NaT  Краснодар     Рафаил  Верещагин 2018-05-25  ultra   \n",
       "\n",
       "   call_month  message_month  internet_month  \n",
       "0         7.0            6.0            11.0  \n",
       "1         8.0           10.0             9.0  \n",
       "2         6.0            8.0             6.0  \n",
       "3         9.0            6.0             8.0  \n",
       "4        12.0           12.0             9.0  "
      ]
     },
     "execution_count": 23,
     "metadata": {},
     "output_type": "execute_result"
    }
   ],
   "source": [
    "df.head()"
   ]
  },
  {
   "cell_type": "code",
   "execution_count": 24,
   "metadata": {},
   "outputs": [
    {
     "data": {
      "text/html": [
       "<div>\n",
       "<style scoped>\n",
       "    .dataframe tbody tr th:only-of-type {\n",
       "        vertical-align: middle;\n",
       "    }\n",
       "\n",
       "    .dataframe tbody tr th {\n",
       "        vertical-align: top;\n",
       "    }\n",
       "\n",
       "    .dataframe thead th {\n",
       "        text-align: right;\n",
       "    }\n",
       "</style>\n",
       "<table border=\"1\" class=\"dataframe\">\n",
       "  <thead>\n",
       "    <tr style=\"text-align: right;\">\n",
       "      <th></th>\n",
       "      <th>tariff</th>\n",
       "    </tr>\n",
       "    <tr>\n",
       "      <th>user_id</th>\n",
       "      <th></th>\n",
       "    </tr>\n",
       "  </thead>\n",
       "  <tbody>\n",
       "    <tr>\n",
       "      <th>1000</th>\n",
       "      <td>ultra</td>\n",
       "    </tr>\n",
       "    <tr>\n",
       "      <th>1001</th>\n",
       "      <td>smart</td>\n",
       "    </tr>\n",
       "    <tr>\n",
       "      <th>1002</th>\n",
       "      <td>smart</td>\n",
       "    </tr>\n",
       "    <tr>\n",
       "      <th>1003</th>\n",
       "      <td>ultra</td>\n",
       "    </tr>\n",
       "    <tr>\n",
       "      <th>1004</th>\n",
       "      <td>ultra</td>\n",
       "    </tr>\n",
       "  </tbody>\n",
       "</table>\n",
       "</div>"
      ],
      "text/plain": [
       "        tariff\n",
       "user_id       \n",
       "1000     ultra\n",
       "1001     smart\n",
       "1002     smart\n",
       "1003     ultra\n",
       "1004     ultra"
      ]
     },
     "execution_count": 24,
     "metadata": {},
     "output_type": "execute_result"
    }
   ],
   "source": [
    "tarrifs_user = df.groupby('user_id')\n",
    "tarrifs_user = tarrifs_user.first()['tariff'].to_frame() # не понял как еще вывести просто группировку\n",
    "tarrifs_user.head()                                      # без применения count, sum и т.д.\n",
    "                                            # то есть чтобы просто значения колонки tarrif остались, \n",
    "                                            # поэтому пришлось применить first()"
   ]
  },
  {
   "cell_type": "code",
   "execution_count": 25,
   "metadata": {
    "scrolled": false
   },
   "outputs": [
    {
     "data": {
      "text/html": [
       "<div>\n",
       "<style scoped>\n",
       "    .dataframe tbody tr th:only-of-type {\n",
       "        vertical-align: middle;\n",
       "    }\n",
       "\n",
       "    .dataframe tbody tr th {\n",
       "        vertical-align: top;\n",
       "    }\n",
       "\n",
       "    .dataframe thead th {\n",
       "        text-align: right;\n",
       "    }\n",
       "</style>\n",
       "<table border=\"1\" class=\"dataframe\">\n",
       "  <thead>\n",
       "    <tr style=\"text-align: right;\">\n",
       "      <th></th>\n",
       "      <th>user_id</th>\n",
       "      <th>month</th>\n",
       "      <th>call_count</th>\n",
       "      <th>call_sum</th>\n",
       "    </tr>\n",
       "  </thead>\n",
       "  <tbody>\n",
       "    <tr>\n",
       "      <th>0</th>\n",
       "      <td>1000</td>\n",
       "      <td>5.0</td>\n",
       "      <td>22</td>\n",
       "      <td>159.0</td>\n",
       "    </tr>\n",
       "    <tr>\n",
       "      <th>1</th>\n",
       "      <td>1000</td>\n",
       "      <td>6.0</td>\n",
       "      <td>43</td>\n",
       "      <td>172.0</td>\n",
       "    </tr>\n",
       "    <tr>\n",
       "      <th>2</th>\n",
       "      <td>1000</td>\n",
       "      <td>7.0</td>\n",
       "      <td>47</td>\n",
       "      <td>340.0</td>\n",
       "    </tr>\n",
       "    <tr>\n",
       "      <th>3</th>\n",
       "      <td>1000</td>\n",
       "      <td>8.0</td>\n",
       "      <td>52</td>\n",
       "      <td>408.0</td>\n",
       "    </tr>\n",
       "    <tr>\n",
       "      <th>4</th>\n",
       "      <td>1000</td>\n",
       "      <td>9.0</td>\n",
       "      <td>58</td>\n",
       "      <td>466.0</td>\n",
       "    </tr>\n",
       "    <tr>\n",
       "      <th>5</th>\n",
       "      <td>1000</td>\n",
       "      <td>10.0</td>\n",
       "      <td>57</td>\n",
       "      <td>350.0</td>\n",
       "    </tr>\n",
       "    <tr>\n",
       "      <th>6</th>\n",
       "      <td>1000</td>\n",
       "      <td>11.0</td>\n",
       "      <td>43</td>\n",
       "      <td>338.0</td>\n",
       "    </tr>\n",
       "    <tr>\n",
       "      <th>7</th>\n",
       "      <td>1000</td>\n",
       "      <td>12.0</td>\n",
       "      <td>46</td>\n",
       "      <td>333.0</td>\n",
       "    </tr>\n",
       "  </tbody>\n",
       "</table>\n",
       "</div>"
      ],
      "text/plain": [
       "   user_id  month  call_count  call_sum\n",
       "0     1000    5.0          22     159.0\n",
       "1     1000    6.0          43     172.0\n",
       "2     1000    7.0          47     340.0\n",
       "3     1000    8.0          52     408.0\n",
       "4     1000    9.0          58     466.0\n",
       "5     1000   10.0          57     350.0\n",
       "6     1000   11.0          43     338.0\n",
       "7     1000   12.0          46     333.0"
      ]
     },
     "execution_count": 25,
     "metadata": {},
     "output_type": "execute_result"
    }
   ],
   "source": [
    "calls_pivot = df.pivot_table(index=['user_id', 'call_month'], \n",
    "                             values='duration', \n",
    "                             aggfunc=['count', 'sum']).reset_index()\n",
    "calls_pivot.columns=['user_id', 'month', 'call_count', 'call_sum']\n",
    "calls_pivot[calls_pivot['user_id'] == 1000]"
   ]
  },
  {
   "cell_type": "code",
   "execution_count": 26,
   "metadata": {
    "scrolled": true
   },
   "outputs": [
    {
     "data": {
      "text/html": [
       "<div>\n",
       "<style scoped>\n",
       "    .dataframe tbody tr th:only-of-type {\n",
       "        vertical-align: middle;\n",
       "    }\n",
       "\n",
       "    .dataframe tbody tr th {\n",
       "        vertical-align: top;\n",
       "    }\n",
       "\n",
       "    .dataframe thead th {\n",
       "        text-align: right;\n",
       "    }\n",
       "</style>\n",
       "<table border=\"1\" class=\"dataframe\">\n",
       "  <thead>\n",
       "    <tr style=\"text-align: right;\">\n",
       "      <th></th>\n",
       "      <th>user_id</th>\n",
       "      <th>month</th>\n",
       "      <th>message_count</th>\n",
       "    </tr>\n",
       "  </thead>\n",
       "  <tbody>\n",
       "    <tr>\n",
       "      <th>0</th>\n",
       "      <td>1000</td>\n",
       "      <td>5.0</td>\n",
       "      <td>22</td>\n",
       "    </tr>\n",
       "    <tr>\n",
       "      <th>1</th>\n",
       "      <td>1000</td>\n",
       "      <td>6.0</td>\n",
       "      <td>60</td>\n",
       "    </tr>\n",
       "    <tr>\n",
       "      <th>2</th>\n",
       "      <td>1000</td>\n",
       "      <td>7.0</td>\n",
       "      <td>75</td>\n",
       "    </tr>\n",
       "    <tr>\n",
       "      <th>3</th>\n",
       "      <td>1000</td>\n",
       "      <td>8.0</td>\n",
       "      <td>81</td>\n",
       "    </tr>\n",
       "    <tr>\n",
       "      <th>4</th>\n",
       "      <td>1000</td>\n",
       "      <td>9.0</td>\n",
       "      <td>57</td>\n",
       "    </tr>\n",
       "    <tr>\n",
       "      <th>5</th>\n",
       "      <td>1000</td>\n",
       "      <td>10.0</td>\n",
       "      <td>73</td>\n",
       "    </tr>\n",
       "    <tr>\n",
       "      <th>6</th>\n",
       "      <td>1000</td>\n",
       "      <td>11.0</td>\n",
       "      <td>58</td>\n",
       "    </tr>\n",
       "    <tr>\n",
       "      <th>7</th>\n",
       "      <td>1000</td>\n",
       "      <td>12.0</td>\n",
       "      <td>70</td>\n",
       "    </tr>\n",
       "  </tbody>\n",
       "</table>\n",
       "</div>"
      ],
      "text/plain": [
       "   user_id  month  message_count\n",
       "0     1000    5.0             22\n",
       "1     1000    6.0             60\n",
       "2     1000    7.0             75\n",
       "3     1000    8.0             81\n",
       "4     1000    9.0             57\n",
       "5     1000   10.0             73\n",
       "6     1000   11.0             58\n",
       "7     1000   12.0             70"
      ]
     },
     "execution_count": 26,
     "metadata": {},
     "output_type": "execute_result"
    }
   ],
   "source": [
    "message_pivot = df.pivot_table(index=['user_id', 'message_month'], \n",
    "                               values='message_date', \n",
    "                               aggfunc='count').reset_index()\n",
    "message_pivot.columns = ['user_id', 'month', 'message_count']\n",
    "message_pivot[message_pivot['user_id'] == 1000]"
   ]
  },
  {
   "cell_type": "code",
   "execution_count": 27,
   "metadata": {
    "scrolled": true
   },
   "outputs": [
    {
     "data": {
      "text/html": [
       "<div>\n",
       "<style scoped>\n",
       "    .dataframe tbody tr th:only-of-type {\n",
       "        vertical-align: middle;\n",
       "    }\n",
       "\n",
       "    .dataframe tbody tr th {\n",
       "        vertical-align: top;\n",
       "    }\n",
       "\n",
       "    .dataframe thead th {\n",
       "        text-align: right;\n",
       "    }\n",
       "</style>\n",
       "<table border=\"1\" class=\"dataframe\">\n",
       "  <thead>\n",
       "    <tr style=\"text-align: right;\">\n",
       "      <th></th>\n",
       "      <th>user_id</th>\n",
       "      <th>month</th>\n",
       "      <th>internet_used_sum</th>\n",
       "    </tr>\n",
       "  </thead>\n",
       "  <tbody>\n",
       "    <tr>\n",
       "      <th>0</th>\n",
       "      <td>1000</td>\n",
       "      <td>5.0</td>\n",
       "      <td>2253.49</td>\n",
       "    </tr>\n",
       "    <tr>\n",
       "      <th>1</th>\n",
       "      <td>1000</td>\n",
       "      <td>6.0</td>\n",
       "      <td>23233.77</td>\n",
       "    </tr>\n",
       "    <tr>\n",
       "      <th>2</th>\n",
       "      <td>1000</td>\n",
       "      <td>7.0</td>\n",
       "      <td>14003.64</td>\n",
       "    </tr>\n",
       "    <tr>\n",
       "      <th>3</th>\n",
       "      <td>1000</td>\n",
       "      <td>8.0</td>\n",
       "      <td>14055.93</td>\n",
       "    </tr>\n",
       "    <tr>\n",
       "      <th>4</th>\n",
       "      <td>1000</td>\n",
       "      <td>9.0</td>\n",
       "      <td>14568.91</td>\n",
       "    </tr>\n",
       "    <tr>\n",
       "      <th>5</th>\n",
       "      <td>1000</td>\n",
       "      <td>10.0</td>\n",
       "      <td>14702.49</td>\n",
       "    </tr>\n",
       "    <tr>\n",
       "      <th>6</th>\n",
       "      <td>1000</td>\n",
       "      <td>11.0</td>\n",
       "      <td>14756.47</td>\n",
       "    </tr>\n",
       "    <tr>\n",
       "      <th>7</th>\n",
       "      <td>1000</td>\n",
       "      <td>12.0</td>\n",
       "      <td>9817.61</td>\n",
       "    </tr>\n",
       "  </tbody>\n",
       "</table>\n",
       "</div>"
      ],
      "text/plain": [
       "   user_id  month  internet_used_sum\n",
       "0     1000    5.0            2253.49\n",
       "1     1000    6.0           23233.77\n",
       "2     1000    7.0           14003.64\n",
       "3     1000    8.0           14055.93\n",
       "4     1000    9.0           14568.91\n",
       "5     1000   10.0           14702.49\n",
       "6     1000   11.0           14756.47\n",
       "7     1000   12.0            9817.61"
      ]
     },
     "execution_count": 27,
     "metadata": {},
     "output_type": "execute_result"
    }
   ],
   "source": [
    "internet_pivot = df.pivot_table(index=['user_id', 'internet_month'], \n",
    "                                values='mb_used', \n",
    "                                aggfunc='sum').reset_index()\n",
    "internet_pivot.columns = ['user_id', 'month', 'internet_used_sum']\n",
    "internet_pivot[internet_pivot['user_id'] == 1000]"
   ]
  },
  {
   "cell_type": "code",
   "execution_count": 28,
   "metadata": {
    "scrolled": true
   },
   "outputs": [
    {
     "data": {
      "text/html": [
       "<div>\n",
       "<style scoped>\n",
       "    .dataframe tbody tr th:only-of-type {\n",
       "        vertical-align: middle;\n",
       "    }\n",
       "\n",
       "    .dataframe tbody tr th {\n",
       "        vertical-align: top;\n",
       "    }\n",
       "\n",
       "    .dataframe thead th {\n",
       "        text-align: right;\n",
       "    }\n",
       "</style>\n",
       "<table border=\"1\" class=\"dataframe\">\n",
       "  <thead>\n",
       "    <tr style=\"text-align: right;\">\n",
       "      <th></th>\n",
       "      <th>user_id</th>\n",
       "      <th>month</th>\n",
       "      <th>call_count</th>\n",
       "      <th>call_sum</th>\n",
       "      <th>message_count</th>\n",
       "      <th>internet_used_sum</th>\n",
       "      <th>tariff</th>\n",
       "    </tr>\n",
       "  </thead>\n",
       "  <tbody>\n",
       "    <tr>\n",
       "      <th>0</th>\n",
       "      <td>1000</td>\n",
       "      <td>5.0</td>\n",
       "      <td>22.0</td>\n",
       "      <td>159.0</td>\n",
       "      <td>22.0</td>\n",
       "      <td>2.200674</td>\n",
       "      <td>ultra</td>\n",
       "    </tr>\n",
       "    <tr>\n",
       "      <th>1</th>\n",
       "      <td>1000</td>\n",
       "      <td>6.0</td>\n",
       "      <td>43.0</td>\n",
       "      <td>172.0</td>\n",
       "      <td>60.0</td>\n",
       "      <td>22.689229</td>\n",
       "      <td>ultra</td>\n",
       "    </tr>\n",
       "    <tr>\n",
       "      <th>2</th>\n",
       "      <td>1000</td>\n",
       "      <td>7.0</td>\n",
       "      <td>47.0</td>\n",
       "      <td>340.0</td>\n",
       "      <td>75.0</td>\n",
       "      <td>13.675430</td>\n",
       "      <td>ultra</td>\n",
       "    </tr>\n",
       "    <tr>\n",
       "      <th>3</th>\n",
       "      <td>1000</td>\n",
       "      <td>8.0</td>\n",
       "      <td>52.0</td>\n",
       "      <td>408.0</td>\n",
       "      <td>81.0</td>\n",
       "      <td>13.726494</td>\n",
       "      <td>ultra</td>\n",
       "    </tr>\n",
       "    <tr>\n",
       "      <th>4</th>\n",
       "      <td>1000</td>\n",
       "      <td>9.0</td>\n",
       "      <td>58.0</td>\n",
       "      <td>466.0</td>\n",
       "      <td>57.0</td>\n",
       "      <td>14.227451</td>\n",
       "      <td>ultra</td>\n",
       "    </tr>\n",
       "  </tbody>\n",
       "</table>\n",
       "</div>"
      ],
      "text/plain": [
       "   user_id  month  call_count  call_sum  message_count  internet_used_sum  \\\n",
       "0     1000    5.0        22.0     159.0           22.0           2.200674   \n",
       "1     1000    6.0        43.0     172.0           60.0          22.689229   \n",
       "2     1000    7.0        47.0     340.0           75.0          13.675430   \n",
       "3     1000    8.0        52.0     408.0           81.0          13.726494   \n",
       "4     1000    9.0        58.0     466.0           57.0          14.227451   \n",
       "\n",
       "  tariff  \n",
       "0  ultra  \n",
       "1  ultra  \n",
       "2  ultra  \n",
       "3  ultra  \n",
       "4  ultra  "
      ]
     },
     "execution_count": 28,
     "metadata": {},
     "output_type": "execute_result"
    }
   ],
   "source": [
    "calls_messages_internet = (calls_pivot.merge(message_pivot, on=['user_id', 'month'], how='outer')\n",
    "                           .merge(internet_pivot, on=['user_id', 'month'], how='outer')\n",
    "                           .merge(tarrifs_user, on='user_id', how='outer'))\n",
    "calls_messages_internet['internet_used_sum'] = calls_messages_internet['internet_used_sum'] / 1024\n",
    "calls_messages_internet.head()"
   ]
  },
  {
   "cell_type": "code",
   "execution_count": 29,
   "metadata": {
    "scrolled": false
   },
   "outputs": [
    {
     "data": {
      "text/html": [
       "<div>\n",
       "<style scoped>\n",
       "    .dataframe tbody tr th:only-of-type {\n",
       "        vertical-align: middle;\n",
       "    }\n",
       "\n",
       "    .dataframe tbody tr th {\n",
       "        vertical-align: top;\n",
       "    }\n",
       "\n",
       "    .dataframe thead th {\n",
       "        text-align: right;\n",
       "    }\n",
       "</style>\n",
       "<table border=\"1\" class=\"dataframe\">\n",
       "  <thead>\n",
       "    <tr style=\"text-align: right;\">\n",
       "      <th></th>\n",
       "      <th>user_id</th>\n",
       "      <th>month</th>\n",
       "      <th>call_count</th>\n",
       "      <th>call_sum</th>\n",
       "      <th>message_count</th>\n",
       "      <th>internet_used_sum</th>\n",
       "      <th>tariff</th>\n",
       "    </tr>\n",
       "  </thead>\n",
       "  <tbody>\n",
       "    <tr>\n",
       "      <th>0</th>\n",
       "      <td>1000</td>\n",
       "      <td>5.0</td>\n",
       "      <td>22.0</td>\n",
       "      <td>159.0</td>\n",
       "      <td>22.0</td>\n",
       "      <td>3.0</td>\n",
       "      <td>ultra</td>\n",
       "    </tr>\n",
       "    <tr>\n",
       "      <th>1</th>\n",
       "      <td>1000</td>\n",
       "      <td>6.0</td>\n",
       "      <td>43.0</td>\n",
       "      <td>172.0</td>\n",
       "      <td>60.0</td>\n",
       "      <td>23.0</td>\n",
       "      <td>ultra</td>\n",
       "    </tr>\n",
       "    <tr>\n",
       "      <th>2</th>\n",
       "      <td>1000</td>\n",
       "      <td>7.0</td>\n",
       "      <td>47.0</td>\n",
       "      <td>340.0</td>\n",
       "      <td>75.0</td>\n",
       "      <td>14.0</td>\n",
       "      <td>ultra</td>\n",
       "    </tr>\n",
       "    <tr>\n",
       "      <th>3</th>\n",
       "      <td>1000</td>\n",
       "      <td>8.0</td>\n",
       "      <td>52.0</td>\n",
       "      <td>408.0</td>\n",
       "      <td>81.0</td>\n",
       "      <td>14.0</td>\n",
       "      <td>ultra</td>\n",
       "    </tr>\n",
       "    <tr>\n",
       "      <th>4</th>\n",
       "      <td>1000</td>\n",
       "      <td>9.0</td>\n",
       "      <td>58.0</td>\n",
       "      <td>466.0</td>\n",
       "      <td>57.0</td>\n",
       "      <td>15.0</td>\n",
       "      <td>ultra</td>\n",
       "    </tr>\n",
       "  </tbody>\n",
       "</table>\n",
       "</div>"
      ],
      "text/plain": [
       "   user_id  month  call_count  call_sum  message_count  internet_used_sum  \\\n",
       "0     1000    5.0        22.0     159.0           22.0                3.0   \n",
       "1     1000    6.0        43.0     172.0           60.0               23.0   \n",
       "2     1000    7.0        47.0     340.0           75.0               14.0   \n",
       "3     1000    8.0        52.0     408.0           81.0               14.0   \n",
       "4     1000    9.0        58.0     466.0           57.0               15.0   \n",
       "\n",
       "  tariff  \n",
       "0  ultra  \n",
       "1  ultra  \n",
       "2  ultra  \n",
       "3  ultra  \n",
       "4  ultra  "
      ]
     },
     "execution_count": 29,
     "metadata": {},
     "output_type": "execute_result"
    }
   ],
   "source": [
    "calls_messages_internet['internet_used_sum'] = calls_messages_internet['internet_used_sum'].apply('ceil') \n",
    "calls_messages_internet.head()"
   ]
  },
  {
   "cell_type": "markdown",
   "metadata": {},
   "source": [
    "Далее в таблицу calls_messages_internet добавим к каждой строке детализацию по тарифу из таблицы tariffs, чтобы потом было удобно рассчитывать прибыль в рамках функции."
   ]
  },
  {
   "cell_type": "code",
   "execution_count": 30,
   "metadata": {
    "scrolled": true
   },
   "outputs": [
    {
     "data": {
      "text/html": [
       "<div>\n",
       "<style scoped>\n",
       "    .dataframe tbody tr th:only-of-type {\n",
       "        vertical-align: middle;\n",
       "    }\n",
       "\n",
       "    .dataframe tbody tr th {\n",
       "        vertical-align: top;\n",
       "    }\n",
       "\n",
       "    .dataframe thead th {\n",
       "        text-align: right;\n",
       "    }\n",
       "</style>\n",
       "<table border=\"1\" class=\"dataframe\">\n",
       "  <thead>\n",
       "    <tr style=\"text-align: right;\">\n",
       "      <th></th>\n",
       "      <th>user_id</th>\n",
       "      <th>month</th>\n",
       "      <th>call_count</th>\n",
       "      <th>call_sum</th>\n",
       "      <th>message_count</th>\n",
       "      <th>internet_used_sum</th>\n",
       "      <th>tariff</th>\n",
       "      <th>messages_included</th>\n",
       "      <th>gb_per_month_included</th>\n",
       "      <th>minutes_included</th>\n",
       "      <th>rub_monthly_fee</th>\n",
       "      <th>rub_per_gb</th>\n",
       "      <th>rub_per_message</th>\n",
       "      <th>rub_per_minute</th>\n",
       "      <th>tariff_name</th>\n",
       "    </tr>\n",
       "  </thead>\n",
       "  <tbody>\n",
       "    <tr>\n",
       "      <th>0</th>\n",
       "      <td>1000</td>\n",
       "      <td>5.0</td>\n",
       "      <td>22.0</td>\n",
       "      <td>159.0</td>\n",
       "      <td>22.0</td>\n",
       "      <td>3.0</td>\n",
       "      <td>ultra</td>\n",
       "      <td>1000</td>\n",
       "      <td>30.0</td>\n",
       "      <td>3000</td>\n",
       "      <td>1950</td>\n",
       "      <td>150</td>\n",
       "      <td>1</td>\n",
       "      <td>1</td>\n",
       "      <td>ultra</td>\n",
       "    </tr>\n",
       "    <tr>\n",
       "      <th>1</th>\n",
       "      <td>1000</td>\n",
       "      <td>6.0</td>\n",
       "      <td>43.0</td>\n",
       "      <td>172.0</td>\n",
       "      <td>60.0</td>\n",
       "      <td>23.0</td>\n",
       "      <td>ultra</td>\n",
       "      <td>1000</td>\n",
       "      <td>30.0</td>\n",
       "      <td>3000</td>\n",
       "      <td>1950</td>\n",
       "      <td>150</td>\n",
       "      <td>1</td>\n",
       "      <td>1</td>\n",
       "      <td>ultra</td>\n",
       "    </tr>\n",
       "    <tr>\n",
       "      <th>2</th>\n",
       "      <td>1000</td>\n",
       "      <td>7.0</td>\n",
       "      <td>47.0</td>\n",
       "      <td>340.0</td>\n",
       "      <td>75.0</td>\n",
       "      <td>14.0</td>\n",
       "      <td>ultra</td>\n",
       "      <td>1000</td>\n",
       "      <td>30.0</td>\n",
       "      <td>3000</td>\n",
       "      <td>1950</td>\n",
       "      <td>150</td>\n",
       "      <td>1</td>\n",
       "      <td>1</td>\n",
       "      <td>ultra</td>\n",
       "    </tr>\n",
       "    <tr>\n",
       "      <th>3</th>\n",
       "      <td>1000</td>\n",
       "      <td>8.0</td>\n",
       "      <td>52.0</td>\n",
       "      <td>408.0</td>\n",
       "      <td>81.0</td>\n",
       "      <td>14.0</td>\n",
       "      <td>ultra</td>\n",
       "      <td>1000</td>\n",
       "      <td>30.0</td>\n",
       "      <td>3000</td>\n",
       "      <td>1950</td>\n",
       "      <td>150</td>\n",
       "      <td>1</td>\n",
       "      <td>1</td>\n",
       "      <td>ultra</td>\n",
       "    </tr>\n",
       "    <tr>\n",
       "      <th>4</th>\n",
       "      <td>1000</td>\n",
       "      <td>9.0</td>\n",
       "      <td>58.0</td>\n",
       "      <td>466.0</td>\n",
       "      <td>57.0</td>\n",
       "      <td>15.0</td>\n",
       "      <td>ultra</td>\n",
       "      <td>1000</td>\n",
       "      <td>30.0</td>\n",
       "      <td>3000</td>\n",
       "      <td>1950</td>\n",
       "      <td>150</td>\n",
       "      <td>1</td>\n",
       "      <td>1</td>\n",
       "      <td>ultra</td>\n",
       "    </tr>\n",
       "  </tbody>\n",
       "</table>\n",
       "</div>"
      ],
      "text/plain": [
       "   user_id  month  call_count  call_sum  message_count  internet_used_sum  \\\n",
       "0     1000    5.0        22.0     159.0           22.0                3.0   \n",
       "1     1000    6.0        43.0     172.0           60.0               23.0   \n",
       "2     1000    7.0        47.0     340.0           75.0               14.0   \n",
       "3     1000    8.0        52.0     408.0           81.0               14.0   \n",
       "4     1000    9.0        58.0     466.0           57.0               15.0   \n",
       "\n",
       "  tariff  messages_included  gb_per_month_included  minutes_included  \\\n",
       "0  ultra               1000                   30.0              3000   \n",
       "1  ultra               1000                   30.0              3000   \n",
       "2  ultra               1000                   30.0              3000   \n",
       "3  ultra               1000                   30.0              3000   \n",
       "4  ultra               1000                   30.0              3000   \n",
       "\n",
       "   rub_monthly_fee  rub_per_gb  rub_per_message  rub_per_minute tariff_name  \n",
       "0             1950         150                1               1       ultra  \n",
       "1             1950         150                1               1       ultra  \n",
       "2             1950         150                1               1       ultra  \n",
       "3             1950         150                1               1       ultra  \n",
       "4             1950         150                1               1       ultra  "
      ]
     },
     "execution_count": 30,
     "metadata": {},
     "output_type": "execute_result"
    }
   ],
   "source": [
    "revenue_table = calls_messages_internet.merge(tariffs, left_on='tariff', right_on='tariff_name') \n",
    "revenue_table.head()"
   ]
  },
  {
   "cell_type": "code",
   "execution_count": 31,
   "metadata": {},
   "outputs": [
    {
     "name": "stdout",
     "output_type": "stream",
     "text": [
      "<class 'pandas.core.frame.DataFrame'>\n",
      "Int64Index: 3214 entries, 0 to 3213\n",
      "Data columns (total 15 columns):\n",
      " #   Column                 Non-Null Count  Dtype  \n",
      "---  ------                 --------------  -----  \n",
      " 0   user_id                3214 non-null   int64  \n",
      " 1   month                  3214 non-null   float64\n",
      " 2   call_count             3174 non-null   float64\n",
      " 3   call_sum               3174 non-null   float64\n",
      " 4   message_count          2717 non-null   float64\n",
      " 5   internet_used_sum      3203 non-null   float64\n",
      " 6   tariff                 3214 non-null   object \n",
      " 7   messages_included      3214 non-null   int64  \n",
      " 8   gb_per_month_included  3214 non-null   float64\n",
      " 9   minutes_included       3214 non-null   int64  \n",
      " 10  rub_monthly_fee        3214 non-null   int64  \n",
      " 11  rub_per_gb             3214 non-null   int64  \n",
      " 12  rub_per_message        3214 non-null   int64  \n",
      " 13  rub_per_minute         3214 non-null   int64  \n",
      " 14  tariff_name            3214 non-null   object \n",
      "dtypes: float64(6), int64(7), object(2)\n",
      "memory usage: 401.8+ KB\n"
     ]
    }
   ],
   "source": [
    "revenue_table.info()"
   ]
  },
  {
   "cell_type": "code",
   "execution_count": 32,
   "metadata": {},
   "outputs": [
    {
     "name": "stdout",
     "output_type": "stream",
     "text": [
      "<class 'pandas.core.frame.DataFrame'>\n",
      "Int64Index: 3214 entries, 0 to 3213\n",
      "Data columns (total 15 columns):\n",
      " #   Column                 Non-Null Count  Dtype  \n",
      "---  ------                 --------------  -----  \n",
      " 0   user_id                3214 non-null   int64  \n",
      " 1   month                  3214 non-null   float64\n",
      " 2   call_count             3214 non-null   float64\n",
      " 3   call_sum               3214 non-null   float64\n",
      " 4   message_count          3214 non-null   float64\n",
      " 5   internet_used_sum      3214 non-null   float64\n",
      " 6   tariff                 3214 non-null   object \n",
      " 7   messages_included      3214 non-null   int64  \n",
      " 8   gb_per_month_included  3214 non-null   float64\n",
      " 9   minutes_included       3214 non-null   int64  \n",
      " 10  rub_monthly_fee        3214 non-null   int64  \n",
      " 11  rub_per_gb             3214 non-null   int64  \n",
      " 12  rub_per_message        3214 non-null   int64  \n",
      " 13  rub_per_minute         3214 non-null   int64  \n",
      " 14  tariff_name            3214 non-null   object \n",
      "dtypes: float64(6), int64(7), object(2)\n",
      "memory usage: 401.8+ KB\n"
     ]
    }
   ],
   "source": [
    "revenue_table[['call_count', 'call_sum', 'message_count', 'internet_used_sum']] = revenue_table[['call_count', 'call_sum', 'message_count', 'internet_used_sum']].fillna(0)\n",
    "revenue_table.info()"
   ]
  },
  {
   "cell_type": "code",
   "execution_count": 33,
   "metadata": {},
   "outputs": [],
   "source": [
    "def revenue(row):\n",
    "    '''Функция, рассчитывающая выручку по месяцу с каждого пользователя'''\n",
    "    minutes_left = row['call_sum'] - row['minutes_included'] # минуты, использованные сверх тарифа\n",
    "    messages_left = row['message_count'] - row['messages_included'] # сообщения сверх тарифа\n",
    "    internet_left = row['internet_used_sum'] - row['gb_per_month_included'] # интернет сверх тарифа\n",
    "    if minutes_left > 0:\n",
    "        add_call_revenue = minutes_left * row['rub_per_minute']\n",
    "    else: \n",
    "        add_call_revenue = 0\n",
    "    if messages_left > 0:\n",
    "        add_messages_revenue = messages_left * row['rub_per_message']\n",
    "    else:\n",
    "        add_messages_revenue = 0\n",
    "    if internet_left > 0:\n",
    "        add_internet_revenue = internet_left * row['rub_per_gb']\n",
    "    else: \n",
    "        add_internet_revenue = 0\n",
    "    total_revenue = row['rub_monthly_fee'] + add_call_revenue + add_messages_revenue + add_internet_revenue\n",
    "    return total_revenue"
   ]
  },
  {
   "cell_type": "code",
   "execution_count": 34,
   "metadata": {
    "scrolled": false
   },
   "outputs": [
    {
     "data": {
      "text/html": [
       "<div>\n",
       "<style scoped>\n",
       "    .dataframe tbody tr th:only-of-type {\n",
       "        vertical-align: middle;\n",
       "    }\n",
       "\n",
       "    .dataframe tbody tr th {\n",
       "        vertical-align: top;\n",
       "    }\n",
       "\n",
       "    .dataframe thead th {\n",
       "        text-align: right;\n",
       "    }\n",
       "</style>\n",
       "<table border=\"1\" class=\"dataframe\">\n",
       "  <thead>\n",
       "    <tr style=\"text-align: right;\">\n",
       "      <th></th>\n",
       "      <th>user_id</th>\n",
       "      <th>month</th>\n",
       "      <th>call_count</th>\n",
       "      <th>call_sum</th>\n",
       "      <th>message_count</th>\n",
       "      <th>internet_used_sum</th>\n",
       "      <th>tariff</th>\n",
       "      <th>messages_included</th>\n",
       "      <th>gb_per_month_included</th>\n",
       "      <th>minutes_included</th>\n",
       "      <th>rub_monthly_fee</th>\n",
       "      <th>rub_per_gb</th>\n",
       "      <th>rub_per_message</th>\n",
       "      <th>rub_per_minute</th>\n",
       "      <th>tariff_name</th>\n",
       "      <th>total_revenue</th>\n",
       "    </tr>\n",
       "  </thead>\n",
       "  <tbody>\n",
       "    <tr>\n",
       "      <th>0</th>\n",
       "      <td>1000</td>\n",
       "      <td>5.0</td>\n",
       "      <td>22.0</td>\n",
       "      <td>159.0</td>\n",
       "      <td>22.0</td>\n",
       "      <td>3.0</td>\n",
       "      <td>ultra</td>\n",
       "      <td>1000</td>\n",
       "      <td>30.0</td>\n",
       "      <td>3000</td>\n",
       "      <td>1950</td>\n",
       "      <td>150</td>\n",
       "      <td>1</td>\n",
       "      <td>1</td>\n",
       "      <td>ultra</td>\n",
       "      <td>1950.0</td>\n",
       "    </tr>\n",
       "    <tr>\n",
       "      <th>1</th>\n",
       "      <td>1000</td>\n",
       "      <td>6.0</td>\n",
       "      <td>43.0</td>\n",
       "      <td>172.0</td>\n",
       "      <td>60.0</td>\n",
       "      <td>23.0</td>\n",
       "      <td>ultra</td>\n",
       "      <td>1000</td>\n",
       "      <td>30.0</td>\n",
       "      <td>3000</td>\n",
       "      <td>1950</td>\n",
       "      <td>150</td>\n",
       "      <td>1</td>\n",
       "      <td>1</td>\n",
       "      <td>ultra</td>\n",
       "      <td>1950.0</td>\n",
       "    </tr>\n",
       "    <tr>\n",
       "      <th>2</th>\n",
       "      <td>1000</td>\n",
       "      <td>7.0</td>\n",
       "      <td>47.0</td>\n",
       "      <td>340.0</td>\n",
       "      <td>75.0</td>\n",
       "      <td>14.0</td>\n",
       "      <td>ultra</td>\n",
       "      <td>1000</td>\n",
       "      <td>30.0</td>\n",
       "      <td>3000</td>\n",
       "      <td>1950</td>\n",
       "      <td>150</td>\n",
       "      <td>1</td>\n",
       "      <td>1</td>\n",
       "      <td>ultra</td>\n",
       "      <td>1950.0</td>\n",
       "    </tr>\n",
       "    <tr>\n",
       "      <th>3</th>\n",
       "      <td>1000</td>\n",
       "      <td>8.0</td>\n",
       "      <td>52.0</td>\n",
       "      <td>408.0</td>\n",
       "      <td>81.0</td>\n",
       "      <td>14.0</td>\n",
       "      <td>ultra</td>\n",
       "      <td>1000</td>\n",
       "      <td>30.0</td>\n",
       "      <td>3000</td>\n",
       "      <td>1950</td>\n",
       "      <td>150</td>\n",
       "      <td>1</td>\n",
       "      <td>1</td>\n",
       "      <td>ultra</td>\n",
       "      <td>1950.0</td>\n",
       "    </tr>\n",
       "    <tr>\n",
       "      <th>4</th>\n",
       "      <td>1000</td>\n",
       "      <td>9.0</td>\n",
       "      <td>58.0</td>\n",
       "      <td>466.0</td>\n",
       "      <td>57.0</td>\n",
       "      <td>15.0</td>\n",
       "      <td>ultra</td>\n",
       "      <td>1000</td>\n",
       "      <td>30.0</td>\n",
       "      <td>3000</td>\n",
       "      <td>1950</td>\n",
       "      <td>150</td>\n",
       "      <td>1</td>\n",
       "      <td>1</td>\n",
       "      <td>ultra</td>\n",
       "      <td>1950.0</td>\n",
       "    </tr>\n",
       "    <tr>\n",
       "      <th>...</th>\n",
       "      <td>...</td>\n",
       "      <td>...</td>\n",
       "      <td>...</td>\n",
       "      <td>...</td>\n",
       "      <td>...</td>\n",
       "      <td>...</td>\n",
       "      <td>...</td>\n",
       "      <td>...</td>\n",
       "      <td>...</td>\n",
       "      <td>...</td>\n",
       "      <td>...</td>\n",
       "      <td>...</td>\n",
       "      <td>...</td>\n",
       "      <td>...</td>\n",
       "      <td>...</td>\n",
       "      <td>...</td>\n",
       "    </tr>\n",
       "    <tr>\n",
       "      <th>3209</th>\n",
       "      <td>1489</td>\n",
       "      <td>8.0</td>\n",
       "      <td>0.0</td>\n",
       "      <td>0.0</td>\n",
       "      <td>17.0</td>\n",
       "      <td>11.0</td>\n",
       "      <td>smart</td>\n",
       "      <td>50</td>\n",
       "      <td>15.0</td>\n",
       "      <td>500</td>\n",
       "      <td>550</td>\n",
       "      <td>200</td>\n",
       "      <td>3</td>\n",
       "      <td>3</td>\n",
       "      <td>smart</td>\n",
       "      <td>550.0</td>\n",
       "    </tr>\n",
       "    <tr>\n",
       "      <th>3210</th>\n",
       "      <td>1489</td>\n",
       "      <td>9.0</td>\n",
       "      <td>0.0</td>\n",
       "      <td>0.0</td>\n",
       "      <td>32.0</td>\n",
       "      <td>17.0</td>\n",
       "      <td>smart</td>\n",
       "      <td>50</td>\n",
       "      <td>15.0</td>\n",
       "      <td>500</td>\n",
       "      <td>550</td>\n",
       "      <td>200</td>\n",
       "      <td>3</td>\n",
       "      <td>3</td>\n",
       "      <td>smart</td>\n",
       "      <td>950.0</td>\n",
       "    </tr>\n",
       "    <tr>\n",
       "      <th>3211</th>\n",
       "      <td>1489</td>\n",
       "      <td>10.0</td>\n",
       "      <td>0.0</td>\n",
       "      <td>0.0</td>\n",
       "      <td>21.0</td>\n",
       "      <td>20.0</td>\n",
       "      <td>smart</td>\n",
       "      <td>50</td>\n",
       "      <td>15.0</td>\n",
       "      <td>500</td>\n",
       "      <td>550</td>\n",
       "      <td>200</td>\n",
       "      <td>3</td>\n",
       "      <td>3</td>\n",
       "      <td>smart</td>\n",
       "      <td>1550.0</td>\n",
       "    </tr>\n",
       "    <tr>\n",
       "      <th>3212</th>\n",
       "      <td>1489</td>\n",
       "      <td>11.0</td>\n",
       "      <td>0.0</td>\n",
       "      <td>0.0</td>\n",
       "      <td>20.0</td>\n",
       "      <td>18.0</td>\n",
       "      <td>smart</td>\n",
       "      <td>50</td>\n",
       "      <td>15.0</td>\n",
       "      <td>500</td>\n",
       "      <td>550</td>\n",
       "      <td>200</td>\n",
       "      <td>3</td>\n",
       "      <td>3</td>\n",
       "      <td>smart</td>\n",
       "      <td>1150.0</td>\n",
       "    </tr>\n",
       "    <tr>\n",
       "      <th>3213</th>\n",
       "      <td>1489</td>\n",
       "      <td>12.0</td>\n",
       "      <td>0.0</td>\n",
       "      <td>0.0</td>\n",
       "      <td>35.0</td>\n",
       "      <td>17.0</td>\n",
       "      <td>smart</td>\n",
       "      <td>50</td>\n",
       "      <td>15.0</td>\n",
       "      <td>500</td>\n",
       "      <td>550</td>\n",
       "      <td>200</td>\n",
       "      <td>3</td>\n",
       "      <td>3</td>\n",
       "      <td>smart</td>\n",
       "      <td>950.0</td>\n",
       "    </tr>\n",
       "  </tbody>\n",
       "</table>\n",
       "<p>3214 rows × 16 columns</p>\n",
       "</div>"
      ],
      "text/plain": [
       "      user_id  month  call_count  call_sum  message_count  internet_used_sum  \\\n",
       "0        1000    5.0        22.0     159.0           22.0                3.0   \n",
       "1        1000    6.0        43.0     172.0           60.0               23.0   \n",
       "2        1000    7.0        47.0     340.0           75.0               14.0   \n",
       "3        1000    8.0        52.0     408.0           81.0               14.0   \n",
       "4        1000    9.0        58.0     466.0           57.0               15.0   \n",
       "...       ...    ...         ...       ...            ...                ...   \n",
       "3209     1489    8.0         0.0       0.0           17.0               11.0   \n",
       "3210     1489    9.0         0.0       0.0           32.0               17.0   \n",
       "3211     1489   10.0         0.0       0.0           21.0               20.0   \n",
       "3212     1489   11.0         0.0       0.0           20.0               18.0   \n",
       "3213     1489   12.0         0.0       0.0           35.0               17.0   \n",
       "\n",
       "     tariff  messages_included  gb_per_month_included  minutes_included  \\\n",
       "0     ultra               1000                   30.0              3000   \n",
       "1     ultra               1000                   30.0              3000   \n",
       "2     ultra               1000                   30.0              3000   \n",
       "3     ultra               1000                   30.0              3000   \n",
       "4     ultra               1000                   30.0              3000   \n",
       "...     ...                ...                    ...               ...   \n",
       "3209  smart                 50                   15.0               500   \n",
       "3210  smart                 50                   15.0               500   \n",
       "3211  smart                 50                   15.0               500   \n",
       "3212  smart                 50                   15.0               500   \n",
       "3213  smart                 50                   15.0               500   \n",
       "\n",
       "      rub_monthly_fee  rub_per_gb  rub_per_message  rub_per_minute  \\\n",
       "0                1950         150                1               1   \n",
       "1                1950         150                1               1   \n",
       "2                1950         150                1               1   \n",
       "3                1950         150                1               1   \n",
       "4                1950         150                1               1   \n",
       "...               ...         ...              ...             ...   \n",
       "3209              550         200                3               3   \n",
       "3210              550         200                3               3   \n",
       "3211              550         200                3               3   \n",
       "3212              550         200                3               3   \n",
       "3213              550         200                3               3   \n",
       "\n",
       "     tariff_name  total_revenue  \n",
       "0          ultra         1950.0  \n",
       "1          ultra         1950.0  \n",
       "2          ultra         1950.0  \n",
       "3          ultra         1950.0  \n",
       "4          ultra         1950.0  \n",
       "...          ...            ...  \n",
       "3209       smart          550.0  \n",
       "3210       smart          950.0  \n",
       "3211       smart         1550.0  \n",
       "3212       smart         1150.0  \n",
       "3213       smart          950.0  \n",
       "\n",
       "[3214 rows x 16 columns]"
      ]
     },
     "execution_count": 34,
     "metadata": {},
     "output_type": "execute_result"
    }
   ],
   "source": [
    "revenue_table['total_revenue'] = revenue_table.apply(revenue, axis=1)\n",
    "revenue_table"
   ]
  },
  {
   "cell_type": "markdown",
   "metadata": {},
   "source": [
    "Далее удалим из таблицы revenue_table все ненужные столбцы для дальнейших расчетов."
   ]
  },
  {
   "cell_type": "code",
   "execution_count": 35,
   "metadata": {},
   "outputs": [
    {
     "data": {
      "text/html": [
       "<div>\n",
       "<style scoped>\n",
       "    .dataframe tbody tr th:only-of-type {\n",
       "        vertical-align: middle;\n",
       "    }\n",
       "\n",
       "    .dataframe tbody tr th {\n",
       "        vertical-align: top;\n",
       "    }\n",
       "\n",
       "    .dataframe thead th {\n",
       "        text-align: right;\n",
       "    }\n",
       "</style>\n",
       "<table border=\"1\" class=\"dataframe\">\n",
       "  <thead>\n",
       "    <tr style=\"text-align: right;\">\n",
       "      <th></th>\n",
       "      <th>user_id</th>\n",
       "      <th>month</th>\n",
       "      <th>call_count</th>\n",
       "      <th>call_sum</th>\n",
       "      <th>message_count</th>\n",
       "      <th>internet_used_sum</th>\n",
       "      <th>tariff</th>\n",
       "      <th>total_revenue</th>\n",
       "    </tr>\n",
       "  </thead>\n",
       "  <tbody>\n",
       "    <tr>\n",
       "      <th>0</th>\n",
       "      <td>1000</td>\n",
       "      <td>5.0</td>\n",
       "      <td>22.0</td>\n",
       "      <td>159.0</td>\n",
       "      <td>22.0</td>\n",
       "      <td>3.0</td>\n",
       "      <td>ultra</td>\n",
       "      <td>1950.0</td>\n",
       "    </tr>\n",
       "    <tr>\n",
       "      <th>1</th>\n",
       "      <td>1000</td>\n",
       "      <td>6.0</td>\n",
       "      <td>43.0</td>\n",
       "      <td>172.0</td>\n",
       "      <td>60.0</td>\n",
       "      <td>23.0</td>\n",
       "      <td>ultra</td>\n",
       "      <td>1950.0</td>\n",
       "    </tr>\n",
       "    <tr>\n",
       "      <th>2</th>\n",
       "      <td>1000</td>\n",
       "      <td>7.0</td>\n",
       "      <td>47.0</td>\n",
       "      <td>340.0</td>\n",
       "      <td>75.0</td>\n",
       "      <td>14.0</td>\n",
       "      <td>ultra</td>\n",
       "      <td>1950.0</td>\n",
       "    </tr>\n",
       "    <tr>\n",
       "      <th>3</th>\n",
       "      <td>1000</td>\n",
       "      <td>8.0</td>\n",
       "      <td>52.0</td>\n",
       "      <td>408.0</td>\n",
       "      <td>81.0</td>\n",
       "      <td>14.0</td>\n",
       "      <td>ultra</td>\n",
       "      <td>1950.0</td>\n",
       "    </tr>\n",
       "    <tr>\n",
       "      <th>4</th>\n",
       "      <td>1000</td>\n",
       "      <td>9.0</td>\n",
       "      <td>58.0</td>\n",
       "      <td>466.0</td>\n",
       "      <td>57.0</td>\n",
       "      <td>15.0</td>\n",
       "      <td>ultra</td>\n",
       "      <td>1950.0</td>\n",
       "    </tr>\n",
       "    <tr>\n",
       "      <th>...</th>\n",
       "      <td>...</td>\n",
       "      <td>...</td>\n",
       "      <td>...</td>\n",
       "      <td>...</td>\n",
       "      <td>...</td>\n",
       "      <td>...</td>\n",
       "      <td>...</td>\n",
       "      <td>...</td>\n",
       "    </tr>\n",
       "    <tr>\n",
       "      <th>3209</th>\n",
       "      <td>1489</td>\n",
       "      <td>8.0</td>\n",
       "      <td>0.0</td>\n",
       "      <td>0.0</td>\n",
       "      <td>17.0</td>\n",
       "      <td>11.0</td>\n",
       "      <td>smart</td>\n",
       "      <td>550.0</td>\n",
       "    </tr>\n",
       "    <tr>\n",
       "      <th>3210</th>\n",
       "      <td>1489</td>\n",
       "      <td>9.0</td>\n",
       "      <td>0.0</td>\n",
       "      <td>0.0</td>\n",
       "      <td>32.0</td>\n",
       "      <td>17.0</td>\n",
       "      <td>smart</td>\n",
       "      <td>950.0</td>\n",
       "    </tr>\n",
       "    <tr>\n",
       "      <th>3211</th>\n",
       "      <td>1489</td>\n",
       "      <td>10.0</td>\n",
       "      <td>0.0</td>\n",
       "      <td>0.0</td>\n",
       "      <td>21.0</td>\n",
       "      <td>20.0</td>\n",
       "      <td>smart</td>\n",
       "      <td>1550.0</td>\n",
       "    </tr>\n",
       "    <tr>\n",
       "      <th>3212</th>\n",
       "      <td>1489</td>\n",
       "      <td>11.0</td>\n",
       "      <td>0.0</td>\n",
       "      <td>0.0</td>\n",
       "      <td>20.0</td>\n",
       "      <td>18.0</td>\n",
       "      <td>smart</td>\n",
       "      <td>1150.0</td>\n",
       "    </tr>\n",
       "    <tr>\n",
       "      <th>3213</th>\n",
       "      <td>1489</td>\n",
       "      <td>12.0</td>\n",
       "      <td>0.0</td>\n",
       "      <td>0.0</td>\n",
       "      <td>35.0</td>\n",
       "      <td>17.0</td>\n",
       "      <td>smart</td>\n",
       "      <td>950.0</td>\n",
       "    </tr>\n",
       "  </tbody>\n",
       "</table>\n",
       "<p>3214 rows × 8 columns</p>\n",
       "</div>"
      ],
      "text/plain": [
       "      user_id  month  call_count  call_sum  message_count  internet_used_sum  \\\n",
       "0        1000    5.0        22.0     159.0           22.0                3.0   \n",
       "1        1000    6.0        43.0     172.0           60.0               23.0   \n",
       "2        1000    7.0        47.0     340.0           75.0               14.0   \n",
       "3        1000    8.0        52.0     408.0           81.0               14.0   \n",
       "4        1000    9.0        58.0     466.0           57.0               15.0   \n",
       "...       ...    ...         ...       ...            ...                ...   \n",
       "3209     1489    8.0         0.0       0.0           17.0               11.0   \n",
       "3210     1489    9.0         0.0       0.0           32.0               17.0   \n",
       "3211     1489   10.0         0.0       0.0           21.0               20.0   \n",
       "3212     1489   11.0         0.0       0.0           20.0               18.0   \n",
       "3213     1489   12.0         0.0       0.0           35.0               17.0   \n",
       "\n",
       "     tariff  total_revenue  \n",
       "0     ultra         1950.0  \n",
       "1     ultra         1950.0  \n",
       "2     ultra         1950.0  \n",
       "3     ultra         1950.0  \n",
       "4     ultra         1950.0  \n",
       "...     ...            ...  \n",
       "3209  smart          550.0  \n",
       "3210  smart          950.0  \n",
       "3211  smart         1550.0  \n",
       "3212  smart         1150.0  \n",
       "3213  smart          950.0  \n",
       "\n",
       "[3214 rows x 8 columns]"
      ]
     },
     "execution_count": 35,
     "metadata": {},
     "output_type": "execute_result"
    }
   ],
   "source": [
    "revenue_table = revenue_table.drop(revenue_table.loc[:, 'messages_included':'tariff_name'], axis=1)\n",
    "revenue_table"
   ]
  },
  {
   "cell_type": "markdown",
   "metadata": {},
   "source": [
    "## Анализ показателей (количество минут и сообщений, объем интернет-трафика) "
   ]
  },
  {
   "cell_type": "markdown",
   "metadata": {},
   "source": [
    "Создадим 2 таблицы: ultra и smart, в которых будет необходимая информация и расчеты для дальнейшей работы."
   ]
  },
  {
   "cell_type": "code",
   "execution_count": 36,
   "metadata": {
    "scrolled": false
   },
   "outputs": [
    {
     "data": {
      "text/html": [
       "<div>\n",
       "<style scoped>\n",
       "    .dataframe tbody tr th:only-of-type {\n",
       "        vertical-align: middle;\n",
       "    }\n",
       "\n",
       "    .dataframe tbody tr th {\n",
       "        vertical-align: top;\n",
       "    }\n",
       "\n",
       "    .dataframe thead th {\n",
       "        text-align: right;\n",
       "    }\n",
       "</style>\n",
       "<table border=\"1\" class=\"dataframe\">\n",
       "  <thead>\n",
       "    <tr style=\"text-align: right;\">\n",
       "      <th></th>\n",
       "      <th>user_id</th>\n",
       "      <th>month</th>\n",
       "      <th>call_count</th>\n",
       "      <th>call_sum</th>\n",
       "      <th>message_count</th>\n",
       "      <th>internet_used_sum</th>\n",
       "      <th>tariff</th>\n",
       "      <th>total_revenue</th>\n",
       "    </tr>\n",
       "  </thead>\n",
       "  <tbody>\n",
       "    <tr>\n",
       "      <th>0</th>\n",
       "      <td>1000</td>\n",
       "      <td>5.0</td>\n",
       "      <td>22.0</td>\n",
       "      <td>159.0</td>\n",
       "      <td>22.0</td>\n",
       "      <td>3.0</td>\n",
       "      <td>ultra</td>\n",
       "      <td>1950.0</td>\n",
       "    </tr>\n",
       "    <tr>\n",
       "      <th>1</th>\n",
       "      <td>1000</td>\n",
       "      <td>6.0</td>\n",
       "      <td>43.0</td>\n",
       "      <td>172.0</td>\n",
       "      <td>60.0</td>\n",
       "      <td>23.0</td>\n",
       "      <td>ultra</td>\n",
       "      <td>1950.0</td>\n",
       "    </tr>\n",
       "    <tr>\n",
       "      <th>2</th>\n",
       "      <td>1000</td>\n",
       "      <td>7.0</td>\n",
       "      <td>47.0</td>\n",
       "      <td>340.0</td>\n",
       "      <td>75.0</td>\n",
       "      <td>14.0</td>\n",
       "      <td>ultra</td>\n",
       "      <td>1950.0</td>\n",
       "    </tr>\n",
       "    <tr>\n",
       "      <th>3</th>\n",
       "      <td>1000</td>\n",
       "      <td>8.0</td>\n",
       "      <td>52.0</td>\n",
       "      <td>408.0</td>\n",
       "      <td>81.0</td>\n",
       "      <td>14.0</td>\n",
       "      <td>ultra</td>\n",
       "      <td>1950.0</td>\n",
       "    </tr>\n",
       "    <tr>\n",
       "      <th>4</th>\n",
       "      <td>1000</td>\n",
       "      <td>9.0</td>\n",
       "      <td>58.0</td>\n",
       "      <td>466.0</td>\n",
       "      <td>57.0</td>\n",
       "      <td>15.0</td>\n",
       "      <td>ultra</td>\n",
       "      <td>1950.0</td>\n",
       "    </tr>\n",
       "  </tbody>\n",
       "</table>\n",
       "</div>"
      ],
      "text/plain": [
       "   user_id  month  call_count  call_sum  message_count  internet_used_sum  \\\n",
       "0     1000    5.0        22.0     159.0           22.0                3.0   \n",
       "1     1000    6.0        43.0     172.0           60.0               23.0   \n",
       "2     1000    7.0        47.0     340.0           75.0               14.0   \n",
       "3     1000    8.0        52.0     408.0           81.0               14.0   \n",
       "4     1000    9.0        58.0     466.0           57.0               15.0   \n",
       "\n",
       "  tariff  total_revenue  \n",
       "0  ultra         1950.0  \n",
       "1  ultra         1950.0  \n",
       "2  ultra         1950.0  \n",
       "3  ultra         1950.0  \n",
       "4  ultra         1950.0  "
      ]
     },
     "metadata": {},
     "output_type": "display_data"
    },
    {
     "data": {
      "text/html": [
       "<div>\n",
       "<style scoped>\n",
       "    .dataframe tbody tr th:only-of-type {\n",
       "        vertical-align: middle;\n",
       "    }\n",
       "\n",
       "    .dataframe tbody tr th {\n",
       "        vertical-align: top;\n",
       "    }\n",
       "\n",
       "    .dataframe thead th {\n",
       "        text-align: right;\n",
       "    }\n",
       "</style>\n",
       "<table border=\"1\" class=\"dataframe\">\n",
       "  <thead>\n",
       "    <tr style=\"text-align: right;\">\n",
       "      <th></th>\n",
       "      <th>user_id</th>\n",
       "      <th>month</th>\n",
       "      <th>call_count</th>\n",
       "      <th>call_sum</th>\n",
       "      <th>message_count</th>\n",
       "      <th>internet_used_sum</th>\n",
       "      <th>tariff</th>\n",
       "      <th>total_revenue</th>\n",
       "    </tr>\n",
       "  </thead>\n",
       "  <tbody>\n",
       "    <tr>\n",
       "      <th>985</th>\n",
       "      <td>1001</td>\n",
       "      <td>11.0</td>\n",
       "      <td>59.0</td>\n",
       "      <td>430.0</td>\n",
       "      <td>0.0</td>\n",
       "      <td>18.0</td>\n",
       "      <td>smart</td>\n",
       "      <td>1150.0</td>\n",
       "    </tr>\n",
       "    <tr>\n",
       "      <th>986</th>\n",
       "      <td>1001</td>\n",
       "      <td>12.0</td>\n",
       "      <td>63.0</td>\n",
       "      <td>414.0</td>\n",
       "      <td>0.0</td>\n",
       "      <td>14.0</td>\n",
       "      <td>smart</td>\n",
       "      <td>550.0</td>\n",
       "    </tr>\n",
       "    <tr>\n",
       "      <th>987</th>\n",
       "      <td>1002</td>\n",
       "      <td>6.0</td>\n",
       "      <td>15.0</td>\n",
       "      <td>117.0</td>\n",
       "      <td>4.0</td>\n",
       "      <td>11.0</td>\n",
       "      <td>smart</td>\n",
       "      <td>550.0</td>\n",
       "    </tr>\n",
       "    <tr>\n",
       "      <th>988</th>\n",
       "      <td>1002</td>\n",
       "      <td>7.0</td>\n",
       "      <td>26.0</td>\n",
       "      <td>214.0</td>\n",
       "      <td>11.0</td>\n",
       "      <td>18.0</td>\n",
       "      <td>smart</td>\n",
       "      <td>1150.0</td>\n",
       "    </tr>\n",
       "    <tr>\n",
       "      <th>989</th>\n",
       "      <td>1002</td>\n",
       "      <td>8.0</td>\n",
       "      <td>42.0</td>\n",
       "      <td>289.0</td>\n",
       "      <td>13.0</td>\n",
       "      <td>20.0</td>\n",
       "      <td>smart</td>\n",
       "      <td>1550.0</td>\n",
       "    </tr>\n",
       "  </tbody>\n",
       "</table>\n",
       "</div>"
      ],
      "text/plain": [
       "     user_id  month  call_count  call_sum  message_count  internet_used_sum  \\\n",
       "985     1001   11.0        59.0     430.0            0.0               18.0   \n",
       "986     1001   12.0        63.0     414.0            0.0               14.0   \n",
       "987     1002    6.0        15.0     117.0            4.0               11.0   \n",
       "988     1002    7.0        26.0     214.0           11.0               18.0   \n",
       "989     1002    8.0        42.0     289.0           13.0               20.0   \n",
       "\n",
       "    tariff  total_revenue  \n",
       "985  smart         1150.0  \n",
       "986  smart          550.0  \n",
       "987  smart          550.0  \n",
       "988  smart         1150.0  \n",
       "989  smart         1550.0  "
      ]
     },
     "metadata": {},
     "output_type": "display_data"
    }
   ],
   "source": [
    "ultra = revenue_table[revenue_table['tariff'] == 'ultra']\n",
    "smart = revenue_table[revenue_table['tariff'] == 'smart']\n",
    "display(ultra.head())\n",
    "display(smart.head())"
   ]
  },
  {
   "cell_type": "markdown",
   "metadata": {},
   "source": [
    "**Рассчитаем среднее, дисперсию, ст. отклонение кол-ва минут разговора, интернет-трафика, сообщений в месяц, среднемесячной выручки:** \n",
    "* расчет будет проведен для наглядности в таблице 'revenue', где содержатся два тарифа\n",
    "* в качестве аргумента будет передан список функций ['mean', 'var', 'std'], причем расчет дисперсии и стандартного отклонения проводится с параметром ddof=1, что означает, что мы используем выборку, а не всю генеральную совокупность (причем в сводной таблице почему-то ddof по умолчанию 1 (хотя когда не в pivot, то по умолчанию ddof=0), и эта особенность помогла, ибо я не знаю как указать параметры функции в рамках использования сводной таблицы и списка функций."
   ]
  },
  {
   "cell_type": "code",
   "execution_count": 37,
   "metadata": {
    "scrolled": true
   },
   "outputs": [
    {
     "data": {
      "text/html": [
       "<div>\n",
       "<style scoped>\n",
       "    .dataframe tbody tr th:only-of-type {\n",
       "        vertical-align: middle;\n",
       "    }\n",
       "\n",
       "    .dataframe tbody tr th {\n",
       "        vertical-align: top;\n",
       "    }\n",
       "\n",
       "    .dataframe thead tr th {\n",
       "        text-align: left;\n",
       "    }\n",
       "\n",
       "    .dataframe thead tr:last-of-type th {\n",
       "        text-align: right;\n",
       "    }\n",
       "</style>\n",
       "<table border=\"1\" class=\"dataframe\">\n",
       "  <thead>\n",
       "    <tr>\n",
       "      <th></th>\n",
       "      <th colspan=\"4\" halign=\"left\">mean</th>\n",
       "      <th colspan=\"4\" halign=\"left\">var</th>\n",
       "      <th colspan=\"4\" halign=\"left\">std</th>\n",
       "    </tr>\n",
       "    <tr>\n",
       "      <th></th>\n",
       "      <th>call_sum</th>\n",
       "      <th>internet_used_sum</th>\n",
       "      <th>message_count</th>\n",
       "      <th>total_revenue</th>\n",
       "      <th>call_sum</th>\n",
       "      <th>internet_used_sum</th>\n",
       "      <th>message_count</th>\n",
       "      <th>total_revenue</th>\n",
       "      <th>call_sum</th>\n",
       "      <th>internet_used_sum</th>\n",
       "      <th>message_count</th>\n",
       "      <th>total_revenue</th>\n",
       "    </tr>\n",
       "    <tr>\n",
       "      <th>tariff</th>\n",
       "      <th></th>\n",
       "      <th></th>\n",
       "      <th></th>\n",
       "      <th></th>\n",
       "      <th></th>\n",
       "      <th></th>\n",
       "      <th></th>\n",
       "      <th></th>\n",
       "      <th></th>\n",
       "      <th></th>\n",
       "      <th></th>\n",
       "      <th></th>\n",
       "    </tr>\n",
       "  </thead>\n",
       "  <tbody>\n",
       "    <tr>\n",
       "      <th>smart</th>\n",
       "      <td>417.934948</td>\n",
       "      <td>16.328847</td>\n",
       "      <td>33.384029</td>\n",
       "      <td>1289.973531</td>\n",
       "      <td>36219.315784</td>\n",
       "      <td>33.028705</td>\n",
       "      <td>796.812958</td>\n",
       "      <td>669785.708006</td>\n",
       "      <td>190.313730</td>\n",
       "      <td>5.747061</td>\n",
       "      <td>28.227876</td>\n",
       "      <td>818.404367</td>\n",
       "    </tr>\n",
       "    <tr>\n",
       "      <th>ultra</th>\n",
       "      <td>526.623350</td>\n",
       "      <td>19.494416</td>\n",
       "      <td>49.363452</td>\n",
       "      <td>2070.152284</td>\n",
       "      <td>100873.633397</td>\n",
       "      <td>97.091686</td>\n",
       "      <td>2285.266143</td>\n",
       "      <td>141516.745079</td>\n",
       "      <td>317.606098</td>\n",
       "      <td>9.853511</td>\n",
       "      <td>47.804457</td>\n",
       "      <td>376.187114</td>\n",
       "    </tr>\n",
       "  </tbody>\n",
       "</table>\n",
       "</div>"
      ],
      "text/plain": [
       "              mean                                                \\\n",
       "          call_sum internet_used_sum message_count total_revenue   \n",
       "tariff                                                             \n",
       "smart   417.934948         16.328847     33.384029   1289.973531   \n",
       "ultra   526.623350         19.494416     49.363452   2070.152284   \n",
       "\n",
       "                  var                                                 \\\n",
       "             call_sum internet_used_sum message_count  total_revenue   \n",
       "tariff                                                                 \n",
       "smart    36219.315784         33.028705    796.812958  669785.708006   \n",
       "ultra   100873.633397         97.091686   2285.266143  141516.745079   \n",
       "\n",
       "               std                                                \n",
       "          call_sum internet_used_sum message_count total_revenue  \n",
       "tariff                                                            \n",
       "smart   190.313730          5.747061     28.227876    818.404367  \n",
       "ultra   317.606098          9.853511     47.804457    376.187114  "
      ]
     },
     "execution_count": 37,
     "metadata": {},
     "output_type": "execute_result"
    }
   ],
   "source": [
    "revenue_table.pivot_table(index='tariff', values=['call_sum', 'message_count', 'internet_used_sum', 'total_revenue'], aggfunc=['mean', 'var', 'std'])"
   ]
  },
  {
   "cell_type": "markdown",
   "metadata": {},
   "source": [
    "Построим гистограммы распределений:"
   ]
  },
  {
   "cell_type": "code",
   "execution_count": 38,
   "metadata": {
    "scrolled": true
   },
   "outputs": [
    {
     "data": {
      "image/png": "[encoded data removed]",
      "text/plain": [
       "<Figure size 432x288 with 1 Axes>"
      ]
     },
     "metadata": {
      "needs_background": "light"
     },
     "output_type": "display_data"
    },
    {
     "data": {
      "image/png": "[encoded data removed]",
      "text/plain": [
       "<Figure size 432x288 with 1 Axes>"
      ]
     },
     "metadata": {
      "needs_background": "light"
     },
     "output_type": "display_data"
    },
    {
     "data": {
      "image/png": "[encoded data removed]",
      "text/plain": [
       "<Figure size 432x288 with 1 Axes>"
      ]
     },
     "metadata": {
      "needs_background": "light"
     },
     "output_type": "display_data"
    },
    {
     "data": {
      "image/png": "[encoded data removed]",
      "text/plain": [
       "<Figure size 432x288 with 1 Axes>"
      ]
     },
     "metadata": {
      "needs_background": "light"
     },
     "output_type": "display_data"
    }
   ],
   "source": [
    "to_hist = ['call_sum', 'internet_used_sum', 'message_count', 'total_revenue']\n",
    "for parametr in to_hist:\n",
    "    ultra[parametr].plot(kind='hist', title=parametr, bins=10, alpha=0.7, label='ultra', legend=True)\n",
    "    smart[parametr].plot(kind='hist', title=parametr, bins=10, alpha=0.7, label='smart', legend=True)\n",
    "    plt.show()"
   ]
  },
  {
   "cell_type": "markdown",
   "metadata": {},
   "source": [
    "По гистограммам вид распределения минут, сообщений и гигабайт похож на распределение Пуассона, что укрепляет веру в репрезентативность выборки и данных.  \n",
    "По рассчитанным величинам средний пользователь тарифа **ultra** использует:\n",
    "- 526 минут\n",
    "- 19,5 Гб интернета\n",
    "- 49 сообщений\n",
    "- средняя выручка 2070 руб\n",
    "\n",
    "По рассчитанным величинам средний пользователь тарифа **smart** использует:\n",
    "- 418 минут\n",
    "- 16,3 Гб интернета\n",
    "- 33 сообщений \n",
    "- средняя выручка 1289 руб\n",
    "\n",
    "Логично, что потребность в минутах, интернете и сообщениях выше у пользователей тарифа ultra, ведь тарифный план с большим количеством мин, Гб, сообщ. они вероятно выбирали исходя из своих потребностей, скорее всего рабочих."
   ]
  },
  {
   "cell_type": "markdown",
   "metadata": {},
   "source": [
    "## Проверка гипотез"
   ]
  },
  {
   "cell_type": "markdown",
   "metadata": {},
   "source": [
    "### Cредняя выручка пользователей тарифов «Ультра» и «Смарт» различаются"
   ]
  },
  {
   "cell_type": "markdown",
   "metadata": {},
   "source": [
    "Тогда нулевая и альтернативная гипотезы будут сформулированы следующим образом:\n",
    "- **H**0 **: Cредняя выручка пользователей тарифов «Ультра» и «Смарт» равны**\n",
    "- **H**1 **: Cредняя выручка пользователей тарифов «Ультра» и «Смарт» различаются**"
   ]
  },
  {
   "cell_type": "markdown",
   "metadata": {},
   "source": [
    "При этом **альтернативная гипотеза является двусторонней**, то есть отклонения в любую сторону при достататочном уровне статистической значимости будут учитываться и не будут противоречить алтренативной гипотезе.  \n",
    "Для проверки нулевой гипотезы воспользуемся `st.ttest_ind` с параметром `equal_var=False`, так как выше была рассчитана дисперсия для каждой из выборок «Ультра» и «Смарт», они не были даже примерно равны.  \n",
    "Критический уровень статистической значимости alpha установим согласно общей практике значением 0,05."
   ]
  },
  {
   "cell_type": "code",
   "execution_count": 39,
   "metadata": {},
   "outputs": [],
   "source": [
    "ultra_revenue = ultra['total_revenue']\n",
    "smart_revenue = smart['total_revenue']\n",
    "alpha = 0.05"
   ]
  },
  {
   "cell_type": "code",
   "execution_count": 40,
   "metadata": {},
   "outputs": [
    {
     "name": "stdout",
     "output_type": "stream",
     "text": [
      "p-значение: 4.2606313931076085e-250\n"
     ]
    }
   ],
   "source": [
    "results = st.ttest_ind(ultra_revenue, smart_revenue, equal_var=False)\n",
    "print('p-значение:', results.pvalue)"
   ]
  },
  {
   "cell_type": "code",
   "execution_count": 41,
   "metadata": {},
   "outputs": [
    {
     "name": "stdout",
     "output_type": "stream",
     "text": [
      "Отвергаем нулевую гипотезу о равенстве средней выручки пользователей тарифов «Ультра» и «Смарт»\n"
     ]
    }
   ],
   "source": [
    "if results.pvalue < alpha:\n",
    "    print('Отвергаем нулевую гипотезу о равенстве средней выручки пользователей тарифов «Ультра» и «Смарт»')\n",
    "else:\n",
    "    print('Не получилось отвергнуть нулевую гипотезу')"
   ]
  },
  {
   "cell_type": "markdown",
   "metadata": {},
   "source": [
    "**Резултат интрепретируется следующим образом:**  \n",
    "Если бы гипотеза H0 была верна, то только в 4 из 1e+250 выборок средняя выручка тарифов смарт и ультра была бы равна. То есть это практически невозможно, даже если бы критический уровень был бы выбран ниже, все равно бы отвергли нулевую гипотезу.  \n",
    "Как было рассчитано в прошлой части работы, средние выручки смарта и ультра равны 1289 и 2070 руб. соответсвенно, то есть явно видно, что они не равны и причем очень сильно.   \n",
    "Статистический тест Уэлша (equal_var=False) в данном случае помог опровергнуть нулевую гипотезу.  \n",
    "Поэтому мы отвергаем нулевую и при этом не отвергаем альтернативную двустороннюю гипотезу о том, что выручки не равны."
   ]
  },
  {
   "cell_type": "markdown",
   "metadata": {},
   "source": [
    "### Cредняя выручка пользователей из Москвы отличается от выручки пользователей из других регионов"
   ]
  },
  {
   "cell_type": "markdown",
   "metadata": {},
   "source": [
    "Чтобы проверить данную гипотезу, понадобится информация по месту жительства абонентов. Для этого создадим таблицу user_city, в которой будет user_id и city.  \n",
    "Затем соединим таблицы user_city + revenue_table"
   ]
  },
  {
   "cell_type": "code",
   "execution_count": 42,
   "metadata": {},
   "outputs": [],
   "source": [
    "user_city = users[['user_id', 'city']]"
   ]
  },
  {
   "cell_type": "code",
   "execution_count": 43,
   "metadata": {
    "scrolled": true
   },
   "outputs": [],
   "source": [
    "revenue_table_city = revenue_table.merge(user_city, on='user_id', how='left')"
   ]
  },
  {
   "cell_type": "markdown",
   "metadata": {},
   "source": [
    "Далее подготовим списки прибыли от услуг сотовой связи москвичей и жителей остальных регионов."
   ]
  },
  {
   "cell_type": "code",
   "execution_count": 44,
   "metadata": {
    "scrolled": true
   },
   "outputs": [],
   "source": [
    "moscow_revenue = revenue_table_city[revenue_table_city['city'] == 'Москва']['total_revenue']\n",
    "not_moscow_revenue = revenue_table_city[~(revenue_table_city['city'] == 'Москва')]['total_revenue']"
   ]
  },
  {
   "cell_type": "code",
   "execution_count": 45,
   "metadata": {
    "scrolled": false
   },
   "outputs": [
    {
     "name": "stdout",
     "output_type": "stream",
     "text": [
      "диспресия для выборки с московскими абонентами: 565636.4670118879\n",
      "диспресия для выборки с абонентами других регионов: 654137.6285218032\n"
     ]
    }
   ],
   "source": [
    "print('диспресия для выборки с московскими абонентами:', np.var(moscow_revenue, ddof=1))\n",
    "print('диспресия для выборки с абонентами других регионов:',np.var(not_moscow_revenue, ddof=1))"
   ]
  },
  {
   "cell_type": "code",
   "execution_count": 46,
   "metadata": {},
   "outputs": [
    {
     "name": "stdout",
     "output_type": "stream",
     "text": [
      "средняя выручка для выборки с московскими абонентами: 1546.7135842880523\n",
      "средняя выручка для выборки с абонентами других регионов: 1524.9362274298885\n"
     ]
    }
   ],
   "source": [
    "print('средняя выручка для выборки с московскими абонентами:', moscow_revenue.mean())\n",
    "print('средняя выручка для выборки с абонентами других регионов:', not_moscow_revenue.mean())"
   ]
  },
  {
   "cell_type": "markdown",
   "metadata": {},
   "source": [
    "Тогда нулевая и альтернативная гипотезы будут сформулированы следующим образом:\n",
    "- **H**0 **: Средняя выручка пользователей из Москвы равна выручке пользователей из других регионов**\n",
    "- **H**1 **: Средняя выручка пользователей из Москвы отличается от выручки пользователей из других регионов**"
   ]
  },
  {
   "cell_type": "markdown",
   "metadata": {},
   "source": [
    "При этом альтернативная гипотеза является двусторонней, то есть отклонения в любую сторону при достататочном уровне статистической значимости будут учитываться и не будут противоречить алтренативной гипотезе.  \n",
    "Для проверки нулевой гипотезы воспользуемся st.ttest_ind с параметром equal_var=True (по умолчанию), так как выше была рассчитана дисперсия для каждой из выборок Москвы и регионов, их можно признать хотя бы примерно равными, похожих порядков (ближе в случае с проверкой первой гипотезы).  \n",
    "Критический уровень статистической значимости alpha установим согласно общей практике значением 0,05."
   ]
  },
  {
   "cell_type": "code",
   "execution_count": 47,
   "metadata": {
    "scrolled": false
   },
   "outputs": [
    {
     "name": "stdout",
     "output_type": "stream",
     "text": [
      "p-значение: 0.5440152911670224\n",
      "Не получилось отвергнуть нулевую гипотезу\n"
     ]
    }
   ],
   "source": [
    "secondhypothesis = st.ttest_ind(moscow_revenue, not_moscow_revenue)\n",
    "print('p-значение:', secondhypothesis.pvalue)\n",
    "if secondhypothesis.pvalue < alpha:\n",
    "    print('Отвергаем нулевую гипотезу')\n",
    "else:\n",
    "    print('Не получилось отвергнуть нулевую гипотезу')"
   ]
  },
  {
   "cell_type": "markdown",
   "metadata": {},
   "source": [
    "**Резултат интрепретируется следующим образом:**  \n",
    "Если гипотеза H0 верна, то в 54 из 100 выборок средняя выручка с московских и региональных пользователей будет равна.  \n",
    "Значит, это более чем вероятно и нет оснований отвергать нулевую гипотезу.   \n",
    "Статистический тест Стьдента в данном случае не опроверг нулевую гипотезу.  \n",
    "Поэтому мы отвергаем альтернативную двустороннюю гипотезу о том, что выручки не равны (нет оснований)."
   ]
  },
  {
   "cell_type": "markdown",
   "metadata": {},
   "source": [
    "## Вывод"
   ]
  },
  {
   "cell_type": "markdown",
   "metadata": {},
   "source": [
    "В рамках данной работы был проведен статистический анализ данных.  \n",
    "**В 3 разделе работы были рассчитаны показатели для тарифов смарт и ультра:**  \n",
    "\n",
    "По рассчитанным величинам средний пользователь тарифа ultra использует:  \n",
    "515 минут  \n",
    "19,6 Гб интернета  \n",
    "62 сообщения  \n",
    "средняя выручка 2070 руб  \n",
    "\n",
    "По рассчитанным величинам средний пользователь тарифа smart использует:  \n",
    "396 минут  \n",
    "16,3 Гб интернета  \n",
    "39 сообщений  \n",
    "средняя выручка 1258 руб  \n",
    "\n",
    "**В 4 разделе были проверены 2 гипотезы:**\n",
    "1) В результате проверки - отвергаем нулевую гипотезу о равенстве средней выручки пользователей тарифов «Ультра» и «Смарт».   \n",
    "Как было рассчитано в прошлой части работы, средние выручки смарта и ультра равны 1289 и 2070 руб. соответсвенно, то есть явно видно, что они не равны и причем очень сильно.  \n",
    "\n",
    "2) В результате проверки - не получилось отвергнуть нулевую гипотезу о равенстве срединей прибыли с московских и региональных абонентов.  \n",
    "Средняя выручка для выборки с московскими абонентами: 1546 руб.  \n",
    "Средняя выручка для выборки с абонентами других регионов: 1524 руб.  \n",
    "Разница средних не столь существенна, при этом p-value в районе 54% не позволил опровергнуть гипотезу о равентсве.\n",
    "\n",
    "**Какой тариф более выгодный для оператора связи?**  \n",
    "Если отталкиваться от средней выручки с каждого абонента, то **более выгодным тарифом для оператора связи является тариф ultra**, ведь при схожих порядках количества звонков, интернета и сообщений, выручка выше примерно в полтора раза.  \n",
    "Но для однозначного ответа на данный вопрос необходимы дополнительные данные, например сколько одна минута звонка стоит для самого оператора связи. То же самое про интернет и сообщения.  \n",
    "Тариф ultra более выгодный за счет своей абонентской платы.  \n",
    "Поэтому можно корректировать рекламный бюджет в сторону увеличения средств на рекламу тарифа ultra.\n",
    "Но при этом понимать, что только 30% от общего количества абонентов выборки (149 абонентов) имеют тариф 'ultra' и поэтому общая прибыль в выборке с тарифом ultra - 308430 руб, а с тарифом smart - 441558 руб.   \n",
    "Поэтому тариф ultra выгоднее (без исследования доп.информации), а денег в общем приносит больше тариф smart за счет более высокого охвата."
   ]
  }
 ],
 "metadata": {
  "ExecuteTimeLog": [
   {
    "duration": 98,
    "start_time": "2021-11-18T12:45:58.459Z"
   },
   {
    "duration": 1377,
    "start_time": "2021-11-18T13:02:27.705Z"
   },
   {
    "duration": 4,
    "start_time": "2021-11-18T13:02:31.683Z"
   },
   {
    "duration": 4,
    "start_time": "2021-11-18T13:02:45.744Z"
   },
   {
    "duration": 215,
    "start_time": "2021-11-18T13:05:01.844Z"
   },
   {
    "duration": 20,
    "start_time": "2021-11-18T13:05:08.868Z"
   },
   {
    "duration": 207,
    "start_time": "2021-11-18T13:05:34.542Z"
   },
   {
    "duration": 15,
    "start_time": "2021-11-18T13:05:38.123Z"
   },
   {
    "duration": 508,
    "start_time": "2021-11-18T13:07:14.159Z"
   },
   {
    "duration": 19,
    "start_time": "2021-11-18T13:07:21.697Z"
   },
   {
    "duration": 29,
    "start_time": "2021-11-18T13:10:42.919Z"
   },
   {
    "duration": 23,
    "start_time": "2021-11-18T13:11:10.808Z"
   },
   {
    "duration": 20,
    "start_time": "2021-11-18T13:11:38.819Z"
   },
   {
    "duration": 11,
    "start_time": "2021-11-18T13:11:52.195Z"
   },
   {
    "duration": 11,
    "start_time": "2021-11-18T13:13:11.375Z"
   },
   {
    "duration": 95,
    "start_time": "2021-11-18T14:11:08.569Z"
   },
   {
    "duration": 95,
    "start_time": "2021-11-18T14:11:31.422Z"
   },
   {
    "duration": 85,
    "start_time": "2021-11-18T14:12:04.404Z"
   },
   {
    "duration": 85,
    "start_time": "2021-11-18T14:12:11.308Z"
   },
   {
    "duration": 84,
    "start_time": "2021-11-18T14:13:20.935Z"
   },
   {
    "duration": 87,
    "start_time": "2021-11-18T14:14:37.151Z"
   },
   {
    "duration": 89,
    "start_time": "2021-11-18T14:15:08.934Z"
   },
   {
    "duration": 92,
    "start_time": "2021-11-18T14:15:21.123Z"
   },
   {
    "duration": 334,
    "start_time": "2021-11-18T14:16:44.546Z"
   },
   {
    "duration": 1639,
    "start_time": "2021-11-18T14:16:59.486Z"
   },
   {
    "duration": 536,
    "start_time": "2021-11-18T14:17:01.128Z"
   },
   {
    "duration": 35,
    "start_time": "2021-11-18T14:17:01.667Z"
   },
   {
    "duration": 34,
    "start_time": "2021-11-18T14:17:01.706Z"
   },
   {
    "duration": 33,
    "start_time": "2021-11-18T14:17:01.742Z"
   },
   {
    "duration": 18,
    "start_time": "2021-11-18T14:17:01.779Z"
   },
   {
    "duration": 26,
    "start_time": "2021-11-18T14:17:01.801Z"
   },
   {
    "duration": 318,
    "start_time": "2021-11-18T14:17:26.124Z"
   },
   {
    "duration": 251,
    "start_time": "2021-11-18T14:17:29.633Z"
   },
   {
    "duration": 1342,
    "start_time": "2021-11-18T14:17:39.556Z"
   },
   {
    "duration": 500,
    "start_time": "2021-11-18T14:17:40.901Z"
   },
   {
    "duration": 28,
    "start_time": "2021-11-18T14:17:41.403Z"
   },
   {
    "duration": 29,
    "start_time": "2021-11-18T14:17:41.433Z"
   },
   {
    "duration": 18,
    "start_time": "2021-11-18T14:17:41.465Z"
   },
   {
    "duration": 23,
    "start_time": "2021-11-18T14:17:41.486Z"
   },
   {
    "duration": 25,
    "start_time": "2021-11-18T14:17:41.511Z"
   },
   {
    "duration": 105,
    "start_time": "2021-11-18T14:17:41.539Z"
   },
   {
    "duration": 321,
    "start_time": "2021-11-18T14:21:54.521Z"
   },
   {
    "duration": 1417,
    "start_time": "2021-11-18T14:21:59.994Z"
   },
   {
    "duration": 549,
    "start_time": "2021-11-18T14:22:01.414Z"
   },
   {
    "duration": 34,
    "start_time": "2021-11-18T14:22:01.966Z"
   },
   {
    "duration": 45,
    "start_time": "2021-11-18T14:22:02.003Z"
   },
   {
    "duration": 21,
    "start_time": "2021-11-18T14:22:02.051Z"
   },
   {
    "duration": 30,
    "start_time": "2021-11-18T14:22:02.074Z"
   },
   {
    "duration": 32,
    "start_time": "2021-11-18T14:22:02.106Z"
   },
   {
    "duration": 475,
    "start_time": "2021-11-18T14:22:02.142Z"
   },
   {
    "duration": 339,
    "start_time": "2021-11-18T14:22:17.013Z"
   },
   {
    "duration": 424,
    "start_time": "2021-11-18T14:22:28.743Z"
   },
   {
    "duration": 297,
    "start_time": "2021-11-18T14:23:12.649Z"
   },
   {
    "duration": 4,
    "start_time": "2021-11-18T14:23:33.677Z"
   },
   {
    "duration": 559,
    "start_time": "2021-11-18T14:23:33.684Z"
   },
   {
    "duration": 27,
    "start_time": "2021-11-18T14:23:34.247Z"
   },
   {
    "duration": 34,
    "start_time": "2021-11-18T14:23:34.277Z"
   },
   {
    "duration": 32,
    "start_time": "2021-11-18T14:23:34.314Z"
   },
   {
    "duration": 30,
    "start_time": "2021-11-18T14:23:34.349Z"
   },
   {
    "duration": 35,
    "start_time": "2021-11-18T14:23:34.382Z"
   },
   {
    "duration": 285,
    "start_time": "2021-11-18T14:23:38.635Z"
   },
   {
    "duration": 88,
    "start_time": "2021-11-18T14:29:02.403Z"
   },
   {
    "duration": 365,
    "start_time": "2021-11-18T14:29:15.364Z"
   },
   {
    "duration": 459,
    "start_time": "2021-11-18T14:29:33.840Z"
   },
   {
    "duration": 355,
    "start_time": "2021-11-18T14:41:56.551Z"
   },
   {
    "duration": 1718,
    "start_time": "2021-11-18T14:42:03.008Z"
   },
   {
    "duration": 680,
    "start_time": "2021-11-18T14:42:04.729Z"
   },
   {
    "duration": 43,
    "start_time": "2021-11-18T14:42:05.413Z"
   },
   {
    "duration": 34,
    "start_time": "2021-11-18T14:42:05.458Z"
   },
   {
    "duration": 49,
    "start_time": "2021-11-18T14:42:05.495Z"
   },
   {
    "duration": 10,
    "start_time": "2021-11-18T14:42:05.547Z"
   },
   {
    "duration": 18,
    "start_time": "2021-11-18T14:42:05.559Z"
   },
   {
    "duration": 354,
    "start_time": "2021-11-18T14:42:06.485Z"
   },
   {
    "duration": 348,
    "start_time": "2021-11-18T14:43:40.550Z"
   },
   {
    "duration": 374,
    "start_time": "2021-11-18T14:43:49.851Z"
   },
   {
    "duration": 525,
    "start_time": "2021-11-18T14:44:58.512Z"
   },
   {
    "duration": 1341,
    "start_time": "2021-11-18T14:45:03.146Z"
   },
   {
    "duration": 501,
    "start_time": "2021-11-18T14:45:04.490Z"
   },
   {
    "duration": 29,
    "start_time": "2021-11-18T14:45:04.995Z"
   },
   {
    "duration": 22,
    "start_time": "2021-11-18T14:45:05.026Z"
   },
   {
    "duration": 25,
    "start_time": "2021-11-18T14:45:05.051Z"
   },
   {
    "duration": 8,
    "start_time": "2021-11-18T14:45:05.078Z"
   },
   {
    "duration": 45,
    "start_time": "2021-11-18T14:45:05.088Z"
   },
   {
    "duration": 508,
    "start_time": "2021-11-18T14:45:13.074Z"
   },
   {
    "duration": 803,
    "start_time": "2021-11-18T14:45:51.234Z"
   },
   {
    "duration": 807,
    "start_time": "2021-11-18T14:45:57.479Z"
   },
   {
    "duration": 900,
    "start_time": "2021-11-18T14:46:12.478Z"
   },
   {
    "duration": 633,
    "start_time": "2021-11-18T14:47:44.411Z"
   },
   {
    "duration": 658,
    "start_time": "2021-11-18T14:48:00.290Z"
   },
   {
    "duration": 32,
    "start_time": "2021-11-18T14:52:37.726Z"
   },
   {
    "duration": 27,
    "start_time": "2021-11-18T14:52:45.097Z"
   },
   {
    "duration": 273,
    "start_time": "2021-11-18T14:53:01.509Z"
   },
   {
    "duration": 270,
    "start_time": "2021-11-18T14:53:04.987Z"
   },
   {
    "duration": 114,
    "start_time": "2021-11-18T14:53:08.095Z"
   },
   {
    "duration": 108,
    "start_time": "2021-11-18T14:53:11.638Z"
   },
   {
    "duration": 139,
    "start_time": "2021-11-18T14:53:15.467Z"
   },
   {
    "duration": 15,
    "start_time": "2021-11-18T14:54:19.554Z"
   },
   {
    "duration": 7178,
    "start_time": "2021-11-18T14:54:52.372Z"
   },
   {
    "duration": 1110,
    "start_time": "2021-11-18T14:55:17.956Z"
   },
   {
    "duration": 7,
    "start_time": "2021-11-18T14:55:24.129Z"
   },
   {
    "duration": 8,
    "start_time": "2021-11-18T14:55:31.153Z"
   },
   {
    "duration": 12,
    "start_time": "2021-11-18T14:56:02.837Z"
   },
   {
    "duration": 12,
    "start_time": "2021-11-18T14:59:29.792Z"
   },
   {
    "duration": 23,
    "start_time": "2021-11-18T15:09:11.673Z"
   },
   {
    "duration": 91,
    "start_time": "2021-11-18T15:09:26.618Z"
   },
   {
    "duration": 10,
    "start_time": "2021-11-18T15:10:31.425Z"
   },
   {
    "duration": 18,
    "start_time": "2021-11-18T15:10:54.041Z"
   },
   {
    "duration": 59,
    "start_time": "2021-11-18T15:11:06.033Z"
   },
   {
    "duration": 264,
    "start_time": "2021-11-18T15:15:13.173Z"
   },
   {
    "duration": 12,
    "start_time": "2021-11-18T15:15:22.945Z"
   },
   {
    "duration": 12,
    "start_time": "2021-11-18T15:15:26.581Z"
   },
   {
    "duration": 1366,
    "start_time": "2021-11-18T15:28:40.322Z"
   },
   {
    "duration": 516,
    "start_time": "2021-11-18T15:28:41.690Z"
   },
   {
    "duration": 16,
    "start_time": "2021-11-18T15:28:42.212Z"
   },
   {
    "duration": 32,
    "start_time": "2021-11-18T15:28:42.230Z"
   },
   {
    "duration": 145,
    "start_time": "2021-11-18T15:28:42.264Z"
   },
   {
    "duration": 24,
    "start_time": "2021-11-18T15:28:42.412Z"
   },
   {
    "duration": 28,
    "start_time": "2021-11-18T15:28:42.439Z"
   },
   {
    "duration": 138,
    "start_time": "2021-11-18T15:28:42.469Z"
   },
   {
    "duration": 10,
    "start_time": "2021-11-18T15:28:42.609Z"
   },
   {
    "duration": 19,
    "start_time": "2021-11-18T15:28:42.629Z"
   },
   {
    "duration": 92,
    "start_time": "2021-11-18T15:28:42.651Z"
   },
   {
    "duration": 17,
    "start_time": "2021-11-18T15:28:42.745Z"
   },
   {
    "duration": 14,
    "start_time": "2021-11-18T15:28:42.765Z"
   },
   {
    "duration": 8,
    "start_time": "2021-11-18T15:28:42.781Z"
   },
   {
    "duration": 15,
    "start_time": "2021-11-18T15:29:45.639Z"
   },
   {
    "duration": 386,
    "start_time": "2021-11-18T15:45:43.817Z"
   },
   {
    "duration": 91,
    "start_time": "2021-11-18T15:51:05.346Z"
   },
   {
    "duration": 400,
    "start_time": "2021-11-18T15:51:41.777Z"
   },
   {
    "duration": 85,
    "start_time": "2021-11-18T15:51:49.223Z"
   },
   {
    "duration": 384,
    "start_time": "2021-11-18T15:52:07.887Z"
   },
   {
    "duration": 677,
    "start_time": "2021-11-18T15:52:17.010Z"
   },
   {
    "duration": 816,
    "start_time": "2021-11-18T15:52:36.746Z"
   },
   {
    "duration": 279,
    "start_time": "2021-11-18T15:56:15.183Z"
   },
   {
    "duration": 21,
    "start_time": "2021-11-18T15:56:37.448Z"
   },
   {
    "duration": 21,
    "start_time": "2021-11-18T15:57:20.556Z"
   },
   {
    "duration": 29,
    "start_time": "2021-11-18T15:57:56.762Z"
   },
   {
    "duration": 33,
    "start_time": "2021-11-18T15:58:37.230Z"
   },
   {
    "duration": 635,
    "start_time": "2021-11-18T15:58:47.459Z"
   },
   {
    "duration": 1360,
    "start_time": "2021-11-18T15:59:16.020Z"
   },
   {
    "duration": 520,
    "start_time": "2021-11-18T15:59:17.383Z"
   },
   {
    "duration": 17,
    "start_time": "2021-11-18T15:59:17.906Z"
   },
   {
    "duration": 49,
    "start_time": "2021-11-18T15:59:17.926Z"
   },
   {
    "duration": 27,
    "start_time": "2021-11-18T15:59:17.978Z"
   },
   {
    "duration": 31,
    "start_time": "2021-11-18T15:59:18.007Z"
   },
   {
    "duration": 40,
    "start_time": "2021-11-18T15:59:18.041Z"
   },
   {
    "duration": 51,
    "start_time": "2021-11-18T15:59:18.086Z"
   },
   {
    "duration": 34,
    "start_time": "2021-11-18T15:59:18.139Z"
   },
   {
    "duration": 12,
    "start_time": "2021-11-18T15:59:18.176Z"
   },
   {
    "duration": 49,
    "start_time": "2021-11-18T15:59:18.190Z"
   },
   {
    "duration": 29,
    "start_time": "2021-11-18T15:59:18.241Z"
   },
   {
    "duration": 34,
    "start_time": "2021-11-18T15:59:18.272Z"
   },
   {
    "duration": 29,
    "start_time": "2021-11-18T15:59:18.308Z"
   },
   {
    "duration": 24,
    "start_time": "2021-11-18T15:59:18.339Z"
   },
   {
    "duration": 684,
    "start_time": "2021-11-18T15:59:18.365Z"
   },
   {
    "duration": 10,
    "start_time": "2021-11-18T16:00:19.822Z"
   },
   {
    "duration": 27,
    "start_time": "2021-11-18T16:00:26.657Z"
   },
   {
    "duration": 20,
    "start_time": "2021-11-18T16:01:09.920Z"
   },
   {
    "duration": 1331,
    "start_time": "2021-11-18T16:02:06.660Z"
   },
   {
    "duration": 547,
    "start_time": "2021-11-18T16:02:07.994Z"
   },
   {
    "duration": 16,
    "start_time": "2021-11-18T16:02:08.544Z"
   },
   {
    "duration": 18,
    "start_time": "2021-11-18T16:02:08.564Z"
   },
   {
    "duration": 52,
    "start_time": "2021-11-18T16:02:08.584Z"
   },
   {
    "duration": 12,
    "start_time": "2021-11-18T16:02:08.638Z"
   },
   {
    "duration": 26,
    "start_time": "2021-11-18T16:02:08.652Z"
   },
   {
    "duration": 48,
    "start_time": "2021-11-18T16:02:08.682Z"
   },
   {
    "duration": 19,
    "start_time": "2021-11-18T16:02:08.733Z"
   },
   {
    "duration": 15,
    "start_time": "2021-11-18T16:02:08.754Z"
   },
   {
    "duration": 58,
    "start_time": "2021-11-18T16:02:08.771Z"
   },
   {
    "duration": 9,
    "start_time": "2021-11-18T16:02:08.831Z"
   },
   {
    "duration": 45,
    "start_time": "2021-11-18T16:02:08.843Z"
   },
   {
    "duration": 4,
    "start_time": "2021-11-18T16:02:08.890Z"
   },
   {
    "duration": 132,
    "start_time": "2021-11-18T16:04:39.933Z"
   },
   {
    "duration": 427,
    "start_time": "2021-11-18T16:05:12.536Z"
   },
   {
    "duration": 1355,
    "start_time": "2021-11-18T16:05:20.434Z"
   },
   {
    "duration": 539,
    "start_time": "2021-11-18T16:05:21.792Z"
   },
   {
    "duration": 17,
    "start_time": "2021-11-18T16:05:22.334Z"
   },
   {
    "duration": 15,
    "start_time": "2021-11-18T16:05:22.354Z"
   },
   {
    "duration": 65,
    "start_time": "2021-11-18T16:05:22.371Z"
   },
   {
    "duration": 13,
    "start_time": "2021-11-18T16:05:22.438Z"
   },
   {
    "duration": 24,
    "start_time": "2021-11-18T16:05:22.453Z"
   },
   {
    "duration": 50,
    "start_time": "2021-11-18T16:05:22.479Z"
   },
   {
    "duration": 19,
    "start_time": "2021-11-18T16:05:22.533Z"
   },
   {
    "duration": 11,
    "start_time": "2021-11-18T16:05:22.555Z"
   },
   {
    "duration": 17,
    "start_time": "2021-11-18T16:05:22.569Z"
   },
   {
    "duration": 48,
    "start_time": "2021-11-18T16:05:22.588Z"
   },
   {
    "duration": 39,
    "start_time": "2021-11-18T16:05:22.638Z"
   },
   {
    "duration": 98,
    "start_time": "2021-11-18T16:05:24.527Z"
   },
   {
    "duration": 91,
    "start_time": "2021-11-18T16:05:41.056Z"
   },
   {
    "duration": 7,
    "start_time": "2021-11-18T16:06:45.242Z"
   },
   {
    "duration": 8,
    "start_time": "2021-11-18T16:06:50.723Z"
   },
   {
    "duration": 9,
    "start_time": "2021-11-18T16:08:28.466Z"
   },
   {
    "duration": 33,
    "start_time": "2021-11-18T16:08:34.640Z"
   },
   {
    "duration": 82,
    "start_time": "2021-11-18T16:08:54.698Z"
   },
   {
    "duration": 566,
    "start_time": "2021-11-18T16:09:36.533Z"
   },
   {
    "duration": 1748,
    "start_time": "2021-11-18T16:09:46.758Z"
   },
   {
    "duration": 512,
    "start_time": "2021-11-18T16:09:48.509Z"
   },
   {
    "duration": 16,
    "start_time": "2021-11-18T16:09:49.024Z"
   },
   {
    "duration": 26,
    "start_time": "2021-11-18T16:09:49.042Z"
   },
   {
    "duration": 27,
    "start_time": "2021-11-18T16:09:49.071Z"
   },
   {
    "duration": 37,
    "start_time": "2021-11-18T16:09:49.100Z"
   },
   {
    "duration": 10,
    "start_time": "2021-11-18T16:09:49.140Z"
   },
   {
    "duration": 22,
    "start_time": "2021-11-18T16:09:49.154Z"
   },
   {
    "duration": 55,
    "start_time": "2021-11-18T16:09:49.179Z"
   },
   {
    "duration": 28,
    "start_time": "2021-11-18T16:09:49.237Z"
   },
   {
    "duration": 15,
    "start_time": "2021-11-18T16:09:49.268Z"
   },
   {
    "duration": 56,
    "start_time": "2021-11-18T16:09:49.285Z"
   },
   {
    "duration": 10,
    "start_time": "2021-11-18T16:09:49.344Z"
   },
   {
    "duration": 77,
    "start_time": "2021-11-18T16:09:49.357Z"
   },
   {
    "duration": 368,
    "start_time": "2021-11-18T16:10:47.081Z"
   },
   {
    "duration": 1398,
    "start_time": "2021-11-18T16:10:50.690Z"
   },
   {
    "duration": 599,
    "start_time": "2021-11-18T16:10:52.091Z"
   },
   {
    "duration": 22,
    "start_time": "2021-11-18T16:10:52.694Z"
   },
   {
    "duration": 18,
    "start_time": "2021-11-18T16:10:52.719Z"
   },
   {
    "duration": 44,
    "start_time": "2021-11-18T16:10:52.741Z"
   },
   {
    "duration": 43,
    "start_time": "2021-11-18T16:10:52.788Z"
   },
   {
    "duration": 9,
    "start_time": "2021-11-18T16:10:52.834Z"
   },
   {
    "duration": 32,
    "start_time": "2021-11-18T16:10:52.848Z"
   },
   {
    "duration": 54,
    "start_time": "2021-11-18T16:10:52.884Z"
   },
   {
    "duration": 22,
    "start_time": "2021-11-18T16:10:52.941Z"
   },
   {
    "duration": 27,
    "start_time": "2021-11-18T16:10:52.965Z"
   },
   {
    "duration": 35,
    "start_time": "2021-11-18T16:10:52.994Z"
   },
   {
    "duration": 17,
    "start_time": "2021-11-18T16:10:53.031Z"
   },
   {
    "duration": 45,
    "start_time": "2021-11-18T16:10:53.051Z"
   },
   {
    "duration": 104,
    "start_time": "2021-11-18T16:10:54.743Z"
   },
   {
    "duration": 88,
    "start_time": "2021-11-18T16:11:03.588Z"
   },
   {
    "duration": 328,
    "start_time": "2021-11-18T16:12:52.632Z"
   },
   {
    "duration": 273,
    "start_time": "2021-11-18T16:13:01.869Z"
   },
   {
    "duration": 1349,
    "start_time": "2021-11-18T16:13:05.648Z"
   },
   {
    "duration": 520,
    "start_time": "2021-11-18T16:13:07.000Z"
   },
   {
    "duration": 15,
    "start_time": "2021-11-18T16:13:07.523Z"
   },
   {
    "duration": 24,
    "start_time": "2021-11-18T16:13:07.541Z"
   },
   {
    "duration": 31,
    "start_time": "2021-11-18T16:13:07.568Z"
   },
   {
    "duration": 13,
    "start_time": "2021-11-18T16:13:07.630Z"
   },
   {
    "duration": 9,
    "start_time": "2021-11-18T16:13:07.645Z"
   },
   {
    "duration": 22,
    "start_time": "2021-11-18T16:13:07.658Z"
   },
   {
    "duration": 60,
    "start_time": "2021-11-18T16:13:07.683Z"
   },
   {
    "duration": 27,
    "start_time": "2021-11-18T16:13:07.746Z"
   },
   {
    "duration": 12,
    "start_time": "2021-11-18T16:13:07.776Z"
   },
   {
    "duration": 48,
    "start_time": "2021-11-18T16:13:07.791Z"
   },
   {
    "duration": 15,
    "start_time": "2021-11-18T16:13:07.842Z"
   },
   {
    "duration": 35,
    "start_time": "2021-11-18T16:13:07.859Z"
   },
   {
    "duration": 425,
    "start_time": "2021-11-18T16:13:08.671Z"
   },
   {
    "duration": 96,
    "start_time": "2021-11-18T16:21:27.351Z"
   },
   {
    "duration": 479,
    "start_time": "2021-11-18T16:21:53.018Z"
   },
   {
    "duration": 330,
    "start_time": "2021-11-18T16:23:03.613Z"
   },
   {
    "duration": 1375,
    "start_time": "2021-11-18T16:23:16.913Z"
   },
   {
    "duration": 520,
    "start_time": "2021-11-18T16:23:18.291Z"
   },
   {
    "duration": 16,
    "start_time": "2021-11-18T16:23:18.814Z"
   },
   {
    "duration": 16,
    "start_time": "2021-11-18T16:23:18.832Z"
   },
   {
    "duration": 28,
    "start_time": "2021-11-18T16:23:18.850Z"
   },
   {
    "duration": 47,
    "start_time": "2021-11-18T16:23:18.881Z"
   },
   {
    "duration": 9,
    "start_time": "2021-11-18T16:23:18.931Z"
   },
   {
    "duration": 25,
    "start_time": "2021-11-18T16:23:18.943Z"
   },
   {
    "duration": 58,
    "start_time": "2021-11-18T16:23:18.971Z"
   },
   {
    "duration": 18,
    "start_time": "2021-11-18T16:23:19.032Z"
   },
   {
    "duration": 13,
    "start_time": "2021-11-18T16:23:19.053Z"
   },
   {
    "duration": 15,
    "start_time": "2021-11-18T16:23:19.068Z"
   },
   {
    "duration": 9,
    "start_time": "2021-11-18T16:23:19.129Z"
   },
   {
    "duration": 326,
    "start_time": "2021-11-18T16:31:52.186Z"
   },
   {
    "duration": 1359,
    "start_time": "2021-11-18T16:31:56.633Z"
   },
   {
    "duration": 506,
    "start_time": "2021-11-18T16:31:57.994Z"
   },
   {
    "duration": 16,
    "start_time": "2021-11-18T16:31:58.503Z"
   },
   {
    "duration": 31,
    "start_time": "2021-11-18T16:31:58.522Z"
   },
   {
    "duration": 37,
    "start_time": "2021-11-18T16:31:58.555Z"
   },
   {
    "duration": 12,
    "start_time": "2021-11-18T16:31:58.594Z"
   },
   {
    "duration": 10,
    "start_time": "2021-11-18T16:31:58.609Z"
   },
   {
    "duration": 23,
    "start_time": "2021-11-18T16:31:58.631Z"
   },
   {
    "duration": 10,
    "start_time": "2021-11-18T16:31:58.657Z"
   },
   {
    "duration": 65,
    "start_time": "2021-11-18T16:31:58.670Z"
   },
   {
    "duration": 11,
    "start_time": "2021-11-18T16:31:58.737Z"
   },
   {
    "duration": 18,
    "start_time": "2021-11-18T16:31:58.751Z"
   },
   {
    "duration": 14,
    "start_time": "2021-11-18T16:31:58.771Z"
   },
   {
    "duration": 64,
    "start_time": "2021-11-18T16:31:58.788Z"
   },
   {
    "duration": 3,
    "start_time": "2021-11-18T16:31:58.854Z"
   },
   {
    "duration": 14,
    "start_time": "2021-11-18T16:32:00.343Z"
   },
   {
    "duration": 14,
    "start_time": "2021-11-18T16:32:21.390Z"
   },
   {
    "duration": 11,
    "start_time": "2021-11-18T16:32:41.126Z"
   },
   {
    "duration": 11,
    "start_time": "2021-11-18T16:33:02.828Z"
   },
   {
    "duration": 1366,
    "start_time": "2021-11-18T18:27:50.329Z"
   },
   {
    "duration": 539,
    "start_time": "2021-11-18T18:27:51.698Z"
   },
   {
    "duration": 15,
    "start_time": "2021-11-18T18:27:52.240Z"
   },
   {
    "duration": 12,
    "start_time": "2021-11-18T18:27:52.258Z"
   },
   {
    "duration": 36,
    "start_time": "2021-11-18T18:27:52.272Z"
   },
   {
    "duration": 36,
    "start_time": "2021-11-18T18:27:52.310Z"
   },
   {
    "duration": 8,
    "start_time": "2021-11-18T18:27:52.348Z"
   },
   {
    "duration": 27,
    "start_time": "2021-11-18T18:27:52.359Z"
   },
   {
    "duration": 10,
    "start_time": "2021-11-18T18:27:52.388Z"
   },
   {
    "duration": 55,
    "start_time": "2021-11-18T18:27:52.400Z"
   },
   {
    "duration": 11,
    "start_time": "2021-11-18T18:27:52.457Z"
   },
   {
    "duration": 11,
    "start_time": "2021-11-18T18:27:52.470Z"
   },
   {
    "duration": 8,
    "start_time": "2021-11-18T18:27:52.484Z"
   },
   {
    "duration": 67,
    "start_time": "2021-11-18T18:27:52.494Z"
   },
   {
    "duration": 3,
    "start_time": "2021-11-18T18:27:52.563Z"
   },
   {
    "duration": 82,
    "start_time": "2021-11-18T18:28:00.958Z"
   },
   {
    "duration": 56,
    "start_time": "2021-11-18T18:28:10.232Z"
   },
   {
    "duration": 81,
    "start_time": "2021-11-18T18:28:16.674Z"
   },
   {
    "duration": 1095,
    "start_time": "2021-11-18T18:29:04.510Z"
   },
   {
    "duration": 378,
    "start_time": "2021-11-18T18:29:05.608Z"
   },
   {
    "duration": 11,
    "start_time": "2021-11-18T18:29:05.988Z"
   },
   {
    "duration": 13,
    "start_time": "2021-11-18T18:29:06.001Z"
   },
   {
    "duration": 21,
    "start_time": "2021-11-18T18:29:06.016Z"
   },
   {
    "duration": 8,
    "start_time": "2021-11-18T18:29:06.038Z"
   },
   {
    "duration": 8,
    "start_time": "2021-11-18T18:29:06.048Z"
   },
   {
    "duration": 17,
    "start_time": "2021-11-18T18:29:06.059Z"
   },
   {
    "duration": 14,
    "start_time": "2021-11-18T18:29:06.078Z"
   },
   {
    "duration": 15,
    "start_time": "2021-11-18T18:29:06.094Z"
   },
   {
    "duration": 8,
    "start_time": "2021-11-18T18:29:06.110Z"
   },
   {
    "duration": 34,
    "start_time": "2021-11-18T18:29:06.119Z"
   },
   {
    "duration": 10,
    "start_time": "2021-11-18T18:29:06.154Z"
   },
   {
    "duration": 30,
    "start_time": "2021-11-18T18:29:06.166Z"
   },
   {
    "duration": 2,
    "start_time": "2021-11-18T18:29:06.199Z"
   },
   {
    "duration": 104,
    "start_time": "2021-11-18T18:29:06.203Z"
   },
   {
    "duration": 381,
    "start_time": "2021-11-18T18:29:29.057Z"
   },
   {
    "duration": 1060,
    "start_time": "2021-11-18T18:29:37.661Z"
   },
   {
    "duration": 375,
    "start_time": "2021-11-18T18:29:38.723Z"
   },
   {
    "duration": 11,
    "start_time": "2021-11-18T18:29:39.100Z"
   },
   {
    "duration": 11,
    "start_time": "2021-11-18T18:29:39.113Z"
   },
   {
    "duration": 21,
    "start_time": "2021-11-18T18:29:39.125Z"
   },
   {
    "duration": 8,
    "start_time": "2021-11-18T18:29:39.148Z"
   },
   {
    "duration": 22,
    "start_time": "2021-11-18T18:29:39.158Z"
   },
   {
    "duration": 29,
    "start_time": "2021-11-18T18:29:39.182Z"
   },
   {
    "duration": 7,
    "start_time": "2021-11-18T18:29:39.214Z"
   },
   {
    "duration": 28,
    "start_time": "2021-11-18T18:29:39.223Z"
   },
   {
    "duration": 10,
    "start_time": "2021-11-18T18:29:39.253Z"
   },
   {
    "duration": 16,
    "start_time": "2021-11-18T18:29:39.265Z"
   },
   {
    "duration": 12,
    "start_time": "2021-11-18T18:29:39.283Z"
   },
   {
    "duration": 28,
    "start_time": "2021-11-18T18:29:39.297Z"
   },
   {
    "duration": 18,
    "start_time": "2021-11-18T18:29:39.327Z"
   },
   {
    "duration": 73,
    "start_time": "2021-11-18T18:29:39.347Z"
   },
   {
    "duration": 308,
    "start_time": "2021-11-18T18:31:05.891Z"
   },
   {
    "duration": 1055,
    "start_time": "2021-11-18T18:31:23.561Z"
   },
   {
    "duration": 409,
    "start_time": "2021-11-18T18:31:24.618Z"
   },
   {
    "duration": 11,
    "start_time": "2021-11-18T18:31:25.030Z"
   },
   {
    "duration": 19,
    "start_time": "2021-11-18T18:31:25.043Z"
   },
   {
    "duration": 37,
    "start_time": "2021-11-18T18:31:25.063Z"
   },
   {
    "duration": 8,
    "start_time": "2021-11-18T18:31:25.102Z"
   },
   {
    "duration": 16,
    "start_time": "2021-11-18T18:31:25.112Z"
   },
   {
    "duration": 33,
    "start_time": "2021-11-18T18:31:25.131Z"
   },
   {
    "duration": 7,
    "start_time": "2021-11-18T18:31:25.166Z"
   },
   {
    "duration": 46,
    "start_time": "2021-11-18T18:31:25.175Z"
   },
   {
    "duration": 23,
    "start_time": "2021-11-18T18:31:25.222Z"
   },
   {
    "duration": 31,
    "start_time": "2021-11-18T18:31:25.247Z"
   },
   {
    "duration": 23,
    "start_time": "2021-11-18T18:31:25.280Z"
   },
   {
    "duration": 35,
    "start_time": "2021-11-18T18:31:25.305Z"
   },
   {
    "duration": 5,
    "start_time": "2021-11-18T18:31:25.341Z"
   },
   {
    "duration": 85,
    "start_time": "2021-11-18T18:31:25.348Z"
   },
   {
    "duration": 5913,
    "start_time": "2021-11-18T18:31:29.045Z"
   },
   {
    "duration": 294,
    "start_time": "2021-11-18T18:33:19.457Z"
   },
   {
    "duration": 394,
    "start_time": "2021-11-18T18:34:34.087Z"
   },
   {
    "duration": 1143,
    "start_time": "2021-11-18T18:34:40.210Z"
   },
   {
    "duration": 411,
    "start_time": "2021-11-18T18:34:41.356Z"
   },
   {
    "duration": 11,
    "start_time": "2021-11-18T18:34:41.769Z"
   },
   {
    "duration": 17,
    "start_time": "2021-11-18T18:34:41.781Z"
   },
   {
    "duration": 22,
    "start_time": "2021-11-18T18:34:41.800Z"
   },
   {
    "duration": 7,
    "start_time": "2021-11-18T18:34:41.825Z"
   },
   {
    "duration": 16,
    "start_time": "2021-11-18T18:34:41.834Z"
   },
   {
    "duration": 28,
    "start_time": "2021-11-18T18:34:41.852Z"
   },
   {
    "duration": 7,
    "start_time": "2021-11-18T18:34:41.881Z"
   },
   {
    "duration": 31,
    "start_time": "2021-11-18T18:34:41.890Z"
   },
   {
    "duration": 23,
    "start_time": "2021-11-18T18:34:41.922Z"
   },
   {
    "duration": 19,
    "start_time": "2021-11-18T18:34:41.947Z"
   },
   {
    "duration": 27,
    "start_time": "2021-11-18T18:34:41.968Z"
   },
   {
    "duration": 26,
    "start_time": "2021-11-18T18:34:41.996Z"
   },
   {
    "duration": 2,
    "start_time": "2021-11-18T18:34:42.024Z"
   },
   {
    "duration": 75,
    "start_time": "2021-11-18T18:34:42.028Z"
   },
   {
    "duration": 6073,
    "start_time": "2021-11-18T18:34:42.105Z"
   },
   {
    "duration": 347,
    "start_time": "2021-11-18T18:39:55.776Z"
   },
   {
    "duration": 1095,
    "start_time": "2021-11-18T18:40:09.225Z"
   },
   {
    "duration": 382,
    "start_time": "2021-11-18T18:40:10.322Z"
   },
   {
    "duration": 11,
    "start_time": "2021-11-18T18:40:10.706Z"
   },
   {
    "duration": 15,
    "start_time": "2021-11-18T18:40:10.719Z"
   },
   {
    "duration": 23,
    "start_time": "2021-11-18T18:40:10.735Z"
   },
   {
    "duration": 7,
    "start_time": "2021-11-18T18:40:10.760Z"
   },
   {
    "duration": 10,
    "start_time": "2021-11-18T18:40:10.769Z"
   },
   {
    "duration": 16,
    "start_time": "2021-11-18T18:40:10.781Z"
   },
   {
    "duration": 7,
    "start_time": "2021-11-18T18:40:10.800Z"
   },
   {
    "duration": 42,
    "start_time": "2021-11-18T18:40:10.809Z"
   },
   {
    "duration": 7,
    "start_time": "2021-11-18T18:40:10.853Z"
   },
   {
    "duration": 10,
    "start_time": "2021-11-18T18:40:10.862Z"
   },
   {
    "duration": 6,
    "start_time": "2021-11-18T18:40:10.873Z"
   },
   {
    "duration": 5,
    "start_time": "2021-11-18T18:40:10.881Z"
   },
   {
    "duration": 15,
    "start_time": "2021-11-18T18:40:10.888Z"
   },
   {
    "duration": 94,
    "start_time": "2021-11-18T18:40:10.905Z"
   },
   {
    "duration": 5842,
    "start_time": "2021-11-18T18:40:11.086Z"
   },
   {
    "duration": 58,
    "start_time": "2021-11-18T18:41:58.078Z"
   },
   {
    "duration": 283,
    "start_time": "2021-11-18T18:42:36.375Z"
   },
   {
    "duration": 265,
    "start_time": "2021-11-18T18:42:59.833Z"
   },
   {
    "duration": 1069,
    "start_time": "2021-11-18T18:43:04.816Z"
   },
   {
    "duration": 380,
    "start_time": "2021-11-18T18:43:05.887Z"
   },
   {
    "duration": 12,
    "start_time": "2021-11-18T18:43:06.269Z"
   },
   {
    "duration": 36,
    "start_time": "2021-11-18T18:43:06.283Z"
   },
   {
    "duration": 31,
    "start_time": "2021-11-18T18:43:06.321Z"
   },
   {
    "duration": 9,
    "start_time": "2021-11-18T18:43:06.354Z"
   },
   {
    "duration": 19,
    "start_time": "2021-11-18T18:43:06.365Z"
   },
   {
    "duration": 28,
    "start_time": "2021-11-18T18:43:06.386Z"
   },
   {
    "duration": 7,
    "start_time": "2021-11-18T18:43:06.416Z"
   },
   {
    "duration": 27,
    "start_time": "2021-11-18T18:43:06.425Z"
   },
   {
    "duration": 10,
    "start_time": "2021-11-18T18:43:06.454Z"
   },
   {
    "duration": 11,
    "start_time": "2021-11-18T18:43:06.465Z"
   },
   {
    "duration": 6,
    "start_time": "2021-11-18T18:43:06.478Z"
   },
   {
    "duration": 7,
    "start_time": "2021-11-18T18:43:06.486Z"
   },
   {
    "duration": 10,
    "start_time": "2021-11-18T18:43:06.495Z"
   },
   {
    "duration": 95,
    "start_time": "2021-11-18T18:43:06.506Z"
   },
   {
    "duration": 302,
    "start_time": "2021-11-18T18:43:19.927Z"
   },
   {
    "duration": 1035,
    "start_time": "2021-11-18T18:43:25.696Z"
   },
   {
    "duration": 389,
    "start_time": "2021-11-18T18:43:26.733Z"
   },
   {
    "duration": 11,
    "start_time": "2021-11-18T18:43:27.124Z"
   },
   {
    "duration": 13,
    "start_time": "2021-11-18T18:43:27.137Z"
   },
   {
    "duration": 21,
    "start_time": "2021-11-18T18:43:27.152Z"
   },
   {
    "duration": 8,
    "start_time": "2021-11-18T18:43:27.174Z"
   },
   {
    "duration": 6,
    "start_time": "2021-11-18T18:43:27.184Z"
   },
   {
    "duration": 16,
    "start_time": "2021-11-18T18:43:27.192Z"
   },
   {
    "duration": 40,
    "start_time": "2021-11-18T18:43:27.210Z"
   },
   {
    "duration": 15,
    "start_time": "2021-11-18T18:43:27.252Z"
   },
   {
    "duration": 7,
    "start_time": "2021-11-18T18:43:27.269Z"
   },
   {
    "duration": 12,
    "start_time": "2021-11-18T18:43:27.278Z"
   },
   {
    "duration": 6,
    "start_time": "2021-11-18T18:43:27.292Z"
   },
   {
    "duration": 4,
    "start_time": "2021-11-18T18:43:27.299Z"
   },
   {
    "duration": 2,
    "start_time": "2021-11-18T18:43:27.345Z"
   },
   {
    "duration": 67,
    "start_time": "2021-11-18T18:43:27.349Z"
   },
   {
    "duration": 304,
    "start_time": "2021-11-18T18:45:19.375Z"
   },
   {
    "duration": 1122,
    "start_time": "2021-11-18T18:45:29.605Z"
   },
   {
    "duration": 415,
    "start_time": "2021-11-18T18:45:30.729Z"
   },
   {
    "duration": 11,
    "start_time": "2021-11-18T18:45:31.146Z"
   },
   {
    "duration": 33,
    "start_time": "2021-11-18T18:45:31.159Z"
   },
   {
    "duration": 23,
    "start_time": "2021-11-18T18:45:31.194Z"
   },
   {
    "duration": 16,
    "start_time": "2021-11-18T18:45:31.219Z"
   },
   {
    "duration": 9,
    "start_time": "2021-11-18T18:45:31.237Z"
   },
   {
    "duration": 27,
    "start_time": "2021-11-18T18:45:31.249Z"
   },
   {
    "duration": 7,
    "start_time": "2021-11-18T18:45:31.278Z"
   },
   {
    "duration": 23,
    "start_time": "2021-11-18T18:45:31.286Z"
   },
   {
    "duration": 8,
    "start_time": "2021-11-18T18:45:31.311Z"
   },
   {
    "duration": 8,
    "start_time": "2021-11-18T18:45:31.345Z"
   },
   {
    "duration": 28,
    "start_time": "2021-11-18T18:45:31.355Z"
   },
   {
    "duration": 8,
    "start_time": "2021-11-18T18:45:31.385Z"
   },
   {
    "duration": 20,
    "start_time": "2021-11-18T18:45:31.395Z"
   },
   {
    "duration": 71,
    "start_time": "2021-11-18T18:45:31.417Z"
   },
   {
    "duration": 144,
    "start_time": "2021-11-18T18:45:31.490Z"
   },
   {
    "duration": 16,
    "start_time": "2021-11-18T18:45:31.636Z"
   },
   {
    "duration": 16,
    "start_time": "2021-11-18T18:45:31.654Z"
   },
   {
    "duration": 26,
    "start_time": "2021-11-18T18:45:31.671Z"
   },
   {
    "duration": 14,
    "start_time": "2021-11-18T18:45:31.699Z"
   },
   {
    "duration": 1056,
    "start_time": "2021-11-18T18:46:25.169Z"
   },
   {
    "duration": 379,
    "start_time": "2021-11-18T18:46:26.226Z"
   },
   {
    "duration": 11,
    "start_time": "2021-11-18T18:46:26.607Z"
   },
   {
    "duration": 20,
    "start_time": "2021-11-18T18:46:26.620Z"
   },
   {
    "duration": 7,
    "start_time": "2021-11-18T18:46:26.642Z"
   },
   {
    "duration": 7,
    "start_time": "2021-11-18T18:46:26.651Z"
   },
   {
    "duration": 16,
    "start_time": "2021-11-18T18:46:26.660Z"
   },
   {
    "duration": 6,
    "start_time": "2021-11-18T18:46:26.679Z"
   },
   {
    "duration": 15,
    "start_time": "2021-11-18T18:46:26.687Z"
   },
   {
    "duration": 43,
    "start_time": "2021-11-18T18:46:26.703Z"
   },
   {
    "duration": 10,
    "start_time": "2021-11-18T18:46:26.747Z"
   },
   {
    "duration": 8,
    "start_time": "2021-11-18T18:46:26.759Z"
   },
   {
    "duration": 4,
    "start_time": "2021-11-18T18:46:26.769Z"
   },
   {
    "duration": 6,
    "start_time": "2021-11-18T18:46:26.775Z"
   },
   {
    "duration": 106,
    "start_time": "2021-11-18T18:46:26.783Z"
   },
   {
    "duration": 140,
    "start_time": "2021-11-18T18:46:26.891Z"
   },
   {
    "duration": 18,
    "start_time": "2021-11-18T18:46:27.033Z"
   },
   {
    "duration": 9,
    "start_time": "2021-11-18T18:46:27.053Z"
   },
   {
    "duration": 11,
    "start_time": "2021-11-18T18:46:27.063Z"
   },
   {
    "duration": 8,
    "start_time": "2021-11-18T18:46:27.076Z"
   },
   {
    "duration": 13,
    "start_time": "2021-11-18T18:46:45.437Z"
   },
   {
    "duration": 12,
    "start_time": "2021-11-18T18:46:51.224Z"
   },
   {
    "duration": 11,
    "start_time": "2021-11-18T18:47:05.304Z"
   },
   {
    "duration": 10,
    "start_time": "2021-11-18T18:47:13.095Z"
   },
   {
    "duration": 133,
    "start_time": "2021-11-18T18:58:54.831Z"
   },
   {
    "duration": 6231,
    "start_time": "2021-11-18T18:59:13.326Z"
   },
   {
    "duration": 142,
    "start_time": "2021-11-18T18:59:28.897Z"
   },
   {
    "duration": 292,
    "start_time": "2021-11-18T19:00:18.113Z"
   },
   {
    "duration": 264,
    "start_time": "2021-11-18T19:00:34.630Z"
   },
   {
    "duration": 1125,
    "start_time": "2021-11-18T19:00:44.514Z"
   },
   {
    "duration": 394,
    "start_time": "2021-11-18T19:00:45.641Z"
   },
   {
    "duration": 12,
    "start_time": "2021-11-18T19:00:46.039Z"
   },
   {
    "duration": 21,
    "start_time": "2021-11-18T19:00:46.053Z"
   },
   {
    "duration": 8,
    "start_time": "2021-11-18T19:00:46.076Z"
   },
   {
    "duration": 7,
    "start_time": "2021-11-18T19:00:46.085Z"
   },
   {
    "duration": 17,
    "start_time": "2021-11-18T19:00:46.095Z"
   },
   {
    "duration": 8,
    "start_time": "2021-11-18T19:00:46.145Z"
   },
   {
    "duration": 15,
    "start_time": "2021-11-18T19:00:46.154Z"
   },
   {
    "duration": 8,
    "start_time": "2021-11-18T19:00:46.171Z"
   },
   {
    "duration": 9,
    "start_time": "2021-11-18T19:00:46.181Z"
   },
   {
    "duration": 9,
    "start_time": "2021-11-18T19:00:46.192Z"
   },
   {
    "duration": 46,
    "start_time": "2021-11-18T19:00:46.203Z"
   },
   {
    "duration": 3,
    "start_time": "2021-11-18T19:00:46.250Z"
   },
   {
    "duration": 72,
    "start_time": "2021-11-18T19:00:46.254Z"
   },
   {
    "duration": 162,
    "start_time": "2021-11-18T19:00:46.327Z"
   },
   {
    "duration": 13,
    "start_time": "2021-11-18T19:00:46.490Z"
   },
   {
    "duration": 19,
    "start_time": "2021-11-18T19:00:46.505Z"
   },
   {
    "duration": 28,
    "start_time": "2021-11-18T19:00:46.526Z"
   },
   {
    "duration": 18,
    "start_time": "2021-11-18T19:00:46.556Z"
   },
   {
    "duration": 5940,
    "start_time": "2021-11-18T19:02:15.652Z"
   },
   {
    "duration": 54,
    "start_time": "2021-11-18T19:05:31.130Z"
   },
   {
    "duration": 361,
    "start_time": "2021-11-18T19:05:52.762Z"
   },
   {
    "duration": 1082,
    "start_time": "2021-11-18T19:06:00.951Z"
   },
   {
    "duration": 404,
    "start_time": "2021-11-18T19:06:02.035Z"
   },
   {
    "duration": 12,
    "start_time": "2021-11-18T19:06:02.441Z"
   },
   {
    "duration": 22,
    "start_time": "2021-11-18T19:06:02.455Z"
   },
   {
    "duration": 10,
    "start_time": "2021-11-18T19:06:02.479Z"
   },
   {
    "duration": 7,
    "start_time": "2021-11-18T19:06:02.491Z"
   },
   {
    "duration": 52,
    "start_time": "2021-11-18T19:06:02.500Z"
   },
   {
    "duration": 7,
    "start_time": "2021-11-18T19:06:02.555Z"
   },
   {
    "duration": 26,
    "start_time": "2021-11-18T19:06:02.564Z"
   },
   {
    "duration": 13,
    "start_time": "2021-11-18T19:06:02.592Z"
   },
   {
    "duration": 21,
    "start_time": "2021-11-18T19:06:02.607Z"
   },
   {
    "duration": 19,
    "start_time": "2021-11-18T19:06:02.629Z"
   },
   {
    "duration": 20,
    "start_time": "2021-11-18T19:06:02.650Z"
   },
   {
    "duration": 27,
    "start_time": "2021-11-18T19:06:02.671Z"
   },
   {
    "duration": 70,
    "start_time": "2021-11-18T19:06:02.700Z"
   },
   {
    "duration": 5193,
    "start_time": "2021-11-18T19:06:02.772Z"
   },
   {
    "duration": 11,
    "start_time": "2021-11-18T19:06:07.967Z"
   },
   {
    "duration": 11,
    "start_time": "2021-11-18T19:06:07.980Z"
   },
   {
    "duration": 11,
    "start_time": "2021-11-18T19:06:07.993Z"
   },
   {
    "duration": 43,
    "start_time": "2021-11-18T19:06:08.005Z"
   },
   {
    "duration": 1086,
    "start_time": "2021-11-18T19:15:07.034Z"
   },
   {
    "duration": 394,
    "start_time": "2021-11-18T19:15:08.125Z"
   },
   {
    "duration": 11,
    "start_time": "2021-11-18T19:15:08.521Z"
   },
   {
    "duration": 24,
    "start_time": "2021-11-18T19:15:08.534Z"
   },
   {
    "duration": 8,
    "start_time": "2021-11-18T19:15:08.560Z"
   },
   {
    "duration": 6,
    "start_time": "2021-11-18T19:15:08.569Z"
   },
   {
    "duration": 15,
    "start_time": "2021-11-18T19:15:08.577Z"
   },
   {
    "duration": 9,
    "start_time": "2021-11-18T19:15:08.594Z"
   },
   {
    "duration": 14,
    "start_time": "2021-11-18T19:15:08.645Z"
   },
   {
    "duration": 28,
    "start_time": "2021-11-18T19:15:08.661Z"
   },
   {
    "duration": 51,
    "start_time": "2021-11-18T19:15:08.691Z"
   },
   {
    "duration": 37,
    "start_time": "2021-11-18T19:15:08.744Z"
   },
   {
    "duration": 44,
    "start_time": "2021-11-18T19:15:08.782Z"
   },
   {
    "duration": 2,
    "start_time": "2021-11-18T19:15:08.828Z"
   },
   {
    "duration": 50,
    "start_time": "2021-11-18T19:15:39.810Z"
   },
   {
    "duration": 80,
    "start_time": "2021-11-18T19:15:47.791Z"
   },
   {
    "duration": 51,
    "start_time": "2021-11-18T19:15:58.392Z"
   },
   {
    "duration": 55,
    "start_time": "2021-11-18T19:16:17.157Z"
   },
   {
    "duration": 34,
    "start_time": "2021-11-18T19:17:02.757Z"
   },
   {
    "duration": 35,
    "start_time": "2021-11-18T19:17:11.341Z"
   },
   {
    "duration": 38,
    "start_time": "2021-11-18T19:17:17.359Z"
   },
   {
    "duration": 34,
    "start_time": "2021-11-18T19:17:25.254Z"
   },
   {
    "duration": 37,
    "start_time": "2021-11-18T19:17:33.092Z"
   },
   {
    "duration": 52,
    "start_time": "2021-11-18T19:18:20.962Z"
   },
   {
    "duration": 1128,
    "start_time": "2021-11-18T19:19:17.994Z"
   },
   {
    "duration": 426,
    "start_time": "2021-11-18T19:19:19.124Z"
   },
   {
    "duration": 11,
    "start_time": "2021-11-18T19:19:19.552Z"
   },
   {
    "duration": 23,
    "start_time": "2021-11-18T19:19:19.565Z"
   },
   {
    "duration": 8,
    "start_time": "2021-11-18T19:19:19.590Z"
   },
   {
    "duration": 14,
    "start_time": "2021-11-18T19:19:19.600Z"
   },
   {
    "duration": 40,
    "start_time": "2021-11-18T19:19:19.616Z"
   },
   {
    "duration": 7,
    "start_time": "2021-11-18T19:19:19.659Z"
   },
   {
    "duration": 15,
    "start_time": "2021-11-18T19:19:19.667Z"
   },
   {
    "duration": 7,
    "start_time": "2021-11-18T19:19:19.684Z"
   },
   {
    "duration": 8,
    "start_time": "2021-11-18T19:19:19.693Z"
   },
   {
    "duration": 47,
    "start_time": "2021-11-18T19:19:19.703Z"
   },
   {
    "duration": 23,
    "start_time": "2021-11-18T19:19:19.752Z"
   },
   {
    "duration": 81,
    "start_time": "2021-11-18T19:19:19.777Z"
   },
   {
    "duration": 37,
    "start_time": "2021-11-18T19:19:19.859Z"
   },
   {
    "duration": 76,
    "start_time": "2021-11-18T19:19:19.898Z"
   },
   {
    "duration": 1104,
    "start_time": "2021-11-18T19:19:54.126Z"
   },
   {
    "duration": 384,
    "start_time": "2021-11-18T19:19:55.232Z"
   },
   {
    "duration": 11,
    "start_time": "2021-11-18T19:19:55.618Z"
   },
   {
    "duration": 22,
    "start_time": "2021-11-18T19:19:55.631Z"
   },
   {
    "duration": 8,
    "start_time": "2021-11-18T19:19:55.654Z"
   },
   {
    "duration": 7,
    "start_time": "2021-11-18T19:19:55.663Z"
   },
   {
    "duration": 16,
    "start_time": "2021-11-18T19:19:55.672Z"
   },
   {
    "duration": 7,
    "start_time": "2021-11-18T19:19:55.690Z"
   },
   {
    "duration": 52,
    "start_time": "2021-11-18T19:19:55.699Z"
   },
   {
    "duration": 8,
    "start_time": "2021-11-18T19:19:55.754Z"
   },
   {
    "duration": 13,
    "start_time": "2021-11-18T19:19:55.764Z"
   },
   {
    "duration": 6,
    "start_time": "2021-11-18T19:19:55.779Z"
   },
   {
    "duration": 63,
    "start_time": "2021-11-18T19:19:55.787Z"
   },
   {
    "duration": 65,
    "start_time": "2021-11-18T19:19:55.852Z"
   },
   {
    "duration": 48,
    "start_time": "2021-11-18T19:19:55.918Z"
   },
   {
    "duration": 54,
    "start_time": "2021-11-18T19:19:55.968Z"
   },
   {
    "duration": 1086,
    "start_time": "2021-11-18T19:22:02.540Z"
   },
   {
    "duration": 403,
    "start_time": "2021-11-18T19:22:03.628Z"
   },
   {
    "duration": 12,
    "start_time": "2021-11-18T19:22:04.033Z"
   },
   {
    "duration": 30,
    "start_time": "2021-11-18T19:22:04.047Z"
   },
   {
    "duration": 13,
    "start_time": "2021-11-18T19:22:04.078Z"
   },
   {
    "duration": 19,
    "start_time": "2021-11-18T19:22:04.093Z"
   },
   {
    "duration": 29,
    "start_time": "2021-11-18T19:22:04.114Z"
   },
   {
    "duration": 9,
    "start_time": "2021-11-18T19:22:04.146Z"
   },
   {
    "duration": 37,
    "start_time": "2021-11-18T19:22:04.157Z"
   },
   {
    "duration": 18,
    "start_time": "2021-11-18T19:22:04.196Z"
   },
   {
    "duration": 27,
    "start_time": "2021-11-18T19:22:04.215Z"
   },
   {
    "duration": 14,
    "start_time": "2021-11-18T19:22:04.244Z"
   },
   {
    "duration": 43,
    "start_time": "2021-11-18T19:22:04.260Z"
   },
   {
    "duration": 551,
    "start_time": "2021-11-18T19:22:18.936Z"
   },
   {
    "duration": 1067,
    "start_time": "2021-11-18T19:22:26.861Z"
   },
   {
    "duration": 394,
    "start_time": "2021-11-18T19:22:27.930Z"
   },
   {
    "duration": 11,
    "start_time": "2021-11-18T19:22:28.326Z"
   },
   {
    "duration": 21,
    "start_time": "2021-11-18T19:22:28.340Z"
   },
   {
    "duration": 8,
    "start_time": "2021-11-18T19:22:28.362Z"
   },
   {
    "duration": 6,
    "start_time": "2021-11-18T19:22:28.372Z"
   },
   {
    "duration": 17,
    "start_time": "2021-11-18T19:22:28.380Z"
   },
   {
    "duration": 7,
    "start_time": "2021-11-18T19:22:28.399Z"
   },
   {
    "duration": 49,
    "start_time": "2021-11-18T19:22:28.408Z"
   },
   {
    "duration": 9,
    "start_time": "2021-11-18T19:22:28.459Z"
   },
   {
    "duration": 21,
    "start_time": "2021-11-18T19:22:28.470Z"
   },
   {
    "duration": 7,
    "start_time": "2021-11-18T19:22:28.493Z"
   },
   {
    "duration": 55,
    "start_time": "2021-11-18T19:22:28.501Z"
   },
   {
    "duration": 62,
    "start_time": "2021-11-18T19:22:28.559Z"
   },
   {
    "duration": 1023,
    "start_time": "2021-11-18T19:23:54.498Z"
   },
   {
    "duration": 390,
    "start_time": "2021-11-18T19:23:55.523Z"
   },
   {
    "duration": 11,
    "start_time": "2021-11-18T19:23:55.916Z"
   },
   {
    "duration": 21,
    "start_time": "2021-11-18T19:23:55.929Z"
   },
   {
    "duration": 8,
    "start_time": "2021-11-18T19:23:55.952Z"
   },
   {
    "duration": 7,
    "start_time": "2021-11-18T19:23:55.961Z"
   },
   {
    "duration": 15,
    "start_time": "2021-11-18T19:23:55.970Z"
   },
   {
    "duration": 6,
    "start_time": "2021-11-18T19:23:55.988Z"
   },
   {
    "duration": 15,
    "start_time": "2021-11-18T19:23:55.995Z"
   },
   {
    "duration": 8,
    "start_time": "2021-11-18T19:23:56.044Z"
   },
   {
    "duration": 11,
    "start_time": "2021-11-18T19:23:56.053Z"
   },
   {
    "duration": 7,
    "start_time": "2021-11-18T19:23:56.066Z"
   },
   {
    "duration": 3,
    "start_time": "2021-11-18T19:23:56.075Z"
   },
   {
    "duration": 104,
    "start_time": "2021-11-18T19:23:56.080Z"
   },
   {
    "duration": 65,
    "start_time": "2021-11-18T19:23:56.186Z"
   },
   {
    "duration": 55,
    "start_time": "2021-11-18T19:24:16.882Z"
   },
   {
    "duration": 332,
    "start_time": "2021-11-18T19:24:25.094Z"
   },
   {
    "duration": 52,
    "start_time": "2021-11-18T19:24:28.834Z"
   },
   {
    "duration": 46,
    "start_time": "2021-11-18T19:24:41.349Z"
   },
   {
    "duration": 252,
    "start_time": "2021-11-18T19:24:51.837Z"
   },
   {
    "duration": 247,
    "start_time": "2021-11-18T19:24:56.813Z"
   },
   {
    "duration": 45,
    "start_time": "2021-11-18T19:25:37.437Z"
   },
   {
    "duration": 226,
    "start_time": "2021-11-18T19:25:39.390Z"
   },
   {
    "duration": 171,
    "start_time": "2021-11-18T19:27:14.633Z"
   },
   {
    "duration": 175,
    "start_time": "2021-11-18T19:27:28.761Z"
   },
   {
    "duration": 221,
    "start_time": "2021-11-18T19:28:02.079Z"
   },
   {
    "duration": 109,
    "start_time": "2021-11-18T19:29:25.818Z"
   },
   {
    "duration": 108,
    "start_time": "2021-11-18T19:29:29.550Z"
   },
   {
    "duration": 392,
    "start_time": "2021-11-18T19:32:05.647Z"
   },
   {
    "duration": 109,
    "start_time": "2021-11-18T19:32:29.572Z"
   },
   {
    "duration": 442,
    "start_time": "2021-11-18T19:33:14.504Z"
   },
   {
    "duration": 437,
    "start_time": "2021-11-18T19:33:23.627Z"
   },
   {
    "duration": 456,
    "start_time": "2021-11-18T19:33:41.808Z"
   },
   {
    "duration": 2535,
    "start_time": "2021-11-18T19:35:49.253Z"
   },
   {
    "duration": 480,
    "start_time": "2021-11-19T07:46:38.368Z"
   },
   {
    "duration": 1352,
    "start_time": "2021-11-19T07:46:47.813Z"
   },
   {
    "duration": 567,
    "start_time": "2021-11-19T07:46:49.168Z"
   },
   {
    "duration": 16,
    "start_time": "2021-11-19T07:46:49.742Z"
   },
   {
    "duration": 29,
    "start_time": "2021-11-19T07:46:49.760Z"
   },
   {
    "duration": 15,
    "start_time": "2021-11-19T07:46:49.791Z"
   },
   {
    "duration": 10,
    "start_time": "2021-11-19T07:46:49.808Z"
   },
   {
    "duration": 30,
    "start_time": "2021-11-19T07:46:49.821Z"
   },
   {
    "duration": 9,
    "start_time": "2021-11-19T07:46:49.854Z"
   },
   {
    "duration": 20,
    "start_time": "2021-11-19T07:46:49.901Z"
   },
   {
    "duration": 11,
    "start_time": "2021-11-19T07:46:49.924Z"
   },
   {
    "duration": 15,
    "start_time": "2021-11-19T07:46:49.937Z"
   },
   {
    "duration": 46,
    "start_time": "2021-11-19T07:46:49.955Z"
   },
   {
    "duration": 747,
    "start_time": "2021-11-19T07:46:50.003Z"
   },
   {
    "duration": 671,
    "start_time": "2021-11-19T08:09:24.232Z"
   },
   {
    "duration": 217,
    "start_time": "2021-11-19T08:09:40.047Z"
   },
   {
    "duration": 480,
    "start_time": "2021-11-19T08:15:19.454Z"
   },
   {
    "duration": 39,
    "start_time": "2021-11-19T08:15:24.229Z"
   },
   {
    "duration": 45,
    "start_time": "2021-11-19T08:15:39.428Z"
   },
   {
    "duration": 671,
    "start_time": "2021-11-19T08:27:32.238Z"
   },
   {
    "duration": 661,
    "start_time": "2021-11-19T08:27:57.921Z"
   },
   {
    "duration": 9,
    "start_time": "2021-11-19T08:41:08.652Z"
   },
   {
    "duration": 15,
    "start_time": "2021-11-19T08:41:20.691Z"
   },
   {
    "duration": 4226,
    "start_time": "2021-11-19T08:41:29.506Z"
   },
   {
    "duration": 4541,
    "start_time": "2021-11-19T08:41:35.453Z"
   },
   {
    "duration": 4,
    "start_time": "2021-11-19T08:43:56.972Z"
   },
   {
    "duration": 522,
    "start_time": "2021-11-19T08:43:56.979Z"
   },
   {
    "duration": 11,
    "start_time": "2021-11-19T08:43:57.505Z"
   },
   {
    "duration": 30,
    "start_time": "2021-11-19T08:43:57.519Z"
   },
   {
    "duration": 12,
    "start_time": "2021-11-19T08:43:57.552Z"
   },
   {
    "duration": 8,
    "start_time": "2021-11-19T08:43:57.601Z"
   },
   {
    "duration": 24,
    "start_time": "2021-11-19T08:43:57.612Z"
   },
   {
    "duration": 10,
    "start_time": "2021-11-19T08:43:57.639Z"
   },
   {
    "duration": 65,
    "start_time": "2021-11-19T08:43:57.653Z"
   },
   {
    "duration": 15,
    "start_time": "2021-11-19T08:43:57.720Z"
   },
   {
    "duration": 22,
    "start_time": "2021-11-19T08:43:57.737Z"
   },
   {
    "duration": 44,
    "start_time": "2021-11-19T08:43:57.761Z"
   },
   {
    "duration": 726,
    "start_time": "2021-11-19T08:43:57.807Z"
   },
   {
    "duration": 211,
    "start_time": "2021-11-19T08:43:58.535Z"
   },
   {
    "duration": 6,
    "start_time": "2021-11-19T08:44:03.331Z"
   },
   {
    "duration": 35,
    "start_time": "2021-11-19T08:44:15.387Z"
   },
   {
    "duration": 4,
    "start_time": "2021-11-19T08:45:39.050Z"
   },
   {
    "duration": 8,
    "start_time": "2021-11-19T08:45:40.932Z"
   },
   {
    "duration": 4557,
    "start_time": "2021-11-19T08:45:51.570Z"
   },
   {
    "duration": 1500,
    "start_time": "2021-11-19T08:46:05.824Z"
   },
   {
    "duration": 536,
    "start_time": "2021-11-19T08:46:07.327Z"
   },
   {
    "duration": 16,
    "start_time": "2021-11-19T08:46:07.866Z"
   },
   {
    "duration": 30,
    "start_time": "2021-11-19T08:46:07.885Z"
   },
   {
    "duration": 11,
    "start_time": "2021-11-19T08:46:07.918Z"
   },
   {
    "duration": 13,
    "start_time": "2021-11-19T08:46:07.931Z"
   },
   {
    "duration": 56,
    "start_time": "2021-11-19T08:46:07.946Z"
   },
   {
    "duration": 10,
    "start_time": "2021-11-19T08:46:08.005Z"
   },
   {
    "duration": 24,
    "start_time": "2021-11-19T08:46:08.018Z"
   },
   {
    "duration": 12,
    "start_time": "2021-11-19T08:46:08.045Z"
   },
   {
    "duration": 56,
    "start_time": "2021-11-19T08:46:08.059Z"
   },
   {
    "duration": 10,
    "start_time": "2021-11-19T08:46:08.118Z"
   },
   {
    "duration": 845,
    "start_time": "2021-11-19T08:46:08.130Z"
   },
   {
    "duration": 228,
    "start_time": "2021-11-19T08:46:08.977Z"
   },
   {
    "duration": 5,
    "start_time": "2021-11-19T08:46:09.207Z"
   },
   {
    "duration": 38,
    "start_time": "2021-11-19T08:46:09.214Z"
   },
   {
    "duration": 4,
    "start_time": "2021-11-19T08:46:09.254Z"
   },
   {
    "duration": 6,
    "start_time": "2021-11-19T08:48:41.881Z"
   },
   {
    "duration": 550,
    "start_time": "2021-11-19T08:50:48.528Z"
   },
   {
    "duration": 44,
    "start_time": "2021-11-19T08:51:40.029Z"
   },
   {
    "duration": 41,
    "start_time": "2021-11-19T08:52:09.973Z"
   },
   {
    "duration": 22,
    "start_time": "2021-11-19T08:53:35.197Z"
   },
   {
    "duration": 23,
    "start_time": "2021-11-19T08:53:39.268Z"
   },
   {
    "duration": 6,
    "start_time": "2021-11-19T08:53:51.659Z"
   },
   {
    "duration": 28,
    "start_time": "2021-11-19T08:53:53.869Z"
   },
   {
    "duration": 351,
    "start_time": "2021-11-19T08:54:15.711Z"
   },
   {
    "duration": 360,
    "start_time": "2021-11-19T08:54:55.275Z"
   },
   {
    "duration": 361,
    "start_time": "2021-11-19T08:55:17.207Z"
   },
   {
    "duration": 8685,
    "start_time": "2021-11-19T08:55:39.318Z"
   },
   {
    "duration": 360,
    "start_time": "2021-11-19T08:56:05.926Z"
   },
   {
    "duration": 251,
    "start_time": "2021-11-19T08:59:26.972Z"
   },
   {
    "duration": 326,
    "start_time": "2021-11-19T08:59:42.984Z"
   },
   {
    "duration": 45,
    "start_time": "2021-11-19T08:59:50.469Z"
   },
   {
    "duration": 73,
    "start_time": "2021-11-19T09:00:15.409Z"
   },
   {
    "duration": 1398,
    "start_time": "2021-11-19T09:03:04.071Z"
   },
   {
    "duration": 557,
    "start_time": "2021-11-19T09:03:05.472Z"
   },
   {
    "duration": 16,
    "start_time": "2021-11-19T09:03:06.036Z"
   },
   {
    "duration": 33,
    "start_time": "2021-11-19T09:03:06.055Z"
   },
   {
    "duration": 24,
    "start_time": "2021-11-19T09:03:06.090Z"
   },
   {
    "duration": 7,
    "start_time": "2021-11-19T09:03:06.116Z"
   },
   {
    "duration": 27,
    "start_time": "2021-11-19T09:03:06.126Z"
   },
   {
    "duration": 55,
    "start_time": "2021-11-19T09:03:06.156Z"
   },
   {
    "duration": 22,
    "start_time": "2021-11-19T09:03:06.214Z"
   },
   {
    "duration": 12,
    "start_time": "2021-11-19T09:03:06.238Z"
   },
   {
    "duration": 57,
    "start_time": "2021-11-19T09:03:06.253Z"
   },
   {
    "duration": 10,
    "start_time": "2021-11-19T09:03:06.314Z"
   },
   {
    "duration": 790,
    "start_time": "2021-11-19T09:03:06.327Z"
   },
   {
    "duration": 233,
    "start_time": "2021-11-19T09:03:07.120Z"
   },
   {
    "duration": 6,
    "start_time": "2021-11-19T09:03:07.355Z"
   },
   {
    "duration": 400,
    "start_time": "2021-11-19T09:03:07.363Z"
   },
   {
    "duration": 91,
    "start_time": "2021-11-19T09:03:07.765Z"
   },
   {
    "duration": 1010,
    "start_time": "2021-11-19T09:05:02.850Z"
   },
   {
    "duration": 124,
    "start_time": "2021-11-19T09:05:07.198Z"
   },
   {
    "duration": 84,
    "start_time": "2021-11-19T09:05:23.822Z"
   },
   {
    "duration": 1321,
    "start_time": "2021-11-19T09:09:51.644Z"
   },
   {
    "duration": 554,
    "start_time": "2021-11-19T09:09:52.969Z"
   },
   {
    "duration": 22,
    "start_time": "2021-11-19T09:09:53.530Z"
   },
   {
    "duration": 28,
    "start_time": "2021-11-19T09:09:53.555Z"
   },
   {
    "duration": 12,
    "start_time": "2021-11-19T09:09:53.600Z"
   },
   {
    "duration": 10,
    "start_time": "2021-11-19T09:09:53.614Z"
   },
   {
    "duration": 29,
    "start_time": "2021-11-19T09:09:53.628Z"
   },
   {
    "duration": 13,
    "start_time": "2021-11-19T09:09:53.700Z"
   },
   {
    "duration": 23,
    "start_time": "2021-11-19T09:09:53.715Z"
   },
   {
    "duration": 11,
    "start_time": "2021-11-19T09:09:53.741Z"
   },
   {
    "duration": 54,
    "start_time": "2021-11-19T09:09:53.755Z"
   },
   {
    "duration": 14,
    "start_time": "2021-11-19T09:09:53.812Z"
   },
   {
    "duration": 729,
    "start_time": "2021-11-19T09:09:53.829Z"
   },
   {
    "duration": 243,
    "start_time": "2021-11-19T09:09:54.560Z"
   },
   {
    "duration": 5,
    "start_time": "2021-11-19T09:09:54.805Z"
   },
   {
    "duration": 420,
    "start_time": "2021-11-19T09:09:54.813Z"
   },
   {
    "duration": 91,
    "start_time": "2021-11-19T09:09:55.236Z"
   },
   {
    "duration": 45,
    "start_time": "2021-11-19T09:10:21.480Z"
   },
   {
    "duration": 44,
    "start_time": "2021-11-19T09:10:45.838Z"
   },
   {
    "duration": 25,
    "start_time": "2021-11-19T09:11:14.079Z"
   },
   {
    "duration": 478,
    "start_time": "2021-11-19T09:11:31.195Z"
   },
   {
    "duration": 23,
    "start_time": "2021-11-19T09:11:41.846Z"
   },
   {
    "duration": 46,
    "start_time": "2021-11-19T09:11:47.629Z"
   },
   {
    "duration": 20,
    "start_time": "2021-11-19T09:12:04.508Z"
   },
   {
    "duration": 20,
    "start_time": "2021-11-19T09:12:10.924Z"
   },
   {
    "duration": 16,
    "start_time": "2021-11-19T09:12:17.982Z"
   },
   {
    "duration": 1446,
    "start_time": "2021-11-19T09:12:24.326Z"
   },
   {
    "duration": 565,
    "start_time": "2021-11-19T09:12:25.775Z"
   },
   {
    "duration": 17,
    "start_time": "2021-11-19T09:12:26.342Z"
   },
   {
    "duration": 30,
    "start_time": "2021-11-19T09:12:26.361Z"
   },
   {
    "duration": 11,
    "start_time": "2021-11-19T09:12:26.394Z"
   },
   {
    "duration": 15,
    "start_time": "2021-11-19T09:12:26.407Z"
   },
   {
    "duration": 32,
    "start_time": "2021-11-19T09:12:26.424Z"
   },
   {
    "duration": 10,
    "start_time": "2021-11-19T09:12:26.459Z"
   },
   {
    "duration": 45,
    "start_time": "2021-11-19T09:12:26.472Z"
   },
   {
    "duration": 18,
    "start_time": "2021-11-19T09:12:26.519Z"
   },
   {
    "duration": 26,
    "start_time": "2021-11-19T09:12:26.539Z"
   },
   {
    "duration": 9,
    "start_time": "2021-11-19T09:12:26.601Z"
   },
   {
    "duration": 864,
    "start_time": "2021-11-19T09:12:26.612Z"
   },
   {
    "duration": 224,
    "start_time": "2021-11-19T09:12:27.478Z"
   },
   {
    "duration": 5,
    "start_time": "2021-11-19T09:12:27.705Z"
   },
   {
    "duration": 387,
    "start_time": "2021-11-19T09:12:27.712Z"
   },
   {
    "duration": 75,
    "start_time": "2021-11-19T09:12:28.102Z"
   },
   {
    "duration": 42,
    "start_time": "2021-11-19T09:12:28.179Z"
   },
   {
    "duration": 42,
    "start_time": "2021-11-19T09:13:57.750Z"
   },
   {
    "duration": 73,
    "start_time": "2021-11-19T09:14:01.279Z"
   },
   {
    "duration": 35,
    "start_time": "2021-11-19T09:14:38.181Z"
   },
   {
    "duration": 70,
    "start_time": "2021-11-19T09:16:27.101Z"
   },
   {
    "duration": 6,
    "start_time": "2021-11-19T09:16:42.473Z"
   },
   {
    "duration": 66,
    "start_time": "2021-11-19T09:17:04.498Z"
   },
   {
    "duration": 143,
    "start_time": "2021-11-19T09:30:44.163Z"
   },
   {
    "duration": 33,
    "start_time": "2021-11-19T09:33:55.624Z"
   },
   {
    "duration": 69,
    "start_time": "2021-11-19T09:33:57.934Z"
   },
   {
    "duration": 75,
    "start_time": "2021-11-19T09:37:03.852Z"
   },
   {
    "duration": 26,
    "start_time": "2021-11-19T09:37:14.539Z"
   },
   {
    "duration": 478,
    "start_time": "2021-11-19T09:39:51.652Z"
   },
   {
    "duration": 48,
    "start_time": "2021-11-19T09:39:55.905Z"
   },
   {
    "duration": 37,
    "start_time": "2021-11-19T09:40:13.446Z"
   },
   {
    "duration": 340,
    "start_time": "2021-11-19T09:41:15.388Z"
   },
   {
    "duration": 372,
    "start_time": "2021-11-19T09:41:25.873Z"
   },
   {
    "duration": 6,
    "start_time": "2021-11-19T09:41:39.824Z"
   },
   {
    "duration": 62,
    "start_time": "2021-11-19T09:41:45.690Z"
   },
   {
    "duration": 7,
    "start_time": "2021-11-19T09:42:44.595Z"
   },
   {
    "duration": 601,
    "start_time": "2021-11-19T09:48:26.798Z"
   },
   {
    "duration": 643,
    "start_time": "2021-11-19T09:48:36.037Z"
   },
   {
    "duration": 4,
    "start_time": "2021-11-19T09:48:55.445Z"
   },
   {
    "duration": 573,
    "start_time": "2021-11-19T09:48:55.452Z"
   },
   {
    "duration": 15,
    "start_time": "2021-11-19T09:48:56.030Z"
   },
   {
    "duration": 36,
    "start_time": "2021-11-19T09:48:56.048Z"
   },
   {
    "duration": 20,
    "start_time": "2021-11-19T09:48:56.086Z"
   },
   {
    "duration": 11,
    "start_time": "2021-11-19T09:48:56.108Z"
   },
   {
    "duration": 38,
    "start_time": "2021-11-19T09:48:56.122Z"
   },
   {
    "duration": 41,
    "start_time": "2021-11-19T09:48:56.162Z"
   },
   {
    "duration": 25,
    "start_time": "2021-11-19T09:48:56.209Z"
   },
   {
    "duration": 15,
    "start_time": "2021-11-19T09:48:56.237Z"
   },
   {
    "duration": 60,
    "start_time": "2021-11-19T09:48:56.254Z"
   },
   {
    "duration": 10,
    "start_time": "2021-11-19T09:48:56.317Z"
   },
   {
    "duration": 770,
    "start_time": "2021-11-19T09:48:56.329Z"
   },
   {
    "duration": 225,
    "start_time": "2021-11-19T09:48:57.101Z"
   },
   {
    "duration": 5,
    "start_time": "2021-11-19T09:48:57.328Z"
   },
   {
    "duration": 357,
    "start_time": "2021-11-19T09:48:57.336Z"
   },
   {
    "duration": 47,
    "start_time": "2021-11-19T09:48:57.696Z"
   },
   {
    "duration": 95,
    "start_time": "2021-11-19T09:48:57.745Z"
   },
   {
    "duration": 86,
    "start_time": "2021-11-19T09:48:57.842Z"
   },
   {
    "duration": 26,
    "start_time": "2021-11-19T09:48:57.930Z"
   },
   {
    "duration": 536,
    "start_time": "2021-11-19T09:49:04.514Z"
   },
   {
    "duration": 12,
    "start_time": "2021-11-19T09:49:26.987Z"
   },
   {
    "duration": 79,
    "start_time": "2021-11-19T09:49:34.785Z"
   },
   {
    "duration": 59,
    "start_time": "2021-11-19T09:50:04.101Z"
   },
   {
    "duration": 64,
    "start_time": "2021-11-19T09:52:17.472Z"
   },
   {
    "duration": 124,
    "start_time": "2021-11-19T09:52:51.229Z"
   },
   {
    "duration": 57,
    "start_time": "2021-11-19T09:53:19.548Z"
   },
   {
    "duration": 47,
    "start_time": "2021-11-19T09:53:59.746Z"
   },
   {
    "duration": 45,
    "start_time": "2021-11-19T09:54:17.627Z"
   },
   {
    "duration": 894,
    "start_time": "2021-11-19T09:54:24.664Z"
   },
   {
    "duration": 387,
    "start_time": "2021-11-19T09:54:33.868Z"
   },
   {
    "duration": 332,
    "start_time": "2021-11-19T09:54:43.201Z"
   },
   {
    "duration": 45,
    "start_time": "2021-11-19T09:54:48.404Z"
   },
   {
    "duration": 880,
    "start_time": "2021-11-19T09:54:55.544Z"
   },
   {
    "duration": 76,
    "start_time": "2021-11-19T09:55:04.506Z"
   },
   {
    "duration": 59,
    "start_time": "2021-11-19T09:55:39.364Z"
   },
   {
    "duration": 75,
    "start_time": "2021-11-19T09:56:20.662Z"
   },
   {
    "duration": 9652,
    "start_time": "2021-11-19T09:57:50.763Z"
   },
   {
    "duration": 59,
    "start_time": "2021-11-19T09:58:15.691Z"
   },
   {
    "duration": 75,
    "start_time": "2021-11-19T09:58:22.768Z"
   },
   {
    "duration": 64,
    "start_time": "2021-11-19T09:58:31.563Z"
   },
   {
    "duration": 74,
    "start_time": "2021-11-19T09:58:45.664Z"
   },
   {
    "duration": 1765,
    "start_time": "2021-11-19T10:10:12.524Z"
   },
   {
    "duration": 646,
    "start_time": "2021-11-19T10:10:14.293Z"
   },
   {
    "duration": 18,
    "start_time": "2021-11-19T10:10:14.943Z"
   },
   {
    "duration": 34,
    "start_time": "2021-11-19T10:10:14.964Z"
   },
   {
    "duration": 22,
    "start_time": "2021-11-19T10:10:15.006Z"
   },
   {
    "duration": 14,
    "start_time": "2021-11-19T10:10:15.032Z"
   },
   {
    "duration": 67,
    "start_time": "2021-11-19T10:10:15.049Z"
   },
   {
    "duration": 11,
    "start_time": "2021-11-19T10:10:15.127Z"
   },
   {
    "duration": 86,
    "start_time": "2021-11-19T10:10:15.141Z"
   },
   {
    "duration": 14,
    "start_time": "2021-11-19T10:10:15.229Z"
   },
   {
    "duration": 59,
    "start_time": "2021-11-19T10:10:15.246Z"
   },
   {
    "duration": 16,
    "start_time": "2021-11-19T10:10:15.309Z"
   },
   {
    "duration": 958,
    "start_time": "2021-11-19T10:10:15.327Z"
   },
   {
    "duration": 253,
    "start_time": "2021-11-19T10:10:16.287Z"
   },
   {
    "duration": 5,
    "start_time": "2021-11-19T10:10:16.543Z"
   },
   {
    "duration": 435,
    "start_time": "2021-11-19T10:10:16.551Z"
   },
   {
    "duration": 70,
    "start_time": "2021-11-19T10:10:16.988Z"
   },
   {
    "duration": 107,
    "start_time": "2021-11-19T10:10:17.061Z"
   },
   {
    "duration": 102,
    "start_time": "2021-11-19T10:10:17.171Z"
   },
   {
    "duration": 52,
    "start_time": "2021-11-19T10:10:17.275Z"
   },
   {
    "duration": 122,
    "start_time": "2021-11-19T10:10:17.331Z"
   },
   {
    "duration": 59,
    "start_time": "2021-11-19T10:11:08.609Z"
   },
   {
    "duration": 86,
    "start_time": "2021-11-19T10:11:19.368Z"
   },
   {
    "duration": 67,
    "start_time": "2021-11-19T10:16:53.470Z"
   },
   {
    "duration": 76,
    "start_time": "2021-11-19T10:17:04.897Z"
   },
   {
    "duration": 91,
    "start_time": "2021-11-19T10:24:30.073Z"
   },
   {
    "duration": 63,
    "start_time": "2021-11-19T10:25:36.606Z"
   },
   {
    "duration": 221,
    "start_time": "2021-11-19T10:26:01.607Z"
   },
   {
    "duration": 1522,
    "start_time": "2021-11-19T10:26:42.357Z"
   },
   {
    "duration": 1427,
    "start_time": "2021-11-19T10:27:49.560Z"
   },
   {
    "duration": 549,
    "start_time": "2021-11-19T10:27:50.990Z"
   },
   {
    "duration": 15,
    "start_time": "2021-11-19T10:27:51.542Z"
   },
   {
    "duration": 30,
    "start_time": "2021-11-19T10:27:51.560Z"
   },
   {
    "duration": 11,
    "start_time": "2021-11-19T10:27:51.593Z"
   },
   {
    "duration": 12,
    "start_time": "2021-11-19T10:27:51.607Z"
   },
   {
    "duration": 22,
    "start_time": "2021-11-19T10:27:51.622Z"
   },
   {
    "duration": 11,
    "start_time": "2021-11-19T10:27:51.648Z"
   },
   {
    "duration": 23,
    "start_time": "2021-11-19T10:27:51.701Z"
   },
   {
    "duration": 11,
    "start_time": "2021-11-19T10:27:51.727Z"
   },
   {
    "duration": 18,
    "start_time": "2021-11-19T10:27:51.741Z"
   },
   {
    "duration": 46,
    "start_time": "2021-11-19T10:27:51.761Z"
   },
   {
    "duration": 739,
    "start_time": "2021-11-19T10:27:51.809Z"
   },
   {
    "duration": 229,
    "start_time": "2021-11-19T10:27:52.550Z"
   },
   {
    "duration": 5,
    "start_time": "2021-11-19T10:27:52.781Z"
   },
   {
    "duration": 372,
    "start_time": "2021-11-19T10:27:52.800Z"
   },
   {
    "duration": 68,
    "start_time": "2021-11-19T10:27:53.174Z"
   },
   {
    "duration": 78,
    "start_time": "2021-11-19T10:27:53.244Z"
   },
   {
    "duration": 104,
    "start_time": "2021-11-19T10:27:53.325Z"
   },
   {
    "duration": 36,
    "start_time": "2021-11-19T10:27:53.432Z"
   },
   {
    "duration": 120,
    "start_time": "2021-11-19T10:27:53.470Z"
   },
   {
    "duration": 330,
    "start_time": "2021-11-19T10:27:53.593Z"
   },
   {
    "duration": 651,
    "start_time": "2021-11-19T10:28:21.368Z"
   },
   {
    "duration": 79,
    "start_time": "2021-11-19T10:28:25.071Z"
   },
   {
    "duration": 253,
    "start_time": "2021-11-19T10:29:30.475Z"
   },
   {
    "duration": 342,
    "start_time": "2021-11-19T10:30:05.945Z"
   },
   {
    "duration": 325,
    "start_time": "2021-11-19T10:30:23.818Z"
   },
   {
    "duration": 272,
    "start_time": "2021-11-19T10:37:36.249Z"
   },
   {
    "duration": 1405,
    "start_time": "2021-11-19T10:38:00.679Z"
   },
   {
    "duration": 601,
    "start_time": "2021-11-19T10:38:02.087Z"
   },
   {
    "duration": 28,
    "start_time": "2021-11-19T10:38:02.691Z"
   },
   {
    "duration": 31,
    "start_time": "2021-11-19T10:38:02.722Z"
   },
   {
    "duration": 20,
    "start_time": "2021-11-19T10:38:02.756Z"
   },
   {
    "duration": 22,
    "start_time": "2021-11-19T10:38:02.804Z"
   },
   {
    "duration": 52,
    "start_time": "2021-11-19T10:38:02.829Z"
   },
   {
    "duration": 10,
    "start_time": "2021-11-19T10:38:02.885Z"
   },
   {
    "duration": 35,
    "start_time": "2021-11-19T10:38:02.898Z"
   },
   {
    "duration": 50,
    "start_time": "2021-11-19T10:38:02.935Z"
   },
   {
    "duration": 34,
    "start_time": "2021-11-19T10:38:02.988Z"
   },
   {
    "duration": 29,
    "start_time": "2021-11-19T10:38:03.027Z"
   },
   {
    "duration": 807,
    "start_time": "2021-11-19T10:38:03.059Z"
   },
   {
    "duration": 234,
    "start_time": "2021-11-19T10:38:03.868Z"
   },
   {
    "duration": 6,
    "start_time": "2021-11-19T10:38:04.105Z"
   },
   {
    "duration": 498,
    "start_time": "2021-11-19T10:38:04.122Z"
   },
   {
    "duration": 57,
    "start_time": "2021-11-19T10:38:04.623Z"
   },
   {
    "duration": 94,
    "start_time": "2021-11-19T10:38:04.682Z"
   },
   {
    "duration": 90,
    "start_time": "2021-11-19T10:38:04.779Z"
   },
   {
    "duration": 57,
    "start_time": "2021-11-19T10:38:04.872Z"
   },
   {
    "duration": 117,
    "start_time": "2021-11-19T10:38:04.932Z"
   },
   {
    "duration": 222,
    "start_time": "2021-11-19T10:38:05.052Z"
   },
   {
    "duration": 679,
    "start_time": "2021-11-19T10:39:00.592Z"
   },
   {
    "duration": 1460,
    "start_time": "2021-11-19T10:39:19.089Z"
   },
   {
    "duration": 597,
    "start_time": "2021-11-19T10:39:20.552Z"
   },
   {
    "duration": 17,
    "start_time": "2021-11-19T10:39:21.152Z"
   },
   {
    "duration": 39,
    "start_time": "2021-11-19T10:39:21.173Z"
   },
   {
    "duration": 19,
    "start_time": "2021-11-19T10:39:21.215Z"
   },
   {
    "duration": 8,
    "start_time": "2021-11-19T10:39:21.246Z"
   },
   {
    "duration": 62,
    "start_time": "2021-11-19T10:39:21.257Z"
   },
   {
    "duration": 11,
    "start_time": "2021-11-19T10:39:21.323Z"
   },
   {
    "duration": 22,
    "start_time": "2021-11-19T10:39:21.337Z"
   },
   {
    "duration": 43,
    "start_time": "2021-11-19T10:39:21.361Z"
   },
   {
    "duration": 20,
    "start_time": "2021-11-19T10:39:21.412Z"
   },
   {
    "duration": 13,
    "start_time": "2021-11-19T10:39:21.435Z"
   },
   {
    "duration": 806,
    "start_time": "2021-11-19T10:39:21.451Z"
   },
   {
    "duration": 248,
    "start_time": "2021-11-19T10:39:22.261Z"
   },
   {
    "duration": 15,
    "start_time": "2021-11-19T10:39:22.513Z"
   },
   {
    "duration": 385,
    "start_time": "2021-11-19T10:39:22.530Z"
   },
   {
    "duration": 48,
    "start_time": "2021-11-19T10:39:22.918Z"
   },
   {
    "duration": 101,
    "start_time": "2021-11-19T10:39:22.968Z"
   },
   {
    "duration": 90,
    "start_time": "2021-11-19T10:39:23.071Z"
   },
   {
    "duration": 46,
    "start_time": "2021-11-19T10:39:23.164Z"
   },
   {
    "duration": 116,
    "start_time": "2021-11-19T10:39:23.213Z"
   },
   {
    "duration": 1311,
    "start_time": "2021-11-19T10:39:26.823Z"
   },
   {
    "duration": 3418,
    "start_time": "2021-11-19T10:40:26.886Z"
   },
   {
    "duration": 4,
    "start_time": "2021-11-19T10:40:35.462Z"
   },
   {
    "duration": 535,
    "start_time": "2021-11-19T10:40:35.469Z"
   },
   {
    "duration": 14,
    "start_time": "2021-11-19T10:40:36.007Z"
   },
   {
    "duration": 160,
    "start_time": "2021-11-19T10:40:36.024Z"
   },
   {
    "duration": 92,
    "start_time": "2021-11-19T10:40:36.186Z"
   },
   {
    "duration": 20,
    "start_time": "2021-11-19T10:40:36.280Z"
   },
   {
    "duration": 50,
    "start_time": "2021-11-19T10:40:36.303Z"
   },
   {
    "duration": 11,
    "start_time": "2021-11-19T10:40:36.358Z"
   },
   {
    "duration": 39,
    "start_time": "2021-11-19T10:40:36.373Z"
   },
   {
    "duration": 17,
    "start_time": "2021-11-19T10:40:36.415Z"
   },
   {
    "duration": 80,
    "start_time": "2021-11-19T10:40:36.435Z"
   },
   {
    "duration": 18,
    "start_time": "2021-11-19T10:40:36.518Z"
   },
   {
    "duration": 726,
    "start_time": "2021-11-19T10:40:36.539Z"
   },
   {
    "duration": 185,
    "start_time": "2021-11-19T10:40:37.268Z"
   },
   {
    "duration": 8,
    "start_time": "2021-11-19T10:40:37.456Z"
   },
   {
    "duration": 370,
    "start_time": "2021-11-19T10:40:37.467Z"
   },
   {
    "duration": 45,
    "start_time": "2021-11-19T10:40:37.840Z"
   },
   {
    "duration": 73,
    "start_time": "2021-11-19T10:40:37.903Z"
   },
   {
    "duration": 91,
    "start_time": "2021-11-19T10:40:37.979Z"
   },
   {
    "duration": 46,
    "start_time": "2021-11-19T10:40:38.072Z"
   },
   {
    "duration": 103,
    "start_time": "2021-11-19T10:40:38.121Z"
   },
   {
    "duration": 232,
    "start_time": "2021-11-19T10:40:42.206Z"
   },
   {
    "duration": 294,
    "start_time": "2021-11-19T10:41:34.163Z"
   },
   {
    "duration": 258,
    "start_time": "2021-11-19T10:41:52.177Z"
   },
   {
    "duration": 226,
    "start_time": "2021-11-19T10:41:58.131Z"
   },
   {
    "duration": 4,
    "start_time": "2021-11-19T10:43:42.367Z"
   },
   {
    "duration": 602,
    "start_time": "2021-11-19T10:43:42.374Z"
   },
   {
    "duration": 11,
    "start_time": "2021-11-19T10:43:42.980Z"
   },
   {
    "duration": 32,
    "start_time": "2021-11-19T10:43:42.993Z"
   },
   {
    "duration": 13,
    "start_time": "2021-11-19T10:43:43.027Z"
   },
   {
    "duration": 14,
    "start_time": "2021-11-19T10:43:43.043Z"
   },
   {
    "duration": 61,
    "start_time": "2021-11-19T10:43:43.060Z"
   },
   {
    "duration": 10,
    "start_time": "2021-11-19T10:43:43.123Z"
   },
   {
    "duration": 65,
    "start_time": "2021-11-19T10:43:43.139Z"
   },
   {
    "duration": 15,
    "start_time": "2021-11-19T10:43:43.208Z"
   },
   {
    "duration": 16,
    "start_time": "2021-11-19T10:43:43.225Z"
   },
   {
    "duration": 59,
    "start_time": "2021-11-19T10:43:43.243Z"
   },
   {
    "duration": 663,
    "start_time": "2021-11-19T10:43:43.304Z"
   },
   {
    "duration": 219,
    "start_time": "2021-11-19T10:43:43.970Z"
   },
   {
    "duration": 11,
    "start_time": "2021-11-19T10:43:44.191Z"
   },
   {
    "duration": 341,
    "start_time": "2021-11-19T10:43:44.205Z"
   },
   {
    "duration": 56,
    "start_time": "2021-11-19T10:43:44.549Z"
   },
   {
    "duration": 66,
    "start_time": "2021-11-19T10:43:44.608Z"
   },
   {
    "duration": 93,
    "start_time": "2021-11-19T10:43:44.676Z"
   },
   {
    "duration": 43,
    "start_time": "2021-11-19T10:43:44.772Z"
   },
   {
    "duration": 114,
    "start_time": "2021-11-19T10:43:44.818Z"
   },
   {
    "duration": 1281,
    "start_time": "2021-11-19T10:43:49.781Z"
   },
   {
    "duration": 904,
    "start_time": "2021-11-19T10:44:39.731Z"
   },
   {
    "duration": 2610,
    "start_time": "2021-11-19T10:44:44.105Z"
   },
   {
    "duration": 1370,
    "start_time": "2021-11-19T10:44:59.331Z"
   },
   {
    "duration": 567,
    "start_time": "2021-11-19T10:45:00.705Z"
   },
   {
    "duration": 20,
    "start_time": "2021-11-19T10:45:01.276Z"
   },
   {
    "duration": 33,
    "start_time": "2021-11-19T10:45:01.300Z"
   },
   {
    "duration": 16,
    "start_time": "2021-11-19T10:45:01.336Z"
   },
   {
    "duration": 47,
    "start_time": "2021-11-19T10:45:01.355Z"
   },
   {
    "duration": 31,
    "start_time": "2021-11-19T10:45:01.405Z"
   },
   {
    "duration": 14,
    "start_time": "2021-11-19T10:45:01.439Z"
   },
   {
    "duration": 63,
    "start_time": "2021-11-19T10:45:01.459Z"
   },
   {
    "duration": 18,
    "start_time": "2021-11-19T10:45:01.525Z"
   },
   {
    "duration": 62,
    "start_time": "2021-11-19T10:45:01.546Z"
   },
   {
    "duration": 33,
    "start_time": "2021-11-19T10:45:01.611Z"
   },
   {
    "duration": 781,
    "start_time": "2021-11-19T10:45:01.647Z"
   },
   {
    "duration": 236,
    "start_time": "2021-11-19T10:45:02.432Z"
   },
   {
    "duration": 8,
    "start_time": "2021-11-19T10:45:02.671Z"
   },
   {
    "duration": 410,
    "start_time": "2021-11-19T10:45:02.701Z"
   },
   {
    "duration": 44,
    "start_time": "2021-11-19T10:45:03.113Z"
   },
   {
    "duration": 86,
    "start_time": "2021-11-19T10:45:03.159Z"
   },
   {
    "duration": 91,
    "start_time": "2021-11-19T10:45:03.247Z"
   },
   {
    "duration": 26,
    "start_time": "2021-11-19T10:45:03.340Z"
   },
   {
    "duration": 109,
    "start_time": "2021-11-19T10:45:03.369Z"
   },
   {
    "duration": 253,
    "start_time": "2021-11-19T10:45:03.480Z"
   },
   {
    "duration": 348,
    "start_time": "2021-11-19T10:47:49.764Z"
   },
   {
    "duration": 340,
    "start_time": "2021-11-19T10:48:22.510Z"
   },
   {
    "duration": 229,
    "start_time": "2021-11-19T10:51:01.500Z"
   },
   {
    "duration": 235,
    "start_time": "2021-11-19T10:51:34.652Z"
   },
   {
    "duration": 233,
    "start_time": "2021-11-19T10:51:52.049Z"
   },
   {
    "duration": 4,
    "start_time": "2021-11-19T10:52:36.208Z"
   },
   {
    "duration": 518,
    "start_time": "2021-11-19T10:52:36.215Z"
   },
   {
    "duration": 11,
    "start_time": "2021-11-19T10:52:36.736Z"
   },
   {
    "duration": 31,
    "start_time": "2021-11-19T10:52:36.750Z"
   },
   {
    "duration": 17,
    "start_time": "2021-11-19T10:52:36.783Z"
   },
   {
    "duration": 10,
    "start_time": "2021-11-19T10:52:36.802Z"
   },
   {
    "duration": 23,
    "start_time": "2021-11-19T10:52:36.814Z"
   },
   {
    "duration": 11,
    "start_time": "2021-11-19T10:52:36.841Z"
   },
   {
    "duration": 19,
    "start_time": "2021-11-19T10:52:36.900Z"
   },
   {
    "duration": 10,
    "start_time": "2021-11-19T10:52:36.922Z"
   },
   {
    "duration": 15,
    "start_time": "2021-11-19T10:52:36.935Z"
   },
   {
    "duration": 53,
    "start_time": "2021-11-19T10:52:36.952Z"
   },
   {
    "duration": 664,
    "start_time": "2021-11-19T10:52:54.254Z"
   },
   {
    "duration": 109,
    "start_time": "2021-11-19T10:52:58.880Z"
   },
   {
    "duration": 676,
    "start_time": "2021-11-19T10:53:12.965Z"
   },
   {
    "duration": 122,
    "start_time": "2021-11-19T10:53:17.836Z"
   },
   {
    "duration": 121,
    "start_time": "2021-11-19T10:53:42.336Z"
   },
   {
    "duration": 630,
    "start_time": "2021-11-19T10:53:51.311Z"
   },
   {
    "duration": 108,
    "start_time": "2021-11-19T10:53:55.909Z"
   },
   {
    "duration": 5,
    "start_time": "2021-11-19T10:54:39.466Z"
   },
   {
    "duration": 538,
    "start_time": "2021-11-19T10:54:39.473Z"
   },
   {
    "duration": 17,
    "start_time": "2021-11-19T10:54:40.015Z"
   },
   {
    "duration": 34,
    "start_time": "2021-11-19T10:54:40.036Z"
   },
   {
    "duration": 37,
    "start_time": "2021-11-19T10:54:40.072Z"
   },
   {
    "duration": 17,
    "start_time": "2021-11-19T10:54:40.113Z"
   },
   {
    "duration": 23,
    "start_time": "2021-11-19T10:54:40.133Z"
   },
   {
    "duration": 49,
    "start_time": "2021-11-19T10:54:40.160Z"
   },
   {
    "duration": 27,
    "start_time": "2021-11-19T10:54:40.212Z"
   },
   {
    "duration": 12,
    "start_time": "2021-11-19T10:54:40.241Z"
   },
   {
    "duration": 50,
    "start_time": "2021-11-19T10:54:40.256Z"
   },
   {
    "duration": 12,
    "start_time": "2021-11-19T10:54:40.309Z"
   },
   {
    "duration": 711,
    "start_time": "2021-11-19T10:54:42.569Z"
   },
   {
    "duration": 193,
    "start_time": "2021-11-19T10:54:48.028Z"
   },
   {
    "duration": 1468,
    "start_time": "2021-11-19T10:55:25.744Z"
   },
   {
    "duration": 3994,
    "start_time": "2021-11-19T10:55:27.216Z"
   },
   {
    "duration": 16,
    "start_time": "2021-11-19T10:55:31.218Z"
   },
   {
    "duration": 47,
    "start_time": "2021-11-19T10:55:31.237Z"
   },
   {
    "duration": 26,
    "start_time": "2021-11-19T10:55:31.287Z"
   },
   {
    "duration": 23,
    "start_time": "2021-11-19T10:55:31.316Z"
   },
   {
    "duration": 28,
    "start_time": "2021-11-19T10:55:31.343Z"
   },
   {
    "duration": 38,
    "start_time": "2021-11-19T10:55:31.374Z"
   },
   {
    "duration": 34,
    "start_time": "2021-11-19T10:55:31.415Z"
   },
   {
    "duration": 24,
    "start_time": "2021-11-19T10:55:31.451Z"
   },
   {
    "duration": 18,
    "start_time": "2021-11-19T10:55:31.501Z"
   },
   {
    "duration": 24,
    "start_time": "2021-11-19T10:55:31.521Z"
   },
   {
    "duration": 804,
    "start_time": "2021-11-19T10:55:31.547Z"
   },
   {
    "duration": 236,
    "start_time": "2021-11-19T10:55:32.354Z"
   },
   {
    "duration": 12,
    "start_time": "2021-11-19T10:55:32.592Z"
   },
   {
    "duration": 435,
    "start_time": "2021-11-19T10:55:32.607Z"
   },
   {
    "duration": 66,
    "start_time": "2021-11-19T10:55:33.044Z"
   },
   {
    "duration": 69,
    "start_time": "2021-11-19T10:55:33.115Z"
   },
   {
    "duration": 76,
    "start_time": "2021-11-19T10:55:33.202Z"
   },
   {
    "duration": 46,
    "start_time": "2021-11-19T10:55:33.281Z"
   },
   {
    "duration": 115,
    "start_time": "2021-11-19T10:55:33.330Z"
   },
   {
    "duration": 233,
    "start_time": "2021-11-19T10:55:33.449Z"
   },
   {
    "duration": 611,
    "start_time": "2021-11-19T14:12:31.586Z"
   },
   {
    "duration": 1209,
    "start_time": "2021-11-19T14:12:40.258Z"
   },
   {
    "duration": 3535,
    "start_time": "2021-11-19T14:12:41.469Z"
   },
   {
    "duration": 11,
    "start_time": "2021-11-19T14:12:45.006Z"
   },
   {
    "duration": 58,
    "start_time": "2021-11-19T14:12:45.019Z"
   },
   {
    "duration": 52,
    "start_time": "2021-11-19T14:12:45.079Z"
   },
   {
    "duration": 8,
    "start_time": "2021-11-19T14:12:45.133Z"
   },
   {
    "duration": 20,
    "start_time": "2021-11-19T14:12:45.143Z"
   },
   {
    "duration": 17,
    "start_time": "2021-11-19T14:12:45.166Z"
   },
   {
    "duration": 23,
    "start_time": "2021-11-19T14:12:45.185Z"
   },
   {
    "duration": 7,
    "start_time": "2021-11-19T14:12:45.210Z"
   },
   {
    "duration": 20,
    "start_time": "2021-11-19T14:12:45.218Z"
   },
   {
    "duration": 30,
    "start_time": "2021-11-19T14:12:45.240Z"
   },
   {
    "duration": 535,
    "start_time": "2021-11-19T14:12:45.272Z"
   },
   {
    "duration": 166,
    "start_time": "2021-11-19T14:12:45.809Z"
   },
   {
    "duration": 4,
    "start_time": "2021-11-19T14:12:45.976Z"
   },
   {
    "duration": 350,
    "start_time": "2021-11-19T14:12:45.982Z"
   },
   {
    "duration": 38,
    "start_time": "2021-11-19T14:12:46.334Z"
   },
   {
    "duration": 62,
    "start_time": "2021-11-19T14:12:46.374Z"
   },
   {
    "duration": 53,
    "start_time": "2021-11-19T14:12:46.437Z"
   },
   {
    "duration": 25,
    "start_time": "2021-11-19T14:12:46.492Z"
   },
   {
    "duration": 64,
    "start_time": "2021-11-19T14:12:46.519Z"
   },
   {
    "duration": 160,
    "start_time": "2021-11-19T14:12:46.585Z"
   },
   {
    "duration": 1513,
    "start_time": "2021-11-19T14:14:38.312Z"
   },
   {
    "duration": 48,
    "start_time": "2021-11-19T14:14:56.205Z"
   },
   {
    "duration": 51,
    "start_time": "2021-11-19T14:16:07.852Z"
   },
   {
    "duration": 459,
    "start_time": "2021-11-19T14:19:40.704Z"
   },
   {
    "duration": 21,
    "start_time": "2021-11-19T14:19:46.584Z"
   },
   {
    "duration": 30,
    "start_time": "2021-11-19T14:19:59.093Z"
   },
   {
    "duration": 28,
    "start_time": "2021-11-19T14:20:26.068Z"
   },
   {
    "duration": 21,
    "start_time": "2021-11-19T14:20:57.584Z"
   },
   {
    "duration": 30,
    "start_time": "2021-11-19T14:21:59.454Z"
   },
   {
    "duration": 31,
    "start_time": "2021-11-19T14:25:36.509Z"
   },
   {
    "duration": 46,
    "start_time": "2021-11-19T14:36:33.216Z"
   },
   {
    "duration": 50,
    "start_time": "2021-11-19T14:36:41.177Z"
   },
   {
    "duration": 46,
    "start_time": "2021-11-19T14:38:36.746Z"
   },
   {
    "duration": 46,
    "start_time": "2021-11-19T14:39:28.875Z"
   },
   {
    "duration": 44,
    "start_time": "2021-11-19T14:39:36.103Z"
   },
   {
    "duration": 44,
    "start_time": "2021-11-19T14:39:38.845Z"
   },
   {
    "duration": 46,
    "start_time": "2021-11-19T14:42:08.468Z"
   },
   {
    "duration": 45,
    "start_time": "2021-11-19T14:42:32.081Z"
   },
   {
    "duration": 43,
    "start_time": "2021-11-19T14:42:37.662Z"
   },
   {
    "duration": 47,
    "start_time": "2021-11-19T14:42:45.591Z"
   },
   {
    "duration": 44,
    "start_time": "2021-11-19T14:42:52.225Z"
   },
   {
    "duration": 42,
    "start_time": "2021-11-19T14:43:12.250Z"
   },
   {
    "duration": 122,
    "start_time": "2021-11-19T14:43:50.340Z"
   },
   {
    "duration": 45,
    "start_time": "2021-11-19T14:43:56.229Z"
   },
   {
    "duration": 1022,
    "start_time": "2021-11-20T09:10:14.224Z"
   },
   {
    "duration": 391,
    "start_time": "2021-11-20T09:10:15.249Z"
   },
   {
    "duration": 10,
    "start_time": "2021-11-20T09:10:15.646Z"
   },
   {
    "duration": 40,
    "start_time": "2021-11-20T09:10:15.658Z"
   },
   {
    "duration": 24,
    "start_time": "2021-11-20T09:10:15.700Z"
   },
   {
    "duration": 30,
    "start_time": "2021-11-20T09:10:15.727Z"
   },
   {
    "duration": 41,
    "start_time": "2021-11-20T09:10:15.760Z"
   },
   {
    "duration": 17,
    "start_time": "2021-11-20T09:10:15.803Z"
   },
   {
    "duration": 48,
    "start_time": "2021-11-20T09:10:15.822Z"
   },
   {
    "duration": 42,
    "start_time": "2021-11-20T09:10:15.872Z"
   },
   {
    "duration": 32,
    "start_time": "2021-11-20T09:10:15.916Z"
   },
   {
    "duration": 28,
    "start_time": "2021-11-20T09:10:15.950Z"
   },
   {
    "duration": 547,
    "start_time": "2021-11-20T09:10:15.979Z"
   },
   {
    "duration": 151,
    "start_time": "2021-11-20T09:10:16.528Z"
   },
   {
    "duration": 4,
    "start_time": "2021-11-20T09:10:16.681Z"
   },
   {
    "duration": 253,
    "start_time": "2021-11-20T09:10:16.686Z"
   },
   {
    "duration": 46,
    "start_time": "2021-11-20T09:10:16.941Z"
   },
   {
    "duration": 49,
    "start_time": "2021-11-20T09:10:16.989Z"
   },
   {
    "duration": 63,
    "start_time": "2021-11-20T09:10:17.039Z"
   },
   {
    "duration": 16,
    "start_time": "2021-11-20T09:10:17.104Z"
   },
   {
    "duration": 74,
    "start_time": "2021-11-20T09:10:17.123Z"
   },
   {
    "duration": 28,
    "start_time": "2021-11-20T09:10:17.199Z"
   },
   {
    "duration": 45,
    "start_time": "2021-11-20T09:10:17.229Z"
   },
   {
    "duration": 1,
    "start_time": "2021-11-20T09:10:17.276Z"
   },
   {
    "duration": 20,
    "start_time": "2021-11-20T09:14:28.124Z"
   },
   {
    "duration": 17,
    "start_time": "2021-11-20T09:14:40.658Z"
   },
   {
    "duration": 15,
    "start_time": "2021-11-20T09:31:50.634Z"
   },
   {
    "duration": 3,
    "start_time": "2021-11-20T09:32:55.424Z"
   },
   {
    "duration": 386,
    "start_time": "2021-11-20T09:32:55.429Z"
   },
   {
    "duration": 7,
    "start_time": "2021-11-20T09:32:55.817Z"
   },
   {
    "duration": 24,
    "start_time": "2021-11-20T09:32:55.826Z"
   },
   {
    "duration": 8,
    "start_time": "2021-11-20T09:32:55.852Z"
   },
   {
    "duration": 8,
    "start_time": "2021-11-20T09:32:55.862Z"
   },
   {
    "duration": 19,
    "start_time": "2021-11-20T09:32:55.871Z"
   },
   {
    "duration": 6,
    "start_time": "2021-11-20T09:32:55.893Z"
   },
   {
    "duration": 16,
    "start_time": "2021-11-20T09:32:55.901Z"
   },
   {
    "duration": 8,
    "start_time": "2021-11-20T09:32:55.918Z"
   },
   {
    "duration": 44,
    "start_time": "2021-11-20T09:32:55.928Z"
   },
   {
    "duration": 6,
    "start_time": "2021-11-20T09:32:55.974Z"
   },
   {
    "duration": 512,
    "start_time": "2021-11-20T09:32:55.982Z"
   },
   {
    "duration": 150,
    "start_time": "2021-11-20T09:32:56.496Z"
   },
   {
    "duration": 15,
    "start_time": "2021-11-20T09:32:56.648Z"
   },
   {
    "duration": 243,
    "start_time": "2021-11-20T09:32:56.665Z"
   },
   {
    "duration": 31,
    "start_time": "2021-11-20T09:32:56.910Z"
   },
   {
    "duration": 65,
    "start_time": "2021-11-20T09:32:56.943Z"
   },
   {
    "duration": 59,
    "start_time": "2021-11-20T09:32:57.010Z"
   },
   {
    "duration": 16,
    "start_time": "2021-11-20T09:32:57.071Z"
   },
   {
    "duration": 57,
    "start_time": "2021-11-20T09:32:57.088Z"
   },
   {
    "duration": 28,
    "start_time": "2021-11-20T09:32:57.163Z"
   },
   {
    "duration": 29,
    "start_time": "2021-11-20T09:33:11.385Z"
   },
   {
    "duration": 20,
    "start_time": "2021-11-20T09:33:27.581Z"
   },
   {
    "duration": 18,
    "start_time": "2021-11-20T09:34:32.823Z"
   },
   {
    "duration": 19,
    "start_time": "2021-11-20T09:34:41.705Z"
   },
   {
    "duration": 51,
    "start_time": "2021-11-20T09:36:15.933Z"
   },
   {
    "duration": 30,
    "start_time": "2021-11-20T09:36:19.561Z"
   },
   {
    "duration": 16,
    "start_time": "2021-11-20T09:36:35.349Z"
   },
   {
    "duration": 27,
    "start_time": "2021-11-20T09:37:24.383Z"
   },
   {
    "duration": 49,
    "start_time": "2021-11-20T09:37:54.999Z"
   },
   {
    "duration": 15,
    "start_time": "2021-11-20T09:38:54.338Z"
   },
   {
    "duration": 29,
    "start_time": "2021-11-20T09:39:07.912Z"
   },
   {
    "duration": 48,
    "start_time": "2021-11-20T09:39:13.162Z"
   },
   {
    "duration": 33,
    "start_time": "2021-11-20T09:41:43.040Z"
   },
   {
    "duration": 17,
    "start_time": "2021-11-20T09:42:26.607Z"
   },
   {
    "duration": 23,
    "start_time": "2021-11-20T09:42:59.135Z"
   },
   {
    "duration": 29,
    "start_time": "2021-11-20T09:43:13.949Z"
   },
   {
    "duration": 52,
    "start_time": "2021-11-20T09:43:16.949Z"
   },
   {
    "duration": 5,
    "start_time": "2021-11-20T09:44:46.428Z"
   },
   {
    "duration": 364,
    "start_time": "2021-11-20T09:44:56.531Z"
   },
   {
    "duration": 13,
    "start_time": "2021-11-20T09:45:03.304Z"
   },
   {
    "duration": 112,
    "start_time": "2021-11-20T09:45:14.297Z"
   },
   {
    "duration": 18,
    "start_time": "2021-11-20T09:45:26.696Z"
   },
   {
    "duration": 228,
    "start_time": "2021-11-20T09:47:56.222Z"
   },
   {
    "duration": 224,
    "start_time": "2021-11-20T09:47:59.430Z"
   },
   {
    "duration": 6,
    "start_time": "2021-11-20T09:48:04.698Z"
   },
   {
    "duration": 112,
    "start_time": "2021-11-20T09:48:07.735Z"
   },
   {
    "duration": 110,
    "start_time": "2021-11-20T09:52:05.518Z"
   },
   {
    "duration": 363,
    "start_time": "2021-11-20T09:52:14.877Z"
   },
   {
    "duration": 339,
    "start_time": "2021-11-20T09:52:31.891Z"
   },
   {
    "duration": 110,
    "start_time": "2021-11-20T09:52:41.134Z"
   },
   {
    "duration": 102,
    "start_time": "2021-11-20T09:52:48.531Z"
   },
   {
    "duration": 114,
    "start_time": "2021-11-20T09:52:59.241Z"
   },
   {
    "duration": 23,
    "start_time": "2021-11-20T10:05:23.592Z"
   },
   {
    "duration": 5,
    "start_time": "2021-11-20T10:05:47.243Z"
   },
   {
    "duration": 5,
    "start_time": "2021-11-20T10:07:10.791Z"
   },
   {
    "duration": 117,
    "start_time": "2021-11-20T10:07:54.039Z"
   },
   {
    "duration": 97,
    "start_time": "2021-11-20T10:08:10.262Z"
   },
   {
    "duration": 122,
    "start_time": "2021-11-20T10:08:15.576Z"
   },
   {
    "duration": 93,
    "start_time": "2021-11-20T10:08:52.598Z"
   },
   {
    "duration": 98,
    "start_time": "2021-11-20T10:09:18.219Z"
   },
   {
    "duration": 99,
    "start_time": "2021-11-20T10:09:31.049Z"
   },
   {
    "duration": 24,
    "start_time": "2021-11-20T10:10:17.745Z"
   },
   {
    "duration": 26,
    "start_time": "2021-11-20T10:10:26.070Z"
   },
   {
    "duration": 243,
    "start_time": "2021-11-20T10:10:39.410Z"
   },
   {
    "duration": 24,
    "start_time": "2021-11-20T10:10:42.338Z"
   },
   {
    "duration": 25,
    "start_time": "2021-11-20T10:11:06.452Z"
   },
   {
    "duration": 23,
    "start_time": "2021-11-20T10:11:34.947Z"
   },
   {
    "duration": 76,
    "start_time": "2021-11-20T10:11:51.420Z"
   },
   {
    "duration": 26,
    "start_time": "2021-11-20T10:12:15.991Z"
   },
   {
    "duration": 28,
    "start_time": "2021-11-20T10:12:21.433Z"
   },
   {
    "duration": 23,
    "start_time": "2021-11-20T10:12:38.477Z"
   },
   {
    "duration": 26,
    "start_time": "2021-11-20T10:12:44.186Z"
   },
   {
    "duration": 21,
    "start_time": "2021-11-20T10:12:49.969Z"
   },
   {
    "duration": 21,
    "start_time": "2021-11-20T10:12:53.558Z"
   },
   {
    "duration": 27,
    "start_time": "2021-11-20T10:12:58.852Z"
   },
   {
    "duration": 23,
    "start_time": "2021-11-20T10:13:01.942Z"
   },
   {
    "duration": 22,
    "start_time": "2021-11-20T10:13:04.589Z"
   },
   {
    "duration": 30,
    "start_time": "2021-11-20T10:13:22.359Z"
   },
   {
    "duration": 28,
    "start_time": "2021-11-20T10:13:30.193Z"
   },
   {
    "duration": 27,
    "start_time": "2021-11-20T10:15:35.219Z"
   },
   {
    "duration": 28,
    "start_time": "2021-11-20T10:15:43.603Z"
   },
   {
    "duration": 96,
    "start_time": "2021-11-20T10:17:50.658Z"
   },
   {
    "duration": 241,
    "start_time": "2021-11-20T10:21:08.040Z"
   },
   {
    "duration": 98,
    "start_time": "2021-11-20T10:21:33.785Z"
   },
   {
    "duration": 108,
    "start_time": "2021-11-20T10:26:16.776Z"
   },
   {
    "duration": 32,
    "start_time": "2021-11-20T10:28:57.080Z"
   },
   {
    "duration": 25,
    "start_time": "2021-11-20T10:29:00.578Z"
   },
   {
    "duration": 253,
    "start_time": "2021-11-20T10:29:12.707Z"
   },
   {
    "duration": 20,
    "start_time": "2021-11-20T10:29:23.226Z"
   },
   {
    "duration": 27,
    "start_time": "2021-11-20T10:29:33.751Z"
   },
   {
    "duration": 38,
    "start_time": "2021-11-20T10:29:39.572Z"
   },
   {
    "duration": 39,
    "start_time": "2021-11-20T10:34:14.051Z"
   },
   {
    "duration": 29,
    "start_time": "2021-11-20T10:34:45.773Z"
   },
   {
    "duration": 9,
    "start_time": "2021-11-20T10:35:09.461Z"
   },
   {
    "duration": 245,
    "start_time": "2021-11-20T10:35:20.444Z"
   },
   {
    "duration": 4,
    "start_time": "2021-11-20T10:35:35.087Z"
   },
   {
    "duration": 20,
    "start_time": "2021-11-20T10:35:42.487Z"
   },
   {
    "duration": 1219,
    "start_time": "2021-11-20T10:37:28.464Z"
   },
   {
    "duration": 540,
    "start_time": "2021-11-20T10:37:29.686Z"
   },
   {
    "duration": 12,
    "start_time": "2021-11-20T10:37:30.228Z"
   },
   {
    "duration": 27,
    "start_time": "2021-11-20T10:37:30.242Z"
   },
   {
    "duration": 10,
    "start_time": "2021-11-20T10:37:30.271Z"
   },
   {
    "duration": 10,
    "start_time": "2021-11-20T10:37:30.283Z"
   },
   {
    "duration": 24,
    "start_time": "2021-11-20T10:37:30.295Z"
   },
   {
    "duration": 7,
    "start_time": "2021-11-20T10:37:30.321Z"
   },
   {
    "duration": 60,
    "start_time": "2021-11-20T10:37:30.331Z"
   },
   {
    "duration": 18,
    "start_time": "2021-11-20T10:37:30.394Z"
   },
   {
    "duration": 21,
    "start_time": "2021-11-20T10:37:30.414Z"
   },
   {
    "duration": 13,
    "start_time": "2021-11-20T10:37:30.437Z"
   },
   {
    "duration": 636,
    "start_time": "2021-11-20T10:37:30.463Z"
   },
   {
    "duration": 163,
    "start_time": "2021-11-20T10:37:31.101Z"
   },
   {
    "duration": 5,
    "start_time": "2021-11-20T10:37:31.266Z"
   },
   {
    "duration": 392,
    "start_time": "2021-11-20T10:37:31.273Z"
   },
   {
    "duration": 38,
    "start_time": "2021-11-20T10:37:31.667Z"
   },
   {
    "duration": 74,
    "start_time": "2021-11-20T10:37:31.707Z"
   },
   {
    "duration": 54,
    "start_time": "2021-11-20T10:37:31.784Z"
   },
   {
    "duration": 43,
    "start_time": "2021-11-20T10:37:31.840Z"
   },
   {
    "duration": 137,
    "start_time": "2021-11-20T10:37:31.886Z"
   },
   {
    "duration": 67,
    "start_time": "2021-11-20T10:37:32.024Z"
   },
   {
    "duration": 28,
    "start_time": "2021-11-20T10:37:32.093Z"
   },
   {
    "duration": 77,
    "start_time": "2021-11-20T10:37:32.123Z"
   },
   {
    "duration": 22,
    "start_time": "2021-11-20T10:37:32.202Z"
   },
   {
    "duration": 18,
    "start_time": "2021-11-20T10:37:32.226Z"
   },
   {
    "duration": 307,
    "start_time": "2021-11-20T10:39:45.459Z"
   },
   {
    "duration": 231,
    "start_time": "2021-11-20T10:39:57.940Z"
   },
   {
    "duration": 261,
    "start_time": "2021-11-20T10:40:02.134Z"
   },
   {
    "duration": 7,
    "start_time": "2021-11-20T10:40:28.368Z"
   },
   {
    "duration": 4,
    "start_time": "2021-11-20T10:40:42.080Z"
   },
   {
    "duration": 4,
    "start_time": "2021-11-20T10:41:07.814Z"
   },
   {
    "duration": 6027,
    "start_time": "2021-11-20T10:41:21.716Z"
   },
   {
    "duration": 5,
    "start_time": "2021-11-20T10:41:29.232Z"
   },
   {
    "duration": 15,
    "start_time": "2021-11-20T10:45:27.092Z"
   },
   {
    "duration": 3,
    "start_time": "2021-11-20T10:46:11.789Z"
   },
   {
    "duration": 385,
    "start_time": "2021-11-20T10:46:11.794Z"
   },
   {
    "duration": 9,
    "start_time": "2021-11-20T10:46:12.181Z"
   },
   {
    "duration": 22,
    "start_time": "2021-11-20T10:46:12.192Z"
   },
   {
    "duration": 10,
    "start_time": "2021-11-20T10:46:12.216Z"
   },
   {
    "duration": 8,
    "start_time": "2021-11-20T10:46:12.228Z"
   },
   {
    "duration": 38,
    "start_time": "2021-11-20T10:46:12.238Z"
   },
   {
    "duration": 8,
    "start_time": "2021-11-20T10:46:12.278Z"
   },
   {
    "duration": 15,
    "start_time": "2021-11-20T10:46:12.288Z"
   },
   {
    "duration": 8,
    "start_time": "2021-11-20T10:46:12.305Z"
   },
   {
    "duration": 51,
    "start_time": "2021-11-20T10:46:12.314Z"
   },
   {
    "duration": 13,
    "start_time": "2021-11-20T10:46:12.367Z"
   },
   {
    "duration": 537,
    "start_time": "2021-11-20T10:46:12.382Z"
   },
   {
    "duration": 154,
    "start_time": "2021-11-20T10:46:12.921Z"
   },
   {
    "duration": 5,
    "start_time": "2021-11-20T10:46:13.076Z"
   },
   {
    "duration": 268,
    "start_time": "2021-11-20T10:46:13.084Z"
   },
   {
    "duration": 37,
    "start_time": "2021-11-20T10:46:13.354Z"
   },
   {
    "duration": 51,
    "start_time": "2021-11-20T10:46:13.393Z"
   },
   {
    "duration": 65,
    "start_time": "2021-11-20T10:46:13.445Z"
   },
   {
    "duration": 19,
    "start_time": "2021-11-20T10:46:13.512Z"
   },
   {
    "duration": 148,
    "start_time": "2021-11-20T10:46:13.533Z"
   },
   {
    "duration": 51,
    "start_time": "2021-11-20T10:46:13.683Z"
   },
   {
    "duration": 47,
    "start_time": "2021-11-20T10:46:13.736Z"
   },
   {
    "duration": 32,
    "start_time": "2021-11-20T10:46:13.785Z"
   },
   {
    "duration": 25,
    "start_time": "2021-11-20T10:46:28.511Z"
   },
   {
    "duration": 15,
    "start_time": "2021-11-20T10:46:41.317Z"
   },
   {
    "duration": 26,
    "start_time": "2021-11-20T10:48:47.273Z"
   },
   {
    "duration": 24,
    "start_time": "2021-11-20T10:48:52.782Z"
   },
   {
    "duration": 12,
    "start_time": "2021-11-20T10:49:01.163Z"
   },
   {
    "duration": 6141,
    "start_time": "2021-11-20T10:50:25.468Z"
   },
   {
    "duration": 1096,
    "start_time": "2021-11-20T10:50:35.147Z"
   },
   {
    "duration": 416,
    "start_time": "2021-11-20T10:50:36.245Z"
   },
   {
    "duration": 13,
    "start_time": "2021-11-20T10:50:36.663Z"
   },
   {
    "duration": 21,
    "start_time": "2021-11-20T10:50:36.678Z"
   },
   {
    "duration": 8,
    "start_time": "2021-11-20T10:50:36.701Z"
   },
   {
    "duration": 7,
    "start_time": "2021-11-20T10:50:36.711Z"
   },
   {
    "duration": 52,
    "start_time": "2021-11-20T10:50:36.720Z"
   },
   {
    "duration": 7,
    "start_time": "2021-11-20T10:50:36.774Z"
   },
   {
    "duration": 17,
    "start_time": "2021-11-20T10:50:36.784Z"
   },
   {
    "duration": 11,
    "start_time": "2021-11-20T10:50:36.804Z"
   },
   {
    "duration": 17,
    "start_time": "2021-11-20T10:50:36.817Z"
   },
   {
    "duration": 40,
    "start_time": "2021-11-20T10:50:36.836Z"
   },
   {
    "duration": 526,
    "start_time": "2021-11-20T10:50:36.877Z"
   },
   {
    "duration": 158,
    "start_time": "2021-11-20T10:50:37.405Z"
   },
   {
    "duration": 4,
    "start_time": "2021-11-20T10:50:37.565Z"
   },
   {
    "duration": 248,
    "start_time": "2021-11-20T10:50:37.571Z"
   },
   {
    "duration": 32,
    "start_time": "2021-11-20T10:50:37.821Z"
   },
   {
    "duration": 49,
    "start_time": "2021-11-20T10:50:37.863Z"
   },
   {
    "duration": 69,
    "start_time": "2021-11-20T10:50:37.914Z"
   },
   {
    "duration": 16,
    "start_time": "2021-11-20T10:50:37.985Z"
   },
   {
    "duration": 123,
    "start_time": "2021-11-20T10:50:38.002Z"
   },
   {
    "duration": 63,
    "start_time": "2021-11-20T10:50:38.127Z"
   },
   {
    "duration": 27,
    "start_time": "2021-11-20T10:50:38.192Z"
   },
   {
    "duration": 44,
    "start_time": "2021-11-20T10:50:38.220Z"
   },
   {
    "duration": 30,
    "start_time": "2021-11-20T10:50:38.265Z"
   },
   {
    "duration": 6009,
    "start_time": "2021-11-20T10:50:38.296Z"
   },
   {
    "duration": 12,
    "start_time": "2021-11-20T10:54:34.732Z"
   },
   {
    "duration": 17,
    "start_time": "2021-11-20T10:55:24.152Z"
   },
   {
    "duration": 24,
    "start_time": "2021-11-20T10:56:30.562Z"
   },
   {
    "duration": 24,
    "start_time": "2021-11-20T11:04:35.888Z"
   },
   {
    "duration": 18,
    "start_time": "2021-11-20T11:08:26.387Z"
   },
   {
    "duration": 3,
    "start_time": "2021-11-20T11:10:40.940Z"
   },
   {
    "duration": 3,
    "start_time": "2021-11-20T11:11:32.680Z"
   },
   {
    "duration": 5,
    "start_time": "2021-11-20T11:18:32.472Z"
   },
   {
    "duration": 110,
    "start_time": "2021-11-20T11:18:35.819Z"
   },
   {
    "duration": 3,
    "start_time": "2021-11-20T11:18:37.944Z"
   },
   {
    "duration": 4,
    "start_time": "2021-11-20T11:20:56.618Z"
   },
   {
    "duration": 4,
    "start_time": "2021-11-20T11:22:40.718Z"
   },
   {
    "duration": 4,
    "start_time": "2021-11-20T11:37:22.185Z"
   },
   {
    "duration": 5,
    "start_time": "2021-11-20T11:39:43.460Z"
   },
   {
    "duration": 4,
    "start_time": "2021-11-20T11:39:56.961Z"
   },
   {
    "duration": 238,
    "start_time": "2021-11-20T11:40:51.594Z"
   },
   {
    "duration": 244,
    "start_time": "2021-11-20T11:41:10.058Z"
   },
   {
    "duration": 3705,
    "start_time": "2021-11-20T11:41:18.284Z"
   },
   {
    "duration": 5,
    "start_time": "2021-11-20T11:41:47.139Z"
   },
   {
    "duration": 3313,
    "start_time": "2021-11-20T11:41:50.087Z"
   },
   {
    "duration": 617,
    "start_time": "2021-11-20T11:41:55.325Z"
   },
   {
    "duration": 6,
    "start_time": "2021-11-20T11:42:12.087Z"
   },
   {
    "duration": 604,
    "start_time": "2021-11-20T11:42:13.312Z"
   },
   {
    "duration": 5,
    "start_time": "2021-11-20T11:43:28.345Z"
   },
   {
    "duration": 165,
    "start_time": "2021-11-20T11:43:31.142Z"
   },
   {
    "duration": 176,
    "start_time": "2021-11-20T11:43:39.887Z"
   },
   {
    "duration": 1055,
    "start_time": "2021-11-20T11:45:03.602Z"
   },
   {
    "duration": 430,
    "start_time": "2021-11-20T11:45:04.659Z"
   },
   {
    "duration": 15,
    "start_time": "2021-11-20T11:45:05.092Z"
   },
   {
    "duration": 34,
    "start_time": "2021-11-20T11:45:05.110Z"
   },
   {
    "duration": 11,
    "start_time": "2021-11-20T11:45:05.147Z"
   },
   {
    "duration": 8,
    "start_time": "2021-11-20T11:45:05.163Z"
   },
   {
    "duration": 28,
    "start_time": "2021-11-20T11:45:05.173Z"
   },
   {
    "duration": 12,
    "start_time": "2021-11-20T11:45:05.205Z"
   },
   {
    "duration": 57,
    "start_time": "2021-11-20T11:45:05.220Z"
   },
   {
    "duration": 10,
    "start_time": "2021-11-20T11:45:05.280Z"
   },
   {
    "duration": 15,
    "start_time": "2021-11-20T11:45:05.292Z"
   },
   {
    "duration": 9,
    "start_time": "2021-11-20T11:45:05.309Z"
   },
   {
    "duration": 760,
    "start_time": "2021-11-20T11:45:05.320Z"
   },
   {
    "duration": 161,
    "start_time": "2021-11-20T11:45:06.082Z"
   },
   {
    "duration": 5,
    "start_time": "2021-11-20T11:45:06.245Z"
   },
   {
    "duration": 257,
    "start_time": "2021-11-20T11:45:06.252Z"
   },
   {
    "duration": 34,
    "start_time": "2021-11-20T11:45:06.511Z"
   },
   {
    "duration": 63,
    "start_time": "2021-11-20T11:45:06.547Z"
   },
   {
    "duration": 71,
    "start_time": "2021-11-20T11:45:06.613Z"
   },
   {
    "duration": 21,
    "start_time": "2021-11-20T11:45:06.686Z"
   },
   {
    "duration": 202,
    "start_time": "2021-11-20T11:45:06.710Z"
   },
   {
    "duration": 83,
    "start_time": "2021-11-20T11:45:06.914Z"
   },
   {
    "duration": 28,
    "start_time": "2021-11-20T11:45:07.000Z"
   },
   {
    "duration": 50,
    "start_time": "2021-11-20T11:45:07.030Z"
   },
   {
    "duration": 27,
    "start_time": "2021-11-20T11:45:07.082Z"
   },
   {
    "duration": 14,
    "start_time": "2021-11-20T11:45:07.111Z"
   },
   {
    "duration": 39,
    "start_time": "2021-11-20T11:45:07.127Z"
   },
   {
    "duration": 4,
    "start_time": "2021-11-20T11:45:07.168Z"
   },
   {
    "duration": 192,
    "start_time": "2021-11-20T11:45:07.174Z"
   },
   {
    "duration": 4,
    "start_time": "2021-11-20T11:45:25.508Z"
   },
   {
    "duration": 554,
    "start_time": "2021-11-20T11:45:29.475Z"
   },
   {
    "duration": 5,
    "start_time": "2021-11-20T11:45:48.107Z"
   },
   {
    "duration": 529,
    "start_time": "2021-11-20T11:45:50.603Z"
   },
   {
    "duration": 4,
    "start_time": "2021-11-20T11:46:21.054Z"
   },
   {
    "duration": 172,
    "start_time": "2021-11-20T11:46:25.972Z"
   },
   {
    "duration": 1468,
    "start_time": "2021-11-21T09:02:32.489Z"
   },
   {
    "duration": 541,
    "start_time": "2021-11-21T09:02:33.960Z"
   },
   {
    "duration": 16,
    "start_time": "2021-11-21T09:02:34.504Z"
   },
   {
    "duration": 30,
    "start_time": "2021-11-21T09:02:34.522Z"
   },
   {
    "duration": 12,
    "start_time": "2021-11-21T09:02:34.554Z"
   },
   {
    "duration": 41,
    "start_time": "2021-11-21T09:02:34.568Z"
   },
   {
    "duration": 23,
    "start_time": "2021-11-21T09:02:34.612Z"
   },
   {
    "duration": 10,
    "start_time": "2021-11-21T09:02:34.637Z"
   },
   {
    "duration": 52,
    "start_time": "2021-11-21T09:02:34.651Z"
   },
   {
    "duration": 12,
    "start_time": "2021-11-21T09:02:34.706Z"
   },
   {
    "duration": 15,
    "start_time": "2021-11-21T09:02:34.720Z"
   },
   {
    "duration": 12,
    "start_time": "2021-11-21T09:02:34.737Z"
   },
   {
    "duration": 876,
    "start_time": "2021-11-21T09:02:34.751Z"
   },
   {
    "duration": 222,
    "start_time": "2021-11-21T09:02:35.629Z"
   },
   {
    "duration": 6,
    "start_time": "2021-11-21T09:02:35.853Z"
   },
   {
    "duration": 382,
    "start_time": "2021-11-21T09:02:35.861Z"
   },
   {
    "duration": 66,
    "start_time": "2021-11-21T09:02:36.246Z"
   },
   {
    "duration": 67,
    "start_time": "2021-11-21T09:02:36.315Z"
   },
   {
    "duration": 84,
    "start_time": "2021-11-21T09:02:36.385Z"
   },
   {
    "duration": 38,
    "start_time": "2021-11-21T09:02:36.472Z"
   },
   {
    "duration": 181,
    "start_time": "2021-11-21T09:02:36.512Z"
   },
   {
    "duration": 80,
    "start_time": "2021-11-21T09:02:36.696Z"
   },
   {
    "duration": 59,
    "start_time": "2021-11-21T09:02:36.780Z"
   },
   {
    "duration": 72,
    "start_time": "2021-11-21T09:02:36.842Z"
   },
   {
    "duration": 46,
    "start_time": "2021-11-21T09:02:36.917Z"
   },
   {
    "duration": 47,
    "start_time": "2021-11-21T09:02:36.966Z"
   },
   {
    "duration": 26,
    "start_time": "2021-11-21T09:02:37.017Z"
   },
   {
    "duration": 7,
    "start_time": "2021-11-21T09:02:37.045Z"
   },
   {
    "duration": 348,
    "start_time": "2021-11-21T09:02:37.054Z"
   },
   {
    "duration": 13,
    "start_time": "2021-11-21T09:19:53.250Z"
   },
   {
    "duration": 9166,
    "start_time": "2021-11-21T09:20:27.250Z"
   },
   {
    "duration": 8163,
    "start_time": "2021-11-21T09:20:54.758Z"
   },
   {
    "duration": 14,
    "start_time": "2021-11-21T09:21:03.455Z"
   },
   {
    "duration": 15,
    "start_time": "2021-11-21T09:23:22.601Z"
   },
   {
    "duration": 7,
    "start_time": "2021-11-21T09:23:38.727Z"
   },
   {
    "duration": 361,
    "start_time": "2021-11-21T09:23:43.812Z"
   },
   {
    "duration": 15,
    "start_time": "2021-11-21T09:23:49.269Z"
   },
   {
    "duration": 16,
    "start_time": "2021-11-21T09:23:53.178Z"
   },
   {
    "duration": 15,
    "start_time": "2021-11-21T09:23:56.093Z"
   },
   {
    "duration": 1394,
    "start_time": "2021-11-21T09:24:34.182Z"
   },
   {
    "duration": 560,
    "start_time": "2021-11-21T09:24:35.578Z"
   },
   {
    "duration": 16,
    "start_time": "2021-11-21T09:24:36.145Z"
   },
   {
    "duration": 33,
    "start_time": "2021-11-21T09:24:36.163Z"
   },
   {
    "duration": 13,
    "start_time": "2021-11-21T09:24:36.199Z"
   },
   {
    "duration": 8,
    "start_time": "2021-11-21T09:24:36.214Z"
   },
   {
    "duration": 23,
    "start_time": "2021-11-21T09:24:36.225Z"
   },
   {
    "duration": 49,
    "start_time": "2021-11-21T09:24:36.254Z"
   },
   {
    "duration": 23,
    "start_time": "2021-11-21T09:24:36.307Z"
   },
   {
    "duration": 12,
    "start_time": "2021-11-21T09:24:36.332Z"
   },
   {
    "duration": 56,
    "start_time": "2021-11-21T09:24:36.346Z"
   },
   {
    "duration": 15,
    "start_time": "2021-11-21T09:24:36.404Z"
   },
   {
    "duration": 8,
    "start_time": "2021-11-21T09:24:36.422Z"
   },
   {
    "duration": 750,
    "start_time": "2021-11-21T09:24:36.433Z"
   },
   {
    "duration": 222,
    "start_time": "2021-11-21T09:24:37.185Z"
   },
   {
    "duration": 5,
    "start_time": "2021-11-21T09:24:37.410Z"
   },
   {
    "duration": 364,
    "start_time": "2021-11-21T09:24:37.417Z"
   },
   {
    "duration": 54,
    "start_time": "2021-11-21T09:24:37.784Z"
   },
   {
    "duration": 74,
    "start_time": "2021-11-21T09:24:37.841Z"
   },
   {
    "duration": 86,
    "start_time": "2021-11-21T09:24:37.917Z"
   },
   {
    "duration": 28,
    "start_time": "2021-11-21T09:24:38.005Z"
   },
   {
    "duration": 189,
    "start_time": "2021-11-21T09:24:38.035Z"
   },
   {
    "duration": 83,
    "start_time": "2021-11-21T09:24:38.227Z"
   },
   {
    "duration": 40,
    "start_time": "2021-11-21T09:24:38.312Z"
   },
   {
    "duration": 67,
    "start_time": "2021-11-21T09:24:38.355Z"
   },
   {
    "duration": 38,
    "start_time": "2021-11-21T09:24:38.427Z"
   },
   {
    "duration": 45,
    "start_time": "2021-11-21T09:24:38.467Z"
   },
   {
    "duration": 29,
    "start_time": "2021-11-21T09:24:38.514Z"
   },
   {
    "duration": 7,
    "start_time": "2021-11-21T09:24:38.545Z"
   },
   {
    "duration": 10219,
    "start_time": "2021-11-21T09:24:38.554Z"
   },
   {
    "duration": 6,
    "start_time": "2021-11-21T09:28:30.317Z"
   },
   {
    "duration": 342,
    "start_time": "2021-11-21T09:28:33.777Z"
   },
   {
    "duration": 6,
    "start_time": "2021-11-21T09:29:12.050Z"
   },
   {
    "duration": 319,
    "start_time": "2021-11-21T09:29:13.383Z"
   },
   {
    "duration": 6,
    "start_time": "2021-11-21T11:02:22.745Z"
   },
   {
    "duration": 8,
    "start_time": "2021-11-21T11:02:43.934Z"
   },
   {
    "duration": 353,
    "start_time": "2021-11-21T11:04:21.534Z"
   },
   {
    "duration": 119,
    "start_time": "2021-11-21T11:04:32.557Z"
   },
   {
    "duration": 17,
    "start_time": "2021-11-21T11:04:42.005Z"
   },
   {
    "duration": 24,
    "start_time": "2021-11-21T11:04:46.625Z"
   },
   {
    "duration": 23,
    "start_time": "2021-11-21T11:06:58.695Z"
   },
   {
    "duration": 8443,
    "start_time": "2021-11-21T11:07:28.682Z"
   },
   {
    "duration": 23,
    "start_time": "2021-11-21T11:07:39.509Z"
   },
   {
    "duration": 2470,
    "start_time": "2021-11-21T11:07:46.001Z"
   },
   {
    "duration": 38,
    "start_time": "2021-11-21T11:07:50.236Z"
   },
   {
    "duration": 4794,
    "start_time": "2021-11-21T11:10:31.401Z"
   },
   {
    "duration": 4,
    "start_time": "2021-11-21T11:11:01.147Z"
   },
   {
    "duration": 655,
    "start_time": "2021-11-21T11:11:01.154Z"
   },
   {
    "duration": 11,
    "start_time": "2021-11-21T11:11:01.812Z"
   },
   {
    "duration": 73,
    "start_time": "2021-11-21T11:11:01.826Z"
   },
   {
    "duration": 39,
    "start_time": "2021-11-21T11:11:01.901Z"
   },
   {
    "duration": 14,
    "start_time": "2021-11-21T11:11:01.943Z"
   },
   {
    "duration": 51,
    "start_time": "2021-11-21T11:11:01.959Z"
   },
   {
    "duration": 11,
    "start_time": "2021-11-21T11:11:02.012Z"
   },
   {
    "duration": 59,
    "start_time": "2021-11-21T11:11:02.027Z"
   },
   {
    "duration": 23,
    "start_time": "2021-11-21T11:11:02.090Z"
   },
   {
    "duration": 29,
    "start_time": "2021-11-21T11:11:02.115Z"
   },
   {
    "duration": 29,
    "start_time": "2021-11-21T11:11:02.147Z"
   },
   {
    "duration": 21,
    "start_time": "2021-11-21T11:11:02.178Z"
   },
   {
    "duration": 763,
    "start_time": "2021-11-21T11:11:02.201Z"
   },
   {
    "duration": 341,
    "start_time": "2021-11-21T11:11:02.967Z"
   },
   {
    "duration": 6,
    "start_time": "2021-11-21T11:11:03.310Z"
   },
   {
    "duration": 350,
    "start_time": "2021-11-21T11:11:03.319Z"
   },
   {
    "duration": 55,
    "start_time": "2021-11-21T11:11:03.672Z"
   },
   {
    "duration": 88,
    "start_time": "2021-11-21T11:11:03.729Z"
   },
   {
    "duration": 95,
    "start_time": "2021-11-21T11:11:03.820Z"
   },
   {
    "duration": 26,
    "start_time": "2021-11-21T11:11:03.917Z"
   },
   {
    "duration": 187,
    "start_time": "2021-11-21T11:11:03.945Z"
   },
   {
    "duration": 81,
    "start_time": "2021-11-21T11:11:04.135Z"
   },
   {
    "duration": 39,
    "start_time": "2021-11-21T11:11:04.219Z"
   },
   {
    "duration": 66,
    "start_time": "2021-11-21T11:11:04.260Z"
   },
   {
    "duration": 40,
    "start_time": "2021-11-21T11:11:04.328Z"
   },
   {
    "duration": 47,
    "start_time": "2021-11-21T11:11:04.372Z"
   },
   {
    "duration": 41,
    "start_time": "2021-11-21T11:11:04.421Z"
   },
   {
    "duration": 8,
    "start_time": "2021-11-21T11:11:04.465Z"
   },
   {
    "duration": 368,
    "start_time": "2021-11-21T11:11:04.475Z"
   },
   {
    "duration": 4964,
    "start_time": "2021-11-21T11:11:14.432Z"
   },
   {
    "duration": 4434,
    "start_time": "2021-11-21T11:11:25.425Z"
   },
   {
    "duration": 446,
    "start_time": "2021-11-21T11:12:09.873Z"
   },
   {
    "duration": 8,
    "start_time": "2021-11-21T11:12:26.401Z"
   },
   {
    "duration": 4416,
    "start_time": "2021-11-21T11:12:35.040Z"
   },
   {
    "duration": 4,
    "start_time": "2021-11-21T11:12:41.512Z"
   },
   {
    "duration": 538,
    "start_time": "2021-11-21T11:12:41.519Z"
   },
   {
    "duration": 12,
    "start_time": "2021-11-21T11:12:42.061Z"
   },
   {
    "duration": 28,
    "start_time": "2021-11-21T11:12:42.076Z"
   },
   {
    "duration": 12,
    "start_time": "2021-11-21T11:12:42.106Z"
   },
   {
    "duration": 15,
    "start_time": "2021-11-21T11:12:42.120Z"
   },
   {
    "duration": 22,
    "start_time": "2021-11-21T11:12:42.137Z"
   },
   {
    "duration": 38,
    "start_time": "2021-11-21T11:12:42.162Z"
   },
   {
    "duration": 20,
    "start_time": "2021-11-21T11:12:42.206Z"
   },
   {
    "duration": 12,
    "start_time": "2021-11-21T11:12:42.231Z"
   },
   {
    "duration": 56,
    "start_time": "2021-11-21T11:12:42.246Z"
   },
   {
    "duration": 14,
    "start_time": "2021-11-21T11:12:42.305Z"
   },
   {
    "duration": 13,
    "start_time": "2021-11-21T11:12:42.322Z"
   },
   {
    "duration": 726,
    "start_time": "2021-11-21T11:12:42.337Z"
   },
   {
    "duration": 216,
    "start_time": "2021-11-21T11:12:43.065Z"
   },
   {
    "duration": 6,
    "start_time": "2021-11-21T11:12:43.283Z"
   },
   {
    "duration": 345,
    "start_time": "2021-11-21T11:12:43.291Z"
   },
   {
    "duration": 44,
    "start_time": "2021-11-21T11:12:43.639Z"
   },
   {
    "duration": 76,
    "start_time": "2021-11-21T11:12:43.685Z"
   },
   {
    "duration": 90,
    "start_time": "2021-11-21T11:12:43.764Z"
   },
   {
    "duration": 28,
    "start_time": "2021-11-21T11:12:43.856Z"
   },
   {
    "duration": 185,
    "start_time": "2021-11-21T11:12:43.886Z"
   },
   {
    "duration": 83,
    "start_time": "2021-11-21T11:12:44.073Z"
   },
   {
    "duration": 51,
    "start_time": "2021-11-21T11:12:44.159Z"
   },
   {
    "duration": 40,
    "start_time": "2021-11-21T11:12:44.213Z"
   },
   {
    "duration": 60,
    "start_time": "2021-11-21T11:12:44.256Z"
   },
   {
    "duration": 24,
    "start_time": "2021-11-21T11:12:44.322Z"
   },
   {
    "duration": 65,
    "start_time": "2021-11-21T11:12:44.348Z"
   },
   {
    "duration": 8,
    "start_time": "2021-11-21T11:12:44.416Z"
   },
   {
    "duration": 355,
    "start_time": "2021-11-21T11:12:44.427Z"
   },
   {
    "duration": 30,
    "start_time": "2021-11-21T11:12:48.697Z"
   },
   {
    "duration": 9750,
    "start_time": "2021-11-21T11:13:26.375Z"
   },
   {
    "duration": 4463,
    "start_time": "2021-11-21T11:13:43.818Z"
   },
   {
    "duration": 1369,
    "start_time": "2021-11-21T11:14:10.796Z"
   },
   {
    "duration": 553,
    "start_time": "2021-11-21T11:14:12.169Z"
   },
   {
    "duration": 18,
    "start_time": "2021-11-21T11:14:12.726Z"
   },
   {
    "duration": 30,
    "start_time": "2021-11-21T11:14:12.748Z"
   },
   {
    "duration": 25,
    "start_time": "2021-11-21T11:14:12.781Z"
   },
   {
    "duration": 10,
    "start_time": "2021-11-21T11:14:12.808Z"
   },
   {
    "duration": 22,
    "start_time": "2021-11-21T11:14:12.820Z"
   },
   {
    "duration": 10,
    "start_time": "2021-11-21T11:14:12.846Z"
   },
   {
    "duration": 57,
    "start_time": "2021-11-21T11:14:12.859Z"
   },
   {
    "duration": 11,
    "start_time": "2021-11-21T11:14:12.918Z"
   },
   {
    "duration": 20,
    "start_time": "2021-11-21T11:14:12.932Z"
   },
   {
    "duration": 45,
    "start_time": "2021-11-21T11:14:12.955Z"
   },
   {
    "duration": 9,
    "start_time": "2021-11-21T11:14:13.003Z"
   },
   {
    "duration": 802,
    "start_time": "2021-11-21T11:14:13.014Z"
   },
   {
    "duration": 220,
    "start_time": "2021-11-21T11:14:13.818Z"
   },
   {
    "duration": 5,
    "start_time": "2021-11-21T11:14:14.041Z"
   },
   {
    "duration": 386,
    "start_time": "2021-11-21T11:14:14.049Z"
   },
   {
    "duration": 66,
    "start_time": "2021-11-21T11:14:14.438Z"
   },
   {
    "duration": 67,
    "start_time": "2021-11-21T11:14:14.507Z"
   },
   {
    "duration": 86,
    "start_time": "2021-11-21T11:14:14.576Z"
   },
   {
    "duration": 39,
    "start_time": "2021-11-21T11:14:14.665Z"
   },
   {
    "duration": 182,
    "start_time": "2021-11-21T11:14:14.707Z"
   },
   {
    "duration": 77,
    "start_time": "2021-11-21T11:14:14.893Z"
   },
   {
    "duration": 54,
    "start_time": "2021-11-21T11:14:14.972Z"
   },
   {
    "duration": 42,
    "start_time": "2021-11-21T11:14:15.028Z"
   },
   {
    "duration": 67,
    "start_time": "2021-11-21T11:14:15.072Z"
   },
   {
    "duration": 23,
    "start_time": "2021-11-21T11:14:15.142Z"
   },
   {
    "duration": 56,
    "start_time": "2021-11-21T11:14:15.167Z"
   },
   {
    "duration": 6,
    "start_time": "2021-11-21T11:14:15.226Z"
   },
   {
    "duration": 346,
    "start_time": "2021-11-21T11:14:15.235Z"
   },
   {
    "duration": 39,
    "start_time": "2021-11-21T11:14:15.583Z"
   },
   {
    "duration": 30,
    "start_time": "2021-11-21T11:14:15.624Z"
   },
   {
    "duration": 50,
    "start_time": "2021-11-21T11:14:54.418Z"
   },
   {
    "duration": 37,
    "start_time": "2021-11-21T11:15:21.971Z"
   },
   {
    "duration": 27,
    "start_time": "2021-11-21T11:21:31.806Z"
   },
   {
    "duration": 26,
    "start_time": "2021-11-21T11:22:05.722Z"
   },
   {
    "duration": 26,
    "start_time": "2021-11-21T11:23:09.903Z"
   },
   {
    "duration": 38,
    "start_time": "2021-11-21T11:23:32.984Z"
   },
   {
    "duration": 503,
    "start_time": "2021-11-21T11:24:59.138Z"
   },
   {
    "duration": 51,
    "start_time": "2021-11-21T11:25:23.840Z"
   },
   {
    "duration": 59,
    "start_time": "2021-11-21T11:28:17.948Z"
   },
   {
    "duration": 425,
    "start_time": "2021-11-21T11:29:02.759Z"
   },
   {
    "duration": 64,
    "start_time": "2021-11-21T11:29:11.409Z"
   },
   {
    "duration": 1568,
    "start_time": "2021-11-21T11:29:33.426Z"
   },
   {
    "duration": 718,
    "start_time": "2021-11-21T11:29:34.997Z"
   },
   {
    "duration": 20,
    "start_time": "2021-11-21T11:29:35.719Z"
   },
   {
    "duration": 41,
    "start_time": "2021-11-21T11:29:35.743Z"
   },
   {
    "duration": 32,
    "start_time": "2021-11-21T11:29:35.786Z"
   },
   {
    "duration": 13,
    "start_time": "2021-11-21T11:29:35.821Z"
   },
   {
    "duration": 34,
    "start_time": "2021-11-21T11:29:35.837Z"
   },
   {
    "duration": 16,
    "start_time": "2021-11-21T11:29:35.905Z"
   },
   {
    "duration": 30,
    "start_time": "2021-11-21T11:29:35.925Z"
   },
   {
    "duration": 43,
    "start_time": "2021-11-21T11:29:35.958Z"
   },
   {
    "duration": 29,
    "start_time": "2021-11-21T11:29:36.004Z"
   },
   {
    "duration": 23,
    "start_time": "2021-11-21T11:29:36.042Z"
   },
   {
    "duration": 32,
    "start_time": "2021-11-21T11:29:36.068Z"
   },
   {
    "duration": 916,
    "start_time": "2021-11-21T11:29:36.106Z"
   },
   {
    "duration": 247,
    "start_time": "2021-11-21T11:29:37.025Z"
   },
   {
    "duration": 5,
    "start_time": "2021-11-21T11:29:37.274Z"
   },
   {
    "duration": 430,
    "start_time": "2021-11-21T11:29:37.281Z"
   },
   {
    "duration": 61,
    "start_time": "2021-11-21T11:29:37.714Z"
   },
   {
    "duration": 91,
    "start_time": "2021-11-21T11:29:37.778Z"
   },
   {
    "duration": 107,
    "start_time": "2021-11-21T11:29:37.872Z"
   },
   {
    "duration": 30,
    "start_time": "2021-11-21T11:29:37.981Z"
   },
   {
    "duration": 219,
    "start_time": "2021-11-21T11:29:38.014Z"
   },
   {
    "duration": 91,
    "start_time": "2021-11-21T11:29:38.241Z"
   },
   {
    "duration": 41,
    "start_time": "2021-11-21T11:29:38.336Z"
   },
   {
    "duration": 68,
    "start_time": "2021-11-21T11:29:38.380Z"
   },
   {
    "duration": 76,
    "start_time": "2021-11-21T11:29:38.452Z"
   },
   {
    "duration": 28,
    "start_time": "2021-11-21T11:29:38.531Z"
   },
   {
    "duration": 53,
    "start_time": "2021-11-21T11:29:38.562Z"
   },
   {
    "duration": 8,
    "start_time": "2021-11-21T11:29:38.619Z"
   },
   {
    "duration": 390,
    "start_time": "2021-11-21T11:29:38.629Z"
   },
   {
    "duration": 36,
    "start_time": "2021-11-21T11:29:39.021Z"
   },
   {
    "duration": 78,
    "start_time": "2021-11-21T11:29:39.059Z"
   },
   {
    "duration": 71,
    "start_time": "2021-11-21T11:29:39.139Z"
   },
   {
    "duration": 7,
    "start_time": "2021-11-21T11:46:00.752Z"
   },
   {
    "duration": 7,
    "start_time": "2021-11-21T11:46:22.927Z"
   },
   {
    "duration": 8,
    "start_time": "2021-11-21T11:46:26.718Z"
   },
   {
    "duration": 8,
    "start_time": "2021-11-21T11:46:31.890Z"
   },
   {
    "duration": 7,
    "start_time": "2021-11-21T11:46:59.905Z"
   },
   {
    "duration": 6,
    "start_time": "2021-11-21T11:47:06.992Z"
   },
   {
    "duration": 61,
    "start_time": "2021-11-21T11:50:07.275Z"
   },
   {
    "duration": 334,
    "start_time": "2021-11-21T12:06:31.328Z"
   },
   {
    "duration": 334,
    "start_time": "2021-11-21T12:06:47.257Z"
   },
   {
    "duration": 329,
    "start_time": "2021-11-21T12:06:56.419Z"
   },
   {
    "duration": 327,
    "start_time": "2021-11-21T12:07:03.740Z"
   },
   {
    "duration": 355,
    "start_time": "2021-11-21T12:07:13.611Z"
   },
   {
    "duration": 352,
    "start_time": "2021-11-21T12:07:36.837Z"
   },
   {
    "duration": 386,
    "start_time": "2021-11-21T12:09:24.219Z"
   },
   {
    "duration": 402,
    "start_time": "2021-11-21T12:09:37.765Z"
   },
   {
    "duration": 389,
    "start_time": "2021-11-21T12:09:48.844Z"
   },
   {
    "duration": 1011,
    "start_time": "2021-11-21T12:10:11.808Z"
   },
   {
    "duration": 795,
    "start_time": "2021-11-21T12:10:49.179Z"
   },
   {
    "duration": 664,
    "start_time": "2021-11-21T12:10:54.129Z"
   },
   {
    "duration": 648,
    "start_time": "2021-11-21T12:10:58.672Z"
   },
   {
    "duration": 653,
    "start_time": "2021-11-21T12:11:07.062Z"
   },
   {
    "duration": 806,
    "start_time": "2021-11-21T12:11:56.838Z"
   },
   {
    "duration": 1044,
    "start_time": "2021-11-21T12:12:45.942Z"
   },
   {
    "duration": 998,
    "start_time": "2021-11-21T12:13:04.162Z"
   },
   {
    "duration": 953,
    "start_time": "2021-11-21T12:13:18.084Z"
   },
   {
    "duration": 1053,
    "start_time": "2021-11-21T12:13:47.295Z"
   },
   {
    "duration": 1040,
    "start_time": "2021-11-21T12:13:58.472Z"
   },
   {
    "duration": 1074,
    "start_time": "2021-11-21T12:14:11.260Z"
   },
   {
    "duration": 2317,
    "start_time": "2021-11-21T12:23:20.433Z"
   },
   {
    "duration": 1576,
    "start_time": "2021-11-22T08:53:21.076Z"
   },
   {
    "duration": 570,
    "start_time": "2021-11-22T08:53:22.655Z"
   },
   {
    "duration": 15,
    "start_time": "2021-11-22T08:53:23.227Z"
   },
   {
    "duration": 33,
    "start_time": "2021-11-22T08:53:23.245Z"
   },
   {
    "duration": 10,
    "start_time": "2021-11-22T08:53:23.280Z"
   },
   {
    "duration": 19,
    "start_time": "2021-11-22T08:53:23.292Z"
   },
   {
    "duration": 26,
    "start_time": "2021-11-22T08:53:23.313Z"
   },
   {
    "duration": 9,
    "start_time": "2021-11-22T08:53:23.342Z"
   },
   {
    "duration": 60,
    "start_time": "2021-11-22T08:53:23.353Z"
   },
   {
    "duration": 13,
    "start_time": "2021-11-22T08:53:23.415Z"
   },
   {
    "duration": 18,
    "start_time": "2021-11-22T08:53:23.430Z"
   },
   {
    "duration": 11,
    "start_time": "2021-11-22T08:53:23.451Z"
   },
   {
    "duration": 11,
    "start_time": "2021-11-22T08:53:23.464Z"
   },
   {
    "duration": 541,
    "start_time": "2021-11-22T08:53:23.477Z"
   },
   {
    "duration": 165,
    "start_time": "2021-11-22T08:53:24.020Z"
   },
   {
    "duration": 4,
    "start_time": "2021-11-22T08:53:24.187Z"
   },
   {
    "duration": 262,
    "start_time": "2021-11-22T08:53:24.193Z"
   },
   {
    "duration": 36,
    "start_time": "2021-11-22T08:53:24.456Z"
   },
   {
    "duration": 59,
    "start_time": "2021-11-22T08:53:24.494Z"
   },
   {
    "duration": 71,
    "start_time": "2021-11-22T08:53:24.555Z"
   },
   {
    "duration": 17,
    "start_time": "2021-11-22T08:53:24.628Z"
   },
   {
    "duration": 130,
    "start_time": "2021-11-22T08:53:24.647Z"
   },
   {
    "duration": 59,
    "start_time": "2021-11-22T08:53:24.781Z"
   },
   {
    "duration": 30,
    "start_time": "2021-11-22T08:53:24.843Z"
   },
   {
    "duration": 56,
    "start_time": "2021-11-22T08:53:24.875Z"
   },
   {
    "duration": 29,
    "start_time": "2021-11-22T08:53:24.933Z"
   },
   {
    "duration": 51,
    "start_time": "2021-11-22T08:53:24.965Z"
   },
   {
    "duration": 19,
    "start_time": "2021-11-22T08:53:25.018Z"
   },
   {
    "duration": 4,
    "start_time": "2021-11-22T08:53:25.039Z"
   },
   {
    "duration": 324,
    "start_time": "2021-11-22T08:53:25.045Z"
   },
   {
    "duration": 18,
    "start_time": "2021-11-22T08:53:25.371Z"
   },
   {
    "duration": 22,
    "start_time": "2021-11-22T08:53:25.407Z"
   },
   {
    "duration": 30,
    "start_time": "2021-11-22T08:53:25.431Z"
   },
   {
    "duration": 1182,
    "start_time": "2021-11-22T08:53:25.463Z"
   },
   {
    "duration": 3,
    "start_time": "2021-11-22T09:21:31.127Z"
   },
   {
    "duration": 3,
    "start_time": "2021-11-22T09:21:53.345Z"
   },
   {
    "duration": 3,
    "start_time": "2021-11-22T09:22:10.577Z"
   },
   {
    "duration": 4,
    "start_time": "2021-11-22T09:22:45.827Z"
   },
   {
    "duration": 6,
    "start_time": "2021-11-22T09:23:22.387Z"
   },
   {
    "duration": 4,
    "start_time": "2021-11-22T09:23:29.053Z"
   },
   {
    "duration": 4,
    "start_time": "2021-11-22T09:23:40.627Z"
   },
   {
    "duration": 4,
    "start_time": "2021-11-22T09:24:10.717Z"
   },
   {
    "duration": 4,
    "start_time": "2021-11-22T09:24:23.309Z"
   },
   {
    "duration": 37,
    "start_time": "2021-11-22T09:24:57.371Z"
   },
   {
    "duration": 5,
    "start_time": "2021-11-22T09:25:27.948Z"
   },
   {
    "duration": 3,
    "start_time": "2021-11-22T09:25:32.574Z"
   },
   {
    "duration": 3,
    "start_time": "2021-11-22T09:37:14.785Z"
   },
   {
    "duration": 1040,
    "start_time": "2021-11-22T17:01:17.325Z"
   },
   {
    "duration": 382,
    "start_time": "2021-11-22T17:01:18.366Z"
   },
   {
    "duration": 11,
    "start_time": "2021-11-22T17:01:18.750Z"
   },
   {
    "duration": 22,
    "start_time": "2021-11-22T17:01:18.763Z"
   },
   {
    "duration": 7,
    "start_time": "2021-11-22T17:01:18.787Z"
   },
   {
    "duration": 10,
    "start_time": "2021-11-22T17:01:18.795Z"
   },
   {
    "duration": 18,
    "start_time": "2021-11-22T17:01:18.807Z"
   },
   {
    "duration": 6,
    "start_time": "2021-11-22T17:01:18.827Z"
   },
   {
    "duration": 17,
    "start_time": "2021-11-22T17:01:18.835Z"
   },
   {
    "duration": 8,
    "start_time": "2021-11-22T17:01:18.853Z"
   },
   {
    "duration": 38,
    "start_time": "2021-11-22T17:01:18.862Z"
   },
   {
    "duration": 19,
    "start_time": "2021-11-22T17:01:18.902Z"
   },
   {
    "duration": 28,
    "start_time": "2021-11-22T17:01:18.922Z"
   },
   {
    "duration": 471,
    "start_time": "2021-11-22T17:01:18.952Z"
   },
   {
    "duration": 146,
    "start_time": "2021-11-22T17:01:19.425Z"
   },
   {
    "duration": 4,
    "start_time": "2021-11-22T17:01:19.572Z"
   },
   {
    "duration": 219,
    "start_time": "2021-11-22T17:01:19.578Z"
   },
   {
    "duration": 28,
    "start_time": "2021-11-22T17:01:19.798Z"
   },
   {
    "duration": 50,
    "start_time": "2021-11-22T17:01:19.827Z"
   },
   {
    "duration": 57,
    "start_time": "2021-11-22T17:01:19.879Z"
   },
   {
    "duration": 17,
    "start_time": "2021-11-22T17:01:19.991Z"
   },
   {
    "duration": 147,
    "start_time": "2021-11-22T17:01:20.010Z"
   },
   {
    "duration": 53,
    "start_time": "2021-11-22T17:01:20.160Z"
   },
   {
    "duration": 24,
    "start_time": "2021-11-22T17:01:20.215Z"
   },
   {
    "duration": 74,
    "start_time": "2021-11-22T17:01:20.241Z"
   },
   {
    "duration": 77,
    "start_time": "2021-11-22T17:01:20.317Z"
   },
   {
    "duration": 16,
    "start_time": "2021-11-22T17:01:20.395Z"
   },
   {
    "duration": 18,
    "start_time": "2021-11-22T17:01:20.412Z"
   },
   {
    "duration": 59,
    "start_time": "2021-11-22T17:01:20.432Z"
   },
   {
    "duration": 213,
    "start_time": "2021-11-22T17:01:20.493Z"
   },
   {
    "duration": 16,
    "start_time": "2021-11-22T17:01:20.708Z"
   },
   {
    "duration": 20,
    "start_time": "2021-11-22T17:01:20.726Z"
   },
   {
    "duration": 54,
    "start_time": "2021-11-22T17:01:20.748Z"
   },
   {
    "duration": 1587,
    "start_time": "2021-11-22T17:01:20.804Z"
   },
   {
    "duration": 2,
    "start_time": "2021-11-22T17:01:22.393Z"
   },
   {
    "duration": 8,
    "start_time": "2021-11-22T17:01:22.397Z"
   },
   {
    "duration": 4,
    "start_time": "2021-11-22T17:01:22.406Z"
   },
   {
    "duration": 4621,
    "start_time": "2021-11-22T17:11:07.246Z"
   },
   {
    "duration": 58,
    "start_time": "2021-11-22T17:11:14.651Z"
   },
   {
    "duration": 12,
    "start_time": "2021-11-22T17:11:17.382Z"
   },
   {
    "duration": 4,
    "start_time": "2021-11-22T17:11:36.577Z"
   },
   {
    "duration": 171,
    "start_time": "2021-11-22T17:12:15.167Z"
   },
   {
    "duration": 218,
    "start_time": "2021-11-22T17:12:18.940Z"
   },
   {
    "duration": 21,
    "start_time": "2021-11-22T17:13:51.277Z"
   },
   {
    "duration": 24,
    "start_time": "2021-11-22T17:14:13.043Z"
   },
   {
    "duration": 22,
    "start_time": "2021-11-22T17:14:22.745Z"
   },
   {
    "duration": 21,
    "start_time": "2021-11-22T17:14:29.970Z"
   },
   {
    "duration": 23,
    "start_time": "2021-11-22T17:14:49.527Z"
   },
   {
    "duration": 32,
    "start_time": "2021-11-22T17:15:11.675Z"
   },
   {
    "duration": 26,
    "start_time": "2021-11-22T17:15:26.403Z"
   },
   {
    "duration": 19,
    "start_time": "2021-11-22T17:18:33.805Z"
   },
   {
    "duration": 7,
    "start_time": "2021-11-22T17:25:27.842Z"
   },
   {
    "duration": 22,
    "start_time": "2021-11-22T17:26:21.359Z"
   },
   {
    "duration": 5,
    "start_time": "2021-11-22T17:26:31.248Z"
   },
   {
    "duration": 21,
    "start_time": "2021-11-22T17:26:38.103Z"
   },
   {
    "duration": 9,
    "start_time": "2021-11-22T17:27:14.785Z"
   },
   {
    "duration": 8,
    "start_time": "2021-11-22T17:27:29.514Z"
   },
   {
    "duration": 9,
    "start_time": "2021-11-22T17:27:43.386Z"
   },
   {
    "duration": 61,
    "start_time": "2021-11-22T17:32:43.900Z"
   },
   {
    "duration": 5,
    "start_time": "2021-11-22T17:32:55.884Z"
   },
   {
    "duration": 9,
    "start_time": "2021-11-22T17:33:06.101Z"
   },
   {
    "duration": 6,
    "start_time": "2021-11-22T17:36:58.066Z"
   },
   {
    "duration": 4,
    "start_time": "2021-11-22T17:42:06.262Z"
   },
   {
    "duration": 4,
    "start_time": "2021-11-22T17:42:32.456Z"
   },
   {
    "duration": 5,
    "start_time": "2021-11-22T17:42:39.809Z"
   },
   {
    "duration": 4,
    "start_time": "2021-11-22T17:42:46.042Z"
   },
   {
    "duration": 5,
    "start_time": "2021-11-22T17:44:10.186Z"
   },
   {
    "duration": 4,
    "start_time": "2021-11-22T19:26:18.042Z"
   },
   {
    "duration": 4,
    "start_time": "2021-11-22T19:26:49.616Z"
   },
   {
    "duration": 4,
    "start_time": "2021-11-22T19:26:59.476Z"
   },
   {
    "duration": 4,
    "start_time": "2021-11-22T19:29:42.731Z"
   },
   {
    "duration": 4,
    "start_time": "2021-11-22T19:29:50.999Z"
   },
   {
    "duration": 5,
    "start_time": "2021-11-22T19:31:04.730Z"
   },
   {
    "duration": 987,
    "start_time": "2021-11-22T19:39:26.377Z"
   },
   {
    "duration": 413,
    "start_time": "2021-11-22T19:39:27.365Z"
   },
   {
    "duration": 11,
    "start_time": "2021-11-22T19:39:27.780Z"
   },
   {
    "duration": 21,
    "start_time": "2021-11-22T19:39:27.793Z"
   },
   {
    "duration": 8,
    "start_time": "2021-11-22T19:39:27.816Z"
   },
   {
    "duration": 8,
    "start_time": "2021-11-22T19:39:27.826Z"
   },
   {
    "duration": 58,
    "start_time": "2021-11-22T19:39:27.835Z"
   },
   {
    "duration": 7,
    "start_time": "2021-11-22T19:39:27.896Z"
   },
   {
    "duration": 15,
    "start_time": "2021-11-22T19:39:27.905Z"
   },
   {
    "duration": 8,
    "start_time": "2021-11-22T19:39:27.923Z"
   },
   {
    "duration": 14,
    "start_time": "2021-11-22T19:39:27.933Z"
   },
   {
    "duration": 50,
    "start_time": "2021-11-22T19:39:27.949Z"
   },
   {
    "duration": 7,
    "start_time": "2021-11-22T19:39:28.001Z"
   },
   {
    "duration": 508,
    "start_time": "2021-11-22T19:39:28.010Z"
   },
   {
    "duration": 159,
    "start_time": "2021-11-22T19:39:28.520Z"
   },
   {
    "duration": 4,
    "start_time": "2021-11-22T19:39:28.681Z"
   },
   {
    "duration": 247,
    "start_time": "2021-11-22T19:39:28.691Z"
   },
   {
    "duration": 28,
    "start_time": "2021-11-22T19:39:28.940Z"
   },
   {
    "duration": 60,
    "start_time": "2021-11-22T19:39:28.970Z"
   },
   {
    "duration": 61,
    "start_time": "2021-11-22T19:39:29.032Z"
   },
   {
    "duration": 16,
    "start_time": "2021-11-22T19:39:29.095Z"
   },
   {
    "duration": 124,
    "start_time": "2021-11-22T19:39:29.113Z"
   },
   {
    "duration": 52,
    "start_time": "2021-11-22T19:39:29.240Z"
   },
   {
    "duration": 26,
    "start_time": "2021-11-22T19:39:29.294Z"
   },
   {
    "duration": 25,
    "start_time": "2021-11-22T19:39:29.321Z"
   },
   {
    "duration": 51,
    "start_time": "2021-11-22T19:39:29.348Z"
   },
   {
    "duration": 15,
    "start_time": "2021-11-22T19:39:29.401Z"
   },
   {
    "duration": 24,
    "start_time": "2021-11-22T19:39:29.418Z"
   },
   {
    "duration": 4,
    "start_time": "2021-11-22T19:39:29.444Z"
   },
   {
    "duration": 211,
    "start_time": "2021-11-22T19:39:29.450Z"
   },
   {
    "duration": 17,
    "start_time": "2021-11-22T19:39:29.662Z"
   },
   {
    "duration": 21,
    "start_time": "2021-11-22T19:39:29.691Z"
   },
   {
    "duration": 32,
    "start_time": "2021-11-22T19:39:29.714Z"
   },
   {
    "duration": 1198,
    "start_time": "2021-11-22T19:39:29.747Z"
   },
   {
    "duration": 2,
    "start_time": "2021-11-22T19:39:30.947Z"
   },
   {
    "duration": 10,
    "start_time": "2021-11-22T19:39:30.951Z"
   },
   {
    "duration": 19,
    "start_time": "2021-11-22T19:39:30.963Z"
   },
   {
    "duration": 19,
    "start_time": "2021-11-22T19:39:30.984Z"
   },
   {
    "duration": 14,
    "start_time": "2021-11-22T19:39:31.005Z"
   },
   {
    "duration": 11,
    "start_time": "2021-11-22T19:39:31.021Z"
   },
   {
    "duration": 16,
    "start_time": "2021-11-22T19:39:31.034Z"
   },
   {
    "duration": 7,
    "start_time": "2021-11-22T19:39:31.052Z"
   },
   {
    "duration": 15,
    "start_time": "2021-11-22T19:39:31.061Z"
   },
   {
    "duration": 1105,
    "start_time": "2021-11-23T08:00:48.294Z"
   },
   {
    "duration": 429,
    "start_time": "2021-11-23T08:00:49.401Z"
   },
   {
    "duration": 12,
    "start_time": "2021-11-23T08:00:49.832Z"
   },
   {
    "duration": 27,
    "start_time": "2021-11-23T08:00:49.846Z"
   },
   {
    "duration": 10,
    "start_time": "2021-11-23T08:00:49.875Z"
   },
   {
    "duration": 29,
    "start_time": "2021-11-23T08:00:49.887Z"
   },
   {
    "duration": 35,
    "start_time": "2021-11-23T08:00:49.918Z"
   },
   {
    "duration": 11,
    "start_time": "2021-11-23T08:00:49.956Z"
   },
   {
    "duration": 32,
    "start_time": "2021-11-23T08:00:49.970Z"
   },
   {
    "duration": 16,
    "start_time": "2021-11-23T08:00:50.004Z"
   },
   {
    "duration": 38,
    "start_time": "2021-11-23T08:00:50.022Z"
   },
   {
    "duration": 22,
    "start_time": "2021-11-23T08:00:50.062Z"
   },
   {
    "duration": 27,
    "start_time": "2021-11-23T08:00:50.086Z"
   },
   {
    "duration": 527,
    "start_time": "2021-11-23T08:00:50.116Z"
   },
   {
    "duration": 158,
    "start_time": "2021-11-23T08:00:50.645Z"
   },
   {
    "duration": 7,
    "start_time": "2021-11-23T08:00:50.806Z"
   },
   {
    "duration": 263,
    "start_time": "2021-11-23T08:00:50.816Z"
   },
   {
    "duration": 48,
    "start_time": "2021-11-23T08:00:51.081Z"
   },
   {
    "duration": 50,
    "start_time": "2021-11-23T08:00:51.131Z"
   },
   {
    "duration": 68,
    "start_time": "2021-11-23T08:00:51.183Z"
   },
   {
    "duration": 17,
    "start_time": "2021-11-23T08:00:51.253Z"
   },
   {
    "duration": 153,
    "start_time": "2021-11-23T08:00:51.272Z"
   },
   {
    "duration": 48,
    "start_time": "2021-11-23T08:00:51.429Z"
   },
   {
    "duration": 51,
    "start_time": "2021-11-23T08:00:51.479Z"
   },
   {
    "duration": 27,
    "start_time": "2021-11-23T08:00:51.532Z"
   },
   {
    "duration": 55,
    "start_time": "2021-11-23T08:00:51.561Z"
   },
   {
    "duration": 16,
    "start_time": "2021-11-23T08:00:51.619Z"
   },
   {
    "duration": 29,
    "start_time": "2021-11-23T08:00:51.637Z"
   },
   {
    "duration": 15,
    "start_time": "2021-11-23T08:00:51.668Z"
   },
   {
    "duration": 245,
    "start_time": "2021-11-23T08:00:51.685Z"
   },
   {
    "duration": 19,
    "start_time": "2021-11-23T08:00:51.932Z"
   },
   {
    "duration": 31,
    "start_time": "2021-11-23T08:00:51.952Z"
   },
   {
    "duration": 58,
    "start_time": "2021-11-23T08:00:51.984Z"
   },
   {
    "duration": 1155,
    "start_time": "2021-11-23T08:00:52.044Z"
   },
   {
    "duration": 8,
    "start_time": "2021-11-23T08:00:53.200Z"
   },
   {
    "duration": 33,
    "start_time": "2021-11-23T08:00:53.211Z"
   },
   {
    "duration": 9,
    "start_time": "2021-11-23T08:00:53.246Z"
   },
   {
    "duration": 21,
    "start_time": "2021-11-23T08:00:53.257Z"
   },
   {
    "duration": 16,
    "start_time": "2021-11-23T08:00:53.280Z"
   },
   {
    "duration": 13,
    "start_time": "2021-11-23T08:00:53.297Z"
   },
   {
    "duration": 8,
    "start_time": "2021-11-23T08:00:53.312Z"
   },
   {
    "duration": 6,
    "start_time": "2021-11-23T08:00:53.322Z"
   },
   {
    "duration": 16,
    "start_time": "2021-11-23T08:00:53.330Z"
   },
   {
    "duration": 48,
    "start_time": "2021-11-23T08:47:57.793Z"
   },
   {
    "duration": 27,
    "start_time": "2021-11-23T08:48:41.757Z"
   },
   {
    "duration": 28,
    "start_time": "2021-11-23T08:48:56.025Z"
   },
   {
    "duration": 12,
    "start_time": "2021-11-23T08:49:23.346Z"
   },
   {
    "duration": 18,
    "start_time": "2021-11-23T08:52:30.402Z"
   },
   {
    "duration": 1382,
    "start_time": "2021-11-23T08:55:23.511Z"
   },
   {
    "duration": 591,
    "start_time": "2021-11-23T08:55:24.896Z"
   },
   {
    "duration": 17,
    "start_time": "2021-11-23T08:55:25.490Z"
   },
   {
    "duration": 48,
    "start_time": "2021-11-23T08:55:25.510Z"
   },
   {
    "duration": 12,
    "start_time": "2021-11-23T08:55:25.560Z"
   },
   {
    "duration": 28,
    "start_time": "2021-11-23T08:55:25.574Z"
   },
   {
    "duration": 49,
    "start_time": "2021-11-23T08:55:25.604Z"
   },
   {
    "duration": 12,
    "start_time": "2021-11-23T08:55:25.656Z"
   },
   {
    "duration": 40,
    "start_time": "2021-11-23T08:55:25.672Z"
   },
   {
    "duration": 42,
    "start_time": "2021-11-23T08:55:25.715Z"
   },
   {
    "duration": 29,
    "start_time": "2021-11-23T08:55:25.759Z"
   },
   {
    "duration": 20,
    "start_time": "2021-11-23T08:55:25.790Z"
   },
   {
    "duration": 27,
    "start_time": "2021-11-23T08:55:25.813Z"
   },
   {
    "duration": 850,
    "start_time": "2021-11-23T08:55:25.842Z"
   },
   {
    "duration": 262,
    "start_time": "2021-11-23T08:55:26.695Z"
   },
   {
    "duration": 6,
    "start_time": "2021-11-23T08:55:26.959Z"
   },
   {
    "duration": 384,
    "start_time": "2021-11-23T08:55:26.967Z"
   },
   {
    "duration": 36,
    "start_time": "2021-11-23T08:55:27.353Z"
   },
   {
    "duration": 103,
    "start_time": "2021-11-23T08:55:27.391Z"
   },
   {
    "duration": 76,
    "start_time": "2021-11-23T08:55:27.497Z"
   },
   {
    "duration": 48,
    "start_time": "2021-11-23T08:55:27.576Z"
   },
   {
    "duration": 212,
    "start_time": "2021-11-23T08:55:27.626Z"
   },
   {
    "duration": 82,
    "start_time": "2021-11-23T08:55:27.840Z"
   },
   {
    "duration": 28,
    "start_time": "2021-11-23T08:55:27.924Z"
   },
   {
    "duration": 29,
    "start_time": "2021-11-23T08:55:27.954Z"
   },
   {
    "duration": 46,
    "start_time": "2021-11-23T08:55:27.985Z"
   },
   {
    "duration": 12,
    "start_time": "2021-11-23T08:55:28.035Z"
   },
   {
    "duration": 35,
    "start_time": "2021-11-23T08:55:28.048Z"
   },
   {
    "duration": 23,
    "start_time": "2021-11-23T08:55:28.084Z"
   },
   {
    "duration": 202,
    "start_time": "2021-11-23T08:55:28.109Z"
   },
   {
    "duration": 17,
    "start_time": "2021-11-23T08:55:28.313Z"
   },
   {
    "duration": 21,
    "start_time": "2021-11-23T08:55:28.332Z"
   },
   {
    "duration": 68,
    "start_time": "2021-11-23T08:55:28.355Z"
   },
   {
    "duration": 1153,
    "start_time": "2021-11-23T08:55:28.425Z"
   },
   {
    "duration": 3,
    "start_time": "2021-11-23T08:55:29.580Z"
   },
   {
    "duration": 18,
    "start_time": "2021-11-23T08:55:29.584Z"
   },
   {
    "duration": 6,
    "start_time": "2021-11-23T08:55:29.606Z"
   },
   {
    "duration": 8,
    "start_time": "2021-11-23T08:55:29.613Z"
   },
   {
    "duration": 11,
    "start_time": "2021-11-23T08:55:29.622Z"
   },
   {
    "duration": 6,
    "start_time": "2021-11-23T08:55:29.636Z"
   },
   {
    "duration": 8,
    "start_time": "2021-11-23T08:55:29.644Z"
   },
   {
    "duration": 5,
    "start_time": "2021-11-23T08:55:29.654Z"
   },
   {
    "duration": 46,
    "start_time": "2021-11-23T08:55:29.661Z"
   },
   {
    "duration": 1453,
    "start_time": "2021-11-24T08:42:29.885Z"
   },
   {
    "duration": 601,
    "start_time": "2021-11-24T08:42:31.342Z"
   },
   {
    "duration": 17,
    "start_time": "2021-11-24T08:42:31.946Z"
   },
   {
    "duration": 28,
    "start_time": "2021-11-24T08:42:31.966Z"
   },
   {
    "duration": 12,
    "start_time": "2021-11-24T08:42:31.996Z"
   },
   {
    "duration": 8,
    "start_time": "2021-11-24T08:42:32.011Z"
   },
   {
    "duration": 64,
    "start_time": "2021-11-24T08:42:32.023Z"
   },
   {
    "duration": 11,
    "start_time": "2021-11-24T08:42:32.090Z"
   },
   {
    "duration": 68,
    "start_time": "2021-11-24T08:42:32.104Z"
   },
   {
    "duration": 11,
    "start_time": "2021-11-24T08:42:32.175Z"
   },
   {
    "duration": 23,
    "start_time": "2021-11-24T08:42:32.188Z"
   },
   {
    "duration": 61,
    "start_time": "2021-11-24T08:42:32.213Z"
   },
   {
    "duration": 9,
    "start_time": "2021-11-24T08:42:32.277Z"
   },
   {
    "duration": 772,
    "start_time": "2021-11-24T08:42:32.289Z"
   },
   {
    "duration": 228,
    "start_time": "2021-11-24T08:42:33.063Z"
   },
   {
    "duration": 6,
    "start_time": "2021-11-24T08:42:33.294Z"
   },
   {
    "duration": 428,
    "start_time": "2021-11-24T08:42:33.302Z"
   },
   {
    "duration": 69,
    "start_time": "2021-11-24T08:42:33.732Z"
   },
   {
    "duration": 83,
    "start_time": "2021-11-24T08:42:33.803Z"
   },
   {
    "duration": 95,
    "start_time": "2021-11-24T08:42:33.888Z"
   },
   {
    "duration": 27,
    "start_time": "2021-11-24T08:42:33.985Z"
   },
   {
    "duration": 194,
    "start_time": "2021-11-24T08:42:34.018Z"
   },
   {
    "duration": 93,
    "start_time": "2021-11-24T08:42:34.214Z"
   },
   {
    "duration": 39,
    "start_time": "2021-11-24T08:42:34.309Z"
   },
   {
    "duration": 40,
    "start_time": "2021-11-24T08:42:34.366Z"
   },
   {
    "duration": 67,
    "start_time": "2021-11-24T08:42:34.408Z"
   },
   {
    "duration": 18,
    "start_time": "2021-11-24T08:42:34.477Z"
   },
   {
    "duration": 40,
    "start_time": "2021-11-24T08:42:34.498Z"
   },
   {
    "duration": 40,
    "start_time": "2021-11-24T08:42:34.541Z"
   },
   {
    "duration": 8,
    "start_time": "2021-11-24T08:42:34.585Z"
   },
   {
    "duration": 350,
    "start_time": "2021-11-24T08:42:34.595Z"
   },
   {
    "duration": 39,
    "start_time": "2021-11-24T08:42:34.948Z"
   },
   {
    "duration": 37,
    "start_time": "2021-11-24T08:42:34.990Z"
   },
   {
    "duration": 79,
    "start_time": "2021-11-24T08:42:35.030Z"
   },
   {
    "duration": 1889,
    "start_time": "2021-11-24T08:42:35.112Z"
   },
   {
    "duration": 5,
    "start_time": "2021-11-24T08:42:37.004Z"
   },
   {
    "duration": 13,
    "start_time": "2021-11-24T08:42:37.011Z"
   },
   {
    "duration": 10,
    "start_time": "2021-11-24T08:42:37.027Z"
   },
   {
    "duration": 5,
    "start_time": "2021-11-24T08:42:37.069Z"
   },
   {
    "duration": 21,
    "start_time": "2021-11-24T08:42:37.076Z"
   },
   {
    "duration": 21,
    "start_time": "2021-11-24T08:42:37.099Z"
   },
   {
    "duration": 12,
    "start_time": "2021-11-24T08:42:37.123Z"
   },
   {
    "duration": 42,
    "start_time": "2021-11-24T08:42:37.137Z"
   },
   {
    "duration": 13,
    "start_time": "2021-11-24T08:42:37.182Z"
   },
   {
    "duration": 101,
    "start_time": "2021-11-24T08:45:01.593Z"
   },
   {
    "duration": 4,
    "start_time": "2021-11-24T08:54:05.299Z"
   },
   {
    "duration": 510,
    "start_time": "2021-11-24T08:54:05.306Z"
   },
   {
    "duration": 12,
    "start_time": "2021-11-24T08:54:05.819Z"
   },
   {
    "duration": 33,
    "start_time": "2021-11-24T08:54:05.834Z"
   },
   {
    "duration": 13,
    "start_time": "2021-11-24T08:54:05.869Z"
   },
   {
    "duration": 11,
    "start_time": "2021-11-24T08:54:05.885Z"
   },
   {
    "duration": 28,
    "start_time": "2021-11-24T08:54:05.899Z"
   },
   {
    "duration": 45,
    "start_time": "2021-11-24T08:54:05.930Z"
   },
   {
    "duration": 26,
    "start_time": "2021-11-24T08:54:05.980Z"
   },
   {
    "duration": 63,
    "start_time": "2021-11-24T08:54:06.009Z"
   },
   {
    "duration": 20,
    "start_time": "2021-11-24T08:54:06.075Z"
   },
   {
    "duration": 22,
    "start_time": "2021-11-24T08:54:06.098Z"
   },
   {
    "duration": 45,
    "start_time": "2021-11-24T08:54:06.123Z"
   },
   {
    "duration": 704,
    "start_time": "2021-11-24T08:54:06.172Z"
   },
   {
    "duration": 206,
    "start_time": "2021-11-24T08:54:06.879Z"
   },
   {
    "duration": 7,
    "start_time": "2021-11-24T08:54:07.088Z"
   },
   {
    "duration": 6,
    "start_time": "2021-11-24T08:54:21.956Z"
   },
   {
    "duration": 354,
    "start_time": "2021-11-24T08:54:26.067Z"
   },
   {
    "duration": 51,
    "start_time": "2021-11-24T08:54:29.386Z"
   },
   {
    "duration": 65,
    "start_time": "2021-11-24T08:54:32.419Z"
   },
   {
    "duration": 41,
    "start_time": "2021-11-24T08:55:38.459Z"
   },
   {
    "duration": 68,
    "start_time": "2021-11-24T08:55:40.139Z"
   },
   {
    "duration": 1762,
    "start_time": "2021-11-24T09:05:42.225Z"
   },
   {
    "duration": 741,
    "start_time": "2021-11-24T09:05:43.991Z"
   },
   {
    "duration": 16,
    "start_time": "2021-11-24T09:05:44.735Z"
   },
   {
    "duration": 29,
    "start_time": "2021-11-24T09:05:44.754Z"
   },
   {
    "duration": 13,
    "start_time": "2021-11-24T09:05:44.786Z"
   },
   {
    "duration": 9,
    "start_time": "2021-11-24T09:05:44.802Z"
   },
   {
    "duration": 54,
    "start_time": "2021-11-24T09:05:44.813Z"
   },
   {
    "duration": 10,
    "start_time": "2021-11-24T09:05:44.872Z"
   },
   {
    "duration": 26,
    "start_time": "2021-11-24T09:05:44.886Z"
   },
   {
    "duration": 61,
    "start_time": "2021-11-24T09:05:44.915Z"
   },
   {
    "duration": 24,
    "start_time": "2021-11-24T09:05:44.979Z"
   },
   {
    "duration": 15,
    "start_time": "2021-11-24T09:05:45.005Z"
   },
   {
    "duration": 12,
    "start_time": "2021-11-24T09:05:45.068Z"
   },
   {
    "duration": 927,
    "start_time": "2021-11-24T09:05:45.083Z"
   },
   {
    "duration": 220,
    "start_time": "2021-11-24T09:05:46.012Z"
   },
   {
    "duration": 5,
    "start_time": "2021-11-24T09:05:46.235Z"
   },
   {
    "duration": 26,
    "start_time": "2021-11-24T09:05:46.243Z"
   },
   {
    "duration": 385,
    "start_time": "2021-11-24T09:05:46.271Z"
   },
   {
    "duration": 54,
    "start_time": "2021-11-24T09:05:46.659Z"
   },
   {
    "duration": 88,
    "start_time": "2021-11-24T09:05:46.715Z"
   },
   {
    "duration": 90,
    "start_time": "2021-11-24T09:05:46.805Z"
   },
   {
    "duration": 28,
    "start_time": "2021-11-24T09:05:46.898Z"
   },
   {
    "duration": 201,
    "start_time": "2021-11-24T09:05:46.931Z"
   },
   {
    "duration": 86,
    "start_time": "2021-11-24T09:05:47.135Z"
   },
   {
    "duration": 56,
    "start_time": "2021-11-24T09:05:47.223Z"
   },
   {
    "duration": 42,
    "start_time": "2021-11-24T09:05:47.282Z"
   },
   {
    "duration": 68,
    "start_time": "2021-11-24T09:05:47.326Z"
   },
   {
    "duration": 19,
    "start_time": "2021-11-24T09:05:47.396Z"
   },
   {
    "duration": 61,
    "start_time": "2021-11-24T09:05:47.417Z"
   },
   {
    "duration": 12,
    "start_time": "2021-11-24T09:05:47.480Z"
   },
   {
    "duration": 7,
    "start_time": "2021-11-24T09:05:47.495Z"
   },
   {
    "duration": 455,
    "start_time": "2021-11-24T09:05:47.504Z"
   },
   {
    "duration": 29,
    "start_time": "2021-11-24T09:05:47.961Z"
   },
   {
    "duration": 33,
    "start_time": "2021-11-24T09:05:47.992Z"
   },
   {
    "duration": 52,
    "start_time": "2021-11-24T09:05:48.067Z"
   },
   {
    "duration": 2073,
    "start_time": "2021-11-24T09:05:48.122Z"
   },
   {
    "duration": 5,
    "start_time": "2021-11-24T09:05:50.198Z"
   },
   {
    "duration": 10,
    "start_time": "2021-11-24T09:05:50.206Z"
   },
   {
    "duration": 7,
    "start_time": "2021-11-24T09:05:50.219Z"
   },
   {
    "duration": 42,
    "start_time": "2021-11-24T09:05:50.229Z"
   },
   {
    "duration": 13,
    "start_time": "2021-11-24T09:05:50.274Z"
   },
   {
    "duration": 10,
    "start_time": "2021-11-24T09:05:50.290Z"
   },
   {
    "duration": 14,
    "start_time": "2021-11-24T09:05:50.302Z"
   },
   {
    "duration": 55,
    "start_time": "2021-11-24T09:05:50.319Z"
   },
   {
    "duration": 11,
    "start_time": "2021-11-24T09:05:50.376Z"
   },
   {
    "duration": 41,
    "start_time": "2021-11-24T09:06:52.981Z"
   },
   {
    "duration": 28,
    "start_time": "2021-11-24T09:07:05.442Z"
   },
   {
    "duration": 12,
    "start_time": "2021-11-24T09:09:36.128Z"
   },
   {
    "duration": 4,
    "start_time": "2021-11-24T09:09:42.950Z"
   },
   {
    "duration": 514,
    "start_time": "2021-11-24T09:09:42.958Z"
   },
   {
    "duration": 11,
    "start_time": "2021-11-24T09:09:43.475Z"
   },
   {
    "duration": 31,
    "start_time": "2021-11-24T09:09:43.490Z"
   },
   {
    "duration": 43,
    "start_time": "2021-11-24T09:09:43.524Z"
   },
   {
    "duration": 9,
    "start_time": "2021-11-24T09:09:43.570Z"
   },
   {
    "duration": 26,
    "start_time": "2021-11-24T09:09:43.582Z"
   },
   {
    "duration": 59,
    "start_time": "2021-11-24T09:09:43.611Z"
   },
   {
    "duration": 24,
    "start_time": "2021-11-24T09:09:43.673Z"
   },
   {
    "duration": 14,
    "start_time": "2021-11-24T09:09:43.700Z"
   },
   {
    "duration": 58,
    "start_time": "2021-11-24T09:09:43.718Z"
   },
   {
    "duration": 27,
    "start_time": "2021-11-24T09:09:43.778Z"
   },
   {
    "duration": 14,
    "start_time": "2021-11-24T09:09:43.808Z"
   },
   {
    "duration": 120,
    "start_time": "2021-11-24T09:09:56.555Z"
   },
   {
    "duration": 627,
    "start_time": "2021-11-24T09:10:02.197Z"
   },
   {
    "duration": 273,
    "start_time": "2021-11-24T09:11:24.818Z"
   },
   {
    "duration": 5,
    "start_time": "2021-11-24T09:11:37.286Z"
   },
   {
    "duration": 6,
    "start_time": "2021-11-24T09:11:41.604Z"
   },
   {
    "duration": 380,
    "start_time": "2021-11-24T09:12:01.800Z"
   },
   {
    "duration": 93,
    "start_time": "2021-11-24T09:12:07.416Z"
   },
   {
    "duration": 6,
    "start_time": "2021-11-24T09:12:46.973Z"
   },
   {
    "duration": 22,
    "start_time": "2021-11-24T09:12:54.672Z"
   },
   {
    "duration": 24,
    "start_time": "2021-11-24T09:13:11.673Z"
   },
   {
    "duration": 162,
    "start_time": "2021-11-24T09:13:20.479Z"
   },
   {
    "duration": 17,
    "start_time": "2021-11-24T09:13:27.089Z"
   },
   {
    "duration": 22,
    "start_time": "2021-11-24T09:13:33.590Z"
   },
   {
    "duration": 1817,
    "start_time": "2021-11-24T09:14:45.005Z"
   },
   {
    "duration": 537,
    "start_time": "2021-11-24T09:14:46.825Z"
   },
   {
    "duration": 18,
    "start_time": "2021-11-24T09:14:47.365Z"
   },
   {
    "duration": 31,
    "start_time": "2021-11-24T09:14:47.385Z"
   },
   {
    "duration": 50,
    "start_time": "2021-11-24T09:14:47.419Z"
   },
   {
    "duration": 16,
    "start_time": "2021-11-24T09:14:47.471Z"
   },
   {
    "duration": 23,
    "start_time": "2021-11-24T09:14:47.490Z"
   },
   {
    "duration": 55,
    "start_time": "2021-11-24T09:14:47.517Z"
   },
   {
    "duration": 28,
    "start_time": "2021-11-24T09:14:47.576Z"
   },
   {
    "duration": 12,
    "start_time": "2021-11-24T09:14:47.607Z"
   },
   {
    "duration": 64,
    "start_time": "2021-11-24T09:14:47.622Z"
   },
   {
    "duration": 19,
    "start_time": "2021-11-24T09:14:47.690Z"
   },
   {
    "duration": 13,
    "start_time": "2021-11-24T09:14:47.712Z"
   },
   {
    "duration": 53,
    "start_time": "2021-11-24T09:14:47.728Z"
   },
   {
    "duration": 1068,
    "start_time": "2021-11-24T09:14:47.784Z"
   },
   {
    "duration": 245,
    "start_time": "2021-11-24T09:14:48.854Z"
   },
   {
    "duration": 7,
    "start_time": "2021-11-24T09:14:49.102Z"
   },
   {
    "duration": 13,
    "start_time": "2021-11-24T09:14:49.112Z"
   },
   {
    "duration": 552,
    "start_time": "2021-11-24T09:14:49.127Z"
   },
   {
    "duration": 63,
    "start_time": "2021-11-24T09:14:49.682Z"
   },
   {
    "duration": 129,
    "start_time": "2021-11-24T09:14:49.747Z"
   },
   {
    "duration": 89,
    "start_time": "2021-11-24T09:14:49.878Z"
   },
   {
    "duration": 37,
    "start_time": "2021-11-24T09:14:49.975Z"
   },
   {
    "duration": 283,
    "start_time": "2021-11-24T09:14:50.017Z"
   },
   {
    "duration": 113,
    "start_time": "2021-11-24T09:14:50.303Z"
   },
   {
    "duration": 70,
    "start_time": "2021-11-24T09:14:50.419Z"
   },
   {
    "duration": 56,
    "start_time": "2021-11-24T09:14:50.492Z"
   },
   {
    "duration": 39,
    "start_time": "2021-11-24T09:14:50.568Z"
   },
   {
    "duration": 17,
    "start_time": "2021-11-24T09:14:50.609Z"
   },
   {
    "duration": 28,
    "start_time": "2021-11-24T09:14:50.669Z"
   },
   {
    "duration": 12,
    "start_time": "2021-11-24T09:14:50.699Z"
   },
   {
    "duration": 7,
    "start_time": "2021-11-24T09:14:50.714Z"
   },
   {
    "duration": 371,
    "start_time": "2021-11-24T09:14:50.724Z"
   },
   {
    "duration": 31,
    "start_time": "2021-11-24T09:14:51.098Z"
   },
   {
    "duration": 63,
    "start_time": "2021-11-24T09:14:51.131Z"
   },
   {
    "duration": 80,
    "start_time": "2021-11-24T09:14:51.196Z"
   },
   {
    "duration": 1897,
    "start_time": "2021-11-24T09:14:51.279Z"
   },
   {
    "duration": 5,
    "start_time": "2021-11-24T09:14:53.179Z"
   },
   {
    "duration": 13,
    "start_time": "2021-11-24T09:14:53.188Z"
   },
   {
    "duration": 7,
    "start_time": "2021-11-24T09:14:53.205Z"
   },
   {
    "duration": 52,
    "start_time": "2021-11-24T09:14:53.215Z"
   },
   {
    "duration": 16,
    "start_time": "2021-11-24T09:14:53.271Z"
   },
   {
    "duration": 13,
    "start_time": "2021-11-24T09:14:53.290Z"
   },
   {
    "duration": 10,
    "start_time": "2021-11-24T09:14:53.306Z"
   },
   {
    "duration": 51,
    "start_time": "2021-11-24T09:14:53.319Z"
   },
   {
    "duration": 9,
    "start_time": "2021-11-24T09:14:53.374Z"
   },
   {
    "duration": 18,
    "start_time": "2021-11-24T09:16:45.902Z"
   },
   {
    "duration": 7,
    "start_time": "2021-11-24T09:29:36.078Z"
   },
   {
    "duration": 14,
    "start_time": "2021-11-24T09:29:52.304Z"
   },
   {
    "duration": 5,
    "start_time": "2021-11-24T09:30:05.080Z"
   },
   {
    "duration": 600,
    "start_time": "2021-11-24T09:30:05.088Z"
   },
   {
    "duration": 12,
    "start_time": "2021-11-24T09:30:05.692Z"
   },
   {
    "duration": 38,
    "start_time": "2021-11-24T09:30:05.708Z"
   },
   {
    "duration": 22,
    "start_time": "2021-11-24T09:30:05.749Z"
   },
   {
    "duration": 13,
    "start_time": "2021-11-24T09:30:05.775Z"
   },
   {
    "duration": 33,
    "start_time": "2021-11-24T09:30:05.792Z"
   },
   {
    "duration": 45,
    "start_time": "2021-11-24T09:30:05.827Z"
   },
   {
    "duration": 34,
    "start_time": "2021-11-24T09:30:05.877Z"
   },
   {
    "duration": 42,
    "start_time": "2021-11-24T09:30:05.915Z"
   },
   {
    "duration": 29,
    "start_time": "2021-11-24T09:30:05.960Z"
   },
   {
    "duration": 68,
    "start_time": "2021-11-24T09:30:05.992Z"
   },
   {
    "duration": 27,
    "start_time": "2021-11-24T09:30:06.063Z"
   },
   {
    "duration": 32,
    "start_time": "2021-11-24T09:30:06.093Z"
   },
   {
    "duration": 717,
    "start_time": "2021-11-24T09:30:06.128Z"
   },
   {
    "duration": 220,
    "start_time": "2021-11-24T09:30:06.847Z"
   },
   {
    "duration": 5,
    "start_time": "2021-11-24T09:30:07.070Z"
   },
   {
    "duration": 11,
    "start_time": "2021-11-24T09:30:07.078Z"
   },
   {
    "duration": 380,
    "start_time": "2021-11-24T09:30:07.092Z"
   },
   {
    "duration": 45,
    "start_time": "2021-11-24T09:30:07.475Z"
   },
   {
    "duration": 92,
    "start_time": "2021-11-24T09:30:07.523Z"
   },
   {
    "duration": 88,
    "start_time": "2021-11-24T09:30:07.617Z"
   },
   {
    "duration": 26,
    "start_time": "2021-11-24T09:30:07.708Z"
   },
   {
    "duration": 211,
    "start_time": "2021-11-24T09:30:07.737Z"
   },
   {
    "duration": 128,
    "start_time": "2021-11-24T09:30:07.951Z"
   },
   {
    "duration": 57,
    "start_time": "2021-11-24T09:30:08.082Z"
   },
   {
    "duration": 76,
    "start_time": "2021-11-24T09:30:08.146Z"
   },
   {
    "duration": 82,
    "start_time": "2021-11-24T09:30:08.226Z"
   },
   {
    "duration": 25,
    "start_time": "2021-11-24T09:30:08.311Z"
   },
   {
    "duration": 31,
    "start_time": "2021-11-24T09:30:08.367Z"
   },
   {
    "duration": 11,
    "start_time": "2021-11-24T09:30:08.400Z"
   },
   {
    "duration": 55,
    "start_time": "2021-11-24T09:30:08.414Z"
   },
   {
    "duration": 1562,
    "start_time": "2021-11-24T09:30:22.474Z"
   },
   {
    "duration": 573,
    "start_time": "2021-11-24T09:30:24.038Z"
   },
   {
    "duration": 21,
    "start_time": "2021-11-24T09:30:24.614Z"
   },
   {
    "duration": 57,
    "start_time": "2021-11-24T09:30:24.639Z"
   },
   {
    "duration": 13,
    "start_time": "2021-11-24T09:30:24.698Z"
   },
   {
    "duration": 11,
    "start_time": "2021-11-24T09:30:24.714Z"
   },
   {
    "duration": 55,
    "start_time": "2021-11-24T09:30:24.728Z"
   },
   {
    "duration": 11,
    "start_time": "2021-11-24T09:30:24.786Z"
   },
   {
    "duration": 21,
    "start_time": "2021-11-24T09:30:24.801Z"
   },
   {
    "duration": 90,
    "start_time": "2021-11-24T09:30:24.825Z"
   },
   {
    "duration": 53,
    "start_time": "2021-11-24T09:30:24.917Z"
   },
   {
    "duration": 16,
    "start_time": "2021-11-24T09:30:24.972Z"
   },
   {
    "duration": 13,
    "start_time": "2021-11-24T09:30:24.991Z"
   },
   {
    "duration": 60,
    "start_time": "2021-11-24T09:30:25.007Z"
   },
   {
    "duration": 870,
    "start_time": "2021-11-24T09:30:25.070Z"
   },
   {
    "duration": 246,
    "start_time": "2021-11-24T09:30:25.943Z"
   },
   {
    "duration": 7,
    "start_time": "2021-11-24T09:30:26.192Z"
   },
   {
    "duration": 7,
    "start_time": "2021-11-24T09:30:26.202Z"
   },
   {
    "duration": 428,
    "start_time": "2021-11-24T09:30:26.212Z"
   },
   {
    "duration": 55,
    "start_time": "2021-11-24T09:30:26.643Z"
   },
   {
    "duration": 89,
    "start_time": "2021-11-24T09:30:26.700Z"
   },
   {
    "duration": 92,
    "start_time": "2021-11-24T09:30:26.792Z"
   },
   {
    "duration": 27,
    "start_time": "2021-11-24T09:30:26.887Z"
   },
   {
    "duration": 191,
    "start_time": "2021-11-24T09:30:26.916Z"
   },
   {
    "duration": 102,
    "start_time": "2021-11-24T09:30:27.110Z"
   },
   {
    "duration": 65,
    "start_time": "2021-11-24T09:30:27.215Z"
   },
   {
    "duration": 47,
    "start_time": "2021-11-24T09:30:27.287Z"
   },
   {
    "duration": 73,
    "start_time": "2021-11-24T09:30:27.336Z"
   },
   {
    "duration": 24,
    "start_time": "2021-11-24T09:30:27.413Z"
   },
   {
    "duration": 58,
    "start_time": "2021-11-24T09:30:27.440Z"
   },
   {
    "duration": 11,
    "start_time": "2021-11-24T09:30:27.501Z"
   },
   {
    "duration": 56,
    "start_time": "2021-11-24T09:30:27.516Z"
   },
   {
    "duration": 10,
    "start_time": "2021-11-24T09:30:27.576Z"
   },
   {
    "duration": 364,
    "start_time": "2021-11-24T09:30:27.589Z"
   },
   {
    "duration": 39,
    "start_time": "2021-11-24T09:30:27.956Z"
   },
   {
    "duration": 69,
    "start_time": "2021-11-24T09:30:27.998Z"
   },
   {
    "duration": 51,
    "start_time": "2021-11-24T09:30:28.070Z"
   },
   {
    "duration": 2172,
    "start_time": "2021-11-24T09:30:28.123Z"
   },
   {
    "duration": 4,
    "start_time": "2021-11-24T09:30:30.299Z"
   },
   {
    "duration": 42,
    "start_time": "2021-11-24T09:30:30.306Z"
   },
   {
    "duration": 28,
    "start_time": "2021-11-24T09:30:30.350Z"
   },
   {
    "duration": 56,
    "start_time": "2021-11-24T09:30:30.381Z"
   },
   {
    "duration": 36,
    "start_time": "2021-11-24T09:30:30.440Z"
   },
   {
    "duration": 30,
    "start_time": "2021-11-24T09:30:30.479Z"
   },
   {
    "duration": 24,
    "start_time": "2021-11-24T09:30:30.512Z"
   },
   {
    "duration": 24,
    "start_time": "2021-11-24T09:30:30.539Z"
   },
   {
    "duration": 42,
    "start_time": "2021-11-24T09:30:30.566Z"
   },
   {
    "duration": 2614,
    "start_time": "2021-11-24T09:35:35.882Z"
   },
   {
    "duration": 2616,
    "start_time": "2021-11-24T09:36:05.505Z"
   },
   {
    "duration": 598,
    "start_time": "2021-11-24T09:37:14.491Z"
   },
   {
    "duration": 1445,
    "start_time": "2021-11-24T09:37:29.252Z"
   },
   {
    "duration": 2377,
    "start_time": "2021-11-24T09:37:54.411Z"
   },
   {
    "duration": 1445,
    "start_time": "2021-11-24T09:38:15.810Z"
   },
   {
    "duration": 1498,
    "start_time": "2021-11-24T09:38:22.755Z"
   },
   {
    "duration": 1746,
    "start_time": "2021-11-24T09:39:01.768Z"
   },
   {
    "duration": 1521,
    "start_time": "2021-11-24T09:48:54.490Z"
   },
   {
    "duration": 1594,
    "start_time": "2021-11-24T09:49:08.121Z"
   },
   {
    "duration": 1681,
    "start_time": "2021-11-24T09:49:12.425Z"
   },
   {
    "duration": 1533,
    "start_time": "2021-11-24T09:49:19.447Z"
   },
   {
    "duration": 1339,
    "start_time": "2021-11-24T09:49:23.395Z"
   },
   {
    "duration": 1433,
    "start_time": "2021-11-24T09:49:46.154Z"
   },
   {
    "duration": 1197,
    "start_time": "2021-11-24T09:50:23.528Z"
   },
   {
    "duration": 1273,
    "start_time": "2021-11-24T09:50:56.484Z"
   },
   {
    "duration": 1227,
    "start_time": "2021-11-24T09:51:03.124Z"
   },
   {
    "duration": 1440,
    "start_time": "2021-11-24T09:51:06.027Z"
   },
   {
    "duration": 1482,
    "start_time": "2021-11-24T09:55:29.676Z"
   },
   {
    "duration": 1376,
    "start_time": "2021-11-24T09:55:39.251Z"
   },
   {
    "duration": 704,
    "start_time": "2021-11-24T09:59:03.628Z"
   },
   {
    "duration": 524,
    "start_time": "2021-11-24T09:59:11.131Z"
   },
   {
    "duration": 302,
    "start_time": "2021-11-24T09:59:32.359Z"
   },
   {
    "duration": 1000,
    "start_time": "2021-11-24T09:59:50.002Z"
   },
   {
    "duration": 1415,
    "start_time": "2021-11-24T10:00:02.416Z"
   },
   {
    "duration": 1434,
    "start_time": "2021-11-24T10:00:12.167Z"
   },
   {
    "duration": 712,
    "start_time": "2021-11-24T10:00:27.329Z"
   },
   {
    "duration": 863,
    "start_time": "2021-11-24T10:00:37.883Z"
   },
   {
    "duration": 1523,
    "start_time": "2021-11-24T10:00:52.397Z"
   },
   {
    "duration": 590,
    "start_time": "2021-11-24T10:01:09.481Z"
   },
   {
    "duration": 1696,
    "start_time": "2021-11-24T10:01:17.825Z"
   },
   {
    "duration": 1560,
    "start_time": "2021-11-24T10:01:27.024Z"
   },
   {
    "duration": 1761,
    "start_time": "2021-11-24T10:01:47.530Z"
   },
   {
    "duration": 608,
    "start_time": "2021-11-24T10:02:51.759Z"
   },
   {
    "duration": 606,
    "start_time": "2021-11-24T10:02:57.471Z"
   },
   {
    "duration": 604,
    "start_time": "2021-11-24T10:03:04.157Z"
   },
   {
    "duration": 780,
    "start_time": "2021-11-24T10:03:13.568Z"
   },
   {
    "duration": 1352,
    "start_time": "2021-11-24T10:03:22.636Z"
   },
   {
    "duration": 1572,
    "start_time": "2021-11-24T10:03:42.514Z"
   },
   {
    "duration": 1735,
    "start_time": "2021-11-24T10:03:48.422Z"
   },
   {
    "duration": -359,
    "start_time": "2021-11-24T10:34:30.408Z"
   },
   {
    "duration": 22,
    "start_time": "2021-11-24T10:34:32.774Z"
   },
   {
    "duration": 23,
    "start_time": "2021-11-24T10:34:51.076Z"
   },
   {
    "duration": 317,
    "start_time": "2021-11-24T10:35:15.343Z"
   },
   {
    "duration": 311,
    "start_time": "2021-11-24T10:35:25.391Z"
   },
   {
    "duration": 8,
    "start_time": "2021-11-24T10:35:43.665Z"
   },
   {
    "duration": 1397,
    "start_time": "2021-11-24T10:41:58.170Z"
   },
   {
    "duration": 542,
    "start_time": "2021-11-24T10:41:59.570Z"
   },
   {
    "duration": 16,
    "start_time": "2021-11-24T10:42:00.116Z"
   },
   {
    "duration": 36,
    "start_time": "2021-11-24T10:42:00.135Z"
   },
   {
    "duration": 13,
    "start_time": "2021-11-24T10:42:00.174Z"
   },
   {
    "duration": 24,
    "start_time": "2021-11-24T10:42:00.189Z"
   },
   {
    "duration": 39,
    "start_time": "2021-11-24T10:42:00.216Z"
   },
   {
    "duration": 11,
    "start_time": "2021-11-24T10:42:00.268Z"
   },
   {
    "duration": 28,
    "start_time": "2021-11-24T10:42:00.282Z"
   },
   {
    "duration": 22,
    "start_time": "2021-11-24T10:42:00.313Z"
   },
   {
    "duration": 51,
    "start_time": "2021-11-24T10:42:00.337Z"
   },
   {
    "duration": 25,
    "start_time": "2021-11-24T10:42:00.390Z"
   },
   {
    "duration": 27,
    "start_time": "2021-11-24T10:42:00.417Z"
   },
   {
    "duration": 33,
    "start_time": "2021-11-24T10:42:00.446Z"
   },
   {
    "duration": 818,
    "start_time": "2021-11-24T10:42:00.481Z"
   },
   {
    "duration": 218,
    "start_time": "2021-11-24T10:42:01.301Z"
   },
   {
    "duration": 6,
    "start_time": "2021-11-24T10:42:01.521Z"
   },
   {
    "duration": 11,
    "start_time": "2021-11-24T10:42:01.530Z"
   },
   {
    "duration": 380,
    "start_time": "2021-11-24T10:42:01.543Z"
   },
   {
    "duration": 58,
    "start_time": "2021-11-24T10:42:01.925Z"
   },
   {
    "duration": 84,
    "start_time": "2021-11-24T10:42:01.985Z"
   },
   {
    "duration": 75,
    "start_time": "2021-11-24T10:42:02.072Z"
   },
   {
    "duration": 41,
    "start_time": "2021-11-24T10:42:02.152Z"
   },
   {
    "duration": 200,
    "start_time": "2021-11-24T10:42:02.196Z"
   },
   {
    "duration": 93,
    "start_time": "2021-11-24T10:42:02.399Z"
   },
   {
    "duration": 42,
    "start_time": "2021-11-24T10:42:02.494Z"
   },
   {
    "duration": 67,
    "start_time": "2021-11-24T10:42:02.538Z"
   },
   {
    "duration": 63,
    "start_time": "2021-11-24T10:42:02.608Z"
   },
   {
    "duration": 18,
    "start_time": "2021-11-24T10:42:02.674Z"
   },
   {
    "duration": 29,
    "start_time": "2021-11-24T10:42:02.695Z"
   },
   {
    "duration": 49,
    "start_time": "2021-11-24T10:42:02.727Z"
   },
   {
    "duration": 14,
    "start_time": "2021-11-24T10:42:02.779Z"
   },
   {
    "duration": 6,
    "start_time": "2021-11-24T10:42:02.796Z"
   },
   {
    "duration": 374,
    "start_time": "2021-11-24T10:42:02.805Z"
   },
   {
    "duration": 31,
    "start_time": "2021-11-24T10:42:03.182Z"
   },
   {
    "duration": 67,
    "start_time": "2021-11-24T10:42:03.215Z"
   },
   {
    "duration": 52,
    "start_time": "2021-11-24T10:42:03.284Z"
   },
   {
    "duration": 1676,
    "start_time": "2021-11-24T10:42:03.366Z"
   },
   {
    "duration": 3,
    "start_time": "2021-11-24T10:42:05.044Z"
   },
   {
    "duration": 22,
    "start_time": "2021-11-24T10:42:05.049Z"
   },
   {
    "duration": 28,
    "start_time": "2021-11-24T10:42:05.074Z"
   },
   {
    "duration": 16,
    "start_time": "2021-11-24T10:42:05.104Z"
   },
   {
    "duration": 16,
    "start_time": "2021-11-24T10:42:05.122Z"
   },
   {
    "duration": 31,
    "start_time": "2021-11-24T10:42:05.140Z"
   },
   {
    "duration": 7,
    "start_time": "2021-11-24T10:42:05.174Z"
   },
   {
    "duration": 26,
    "start_time": "2021-11-24T10:42:05.183Z"
   },
   {
    "duration": 25,
    "start_time": "2021-11-24T10:42:05.211Z"
   }
  ],
  "kernelspec": {
   "display_name": "Python 3",
   "language": "python",
   "name": "python3"
  },
  "language_info": {
   "codemirror_mode": {
    "name": "ipython",
    "version": 3
   },
   "file_extension": ".py",
   "mimetype": "text/x-python",
   "name": "python",
   "nbconvert_exporter": "python",
   "pygments_lexer": "ipython3",
   "version": "3.8.8"
  },
  "toc": {
   "base_numbering": 1,
   "nav_menu": {},
   "number_sections": true,
   "sideBar": true,
   "skip_h1_title": true,
   "title_cell": "Table of Contents",
   "title_sidebar": "Contents",
   "toc_cell": false,
   "toc_position": {},
   "toc_section_display": true,
   "toc_window_display": false
  }
 },
 "nbformat": 4,
 "nbformat_minor": 2
}
